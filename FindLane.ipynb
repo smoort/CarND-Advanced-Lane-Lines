{
 "cells": [
  {
   "cell_type": "markdown",
   "metadata": {
    "deletable": true,
    "editable": true
   },
   "source": [
    "# Self-Driving Car Engineer Nanodegree\n",
    "\n",
    "\n",
    "## Project: **Finding Lane Lines on the Road** \n",
    "***\n",
    "\n",
    "The goals of this project are the following:\n",
    "\n",
    "<ul>\n",
    "<li>Compute the camera calibration matrix and distortion coefficients given a set of chessboard images.\n",
    "<li>Apply a distortion correction to raw images.\n",
    "<li>Use color transforms, gradients, etc., to create a thresholded binary image.\n",
    "<li>Apply a perspective transform to rectify binary image (birds-eye view).\n",
    "<li>Detect lane pixels and fit to find the lane boundary.\n",
    "<li>Determine the curvature of the lane and vehicle position with respect to center.\n",
    "<li>Warp the detected lane boundaries back onto the original image.\n",
    "<li>Output visual display of the lane boundaries and numerical estimation of lane curvature and vehicle position.\n",
    "</ul>\n",
    "\n",
    "---"
   ]
  },
  {
   "cell_type": "markdown",
   "metadata": {
    "deletable": true,
    "editable": true
   },
   "source": [
    "## Import Packages"
   ]
  },
  {
   "cell_type": "code",
   "execution_count": 2,
   "metadata": {
    "collapsed": false,
    "deletable": true,
    "editable": true,
    "scrolled": true
   },
   "outputs": [
    {
     "name": "stdout",
     "output_type": "stream",
     "text": [
      "All package import complete\n"
     ]
    }
   ],
   "source": [
    "### Importing necessary packages\n",
    "\n",
    "import numpy as np                  # For handling images\n",
    "import glob                         # For iterating through multiple image files\n",
    "import cv2                          # For image manipulation\n",
    "import matplotlib.pyplot as plt     # For plotting images\n",
    "\n",
    "# For plotting to display inline within the notebook\n",
    "%matplotlib inline\n",
    "\n",
    "print(\"All package import complete\")"
   ]
  },
  {
   "cell_type": "markdown",
   "metadata": {
    "deletable": true,
    "editable": true
   },
   "source": [
    "## Define Global Variables"
   ]
  },
  {
   "cell_type": "code",
   "execution_count": 68,
   "metadata": {
    "collapsed": false,
    "deletable": true,
    "editable": true
   },
   "outputs": [
    {
     "name": "stdout",
     "output_type": "stream",
     "text": [
      "All global variable definition complete\n"
     ]
    }
   ],
   "source": [
    "### Global variables and constants defined here\n",
    "\n",
    "detected_lines = []                  # Global variable to hold all detected lines\n",
    "reset_lanes = True                   # Flag that drives detection of fresh lanes\n",
    "terrain_type = None                  # Variable that indicates the terrain type\n",
    "mtx = dist = None                    # Camera caliberation parameters\n",
    "perspective_M = perspective_Minv = None  # Perspective and inverse perspective\n",
    "baseline_lane_width = None           # Baseline lane width in px calculated from reference image\n",
    "cb = np.empty([360,1930,3])          # Holding variable for image concatenation        \n",
    "c1 = np.empty([370,640,3])           # Holding variable for image concatenation\n",
    "c2 = np.empty([360,640,3])           # Holding variable for image concatenation\n",
    "\n",
    "class Line():                        # Objects of this Line class hold details of a detected lines\n",
    "    def __init__(self):\n",
    "\n",
    "        self.fresh_lane = None\n",
    "        self.good_lane = None\n",
    "        self.continous_bad_lanes = 0\n",
    "        self.leftx_base = None\n",
    "        self.rightx_base = None\n",
    "        self.leftx = None\n",
    "        self.lefty = None\n",
    "        self.rightx = None\n",
    "        self.righty = None\n",
    "        self.left_fit = None\n",
    "        self.right_fit = None\n",
    "        self.left_curverad = None\n",
    "        self.right_curverad = None\n",
    "        self.center_offset_m = None\n",
    "        self.lane_width = None\n",
    "        self.smooth_leftx_base = 0\n",
    "        self.smooth_rightx_base = 0\n",
    "        self.smooth_left_fit = [0,0,0]\n",
    "        self.smooth_right_fit = [0,0,0]\n",
    "\n",
    "print(\"All global variable definition complete\")"
   ]
  },
  {
   "cell_type": "markdown",
   "metadata": {
    "deletable": true,
    "editable": true
   },
   "source": [
    "## Define support functions"
   ]
  },
  {
   "cell_type": "markdown",
   "metadata": {
    "deletable": true,
    "editable": true
   },
   "source": [
    "The helper functions needed for this project are defined in this section"
   ]
  },
  {
   "cell_type": "code",
   "execution_count": 87,
   "metadata": {
    "collapsed": false,
    "deletable": true,
    "editable": true
   },
   "outputs": [],
   "source": [
    "### Support Functions\n",
    "\n",
    "\"\"\" The helper functions needed to identify lanes are defined in this section \"\"\"\n",
    "\n",
    "def showImg(img):\n",
    "    \"\"\" Combines plt.imshow() and plt.show() so that\n",
    "        grayscale images can be displayed with a single line funtion call\"\"\"\n",
    "    plt.imshow(img)\n",
    "    plt.show()\n",
    "    return\n",
    "\n",
    "def showGrayImg(img):\n",
    "    \"\"\" Combines plt.imshow() and plt.show() so that \n",
    "        images can be displayed with a single line funtion call\"\"\"\n",
    "    plt.imshow(img, cmap=\"gray\")\n",
    "    plt.show()\n",
    "    return\n",
    "\n",
    "def undistort(img):\n",
    "    \"\"\" Undistorts a given image using \n",
    "        Camera caliberations\"\"\"\n",
    "    return cv2.undistort(img, mtx, dist, None, mtx)\n",
    "\n",
    "def grayscale(img):\n",
    "    \"\"\"Applies the Grayscale transform\n",
    "       This will return an image with only one color channel\"\"\"\n",
    "    \n",
    "    return cv2.cvtColor(img, cv2.COLOR_RGB2GRAY)\n",
    "\n",
    "def gradient(gray, orient, sobel_kernel, thresh):\n",
    "    \"\"\" Calculates directional gradient in the required orientation\n",
    "        Applies threshold\"\"\"\n",
    "    \n",
    "    if orient == 'x':\n",
    "        sobel = cv2.Sobel(gray, cv2.CV_64F, 1, 0, ksize=sobel_kernel)\n",
    "    else:\n",
    "        sobel = cv2.Sobel(gray, cv2.CV_64F, 0, 1, ksize=sobel_kernel)\n",
    "\n",
    "    abs_sobel = np.absolute(sobel)\n",
    "    scaled_sobel = np.uint8(255*abs_sobel/np.max(abs_sobel))\n",
    "    grad_binary = np.zeros_like(scaled_sobel)\n",
    "    grad_binary[(scaled_sobel >= thresh[0]) & (scaled_sobel <= thresh[1])] = 1\n",
    "    return grad_binary\n",
    "\n",
    "def gradient_mag(gray, sobel_kernel, mag_thresh):\n",
    "    \"\"\" Calculates gradient magnitude\n",
    "        Applies threshold\"\"\"\n",
    "\n",
    "    sobelx = cv2.Sobel(gray, cv2.CV_64F, 1, 0, ksize=sobel_kernel)\n",
    "    sobely = cv2.Sobel(gray, cv2.CV_64F, 0, 1, ksize=sobel_kernel)\n",
    "    abs_sobel = np.sqrt( (sobelx*sobelx) + (sobely*sobely) )\n",
    "    scaled_sobel = np.uint8(255*abs_sobel/np.max(abs_sobel))\n",
    "    mag_binary = np.zeros_like(scaled_sobel)\n",
    "    mag_binary[(scaled_sobel >= mag_thresh[0]) & (scaled_sobel <= mag_thresh[1])] = 1\n",
    "\n",
    "    return mag_binary\n",
    "\n",
    "def gradient_dir(gray, sobel_kernel, dir_thresh):\n",
    "    \"\"\" Calculates gradient direction\n",
    "        Applies threshold\"\"\"\n",
    "    \n",
    "    sobelx = cv2.Sobel(gray, cv2.CV_64F, 1, 0, ksize=sobel_kernel)\n",
    "    sobely = cv2.Sobel(gray, cv2.CV_64F, 0, 1, ksize=sobel_kernel)\n",
    "    abs_sobelx = np.absolute(sobelx)\n",
    "    abs_sobely = np.absolute(sobely)\n",
    "    dir_grad = np.arctan2(abs_sobely, abs_sobelx)\n",
    "#    scaled_dir_grad = np.uint8(255*dir_grad/np.max(dir_grad))\n",
    "    dir_binary = np.zeros_like(dir_grad)\n",
    "    dir_binary[(dir_grad >= dir_thresh[0]) & (dir_grad <= dir_thresh[1])] = 1\n",
    "    return dir_binary\n",
    "\n",
    "def s_select(img, thresh):\n",
    "    \"\"\" 1) Converts image to HLS color space\n",
    "        2) Apply a threshold to the S channel\n",
    "        3) Return a binary image of threshold result \"\"\"\n",
    "    \n",
    "    img = cv2.cvtColor(img,cv2.COLOR_BGR2HLS)\n",
    "    img_s = img[:,:,2]\n",
    "\n",
    "    sbinary = np.zeros_like(img_s)\n",
    "    sbinary[(img_s > thresh[0]) & (img_s <= thresh[1])] = 1\n",
    "    return sbinary\n",
    "\n",
    "def l_select(img, thresh):\n",
    "    \"\"\" 1) Converts image to HLS color space\n",
    "        2) Apply a threshold to the S channel\n",
    "        3) Return a binary image of threshold result \"\"\"\n",
    "    \n",
    "    img = cv2.cvtColor(img,cv2.COLOR_BGR2HLS)\n",
    "    img_l = img[:,:,1]\n",
    "\n",
    "    lbinary = np.zeros_like(img_l)\n",
    "    lbinary[(img_l > thresh[0]) & (img_l <= thresh[1])] = 1\n",
    "    return lbinary\n",
    "\n",
    "def canny(img, low_threshold, high_threshold):\n",
    "    \"\"\"Applies the Canny transform\"\"\"\n",
    "    return cv2.Canny(img, low_threshold, high_threshold)\n",
    "\n",
    "def gaussian_blur(img, kernel_size):\n",
    "    \"\"\"Applies a Gaussian Noise kernel\"\"\"\n",
    "    return cv2.GaussianBlur(img, (kernel_size, kernel_size), 0)\n",
    "\n",
    "def region_of_interest(img):\n",
    "    \"\"\"\n",
    "    Applies an image mask.\n",
    "    Only keeps the region of the image defined by the polygon\n",
    "    formed from `vertices`. The rest of the image is set to black.\n",
    "    \"\"\"\n",
    "    global terrain_type\n",
    "    \n",
    "    if terrain_type == 'h':\n",
    "        mask_top_y = 470\n",
    "        mask_bottom_y = 720\n",
    "        mask_top_left_x = 360\n",
    "        mask_top_right_x = 680\n",
    "        mask_bottom_right_x = 1190\n",
    "        mask_bottom_left_x = 75\n",
    "    elif terrain_type == 'c':\n",
    "        mask_top_y = 470\n",
    "        mask_bottom_y = 720\n",
    "        mask_top_left_x = 580\n",
    "        mask_top_right_x = 750\n",
    "        mask_bottom_right_x = 1150\n",
    "        mask_bottom_left_x = 180\n",
    "    else:\n",
    "        mask_top_y = 440\n",
    "        mask_bottom_y = 720\n",
    "        mask_top_left_x = 530\n",
    "        mask_top_right_x = 740\n",
    "        mask_bottom_right_x = 1165\n",
    "        mask_bottom_left_x = 150\n",
    "        \n",
    "    \n",
    "    vertices = np.array([[(mask_top_left_x, mask_top_y), (mask_top_right_x, mask_top_y),  \\\n",
    "                          (mask_bottom_right_x, mask_bottom_y), (mask_bottom_left_x, mask_bottom_y)]],  \\\n",
    "                             dtype=np.int32) # vertices of the masked area\n",
    "\n",
    "    #defining a blank mask to start with\n",
    "    mask = np.zeros_like(img)\n",
    "\n",
    "    #defining a 3 channel or 1 channel color to fill the mask with depending on the input image\n",
    "    if len(img.shape) > 2:\n",
    "        channel_count = img.shape[2]  # i.e. 3 or 4 depending on your image\n",
    "        ignore_mask_color = (255,) * channel_count\n",
    "    else:\n",
    "        ignore_mask_color = 255\n",
    "\n",
    "    #filling pixels inside the polygon defined by \"vertices\" with the fill color\n",
    "    cv2.fillPoly(mask, vertices, ignore_mask_color)\n",
    "\n",
    "    #returning the image only where mask pixels are nonzero\n",
    "    masked_image = cv2.bitwise_and(img, mask)\n",
    "\n",
    "    return masked_image\n",
    "\n",
    "def calculate_curvature(y_eval, fit):\n",
    "    \"\"\"Calculates the radius of curvature of a given line\"\"\"\n",
    "    # y_eval : y-value where we want radius of curvature\n",
    "    # fit : left or right line fit\n",
    "    return ((1 + (2*fit[0]*y_eval + fit[1])**2)**1.5) / np.absolute(2*fit[0])\n",
    "\n",
    "def hough_lines(img, rho, theta, threshold, min_line_len, max_line_gap):\n",
    "    \"\"\"\n",
    "    Returns an image with hough lines drawn.\n",
    "    \"\"\"\n",
    "    lines = cv2.HoughLinesP(img, rho, theta, threshold, np.array([]), minLineLength=min_line_len, maxLineGap=max_line_gap)\n",
    "    \n",
    "    return lines\n",
    "\n",
    "def img_collage(marked_img):\n",
    "    \"\"\" Concatenate images into a single image\n",
    "        This helps view different perspectives of the image\n",
    "        at the same time helping with debugging\"\"\"\n",
    "    global c1, c2\n",
    "    c3 = np.concatenate((c1,c2),0)\n",
    "    marked_img = cv2.resize(marked_img,(1280, 720))\n",
    "    c0 = cv2.copyMakeBorder(marked_img,0,10,0,10,cv2.BORDER_CONSTANT, value=[255,255,0])\n",
    "    ct = np.concatenate((c0,c3),1)\n",
    "    c = np.concatenate((ct,cb),0)\n",
    "    c = cv2.resize(c,(1280, 720))\n",
    "    return c"
   ]
  },
  {
   "cell_type": "markdown",
   "metadata": {
    "deletable": true,
    "editable": true
   },
   "source": [
    "## Extract warped binary image of the lanes"
   ]
  },
  {
   "cell_type": "markdown",
   "metadata": {
    "deletable": true,
    "editable": true
   },
   "source": [
    "This function takes in a 3 channel RGB color image and returns a warped binary image with the lane markings only"
   ]
  },
  {
   "cell_type": "code",
   "execution_count": 67,
   "metadata": {
    "collapsed": true,
    "deletable": true,
    "editable": true
   },
   "outputs": [],
   "source": [
    "### Function to extract a warped binary image of the lanes\n",
    "\n",
    "\"\"\" This function takes in a 3 channel RGB olor image and \n",
    "    returns a warped binary image with the lane markings only \"\"\"\n",
    "\n",
    "    # Undistort the image\n",
    "    # Create necessary color channel filters\n",
    "    # Create necessary sobel filters\n",
    "    # Create a combined filter that provides the best results\n",
    "    # Apply mask to pick up lane pixels only\n",
    "    # Warp the image\n",
    "\n",
    "def get_binary_warp(image):\n",
    "\n",
    "    # Undistort the camera image\n",
    "    image = undistort(image)\n",
    "    \n",
    "    # Get image filtered by S channel\n",
    "    s_chn_img = s_select(image, thresh=(100,255))\n",
    "    \n",
    "    # Get image filtered by L channel\n",
    "    l_chn_img = l_select(image, thresh=(50,255))\n",
    "    \n",
    "    # Grayscale the image\n",
    "    gray_img = grayscale(image)\n",
    "    \n",
    "    # Get image filtered by sobel x\n",
    "    sobelx_img = gradient(gray_img, orient='x', sobel_kernel=9, thresh=(20,100))\n",
    "    \n",
    "    # Get image filtered by sobel y\n",
    "    sobely_img = gradient(gray_img, orient='y', sobel_kernel=9, thresh=(20,100))\n",
    "    \n",
    "    # Get image filtered by sobel magnitude\n",
    "    sobel_mag = gradient_mag(gray_img, sobel_kernel=3, mag_thresh=(20,100))\n",
    "    \n",
    "    # Get image filtered by sobel gradient direction\n",
    "    sobel_dir = gradient_dir(gray_img, sobel_kernel=31, dir_thresh=(0.7,1.3))\n",
    "    \n",
    "    # Stack each channel to view their individual contributions in green and blue respectively\n",
    "    # This returns a stack of the two binary images, whose components you can see as different colors\n",
    "    #color_binary = np.dstack(( np.zeros_like(sobelx_img), sobelx_img, s_chn_img))\n",
    "    \n",
    "    # Combine the two binary thresholds\n",
    "    combined_img = np.zeros_like(sobelx_img)\n",
    "    combined_img[((s_chn_img == 1) | ((sobelx_img == 1) & (sobely_img ==1))) & ((l_chn_img == 1))] = 1\n",
    "\n",
    "    # Pick up pixels that have high S and L channel values.  This will help address shadow conditions\n",
    "    combined_img2 = np.zeros_like(sobelx_img)\n",
    "    combined_img2[((s_chn_img == 1) & (l_chn_img == 1))] = 1\n",
    "    \n",
    "    # Pick up pixels that have high sobel x and y values.  This will help pick only strong pixels.\n",
    "    combined_img3 = np.zeros_like(sobelx_img)\n",
    "    combined_img3[((sobelx_img == 1) & (sobely_img ==1))] = 1\n",
    "\n",
    "    # Combine the two binary images.  This image :\n",
    "    # 1. Will capture lanes under shadows as well\n",
    "    # 2. Will pick up only strong pixels that have high values both in x and y\n",
    "    combined_img4 = np.zeros_like(sobelx_img)\n",
    "    combined_img4[((combined_img2 == 1) | (combined_img3 ==1))] = 1\n",
    "    \n",
    "    \"\"\"\n",
    "    # Use Hough transform to filter out non-line pixels and horizontal lines\n",
    "    lines = hough_lines(combined_img4, 2, np.pi/180, 100, 30, 20)\n",
    "    #creating a blank to draw lines on\n",
    "    line_image = np.copy(image)*0\n",
    "    # Iterate over the output \"lines\" and draw lines on the blank\n",
    "    for line in lines:\n",
    "        for x1,y1,x2,y2 in line:\n",
    "            slope, intercept = np.polyfit([x1, x2], [y1, y2], 1)\n",
    "            if((slope*slope) > 0.1) & ((slope*slope) < 100):       # Filters out horizontal lines \n",
    "                cv2.line(line_image,(x1,y1),(x2,y2),(255,0,0),10)\n",
    "    # Create a \"color\" binary image to combine with line image\n",
    "    color_edges = np.dstack((combined_img4, combined_img4, combined_img4)) \n",
    "    # Draw the lines on the edge image\n",
    "    combo = cv2.addWeighted(color_edges, 0.8, line_image, 1, 0) \n",
    "    showImg(combo)\n",
    "    \"\"\"\n",
    "\n",
    "    # Apply mask for lane region only to filter out non-lane pixels.\n",
    "    masked_image = region_of_interest(combined_img4) \n",
    "    \n",
    "    # Warp the image to provide a top down perspective view\n",
    "    warped_image = cv2.warpPerspective(masked_image, perspective_M, gray.shape[::-1], flags=cv2.INTER_LINEAR)\n",
    "#    showGrayImg(warped_image)\n",
    "\n",
    "    \"\"\"\n",
    "    # Plot the images for review\n",
    "    f = plt.figure(figsize=(30, 18))\n",
    "    ax1 = plt.subplot(2, 4, 1)\n",
    "    ax1.imshow(image)\n",
    "    ax1.set_title('Original Image', fontsize=10)\n",
    "    ax2 = plt.subplot(2, 4, 2)\n",
    "    ax2.imshow(s_chn_img, cmap='gray')\n",
    "    ax2.set_title('S Channel', fontsize=10)\n",
    "    ax3 = plt.subplot(2, 4, 3)\n",
    "    ax3.imshow(l_chn_img, cmap='gray')\n",
    "    ax3.set_title('L Channel', fontsize=10)\n",
    "    ax4 = plt.subplot(2, 4, 4)\n",
    "    ax4.imshow(sobelx_img, cmap=\"gray\")\n",
    "    ax4.set_title('Gradient x', fontsize=10)\n",
    "    ax5 = plt.subplot(2, 4, 5)\n",
    "    ax5.imshow(sobely_img, cmap=\"gray\")\n",
    "    ax5.set_title('Gradient y', fontsize=10)\n",
    "    ax6 = plt.subplot(2, 4, 6)\n",
    "    ax6.imshow(combined_img, cmap=\"gray\")\n",
    "    ax6.set_title('Combined Image', fontsize=10)\n",
    "    ax7 = plt.subplot(2, 4, 7)\n",
    "    ax7.imshow(warped_image, cmap=\"gray\")\n",
    "    ax7.set_title('Warped View', fontsize=10)\n",
    "    ax8 = plt.subplot(2, 4, 8)\n",
    "    ax8.imshow(masked_image, cmap=\"gray\")\n",
    "    ax8.set_title('Masked View', fontsize=10)\n",
    "    plt.subplots_adjust(left=0., right=1, top=0.5, bottom=0.)\n",
    "    f.savefig('Inflight_' + str(idx))\n",
    "    plt.show()\n",
    "    \"\"\"\n",
    "    \n",
    "    # Combine images to create a collage of different perspectives\n",
    "    # This makes it easy to debug as many perspective are shown at the same time\n",
    "    c4 = cv2.resize(combined_img,(640, 360))\n",
    "    c4 = np.dstack((c4, c4, c4))*255\n",
    "    c4 = cv2.copyMakeBorder(c4,0,0,0,5,cv2.BORDER_CONSTANT, value=[255,255,0])\n",
    "    cv2.putText(c4,\"Filtered Binary Image\", (150,30), cv2.FONT_HERSHEY_PLAIN, 2, (0,0,255))\n",
    "#    print(\"c4 shape = \", c4.shape)\n",
    "    c5 = cv2.resize(masked_image,(640, 360))\n",
    "    c5 = np.dstack((c5, c5, c5))*255\n",
    "    c5 = cv2.copyMakeBorder(c5,0,0,0,5,cv2.BORDER_CONSTANT, value=[0,0,0])\n",
    "    cv2.putText(c5,\"Masked Binary Image\", (150,30), cv2.FONT_HERSHEY_PLAIN, 2, (255255,255))\n",
    "#    print(\"c5 shape = \", c5.shape)\n",
    "    c6 = cv2.resize(warped_image,(640, 360))\n",
    "    c6 = np.dstack((c6, c6, c6))*255\n",
    "    c6 = cv2.copyMakeBorder(c6,0,0,0,0,cv2.BORDER_CONSTANT, value=[255,255,0])\n",
    "    cv2.putText(c6,\"Warped\", (150,30), cv2.FONT_HERSHEY_PLAIN, 2, (255,255,255))\n",
    "    cv2.putText(c6,\"Image\", (150,60), cv2.FONT_HERSHEY_PLAIN, 2, (255,255,255))\n",
    "#    print(\"c6 shape = \", c6.shape)\n",
    "    global cb\n",
    "    cb = np.concatenate((c4, c5, c6),1)\n",
    "\n",
    "    return warped_image"
   ]
  },
  {
   "cell_type": "markdown",
   "metadata": {
    "deletable": true,
    "editable": true
   },
   "source": [
    "## Detect fresh left and right lanes a warped binary image"
   ]
  },
  {
   "cell_type": "markdown",
   "metadata": {
    "deletable": true,
    "editable": true
   },
   "source": [
    "This function takes in a warped binary image of the lanes and detects the lanes.  This function is used during the start of the pipeline and whenever multiple bad lines are detected continously"
   ]
  },
  {
   "cell_type": "code",
   "execution_count": 11,
   "metadata": {
    "collapsed": false,
    "deletable": true,
    "editable": true
   },
   "outputs": [],
   "source": [
    "### This function will locate a fresh set of lane lines from a given binary warped image\n",
    "\"\"\"  This function called \n",
    "     1. During the start of the pipeline to find the lanes\n",
    "     2. Whenever continous bad lanes are detected - this will help as a reset\"\"\"\n",
    "\n",
    "def find_fresh_lanes(binary_warped):\n",
    "    \n",
    "    print(\"Inside reset\")\n",
    "    \n",
    "    # Take a histogram of the bottom half of the image\n",
    "    histogram = np.sum(binary_warped[binary_warped.shape[0]/2:,:], axis=0)\n",
    "#    plt.plot(histogram)\n",
    "#    plt.show()\n",
    "    \n",
    "\n",
    "    # Find the peak of the left and right halves of the histogram\n",
    "    # These will be the starting point for the left and right lines\n",
    "    midpoint = np.int(histogram.shape[0]/2)\n",
    "    leftx_base = np.argmax(histogram[:midpoint])\n",
    "    rightx_base = np.argmax(histogram[midpoint:]) + midpoint\n",
    "#    print(leftx_base, rightx_base)\n",
    "\n",
    "    # Choose the number of sliding windows\n",
    "    nwindows = 9\n",
    "    # Set height of windows\n",
    "    window_height = np.int(binary_warped.shape[0]/nwindows)\n",
    "    \n",
    "    # Identify the x and y positions of all nonzero pixels in the image\n",
    "    nonzero = binary_warped.nonzero()\n",
    "    nonzeroy = np.array(nonzero[0])\n",
    "    nonzerox = np.array(nonzero[1])\n",
    "    \n",
    "    # Current positions to be updated for each window\n",
    "    leftx_current = leftx_base\n",
    "    rightx_current = rightx_base\n",
    "    \n",
    "    # Set the width of the windows +/- margin\n",
    "    margin = 100\n",
    "    # Set minimum number of pixels found to recenter window\n",
    "    minpix = 20\n",
    "    \n",
    "    # Create empty lists to receive left and right lane pixel indices\n",
    "    left_lane_inds = []\n",
    "    right_lane_inds = []\n",
    "    \n",
    "    # Create an output image to draw on and  visualize the result\n",
    "    out_img = np.dstack((binary_warped, binary_warped, binary_warped))*255\n",
    "    \n",
    "    # Step through the windows one by one\n",
    "    for window in range(nwindows):\n",
    "        # Identify window boundaries in x and y (and right and left)\n",
    "        win_y_low = binary_warped.shape[0] - (window+1)*window_height\n",
    "        win_y_high = binary_warped.shape[0] - window*window_height\n",
    "        win_xleft_low = leftx_current - margin\n",
    "        win_xleft_high = leftx_current + margin\n",
    "        win_xright_low = rightx_current - margin\n",
    "        win_xright_high = rightx_current + margin\n",
    "        # Draw the windows on the visualization image\n",
    "        cv2.rectangle(out_img,(win_xleft_low,win_y_low),(win_xleft_high,win_y_high),(0,255,0), 3) \n",
    "        cv2.rectangle(out_img,(win_xright_low,win_y_low),(win_xright_high,win_y_high),(0,255,0), 3) \n",
    "        # Identify the nonzero pixels in x and y within the window\n",
    "        good_left_inds = ((nonzeroy >= win_y_low) & (nonzeroy < win_y_high) & (nonzerox >= win_xleft_low) & (nonzerox < win_xleft_high)).nonzero()[0]\n",
    "        good_right_inds = ((nonzeroy >= win_y_low) & (nonzeroy < win_y_high) & (nonzerox >= win_xright_low) & (nonzerox < win_xright_high)).nonzero()[0]\n",
    "        # Append these indices to the lists\n",
    "        left_lane_inds.append(good_left_inds)\n",
    "        right_lane_inds.append(good_right_inds)\n",
    "        # If you found > minpix pixels, recenter next window on their mean position\n",
    "        if len(good_left_inds) > minpix:\n",
    "            leftx_current = np.int(np.mean(nonzerox[good_left_inds]))\n",
    "        if len(good_right_inds) > minpix:        \n",
    "            rightx_current = np.int(np.mean(nonzerox[good_right_inds]))\n",
    "        \n",
    "    # Concatenate the arrays of indices\n",
    "    left_lane_inds = np.concatenate(left_lane_inds)\n",
    "    right_lane_inds = np.concatenate(right_lane_inds)\n",
    "\n",
    "    # Combine images to create a collage of different perspectives\n",
    "    # This makes it easy to debug as many perspective are shown at the same time\n",
    "    global c2\n",
    "    c2 = cv2.resize(out_img,None,fx=0.5, fy=0.5)\n",
    "    c2 = cv2.copyMakeBorder(c2,0,10,0,0,cv2.BORDER_CONSTANT, value=[255,255,0])\n",
    "#    showImg(c2)\n",
    " \n",
    "    # Reset the flag to indicate that fresh detection has been done\n",
    "    global reset_lanes\n",
    "    reset_lanes = False\n",
    "    \n",
    "#    showImg(out_img)\n",
    "\n",
    "    return leftx_base, rightx_base, left_lane_inds, right_lane_inds\n",
    "    "
   ]
  },
  {
   "cell_type": "markdown",
   "metadata": {
    "deletable": true,
    "editable": true
   },
   "source": [
    "## Perform sanity check on lane lines"
   ]
  },
  {
   "cell_type": "markdown",
   "metadata": {
    "deletable": true,
    "editable": true
   },
   "source": [
    "This function performs sanity checks on the identified lane lines and decides if they are high confidence detections"
   ]
  },
  {
   "cell_type": "code",
   "execution_count": 12,
   "metadata": {
    "collapsed": false,
    "deletable": true,
    "editable": true
   },
   "outputs": [],
   "source": [
    "### Perform sanity checks.\n",
    "\"\"\" 1. Sanity check the left and right lanes from the current detection.\n",
    "    2. Sanity check the lanes against previous good values for continuity \"\"\"\n",
    "\n",
    "def sanity_check_lanes(l):\n",
    "    \n",
    "    good_lane = True\n",
    "    \n",
    "    while True:\n",
    "\n",
    "        # Low Pass Filter - Do the left and rigth lanes have enough pixels\n",
    "        if len(l.leftx) < 20 or len(l.rightx) < 20:\n",
    "            good_lane = False\n",
    "            print(\"@\", len(detected_lines),  \" > low pass failure : \", len(l.leftx), len(l.rightx) )\n",
    "            break\n",
    "\n",
    "        # Is the lane width reasonable (around 3.7 m)\n",
    "        if not(3 < l.lane_width < 4.2):\n",
    "            good_lane = False\n",
    "            print(\"@\", len(detected_lines),  \" > lane width failure : \", l.lane_width)\n",
    "            break\n",
    "\n",
    "        # Are the lane curvatures reasonable\n",
    "        if l.left_curverad > 20000 or l.right_curverad > 20000:\n",
    "            good_lane = False\n",
    "            print(\"@\", len(detected_lines),  \" > curve check failure : \", l.left_curverad, l.right_curverad)\n",
    "            break\n",
    "\n",
    "        # Do the left and right lanes have similar curvature\n",
    "        if abs(l.left_curverad - l.right_curverad) > 10000:\n",
    "            good_lane = False\n",
    "            print(\"@\", len(detected_lines),  \" > left and right curves similarity failure : \", l.left_curverad, l.right_curverad)\n",
    "            break\n",
    "            \n",
    "        # Are the lanes parallel (co-eff check)\n",
    "#        if abs(l.left_fit[0] - l.right_fit[0]) > abs(0.75 * l.left_fit[0]):\n",
    "        if abs(l.left_fit[0] - l.right_fit[0]) > 0.0005:\n",
    "            good_lane = False\n",
    "            print(\"@\", len(detected_lines),  \" > 2nd order coefficient similarity failure : \", l.left_fit[0], l.right_fit[0])\n",
    "            break\n",
    "            \n",
    "#        if abs(l.left_fit[1] - l.right_fit[1]) > abs(0.75 * l.left_fit[1]):\n",
    "        if abs(l.left_fit[1] - l.right_fit[1]) > 0.35:\n",
    "            good_lane = False\n",
    "            print(\"@\", len(detected_lines),  \" > 1st order coefficient similarity failure : \", l.left_fit[1], l.right_fit[1])\n",
    "            break\n",
    "        \n",
    "        if not l.fresh_lane:\n",
    "            \n",
    "            # Is the lane offset marginal from prev frame\n",
    "                if abs(l.center_offset_m - detected_lines[-1].center_offset_m) > 0.5:\n",
    "                    good_lane = False\n",
    "                    print(\"@\", len(detected_lines),  \" > Continuity check failed - lane offset variation high : \", \n",
    "                          l.center_offset_m, detected_lines[-1].center_offset_m)\n",
    "                    break\n",
    "\n",
    "            # Is the left curvature offset reasonable from prev frame\n",
    "                if abs(l.left_curverad - detected_lines[-1].left_curverad) > abs(3.0 * l.left_curverad):\n",
    "                    good_lane = False\n",
    "                    print(\"@\", len(detected_lines),  \" > Continuity check failed - left curve variation high : \", \n",
    "                          l.left_curverad, detected_lines[-1].left_curverad)\n",
    "                    break\n",
    "            \n",
    "            # Is the right curvature offset reasonable from prev frame\n",
    "                if abs(l.right_curverad - detected_lines[-1].right_curverad) > abs(3.0 * l.right_curverad):\n",
    "                    good_lane = False\n",
    "                    print(\"@\", len(detected_lines),  \" > Continuity check failed - right curve variation high : \", \n",
    "                          l.right_curverad, detected_lines[-1].right_curverad)\n",
    "                    break\n",
    "\n",
    "            # Is the co-eff offset reasonable from prev frame\n",
    "            \n",
    "        break\n",
    "            \n",
    "#    print(\"lane quality = \", good_lane)\n",
    "    return good_lane"
   ]
  },
  {
   "cell_type": "markdown",
   "metadata": {
    "deletable": true,
    "editable": true
   },
   "source": [
    "## Extract left and right lane fits from a warped binary image"
   ]
  },
  {
   "cell_type": "markdown",
   "metadata": {
    "deletable": true,
    "editable": true
   },
   "source": [
    "This function takes in a warped binary image of the lanes and returns the left and right lane fits"
   ]
  },
  {
   "cell_type": "code",
   "execution_count": 13,
   "metadata": {
    "collapsed": false,
    "deletable": true,
    "editable": true
   },
   "outputs": [],
   "source": [
    "### Function to extract the left and right line fits from a given warped binary image of the lanes\n",
    "\n",
    "\"\"\" This function takes in a warped binary image of the lanes and \n",
    "    returns the left and right lane fits \"\"\"\n",
    "\n",
    "def get_line_fits(binary_warped):\n",
    "    \n",
    "#    showGrayImg(binary_warped)\n",
    "    global reset_lanes\n",
    "#    print('reset status', reset_lanes)\n",
    "\n",
    "    # Identify indices of non-zero pixels from the binary image\n",
    "    nonzero = binary_warped.nonzero()\n",
    "    nonzeroy = np.array(nonzero[0])\n",
    "    nonzerox = np.array(nonzero[1])\n",
    "\n",
    "    # Create a new Line object to store the lane parameters\n",
    "    l = Line()\n",
    "    \n",
    "    if reset_lanes :\n",
    "        # Fresh lanes being built\n",
    "        leftx_base, rightx_base, left_lane_inds, right_lane_inds = find_fresh_lanes(binary_warped)\n",
    "        l.fresh_lane = True\n",
    "    else:\n",
    "        # Using coeff from last good detection for plotting new lanes\n",
    "        l.fresh_lane = False\n",
    "        margin = 100\n",
    "        left_fit = detected_lines[-1].left_fit\n",
    "        right_fit = detected_lines[-1].right_fit\n",
    "        left_lane_inds = ((nonzerox > (left_fit[0]*(nonzeroy**2) + left_fit[1]*nonzeroy + left_fit[2] - margin)) & (nonzerox < (left_fit[0]*(nonzeroy**2) + left_fit[1]*nonzeroy + left_fit[2] + margin))) \n",
    "        right_lane_inds = ((nonzerox > (right_fit[0]*(nonzeroy**2) + right_fit[1]*nonzeroy + right_fit[2] - margin)) & (nonzerox < (right_fit[0]*(nonzeroy**2) + right_fit[1]*nonzeroy + right_fit[2] + margin)))\n",
    "        y_base = binary_warped.shape[0]\n",
    "        leftx_base = left_fit[0]*(y_base**2) + left_fit[1]*y_base + left_fit[2]\n",
    "        rightx_base = right_fit[0]*(y_base**2) + right_fit[1]*y_base + right_fit[2]\n",
    "#        print(leftx_base, rightx_base)\n",
    "\n",
    "\n",
    "    # Extract left and right line pixel positions\n",
    "    leftx = nonzerox[left_lane_inds]\n",
    "    lefty = nonzeroy[left_lane_inds] \n",
    "    rightx = nonzerox[right_lane_inds]\n",
    "    righty = nonzeroy[right_lane_inds] \n",
    "\n",
    "    # Create an output image to draw on and  visualize the result\n",
    "    out_img = np.dstack((binary_warped, binary_warped, binary_warped))*255\n",
    "    out_img[nonzeroy[left_lane_inds], nonzerox[left_lane_inds]] = [255, 0, 0]\n",
    "    out_img[nonzeroy[right_lane_inds], nonzerox[right_lane_inds]] = [0, 0, 255]\n",
    "#    showImg(out_img)\n",
    "\n",
    "    # Fit a second order polynomial to each lane\n",
    "    if len(leftx) == 0 or len(lefty) == 0:\n",
    "        leftx = detected_lines[-1].leftx\n",
    "        lefty = detected_lines[-1].lefty\n",
    "    if len(rightx) == 0 or len(righty) == 0:\n",
    "        rightx = detected_lines[-1].rightx\n",
    "        righty = detected_lines[-1].righty\n",
    "\n",
    "    left_fit = np.polyfit(lefty, leftx, 2)\n",
    "    right_fit = np.polyfit(righty, rightx, 2)\n",
    "#    print(\"left fit =\" , left_fit)\n",
    "#    print(\"right fit =\" , right_fit)\n",
    "\n",
    "\n",
    "    # Calculate radius of curvature\n",
    "    global baseline_lane_width\n",
    "    ploty = np.linspace(0, binary_warped.shape[0]-1, binary_warped.shape[0] )\n",
    "    y_eval = np.max(ploty) / 2  # y-value where we want radius of curvature\n",
    "    ym_per_pix = 30/720 # meters per pixel in y dimension  -->  Manual observation\n",
    "    xm_per_pix = 3.7/baseline_lane_width # meters per pixel in x dimension\n",
    "#    xm_per_pix = 3.7/700 # meters per pixel in x dimension\n",
    "#    ym_per_pix = 3/7 # meters per pixel in y dimension  -->  Manual observation\n",
    "\n",
    "\n",
    "    # Calculate curvature in pixels\n",
    "    left_curverad = calculate_curvature(y_eval, left_fit)\n",
    "    right_curverad = calculate_curvature(y_eval, right_fit)\n",
    "#    print(\"Curvature left = \", left_curverad, \"px  right = \", right_curverad, \"px\")\n",
    "    \n",
    "    # Fit new polynomials to x,y in world space to calculate curvature in meters\n",
    "    left_fit_cr = np.polyfit(lefty*ym_per_pix, leftx*xm_per_pix, 2)\n",
    "    right_fit_cr = np.polyfit(righty*ym_per_pix, rightx*xm_per_pix, 2)\n",
    "    \n",
    "    # Calculate the new radii of curvature\n",
    "    left_curverad = ((1 + (2*left_fit_cr[0]*y_eval*ym_per_pix + left_fit_cr[1])**2)**1.5) / np.absolute(2*left_fit_cr[0])\n",
    "    right_curverad = ((1 + (2*right_fit_cr[0]*y_eval*ym_per_pix + right_fit_cr[1])**2)**1.5) / np.absolute(2*right_fit_cr[0])\n",
    "     \n",
    "    # Determine lane width and offset\n",
    "    lane_width = (rightx_base - leftx_base) * xm_per_pix\n",
    "    lane_center = int(leftx_base + ((rightx_base - leftx_base) / 2))\n",
    "    img_center = np.int(image.shape[1]/2)\n",
    "    center_offset_px = img_center - lane_center\n",
    "    center_offset_m = round((center_offset_px * xm_per_pix), 2)\n",
    "\n",
    "    # Store detect lane parametes in the line object\n",
    "    l.leftx_base = leftx_base\n",
    "    l.rightx_base = rightx_base\n",
    "    l.leftx = leftx\n",
    "    l.lefty = lefty\n",
    "    l.rightx = rightx\n",
    "    l.righty = righty\n",
    "    l.left_fit = left_fit\n",
    "    l.right_fit = right_fit\n",
    "    l.left_curverad = left_curverad\n",
    "    l.right_curverad = right_curverad\n",
    "    l.center_offset_m = center_offset_m\n",
    "    l.lane_width = lane_width\n",
    "    \n",
    "    # Sanity check the identified lanes.\n",
    "    if len(detected_lines) == 0:\n",
    "        # Handle first clip of the pipeline\n",
    "        l.good_lane = True\n",
    "        l.continous_bad_lanes = 0\n",
    "        l.smooth_left_fit = left_fit\n",
    "        l.smooth_right_fit = right_fit\n",
    "    else:\n",
    "        l.continous_bad_lanes = detected_lines[-1].continous_bad_lanes\n",
    "        l.good_lane = sanity_check_lanes(l)        \n",
    "\n",
    "    # Create an image section that will show lane parameters\n",
    "    # This makes it easy to debug\n",
    "    global c1\n",
    "    c1 = np.zeros_like(out_img)\n",
    "    c1 = cv2.resize(c1,None,fx=0.5, fy=0.5)\n",
    "    c1.fill(255)\n",
    "    cv2.putText(c1,\"Frame Metrics - \" + str(len(detected_lines) + 1), (200,30), cv2.FONT_HERSHEY_PLAIN, 2, (0,0,255))\n",
    "    cv2.putText(c1,\"lx_base = \" + str(int(leftx_base)), (10,60), cv2.FONT_HERSHEY_PLAIN, 2, (0,0,255))\n",
    "    cv2.putText(c1,\"rx_base = \" + str(int(rightx_base)), (10,90), cv2.FONT_HERSHEY_PLAIN, 2, (0,0,255))\n",
    "    cv2.putText(c1,\"ln_width = \" + str(round(lane_width,2)), (10,120), cv2.FONT_HERSHEY_PLAIN, 2, (0,0,255))\n",
    "    cv2.putText(c1,\"lfit2 = \" + str(round(left_fit[2],2)), (10,150), cv2.FONT_HERSHEY_PLAIN, 2, (0,0,255))\n",
    "    cv2.putText(c1,\"rfit2 = \" + str(round(right_fit[2],2)), (10,180), cv2.FONT_HERSHEY_PLAIN, 2, (0,0,255))\n",
    "    cv2.putText(c1,\"lfit1 = \" + str(round(left_fit[1],3)), (10,210), cv2.FONT_HERSHEY_PLAIN, 2, (0,0,255))\n",
    "    cv2.putText(c1,\"rfit1 = \" + str(round(right_fit[1],3)), (10,240), cv2.FONT_HERSHEY_PLAIN, 2, (0,0,255))\n",
    "    cv2.putText(c1,\"lfit0 = \" + str(round(left_fit[0],6)), (10,270), cv2.FONT_HERSHEY_PLAIN, 2, (0,0,255))\n",
    "    cv2.putText(c1,\"rfit0 = \" + str(round(right_fit[0],6)), (10,300), cv2.FONT_HERSHEY_PLAIN, 2, (0,0,255))\n",
    "    cv2.putText(c1,\"Fresh Lane = \" + str(l.fresh_lane), (300,60), cv2.FONT_HERSHEY_PLAIN, 2, (0,0,255))\n",
    "    cv2.putText(c1,\"Good Lane = \" + str(l.good_lane), (300,90), cv2.FONT_HERSHEY_PLAIN, 2, (0,0,255))\n",
    "    cv2.putText(c1,\"Bad Lns = \" + str(l.continous_bad_lanes), (300,120), cv2.FONT_HERSHEY_PLAIN, 2, (0,0,255))\n",
    "    cv2.putText(c1,\"Left Curve = \" + str(int(l.left_curverad)), (300,150), cv2.FONT_HERSHEY_PLAIN, 2, (0,0,255))\n",
    "    cv2.putText(c1,\"Right Curve = \" + str(int(l.right_curverad)), (300,180), cv2.FONT_HERSHEY_PLAIN, 2, (0,0,255))\n",
    "    c1 = cv2.copyMakeBorder(c1,0,0,0,0,cv2.BORDER_CONSTANT, value=[255,255,0])\n",
    "#    print(c1.shape)\n",
    "#    showImg(c1)\n",
    "\n",
    "    # If the current lane detection is bad, use the previous good values to draw current lane\n",
    "    if l.good_lane:\n",
    "        l.continous_bad_lanes = 0\n",
    "        i = 1\n",
    "        # Smoothen the fit over the last n good detections\n",
    "        for line in detected_lines[::-1]:\n",
    "            l.smooth_left_fit += line.left_fit\n",
    "            l.smooth_right_fit += line.right_fit\n",
    "            if i == 5: \n",
    "                l.smooth_left_fit = l.smooth_left_fit / i\n",
    "                l.smooth_right_fit = l.smooth_right_fit / i\n",
    "                break \n",
    "            i += 1\n",
    "    else:\n",
    "        l.continous_bad_lanes += 1\n",
    "        if l.continous_bad_lanes > 5: reset_lanes = True\n",
    "        l.leftx_base = detected_lines[-1].leftx_base\n",
    "        l.rightx_base = detected_lines[-1].rightx_base\n",
    "        l.leftx = detected_lines[-1].leftx\n",
    "        l.lefty = detected_lines[-1].lefty\n",
    "        l.rightx = detected_lines[-1].rightx\n",
    "        l.righty = detected_lines[-1].righty\n",
    "        l.left_fit = detected_lines[-1].left_fit\n",
    "        l.right_fit = detected_lines[-1].right_fit\n",
    "        l.left_curverad = detected_lines[-1].left_curverad\n",
    "        l.right_curverad = detected_lines[-1].right_curverad\n",
    "        l.center_offset_m = detected_lines[-1].center_offset_m\n",
    "        l.lane_width = detected_lines[-1].lane_width\n",
    "        l.smooth_left_fit = detected_lines[-1].smooth_left_fit\n",
    "        l.smooth_right_fit = detected_lines[-1].smooth_right_fit\n",
    "    \n",
    "    # Add the current lane lines to the detected_lines list\n",
    "    detected_lines.append(l)\n",
    "\n",
    "    return l"
   ]
  },
  {
   "cell_type": "markdown",
   "metadata": {
    "deletable": true,
    "editable": true
   },
   "source": [
    "## Lane Marker Pipeline\n",
    "\n",
    "This function acts as a pipeline that takes a 3 channel RGB color image as input and returns the same image with lanes marked in it.\n"
   ]
  },
  {
   "cell_type": "code",
   "execution_count": 54,
   "metadata": {
    "collapsed": false,
    "deletable": true,
    "editable": true
   },
   "outputs": [],
   "source": [
    "### Lane Marker Pipeline\n",
    "\"\"\" This function acts as a pipeline that takes a 3 channel RGB color image as input\n",
    "    and returns the same image with lanes marked in it \"\"\"\n",
    "\n",
    "def lane_marker_pipeline(image):\n",
    "\n",
    "    # Get the binary warped image of the input image\n",
    "    binary_warped = get_binary_warp(image)\n",
    "    \n",
    "    # Identify the left and right fits from the binary warped image\n",
    "    l = get_line_fits(binary_warped)\n",
    "    \n",
    "    # Generate x and y values for plotting\n",
    "    ploty = np.linspace(0, binary_warped.shape[0]-1, binary_warped.shape[0] )\n",
    "    left_fitx = l.smooth_left_fit[0]*ploty**2 + l.smooth_left_fit[1]*ploty + l.smooth_left_fit[2]\n",
    "    right_fitx = l.smooth_right_fit[0]*ploty**2 + l.smooth_right_fit[1]*ploty + l.smooth_right_fit[2]\n",
    "#    left_fitx = l.left_fit[0]*ploty**2 + l.left_fit[1]*ploty + l.left_fit[2]\n",
    "#    right_fitx = l.right_fit[0]*ploty**2 + l.right_fit[1]*ploty + l.right_fit[2]\n",
    "\n",
    "    # Create an output image to draw on and  visualize the result\n",
    "    out_img = np.dstack((binary_warped, binary_warped, binary_warped))*255\n",
    "    window_img = np.zeros_like(out_img)\n",
    "    \n",
    "    # Generate a polygon to illustrate the search window area\n",
    "    # And recast the x and y points into usable format for cv2.fillPoly()\n",
    "    line_width = 15\n",
    " \n",
    "    left_line_window1 = np.array([np.transpose(np.vstack([left_fitx - line_width, ploty]))])\n",
    "    left_line_window2 = np.array([np.flipud(np.transpose(np.vstack([left_fitx + line_width, ploty])))])\n",
    "    left_line_pts = np.hstack((left_line_window1, left_line_window2))\n",
    "    right_line_window1 = np.array([np.transpose(np.vstack([right_fitx - line_width, ploty]))])\n",
    "    right_line_window2 = np.array([np.flipud(np.transpose(np.vstack([right_fitx + line_width, ploty])))])\n",
    "    right_line_pts = np.hstack((right_line_window1, right_line_window2))\n",
    "\n",
    "    # Draw the lane onto the warped blank image\n",
    "    cv2.fillPoly(window_img, np.int_([left_line_pts]), (255,0, 0))\n",
    "    cv2.fillPoly(window_img, np.int_([right_line_pts]), (0,0, 255))\n",
    "    result = cv2.addWeighted(out_img, 0.5, window_img, 1.0, 0)\n",
    "\n",
    "    \n",
    "    \"\"\"\n",
    "    # Draw images\n",
    "    f = plt.figure(figsize=(30, 18))\n",
    "   \n",
    "    ax1 = plt.subplot(1, 3, 1)\n",
    "    ax1.imshow(binary_warped, cmap='gray')\n",
    "    ax1.set_title('Input Image', fontsize=10)\n",
    "    \n",
    "    ax2 = plt.subplot(1, 3, 2)\n",
    "    ax2.imshow(out_img, cmap='gray')\n",
    "    ax2.plot(left_fitx, ploty, color='yellow')\n",
    "    ax2.plot(right_fitx, ploty, color='yellow')\n",
    "    ax2.set_title('Marked Image', fontsize=10)\n",
    "    \n",
    "    ax3 = plt.subplot(1, 3, 3)\n",
    "    ax3.imshow(result, cmap='gray')\n",
    "    ax3.set_title('Final', fontsize=10)\n",
    "    ax3.plot(left_fitx, ploty, color='yellow', linewidth=2)\n",
    "    ax3.plot(right_fitx, ploty, color='yellow', linewidth=2)\n",
    "\n",
    "    plt.subplots_adjust(left=0., right=1, top=0.5, bottom=0.)\n",
    "    \"\"\"\n",
    "\n",
    "    # Create an image to draw the lines on\n",
    "    warp_zero = np.zeros_like(binary_warped).astype(np.uint8)\n",
    "    color_warp = np.dstack((warp_zero, warp_zero, warp_zero))\n",
    "#    ax3.plot(left_fitx, ploty, color='yellow', linewidth=2)\n",
    "#    ax3.plot(right_fitx, ploty, color='yellow', linewidth=2)\n",
    "\n",
    "    # Recast the x and y points into usable format for cv2.fillPoly()\n",
    "    pts_left = np.array([np.transpose(np.vstack([left_fitx, ploty]))])\n",
    "    pts_right = np.array([np.flipud(np.transpose(np.vstack([right_fitx, ploty])))])\n",
    "    pts = np.hstack((pts_left, pts_right))\n",
    "\n",
    "    # Draw the lane onto the warped blank image\n",
    "    cv2.fillPoly(color_warp, np.int_([pts]), (0,255, 0))\n",
    "#    showImg(color_warp)\n",
    "    color_warp = cv2.addWeighted(color_warp, .5, window_img, .5, 0)\n",
    "#    showImg(color_warp)\n",
    "\n",
    "    # Warp the blank back to original image space using inverse perspective matrix (Minv)\n",
    "    newwarp = cv2.warpPerspective(color_warp, perspective_Minv, (image.shape[1], image.shape[0])) \n",
    "    # Combine the result with the original image\n",
    "    marked_img = cv2.addWeighted(image, 1, newwarp, 0.3, 0)\n",
    "\n",
    "    curverad = int((l.left_curverad + l.right_curverad) / 2)\n",
    "    cv2.putText(marked_img,\"Radius of Curvature = \" + str(curverad) + \"m\", (50,50), cv2.FONT_HERSHEY_PLAIN, 2.5, (255,255,255))\n",
    "    if l.center_offset_m > 0:\n",
    "        offset_txt = \"Vehicle is \" + str(abs(l.center_offset_m)) + \"m right of centre\"\n",
    "    elif l.center_offset_m < 0:\n",
    "        offset_txt = \"Vehicle is \" + str(abs(l.center_offset_m)) + \"m left of centre\"\n",
    "    else:\n",
    "        offset_txt = \"Vehicle is at centre\"\n",
    "    \n",
    "    cv2.putText(marked_img,offset_txt, (50,100), cv2.FONT_HERSHEY_PLAIN, 2.5, (255,255,255))\n",
    "    \n",
    "    \n",
    "    return marked_img"
   ]
  },
  {
   "cell_type": "markdown",
   "metadata": {
    "deletable": true,
    "editable": true
   },
   "source": [
    "## Caliberate Camera\n",
    "This section caliberates the camera by using chessboard images so that images can be undistorted"
   ]
  },
  {
   "cell_type": "code",
   "execution_count": 40,
   "metadata": {
    "collapsed": false,
    "deletable": true,
    "editable": true
   },
   "outputs": [],
   "source": [
    "### Caliberate Camera\n",
    "\n",
    "\"\"\"This section caliberates the camera by using chessboard images so that images can be undistorted\"\"\"\n",
    "\n",
    "def caliberate_camera():\n",
    "    # Chessboard corners\n",
    "    nx = 9\n",
    "    ny = 6\n",
    "\n",
    "    # prepare object points, like (0,0,0), (1,0,0), (2,0,0) ....,(6,5,0)\n",
    "    objp = np.zeros((6*9,3), np.float32)\n",
    "    objp[:,:2] = np.mgrid[0:nx, 0:ny].T.reshape(-1,2)\n",
    "\n",
    "    # Arrays to store object points and image points from all the images.\n",
    "    objpoints = [] # 3d points in real world space\n",
    "    imgpoints = [] # 2d points in image plane.\n",
    "\n",
    "    # Make a list of calibration images\n",
    "    images = glob.glob('camera_cal/cal*.jpg')\n",
    "\n",
    "    # Step through the list and search for chessboard corners\n",
    "    for idx, fname in enumerate(images):\n",
    "        img = cv2.imread(fname)\n",
    "        img = cv2.cvtColor(img, cv2.COLOR_BGR2RGB)\n",
    "        gray = grayscale(img)\n",
    "        # Find the chessboard corners\n",
    "        ret, corners = cv2.findChessboardCorners(gray, (nx,ny), None)\n",
    "        # If found, add object points, image points\n",
    "        if ret == True:\n",
    "            objpoints.append(objp)\n",
    "            imgpoints.append(corners)\n",
    "\n",
    "            # Draw and display the corners\n",
    "            cv2.drawChessboardCorners(img, (nx,ny), corners, ret)\n",
    "            write_name = 'camera_cal/corners_found'+str(idx)+'.jpg'\n",
    "            cv2.imwrite(write_name, img)\n",
    "\n",
    "    # Get chessboard image size\n",
    "    img = cv2.imread('camera_cal/calibration1.jpg')\n",
    "    img_size = (img.shape[1], img.shape[0])\n",
    "    print(\"Chess board shape = \", img_size)\n",
    "\n",
    "    # Do camera calibration given object points and image points\n",
    "    ret, mtx, dist, rvecs, tvecs = cv2.calibrateCamera(objpoints, imgpoints, img_size,None,None)\n",
    "    print(\"Camera caliberated.  mtx = \", mtx, \" dist = \", dist)\n",
    "\n",
    "    dst = cv2.undistort(img, mtx, dist, None, mtx)\n",
    "    cv2.imwrite('camera_cal/test_undist.jpg',dst)\n",
    "\n",
    "    # Visualize undistortion\n",
    "    \"\"\"\n",
    "    f, (ax1, ax2) = plt.subplots(1, 2, figsize=(20,10))\n",
    "    ax1.imshow(img)\n",
    "    ax1.set_title('Original Image', fontsize=20)\n",
    "    ax2.imshow(dst)\n",
    "    ax2.set_title('Undistorted Image', fontsize=20)\n",
    "    plt.show()\n",
    "    \"\"\"\n",
    "    return mtx, dist"
   ]
  },
  {
   "cell_type": "markdown",
   "metadata": {
    "deletable": true,
    "editable": true
   },
   "source": [
    "## Compute Perspective Transform\n",
    "This section calculates the Perspective Transform (M) that can be applied to any image later"
   ]
  },
  {
   "cell_type": "code",
   "execution_count": 71,
   "metadata": {
    "collapsed": false,
    "deletable": true,
    "editable": true
   },
   "outputs": [],
   "source": [
    "### Compute Perspective Transform (M) and Inverse Transform (Minv)\n",
    "\n",
    "\"\"\" This function calculates the Perspective Transform (M) that can be applied to any images later \"\"\"\n",
    "\n",
    "def compute_perspective():\n",
    "    \n",
    "    global terrain_type\n",
    "    \n",
    "    if terrain_type == 'h':\n",
    "        reference_image = 'test_images/h1.png'\n",
    "    elif terrain_type == 'c':\n",
    "        reference_image = 'test_images/c1.png'\n",
    "    else:\n",
    "        reference_image = 'test_images/straight_lines1.jpg'\n",
    "\n",
    "    # Read in an image with straight lanes\n",
    "    img = cv2.imread(reference_image)\n",
    "    img = cv2.cvtColor(img, cv2.COLOR_BGR2RGB)\n",
    "\n",
    "    #Convert to gray scale\n",
    "    gray = grayscale(img)\n",
    "\n",
    "    # Undistorting using mtx and dist from camera caliberation\n",
    "    dst = undistort(img)\n",
    "   \n",
    "    #Set source and destination image co-ordinates\n",
    "    xoffset = 400 # offset for dst points\n",
    "    yoffset = 10 # offset for dst points\n",
    "\n",
    "    #Define 4 source points src = np.float32([[,],[,],[,],[,]]) from the straight lane image\n",
    "    \n",
    "    if terrain_type == 'h':\n",
    "        #src = np.float32([[510,498],[703,498],[961,683],[267,683]]) # Good for harder challenge\n",
    "        src = np.float32([[513,483],[664,483],[961,683],[267,683]]) # Best for harder challenge\n",
    "    elif terrain_type == 'c':\n",
    "        src = np.float32([[629,483],[736,483],[1036,680],[353,680]]) # Best for challenge\n",
    "        #src = np.float32([[608,500],[741,500],[984,650],[397,650]]) # Good for challenge\n",
    "    else:\n",
    "        src = np.float32([[588,455],[694,455],[998,650],[305,650]]) # Best co-ordinates for normal video\n",
    "        #src = np.float32([[599,448],[682,448],[1010,658],[295,658]]) # second best for p1\n",
    "\n",
    "    # Define 4 destination points dst = np.float32([[,],[,],[,],[,]]) through trial and error\n",
    "    dst = np.float32([[xoffset, yoffset], [img_size[0]-xoffset, yoffset], \n",
    "                                     [img_size[0]-xoffset, img_size[1]-yoffset], \n",
    "                                     [xoffset, img_size[1]-yoffset]])\n",
    "    \n",
    "    # Calculate Perspective Transform\n",
    "    perspective_M = cv2.getPerspectiveTransform(src, dst)\n",
    "    \n",
    "    # Calculate Perspective Inverse Transform\n",
    "    perspective_Minv = cv2.getPerspectiveTransform(dst, src)\n",
    "    \n",
    "    # Warp the image using the perspective transform M\n",
    "    warped_image = cv2.warpPerspective(img, perspective_M, gray.shape[::-1], flags=cv2.INTER_LINEAR)\n",
    "\n",
    "    \"\"\"\n",
    "    # Visualize perspective transform\n",
    "    f, (ax1, ax2) = plt.subplots(1, 2, figsize=(24, 9))\n",
    "    f.tight_layout()\n",
    "    ax1.imshow(img)\n",
    "    ax1.set_title('Original Image', fontsize=20)\n",
    "    ax2.imshow(warped_image)\n",
    "    ax2.set_title('Undistorted and Warped Image', fontsize=20)\n",
    "    plt.subplots_adjust(left=0., right=1, top=0.9, bottom=0.)\n",
    "    plt.show()\n",
    "    \"\"\"\n",
    "    \n",
    "    warped_image = cv2.cvtColor(warped_image, cv2.COLOR_RGB2BGR)\n",
    "    cv2.imwrite('img_calib.jpg', warped_image)\n",
    "    \n",
    "    return perspective_M, perspective_Minv"
   ]
  },
  {
   "cell_type": "markdown",
   "metadata": {
    "deletable": true,
    "editable": true
   },
   "source": [
    "## Compute Lane Width\n",
    "\n",
    "Compute the lane width from a straight lane image in pixels which can be used as a reference for pixel to meters conversion.\n"
   ]
  },
  {
   "cell_type": "code",
   "execution_count": 72,
   "metadata": {
    "collapsed": false,
    "deletable": true,
    "editable": true
   },
   "outputs": [],
   "source": [
    "### Determine the lane width using a clean image (straight line image).\n",
    "### This image will be used for calculating the pixel to meter conversion for x axis\n",
    "\n",
    "def compute_lane_width():\n",
    "\n",
    "    global terrain_type\n",
    "    \n",
    "    if terrain_type == 'h':\n",
    "        reference_image = 'test_images/h1.png'\n",
    "    elif terrain_type == 'c':\n",
    "        reference_image = 'test_images/c1.png'\n",
    "    else:\n",
    "        reference_image = 'test_images/straight_lines1.jpg'\n",
    "\n",
    "    # Read in a baseline image (straight lanes image)\n",
    "    img = cv2.imread(reference_image)\n",
    "    img = cv2.cvtColor(img, cv2.COLOR_BGR2RGB)\n",
    "\n",
    "    binary_warped = get_binary_warp(img)\n",
    "    showGrayImg(binary_warped)\n",
    "\n",
    "    # Take a histogram of the bottom quarter of the image\n",
    "    histogram = np.sum(binary_warped[binary_warped.shape[0]//4:,:], axis=0)\n",
    "    print(histogram.shape)\n",
    "#    plt.plot(histogram)\n",
    "#    plt.show()\n",
    "\n",
    "    # Find the peak of the left and right halves of the histogram\n",
    "    # These will be the starting point for the left and right lines\n",
    "    baseline_midpoint = np.int(histogram.shape[0]/2)\n",
    "    baseline_leftx_base = np.argmax(histogram[:baseline_midpoint])\n",
    "    baseline_rightx_base = np.argmax(histogram[baseline_midpoint:]) + baseline_midpoint\n",
    "    baseline_lane_width = baseline_rightx_base - baseline_leftx_base\n",
    "    print(\"Baseline mid, left, center = \", baseline_midpoint, baseline_leftx_base, baseline_rightx_base)\n",
    "    print(\"Baeline Lane width in pixels = \", baseline_lane_width)\n",
    "    \n",
    "    return baseline_lane_width"
   ]
  },
  {
   "cell_type": "markdown",
   "metadata": {
    "deletable": true,
    "editable": true
   },
   "source": [
    "## Explore input image characteristics\n",
    "Read a sample image to find out its shape and type"
   ]
  },
  {
   "cell_type": "code",
   "execution_count": 19,
   "metadata": {
    "collapsed": false,
    "deletable": true,
    "editable": true
   },
   "outputs": [
    {
     "name": "stdout",
     "output_type": "stream",
     "text": [
      "shape of image object =  (720, 1280, 3)\n",
      "type of image object =  <class 'numpy.ndarray'>\n"
     ]
    },
    {
     "data": {
      "image/png": "[encoded data removed]",
      "text/plain": [
       "<matplotlib.figure.Figure at 0x231ab48ca20>"
      ]
     },
     "metadata": {},
     "output_type": "display_data"
    }
   ],
   "source": [
    "image = cv2.imread(\"test_images\\\\straight_lines1.jpg\")\n",
    "image = cv2.cvtColor(image, cv2.COLOR_BGR2RGB)\n",
    "print(\"shape of image object = \", image.shape)\n",
    "print(\"type of image object = \", type(image))\n",
    "showImg(image)   "
   ]
  },
  {
   "cell_type": "markdown",
   "metadata": {
    "deletable": true,
    "editable": true
   },
   "source": [
    "## Validate pipeline on test images\n",
    "\n",
    "Use test images to validate the pipeline.\n"
   ]
  },
  {
   "cell_type": "code",
   "execution_count": 81,
   "metadata": {
    "collapsed": false,
    "deletable": true,
    "editable": true
   },
   "outputs": [
    {
     "name": "stdout",
     "output_type": "stream",
     "text": [
      "Chess board shape =  (1280, 720)\n",
      "Camera caliberated.  mtx =  [[  1.15396093e+03   0.00000000e+00   6.69705359e+02]\n",
      " [  0.00000000e+00   1.14802495e+03   3.85656232e+02]\n",
      " [  0.00000000e+00   0.00000000e+00   1.00000000e+00]]  dist =  [[ -2.41017968e-01  -5.30720497e-02  -1.15810318e-03  -1.28318543e-04\n",
      "    2.67124302e-02]]\n"
     ]
    },
    {
     "data": {
      "image/png": "[encoded data removed]",
      "text/plain": [
       "<matplotlib.figure.Figure at 0x231ac353828>"
      ]
     },
     "metadata": {},
     "output_type": "display_data"
    },
    {
     "name": "stdout",
     "output_type": "stream",
     "text": [
      "(1280,)\n",
      "Baseline mid, left, center =  640 400 878\n",
      "Baeline Lane width in pixels =  478\n",
      "Inside reset\n"
     ]
    },
    {
     "name": "stderr",
     "output_type": "stream",
     "text": [
      "C:\\Users\\ADMIN\\Miniconda3\\envs\\carnd-term1\\lib\\site-packages\\ipykernel\\__main__.py:11: VisibleDeprecationWarning: using a non-integer number instead of an integer will result in an error in the future\n"
     ]
    },
    {
     "data": {
      "image/png": "[encoded data removed]",
      "text/plain": [
       "<matplotlib.figure.Figure at 0x231ac368ba8>"
      ]
     },
     "metadata": {},
     "output_type": "display_data"
    },
    {
     "data": {
      "image/png": "[encoded data removed]",
      "text/plain": [
       "<matplotlib.figure.Figure at 0x231ac368898>"
      ]
     },
     "metadata": {},
     "output_type": "display_data"
    },
    {
     "name": "stdout",
     "output_type": "stream",
     "text": [
      "Pair of lines detected =  1\n"
     ]
    }
   ],
   "source": [
    "reset_lanes = True\n",
    "detected_lines = []\n",
    "# use n for normal, c for challenge and h for harder\n",
    "terrain_type = 'n'\n",
    "\n",
    "# Caliberate Camera\n",
    "mtx, dist = caliberate_camera()\n",
    "\n",
    "# Get perspective\n",
    "perspective_M, perspective_Minv = compute_perspective()\n",
    "\n",
    "# Get baseline lane width\n",
    "baseline_lane_width = compute_lane_width()\n",
    "\n",
    "images = glob.glob('test_images/test1*')\n",
    "for idx, fname in enumerate(images):\n",
    "    image = cv2.imread(fname)\n",
    "    image = cv2.cvtColor(image, cv2.COLOR_BGR2RGB)\n",
    "    marked_img = lane_marker_pipeline(image)\n",
    "    showImg(marked_img)\n",
    "    combined_imgs = img_collage(marked_img)\n",
    "    showImg(combined_imgs)\n",
    "    combined_imgs = cv2.cvtColor(combined_imgs, cv2.COLOR_RGB2BGR)\n",
    "    cv2.imwrite('text_test.jpg',combined_imgs)\n",
    "    \n",
    "print(\"Pair of lanes detected = \", len(detected_lines))\n",
    "    "
   ]
  },
  {
   "cell_type": "markdown",
   "metadata": {
    "deletable": true,
    "editable": true
   },
   "source": [
    "## Test on Videos\n",
    "\n",
    "You know what's cooler than drawing lanes over images? Drawing lanes over video!\n",
    "\n"
   ]
  },
  {
   "cell_type": "code",
   "execution_count": 83,
   "metadata": {
    "collapsed": true,
    "deletable": true,
    "editable": true
   },
   "outputs": [],
   "source": [
    "# Import everything needed to edit/save/watch video clips\n",
    "from moviepy.editor import VideoFileClip\n",
    "from IPython.display import HTML"
   ]
  },
  {
   "cell_type": "code",
   "execution_count": 84,
   "metadata": {
    "collapsed": true,
    "deletable": true,
    "editable": true
   },
   "outputs": [],
   "source": [
    "def process_image(image):\n",
    "    # NOTE: The output you return should be a color image (3 channel) for processing video below\n",
    "    # Calling pipeline that will return the final output (image where lines are drawn on lanes)\n",
    "        \n",
    "    result = lane_marker_pipeline(image)\n",
    "    result = img_collage(result)\n",
    "\n",
    "    return result"
   ]
  },
  {
   "cell_type": "markdown",
   "metadata": {
    "deletable": true,
    "editable": true
   },
   "source": [
    "Let's try the one with the solid white lane on the right first ..."
   ]
  },
  {
   "cell_type": "code",
   "execution_count": 85,
   "metadata": {
    "collapsed": false,
    "deletable": true,
    "editable": true
   },
   "outputs": [
    {
     "name": "stdout",
     "output_type": "stream",
     "text": [
      "Chess board shape =  (1280, 720)\n",
      "Camera caliberated.  mtx =  [[  1.15396093e+03   0.00000000e+00   6.69705359e+02]\n",
      " [  0.00000000e+00   1.14802495e+03   3.85656232e+02]\n",
      " [  0.00000000e+00   0.00000000e+00   1.00000000e+00]]  dist =  [[ -2.41017968e-01  -5.30720497e-02  -1.15810318e-03  -1.28318543e-04\n",
      "    2.67124302e-02]]\n"
     ]
    },
    {
     "data": {
      "image/png": "[encoded data removed]",
      "text/plain": [
       "<matplotlib.figure.Figure at 0x231ad337278>"
      ]
     },
     "metadata": {},
     "output_type": "display_data"
    },
    {
     "name": "stdout",
     "output_type": "stream",
     "text": [
      "(1280,)\n",
      "Baseline mid, left, center =  640 400 878\n",
      "Baeline Lane width in pixels =  478\n",
      "Inside reset\n",
      "[MoviePy] >>>> Building video project_video_output.mp4\n",
      "[MoviePy] Writing video project_video_output.mp4\n"
     ]
    },
    {
     "name": "stderr",
     "output_type": "stream",
     "text": [
      "  1%|█▎                                                                                                                                                                                                    | 8/1261 [00:02<07:25,  2.81it/s]"
     ]
    },
    {
     "name": "stdout",
     "output_type": "stream",
     "text": [
      "@ 9  > Continuity check failed - right curve variation high :  1346.48871816 5984.90810247\n"
     ]
    },
    {
     "name": "stderr",
     "output_type": "stream",
     "text": [
      "\r",
      "  1%|█▍                                                                                                                                                                                                    | 9/1261 [00:03<07:48,  2.68it/s]"
     ]
    },
    {
     "name": "stdout",
     "output_type": "stream",
     "text": [
      "@ 10  > Continuity check failed - right curve variation high :  580.616242498 5984.90810247\n"
     ]
    },
    {
     "name": "stderr",
     "output_type": "stream",
     "text": [
      "\r",
      "  1%|█▌                                                                                                                                                                                                   | 10/1261 [00:03<07:58,  2.62it/s]"
     ]
    },
    {
     "name": "stdout",
     "output_type": "stream",
     "text": [
      "@ 11  > Continuity check failed - right curve variation high :  346.983448037 5984.90810247\n"
     ]
    },
    {
     "name": "stderr",
     "output_type": "stream",
     "text": [
      "\r",
      "  1%|█▋                                                                                                                                                                                                   | 11/1261 [00:04<08:08,  2.56it/s]"
     ]
    },
    {
     "name": "stdout",
     "output_type": "stream",
     "text": [
      "@ 12  > Continuity check failed - right curve variation high :  378.229522029 5984.90810247\n"
     ]
    },
    {
     "name": "stderr",
     "output_type": "stream",
     "text": [
      "\r",
      "  1%|█▊                                                                                                                                                                                                   | 12/1261 [00:04<08:14,  2.53it/s]"
     ]
    },
    {
     "name": "stdout",
     "output_type": "stream",
     "text": [
      "@ 13  > Continuity check failed - right curve variation high :  369.084478146 5984.90810247\n"
     ]
    },
    {
     "name": "stderr",
     "output_type": "stream",
     "text": [
      "\r",
      "  1%|██                                                                                                                                                                                                   | 13/1261 [00:04<08:24,  2.47it/s]"
     ]
    },
    {
     "name": "stdout",
     "output_type": "stream",
     "text": [
      "@ 14  > Continuity check failed - right curve variation high :  498.533573582 5984.90810247\n"
     ]
    },
    {
     "name": "stderr",
     "output_type": "stream",
     "text": [
      "\r",
      "  1%|██▏                                                                                                                                                                                                  | 14/1261 [00:05<08:32,  2.43it/s]"
     ]
    },
    {
     "name": "stdout",
     "output_type": "stream",
     "text": [
      "Inside reset\n"
     ]
    },
    {
     "name": "stderr",
     "output_type": "stream",
     "text": [
      "  2%|███▌                                                                                                                                                                                                 | 23/1261 [00:08<07:55,  2.60it/s]"
     ]
    },
    {
     "name": "stdout",
     "output_type": "stream",
     "text": [
      "@ 24  > Continuity check failed - right curve variation high :  388.635778207 1674.15762253\n"
     ]
    },
    {
     "name": "stderr",
     "output_type": "stream",
     "text": [
      "\r",
      "  2%|███▋                                                                                                                                                                                                 | 24/1261 [00:09<07:58,  2.59it/s]"
     ]
    },
    {
     "name": "stdout",
     "output_type": "stream",
     "text": [
      "@ 25  > Continuity check failed - right curve variation high :  299.684978984 1674.15762253\n"
     ]
    },
    {
     "name": "stderr",
     "output_type": "stream",
     "text": [
      "\r",
      "  2%|███▉                                                                                                                                                                                                 | 25/1261 [00:09<08:05,  2.54it/s]"
     ]
    },
    {
     "name": "stdout",
     "output_type": "stream",
     "text": [
      "@ 26  > Continuity check failed - right curve variation high :  341.909165057 1674.15762253\n"
     ]
    },
    {
     "name": "stderr",
     "output_type": "stream",
     "text": [
      "\r",
      "  2%|████                                                                                                                                                                                                 | 26/1261 [00:09<08:11,  2.51it/s]"
     ]
    },
    {
     "name": "stdout",
     "output_type": "stream",
     "text": [
      "@ 27  > Continuity check failed - right curve variation high :  380.054717176 1674.15762253\n"
     ]
    },
    {
     "name": "stderr",
     "output_type": "stream",
     "text": [
      "\r",
      "  2%|████▏                                                                                                                                                                                                | 27/1261 [00:10<08:18,  2.48it/s]"
     ]
    },
    {
     "name": "stdout",
     "output_type": "stream",
     "text": [
      "@ 28  > Continuity check failed - right curve variation high :  415.337620531 1674.15762253\n"
     ]
    },
    {
     "name": "stderr",
     "output_type": "stream",
     "text": [
      " 24%|███████████████████████████████████████████████▍                                                                                                                                                    | 305/1261 [01:54<05:35,  2.85it/s]"
     ]
    },
    {
     "name": "stdout",
     "output_type": "stream",
     "text": [
      "@ 306  > Continuity check failed - right curve variation high :  677.035785138 3044.53535074\n"
     ]
    },
    {
     "name": "stderr",
     "output_type": "stream",
     "text": [
      " 24%|███████████████████████████████████████████████▊                                                                                                                                                    | 308/1261 [01:55<05:40,  2.80it/s]"
     ]
    },
    {
     "name": "stdout",
     "output_type": "stream",
     "text": [
      "@ 309  > curve check failure :  3749.69573543 368492.438245\n"
     ]
    },
    {
     "name": "stderr",
     "output_type": "stream",
     "text": [
      " 25%|████████████████████████████████████████████████▍                                                                                                                                                   | 312/1261 [01:57<05:37,  2.81it/s]"
     ]
    },
    {
     "name": "stdout",
     "output_type": "stream",
     "text": [
      "@ 313  > Continuity check failed - right curve variation high :  990.799113664 4340.8548897\n"
     ]
    },
    {
     "name": "stderr",
     "output_type": "stream",
     "text": [
      "\r",
      " 25%|████████████████████████████████████████████████▋                                                                                                                                                   | 313/1261 [01:57<05:38,  2.80it/s]"
     ]
    },
    {
     "name": "stdout",
     "output_type": "stream",
     "text": [
      "@ 314  > Continuity check failed - right curve variation high :  940.492830648 4340.8548897\n"
     ]
    },
    {
     "name": "stderr",
     "output_type": "stream",
     "text": [
      "\r",
      " 25%|████████████████████████████████████████████████▊                                                                                                                                                   | 314/1261 [01:57<05:35,  2.82it/s]"
     ]
    },
    {
     "name": "stdout",
     "output_type": "stream",
     "text": [
      "@ 315  > curve check failure :  47960.7528408 873.398891382\n"
     ]
    },
    {
     "name": "stderr",
     "output_type": "stream",
     "text": [
      "\r",
      " 25%|████████████████████████████████████████████████▉                                                                                                                                                   | 315/1261 [01:58<05:45,  2.74it/s]"
     ]
    },
    {
     "name": "stdout",
     "output_type": "stream",
     "text": [
      "@ 316  > curve check failure :  27566.8345319 672.444923485\n"
     ]
    },
    {
     "name": "stderr",
     "output_type": "stream",
     "text": [
      "\r",
      " 25%|█████████████████████████████████████████████████                                                                                                                                                   | 316/1261 [01:58<05:46,  2.73it/s]"
     ]
    },
    {
     "name": "stdout",
     "output_type": "stream",
     "text": [
      "@ 317  > curve check failure :  24917.9149235 427.392990724\n"
     ]
    },
    {
     "name": "stderr",
     "output_type": "stream",
     "text": [
      "\r",
      " 25%|█████████████████████████████████████████████████▎                                                                                                                                                  | 317/1261 [01:58<05:45,  2.74it/s]"
     ]
    },
    {
     "name": "stdout",
     "output_type": "stream",
     "text": [
      "@ 318  > curve check failure :  21419.0705693 1401.43436979\n"
     ]
    },
    {
     "name": "stderr",
     "output_type": "stream",
     "text": [
      "\r",
      " 25%|█████████████████████████████████████████████████▍                                                                                                                                                  | 318/1261 [01:59<05:44,  2.74it/s]"
     ]
    },
    {
     "name": "stdout",
     "output_type": "stream",
     "text": [
      "Inside reset\n"
     ]
    },
    {
     "name": "stderr",
     "output_type": "stream",
     "text": [
      "\r",
      " 25%|█████████████████████████████████████████████████▌                                                                                                                                                  | 319/1261 [01:59<05:41,  2.76it/s]"
     ]
    },
    {
     "name": "stdout",
     "output_type": "stream",
     "text": [
      "@ 320  > curve check failure :  10130.9861877 34787.5058077\n"
     ]
    },
    {
     "name": "stderr",
     "output_type": "stream",
     "text": [
      "\r",
      " 25%|█████████████████████████████████████████████████▋                                                                                                                                                  | 320/1261 [02:00<05:45,  2.73it/s]"
     ]
    },
    {
     "name": "stdout",
     "output_type": "stream",
     "text": [
      "@ 321  > curve check failure :  8045.31221108 40323.6309541\n"
     ]
    },
    {
     "name": "stderr",
     "output_type": "stream",
     "text": [
      " 26%|██████████████████████████████████████████████████                                                                                                                                                  | 322/1261 [02:00<05:38,  2.77it/s]"
     ]
    },
    {
     "name": "stdout",
     "output_type": "stream",
     "text": [
      "@ 323  > curve check failure :  20923.0669001 4099.54136366\n"
     ]
    },
    {
     "name": "stderr",
     "output_type": "stream",
     "text": [
      "\r",
      " 26%|██████████████████████████████████████████████████▏                                                                                                                                                 | 323/1261 [02:01<05:38,  2.77it/s]"
     ]
    },
    {
     "name": "stdout",
     "output_type": "stream",
     "text": [
      "@ 324  > curve check failure :  27320.202763 3639.33903585\n"
     ]
    },
    {
     "name": "stderr",
     "output_type": "stream",
     "text": [
      " 26%|██████████████████████████████████████████████████▋                                                                                                                                                 | 326/1261 [02:02<05:32,  2.81it/s]"
     ]
    },
    {
     "name": "stdout",
     "output_type": "stream",
     "text": [
      "@ 327  > left and right curves similarity failure :  13684.2360071 1013.10428755\n"
     ]
    },
    {
     "name": "stderr",
     "output_type": "stream",
     "text": [
      " 26%|██████████████████████████████████████████████████▉                                                                                                                                                 | 328/1261 [02:02<05:30,  2.82it/s]"
     ]
    },
    {
     "name": "stdout",
     "output_type": "stream",
     "text": [
      "@ 329  > left and right curves similarity failure :  16333.2470613 784.023322416\n"
     ]
    },
    {
     "name": "stderr",
     "output_type": "stream",
     "text": [
      " 26%|███████████████████████████████████████████████████▌                                                                                                                                                | 332/1261 [02:04<05:32,  2.79it/s]"
     ]
    },
    {
     "name": "stdout",
     "output_type": "stream",
     "text": [
      "@ 333  > Continuity check failed - right curve variation high :  1258.00045683 13061.1669878\n"
     ]
    },
    {
     "name": "stderr",
     "output_type": "stream",
     "text": [
      "\r",
      " 26%|███████████████████████████████████████████████████▊                                                                                                                                                | 333/1261 [02:04<05:33,  2.79it/s]"
     ]
    },
    {
     "name": "stdout",
     "output_type": "stream",
     "text": [
      "@ 334  > left and right curves similarity failure :  12589.382036 1372.24407708\n"
     ]
    },
    {
     "name": "stderr",
     "output_type": "stream",
     "text": [
      "\r",
      " 26%|███████████████████████████████████████████████████▉                                                                                                                                                | 334/1261 [02:05<05:35,  2.77it/s]"
     ]
    },
    {
     "name": "stdout",
     "output_type": "stream",
     "text": [
      "@ 335  > Continuity check failed - right curve variation high :  1648.38945322 13061.1669878\n"
     ]
    },
    {
     "name": "stderr",
     "output_type": "stream",
     "text": [
      "\r",
      " 27%|████████████████████████████████████████████████████                                                                                                                                                | 335/1261 [02:05<05:35,  2.76it/s]"
     ]
    },
    {
     "name": "stdout",
     "output_type": "stream",
     "text": [
      "@ 336  > left and right curves similarity failure :  17682.857589 1783.98973274\n"
     ]
    },
    {
     "name": "stderr",
     "output_type": "stream",
     "text": [
      "\r",
      " 27%|████████████████████████████████████████████████████▏                                                                                                                                               | 336/1261 [02:05<05:32,  2.79it/s]"
     ]
    },
    {
     "name": "stdout",
     "output_type": "stream",
     "text": [
      "@ 337  > Continuity check failed - right curve variation high :  1644.30911531 13061.1669878\n"
     ]
    },
    {
     "name": "stderr",
     "output_type": "stream",
     "text": [
      "\r",
      " 27%|████████████████████████████████████████████████████▍                                                                                                                                               | 337/1261 [02:06<05:36,  2.74it/s]"
     ]
    },
    {
     "name": "stdout",
     "output_type": "stream",
     "text": [
      "@ 338  > Continuity check failed - right curve variation high :  2438.13293138 13061.1669878\n"
     ]
    },
    {
     "name": "stderr",
     "output_type": "stream",
     "text": [
      "\r",
      " 27%|████████████████████████████████████████████████████▌                                                                                                                                               | 338/1261 [02:06<05:37,  2.74it/s]"
     ]
    },
    {
     "name": "stdout",
     "output_type": "stream",
     "text": [
      "Inside reset\n"
     ]
    },
    {
     "name": "stderr",
     "output_type": "stream",
     "text": [
      " 27%|█████████████████████████████████████████████████████                                                                                                                                               | 341/1261 [02:07<05:28,  2.80it/s]"
     ]
    },
    {
     "name": "stdout",
     "output_type": "stream",
     "text": [
      "@ 342  > left and right curves similarity failure :  17278.6232978 3320.94314002\n"
     ]
    },
    {
     "name": "stderr",
     "output_type": "stream",
     "text": [
      "\r",
      " 27%|█████████████████████████████████████████████████████▏                                                                                                                                              | 342/1261 [02:07<05:34,  2.75it/s]"
     ]
    },
    {
     "name": "stdout",
     "output_type": "stream",
     "text": [
      "@ 343  > curve check failure :  22703.5812562 2579.04943832\n"
     ]
    },
    {
     "name": "stderr",
     "output_type": "stream",
     "text": [
      "\r",
      " 27%|█████████████████████████████████████████████████████▎                                                                                                                                              | 343/1261 [02:08<05:33,  2.75it/s]"
     ]
    },
    {
     "name": "stdout",
     "output_type": "stream",
     "text": [
      "@ 344  > curve check failure :  33117.3742251 11454.321144\n"
     ]
    },
    {
     "name": "stderr",
     "output_type": "stream",
     "text": [
      "\r",
      " 27%|█████████████████████████████████████████████████████▍                                                                                                                                              | 344/1261 [02:08<05:32,  2.76it/s]"
     ]
    },
    {
     "name": "stdout",
     "output_type": "stream",
     "text": [
      "@ 345  > curve check failure :  30234.3509036 15886.076037\n"
     ]
    },
    {
     "name": "stderr",
     "output_type": "stream",
     "text": [
      "\r",
      " 27%|█████████████████████████████████████████████████████▌                                                                                                                                              | 345/1261 [02:09<05:28,  2.79it/s]"
     ]
    },
    {
     "name": "stdout",
     "output_type": "stream",
     "text": [
      "@ 346  > curve check failure :  25340.3086363 67121.4674292\n"
     ]
    },
    {
     "name": "stderr",
     "output_type": "stream",
     "text": [
      " 28%|███████████████████████████████████████████████████████▎                                                                                                                                            | 356/1261 [02:12<05:25,  2.78it/s]"
     ]
    },
    {
     "name": "stdout",
     "output_type": "stream",
     "text": [
      "@ 357  > left and right curves similarity failure :  15376.2625571 3789.88033511\n"
     ]
    },
    {
     "name": "stderr",
     "output_type": "stream",
     "text": [
      "\r",
      " 28%|███████████████████████████████████████████████████████▍                                                                                                                                            | 357/1261 [02:13<05:24,  2.79it/s]"
     ]
    },
    {
     "name": "stdout",
     "output_type": "stream",
     "text": [
      "@ 358  > curve check failure :  34940.0927603 13671.8515791\n"
     ]
    },
    {
     "name": "stderr",
     "output_type": "stream",
     "text": [
      " 29%|███████████████████████████████████████████████████████▉                                                                                                                                            | 360/1261 [02:14<05:19,  2.82it/s]"
     ]
    },
    {
     "name": "stdout",
     "output_type": "stream",
     "text": [
      "@ 361  > curve check failure :  2237.96127555 455579.784106\n"
     ]
    },
    {
     "name": "stderr",
     "output_type": "stream",
     "text": [
      "\r",
      " 29%|████████████████████████████████████████████████████████                                                                                                                                            | 361/1261 [02:14<05:21,  2.80it/s]"
     ]
    },
    {
     "name": "stdout",
     "output_type": "stream",
     "text": [
      "@ 362  > Continuity check failed - right curve variation high :  1670.53255529 6771.65495255\n"
     ]
    },
    {
     "name": "stderr",
     "output_type": "stream",
     "text": [
      "\r",
      " 29%|████████████████████████████████████████████████████████▎                                                                                                                                           | 362/1261 [02:15<05:24,  2.77it/s]"
     ]
    },
    {
     "name": "stdout",
     "output_type": "stream",
     "text": [
      "@ 363  > Continuity check failed - right curve variation high :  1238.02570108 6771.65495255\n"
     ]
    },
    {
     "name": "stderr",
     "output_type": "stream",
     "text": [
      "\r",
      " 29%|████████████████████████████████████████████████████████▍                                                                                                                                           | 363/1261 [02:15<05:25,  2.76it/s]"
     ]
    },
    {
     "name": "stdout",
     "output_type": "stream",
     "text": [
      "@ 364  > Continuity check failed - right curve variation high :  976.652017815 6771.65495255\n"
     ]
    },
    {
     "name": "stderr",
     "output_type": "stream",
     "text": [
      "\r",
      " 29%|████████████████████████████████████████████████████████▌                                                                                                                                           | 364/1261 [02:15<05:29,  2.73it/s]"
     ]
    },
    {
     "name": "stdout",
     "output_type": "stream",
     "text": [
      "@ 365  > Continuity check failed - right curve variation high :  784.699420371 6771.65495255\n"
     ]
    },
    {
     "name": "stderr",
     "output_type": "stream",
     "text": [
      "\r",
      " 29%|████████████████████████████████████████████████████████▋                                                                                                                                           | 365/1261 [02:16<05:33,  2.69it/s]"
     ]
    },
    {
     "name": "stdout",
     "output_type": "stream",
     "text": [
      "@ 366  > Continuity check failed - right curve variation high :  980.084522909 6771.65495255\n"
     ]
    },
    {
     "name": "stderr",
     "output_type": "stream",
     "text": [
      "\r",
      " 29%|████████████████████████████████████████████████████████▉                                                                                                                                           | 366/1261 [02:16<05:29,  2.71it/s]"
     ]
    },
    {
     "name": "stdout",
     "output_type": "stream",
     "text": [
      "Inside reset\n"
     ]
    },
    {
     "name": "stderr",
     "output_type": "stream",
     "text": [
      " 30%|██████████████████████████████████████████████████████████▎                                                                                                                                         | 375/1261 [02:19<05:08,  2.87it/s]"
     ]
    },
    {
     "name": "stdout",
     "output_type": "stream",
     "text": [
      "@ 376  > left and right curves similarity failure :  11321.3072881 1030.02908703\n"
     ]
    },
    {
     "name": "stderr",
     "output_type": "stream",
     "text": [
      "\r",
      " 30%|██████████████████████████████████████████████████████████▍                                                                                                                                         | 376/1261 [02:20<05:13,  2.82it/s]"
     ]
    },
    {
     "name": "stdout",
     "output_type": "stream",
     "text": [
      "@ 377  > left and right curves similarity failure :  13402.1155443 833.209294545\n"
     ]
    },
    {
     "name": "stderr",
     "output_type": "stream",
     "text": [
      " 32%|██████████████████████████████████████████████████████████████▏                                                                                                                                     | 400/1261 [02:28<05:02,  2.85it/s]"
     ]
    },
    {
     "name": "stdout",
     "output_type": "stream",
     "text": [
      "@ 401  > curve check failure :  22883.9848437 1438.24802997\n"
     ]
    },
    {
     "name": "stderr",
     "output_type": "stream",
     "text": [
      "\r",
      " 32%|██████████████████████████████████████████████████████████████▎                                                                                                                                     | 401/1261 [02:28<05:04,  2.82it/s]"
     ]
    },
    {
     "name": "stdout",
     "output_type": "stream",
     "text": [
      "@ 402  > curve check failure :  105248.72579 7154.68908745\n"
     ]
    },
    {
     "name": "stderr",
     "output_type": "stream",
     "text": [
      " 32%|███████████████████████████████████████████████████████████████▌                                                                                                                                    | 409/1261 [02:31<04:57,  2.86it/s]"
     ]
    },
    {
     "name": "stdout",
     "output_type": "stream",
     "text": [
      "@ 410  > left and right curves similarity failure :  19646.8433011 1644.04172669\n"
     ]
    },
    {
     "name": "stderr",
     "output_type": "stream",
     "text": [
      "\r",
      " 33%|███████████████████████████████████████████████████████████████▋                                                                                                                                    | 410/1261 [02:32<05:02,  2.81it/s]"
     ]
    },
    {
     "name": "stdout",
     "output_type": "stream",
     "text": [
      "@ 411  > left and right curves similarity failure :  18695.3317123 1232.52380284\n"
     ]
    },
    {
     "name": "stderr",
     "output_type": "stream",
     "text": [
      "\r",
      " 33%|███████████████████████████████████████████████████████████████▉                                                                                                                                    | 411/1261 [02:32<05:05,  2.79it/s]"
     ]
    },
    {
     "name": "stdout",
     "output_type": "stream",
     "text": [
      "@ 412  > curve check failure :  181628.213181 1190.08320229\n"
     ]
    },
    {
     "name": "stderr",
     "output_type": "stream",
     "text": [
      "\r",
      " 33%|████████████████████████████████████████████████████████████████                                                                                                                                    | 412/1261 [02:32<05:05,  2.78it/s]"
     ]
    },
    {
     "name": "stdout",
     "output_type": "stream",
     "text": [
      "@ 413  > left and right curves similarity failure :  16021.7274535 2914.22668524\n"
     ]
    },
    {
     "name": "stderr",
     "output_type": "stream",
     "text": [
      "\r",
      " 33%|████████████████████████████████████████████████████████████████▏                                                                                                                                   | 413/1261 [02:33<05:04,  2.79it/s]"
     ]
    },
    {
     "name": "stdout",
     "output_type": "stream",
     "text": [
      "@ 414  > Continuity check failed - right curve variation high :  1979.3724604 9018.32339974\n"
     ]
    },
    {
     "name": "stderr",
     "output_type": "stream",
     "text": [
      "\r",
      " 33%|████████████████████████████████████████████████████████████████▎                                                                                                                                   | 414/1261 [02:33<05:03,  2.79it/s]"
     ]
    },
    {
     "name": "stdout",
     "output_type": "stream",
     "text": [
      "@ 415  > Continuity check failed - right curve variation high :  1767.99423349 9018.32339974\n"
     ]
    },
    {
     "name": "stderr",
     "output_type": "stream",
     "text": [
      "\r",
      " 33%|████████████████████████████████████████████████████████████████▌                                                                                                                                   | 415/1261 [02:33<05:03,  2.79it/s]"
     ]
    },
    {
     "name": "stdout",
     "output_type": "stream",
     "text": [
      "Inside reset\n"
     ]
    },
    {
     "name": "stderr",
     "output_type": "stream",
     "text": [
      " 34%|██████████████████████████████████████████████████████████████████▋                                                                                                                                 | 429/1261 [02:38<04:52,  2.85it/s]"
     ]
    },
    {
     "name": "stdout",
     "output_type": "stream",
     "text": [
      "@ 430  > curve check failure :  123480.184311 1352.04904064\n"
     ]
    },
    {
     "name": "stderr",
     "output_type": "stream",
     "text": [
      "\r",
      " 34%|██████████████████████████████████████████████████████████████████▊                                                                                                                                 | 430/1261 [02:39<04:52,  2.85it/s]"
     ]
    },
    {
     "name": "stdout",
     "output_type": "stream",
     "text": [
      "@ 431  > left and right curves similarity failure :  15241.8950926 1721.52011823\n"
     ]
    },
    {
     "name": "stderr",
     "output_type": "stream",
     "text": [
      " 35%|███████████████████████████████████████████████████████████████████▊                                                                                                                                | 436/1261 [02:41<04:53,  2.81it/s]"
     ]
    },
    {
     "name": "stdout",
     "output_type": "stream",
     "text": [
      "@ 437  > left and right curves similarity failure :  3624.60947246 15798.3045511\n"
     ]
    },
    {
     "name": "stderr",
     "output_type": "stream",
     "text": [
      " 35%|████████████████████████████████████████████████████████████████████                                                                                                                                | 438/1261 [02:42<04:51,  2.83it/s]"
     ]
    },
    {
     "name": "stdout",
     "output_type": "stream",
     "text": [
      "@ 439  > Continuity check failed - right curve variation high :  789.999524672 4113.26657851\n"
     ]
    },
    {
     "name": "stderr",
     "output_type": "stream",
     "text": [
      " 35%|████████████████████████████████████████████████████████████████████▊                                                                                                                               | 443/1261 [02:43<04:49,  2.82it/s]"
     ]
    },
    {
     "name": "stdout",
     "output_type": "stream",
     "text": [
      "@ 444  > curve check failure :  2515.80814876 31914.2173422\n"
     ]
    },
    {
     "name": "stderr",
     "output_type": "stream",
     "text": [
      "\r",
      " 35%|█████████████████████████████████████████████████████████████████████                                                                                                                               | 444/1261 [02:44<04:52,  2.79it/s]"
     ]
    },
    {
     "name": "stdout",
     "output_type": "stream",
     "text": [
      "@ 445  > curve check failure :  2732.96930919 24849.7588715\n"
     ]
    },
    {
     "name": "stderr",
     "output_type": "stream",
     "text": [
      " 35%|█████████████████████████████████████████████████████████████████████▎                                                                                                                              | 446/1261 [02:45<04:51,  2.79it/s]"
     ]
    },
    {
     "name": "stdout",
     "output_type": "stream",
     "text": [
      "@ 447  > curve check failure :  3477.54003116 102750.488408\n"
     ]
    },
    {
     "name": "stderr",
     "output_type": "stream",
     "text": [
      " 36%|█████████████████████████████████████████████████████████████████████▋                                                                                                                              | 448/1261 [02:45<04:51,  2.79it/s]"
     ]
    },
    {
     "name": "stdout",
     "output_type": "stream",
     "text": [
      "@ 449  > Continuity check failed - right curve variation high :  896.192788141 8375.89816388\n"
     ]
    },
    {
     "name": "stderr",
     "output_type": "stream",
     "text": [
      "\r",
      " 36%|█████████████████████████████████████████████████████████████████████▊                                                                                                                              | 449/1261 [02:46<04:57,  2.73it/s]"
     ]
    },
    {
     "name": "stdout",
     "output_type": "stream",
     "text": [
      "@ 450  > Continuity check failed - right curve variation high :  743.612593532 8375.89816388\n"
     ]
    },
    {
     "name": "stderr",
     "output_type": "stream",
     "text": [
      "\r",
      " 36%|█████████████████████████████████████████████████████████████████████▉                                                                                                                              | 450/1261 [02:46<04:56,  2.74it/s]"
     ]
    },
    {
     "name": "stdout",
     "output_type": "stream",
     "text": [
      "@ 451  > Continuity check failed - right curve variation high :  643.296698569 8375.89816388\n"
     ]
    },
    {
     "name": "stderr",
     "output_type": "stream",
     "text": [
      "\r",
      " 36%|██████████████████████████████████████████████████████████████████████                                                                                                                              | 451/1261 [02:46<04:56,  2.73it/s]"
     ]
    },
    {
     "name": "stdout",
     "output_type": "stream",
     "text": [
      "@ 452  > Continuity check failed - right curve variation high :  796.137473488 8375.89816388\n"
     ]
    },
    {
     "name": "stderr",
     "output_type": "stream",
     "text": [
      "\r",
      " 36%|██████████████████████████████████████████████████████████████████████▎                                                                                                                             | 452/1261 [02:47<04:57,  2.72it/s]"
     ]
    },
    {
     "name": "stdout",
     "output_type": "stream",
     "text": [
      "@ 453  > Continuity check failed - right curve variation high :  1617.25791516 8375.89816388\n"
     ]
    },
    {
     "name": "stderr",
     "output_type": "stream",
     "text": [
      " 36%|██████████████████████████████████████████████████████████████████████▌                                                                                                                             | 454/1261 [02:47<04:52,  2.76it/s]"
     ]
    },
    {
     "name": "stdout",
     "output_type": "stream",
     "text": [
      "@ 455  > left and right curves similarity failure :  18039.8392473 1961.30387864\n"
     ]
    },
    {
     "name": "stderr",
     "output_type": "stream",
     "text": [
      "\r",
      " 36%|██████████████████████████████████████████████████████████████████████▋                                                                                                                             | 455/1261 [02:48<04:52,  2.76it/s]"
     ]
    },
    {
     "name": "stdout",
     "output_type": "stream",
     "text": [
      "@ 456  > Continuity check failed - right curve variation high :  1433.65311536 8435.61627671\n"
     ]
    },
    {
     "name": "stderr",
     "output_type": "stream",
     "text": [
      " 37%|███████████████████████████████████████████████████████████████████████▊                                                                                                                            | 462/1261 [02:50<04:41,  2.84it/s]"
     ]
    },
    {
     "name": "stdout",
     "output_type": "stream",
     "text": [
      "@ 463  > curve check failure :  1878.73685422 34305.8714893\n"
     ]
    },
    {
     "name": "stderr",
     "output_type": "stream",
     "text": [
      " 37%|████████████████████████████████████████████████████████████████████████▎                                                                                                                           | 465/1261 [02:51<04:39,  2.85it/s]"
     ]
    },
    {
     "name": "stdout",
     "output_type": "stream",
     "text": [
      "@ 466  > Continuity check failed - right curve variation high :  2378.98171982 9536.87753096\n"
     ]
    },
    {
     "name": "stderr",
     "output_type": "stream",
     "text": [
      "\r",
      " 37%|████████████████████████████████████████████████████████████████████████▍                                                                                                                           | 466/1261 [02:52<04:43,  2.81it/s]"
     ]
    },
    {
     "name": "stdout",
     "output_type": "stream",
     "text": [
      "@ 467  > Continuity check failed - right curve variation high :  1188.17410717 9536.87753096\n"
     ]
    },
    {
     "name": "stderr",
     "output_type": "stream",
     "text": [
      "\r",
      " 37%|████████████████████████████████████████████████████████████████████████▌                                                                                                                           | 467/1261 [02:52<04:44,  2.79it/s]"
     ]
    },
    {
     "name": "stdout",
     "output_type": "stream",
     "text": [
      "@ 468  > Continuity check failed - right curve variation high :  1103.11139978 9536.87753096\n"
     ]
    },
    {
     "name": "stderr",
     "output_type": "stream",
     "text": [
      "\r",
      " 37%|████████████████████████████████████████████████████████████████████████▋                                                                                                                           | 468/1261 [02:52<04:44,  2.79it/s]"
     ]
    },
    {
     "name": "stdout",
     "output_type": "stream",
     "text": [
      "@ 469  > Continuity check failed - right curve variation high :  984.817405916 9536.87753096\n"
     ]
    },
    {
     "name": "stderr",
     "output_type": "stream",
     "text": [
      "\r",
      " 37%|████████████████████████████████████████████████████████████████████████▉                                                                                                                           | 469/1261 [02:53<04:43,  2.80it/s]"
     ]
    },
    {
     "name": "stdout",
     "output_type": "stream",
     "text": [
      "@ 470  > Continuity check failed - right curve variation high :  984.61922253 9536.87753096\n"
     ]
    },
    {
     "name": "stderr",
     "output_type": "stream",
     "text": [
      "\r",
      " 37%|█████████████████████████████████████████████████████████████████████████                                                                                                                           | 470/1261 [02:53<04:45,  2.77it/s]"
     ]
    },
    {
     "name": "stdout",
     "output_type": "stream",
     "text": [
      "@ 471  > Continuity check failed - right curve variation high :  2049.3669693 9536.87753096\n"
     ]
    },
    {
     "name": "stderr",
     "output_type": "stream",
     "text": [
      "\r",
      " 37%|█████████████████████████████████████████████████████████████████████████▏                                                                                                                          | 471/1261 [02:54<04:46,  2.76it/s]"
     ]
    },
    {
     "name": "stdout",
     "output_type": "stream",
     "text": [
      "Inside reset\n"
     ]
    },
    {
     "name": "stderr",
     "output_type": "stream",
     "text": [
      " 38%|█████████████████████████████████████████████████████████████████████████▌                                                                                                                          | 473/1261 [02:54<04:44,  2.77it/s]"
     ]
    },
    {
     "name": "stdout",
     "output_type": "stream",
     "text": [
      "@ 474  > left and right curves similarity failure :  16215.6774448 1362.87239143\n"
     ]
    },
    {
     "name": "stderr",
     "output_type": "stream",
     "text": [
      "\r",
      " 38%|█████████████████████████████████████████████████████████████████████████▋                                                                                                                          | 474/1261 [02:55<04:44,  2.76it/s]"
     ]
    },
    {
     "name": "stdout",
     "output_type": "stream",
     "text": [
      "@ 475  > curve check failure :  42365.7882647 2075.79650752\n"
     ]
    },
    {
     "name": "stderr",
     "output_type": "stream",
     "text": [
      " 38%|██████████████████████████████████████████████████████████████████████████▌                                                                                                                         | 480/1261 [02:57<04:37,  2.81it/s]"
     ]
    },
    {
     "name": "stdout",
     "output_type": "stream",
     "text": [
      "@ 481  > left and right curves similarity failure :  3664.54232648 15198.9839203\n"
     ]
    },
    {
     "name": "stderr",
     "output_type": "stream",
     "text": [
      " 38%|███████████████████████████████████████████████████████████████████████████▏                                                                                                                        | 484/1261 [02:58<04:34,  2.83it/s]"
     ]
    },
    {
     "name": "stdout",
     "output_type": "stream",
     "text": [
      "@ 485  > curve check failure :  9055.54851402 23649.6650031\n"
     ]
    },
    {
     "name": "stderr",
     "output_type": "stream",
     "text": [
      " 39%|███████████████████████████████████████████████████████████████████████████▌                                                                                                                        | 486/1261 [02:59<04:34,  2.82it/s]"
     ]
    },
    {
     "name": "stdout",
     "output_type": "stream",
     "text": [
      "@ 487  > curve check failure :  33192.8944179 1969.10667684\n"
     ]
    },
    {
     "name": "stderr",
     "output_type": "stream",
     "text": [
      "\r",
      " 39%|███████████████████████████████████████████████████████████████████████████▋                                                                                                                        | 487/1261 [02:59<04:37,  2.79it/s]"
     ]
    },
    {
     "name": "stdout",
     "output_type": "stream",
     "text": [
      "@ 488  > curve check failure :  88739.0877746 897.863509116\n"
     ]
    },
    {
     "name": "stderr",
     "output_type": "stream",
     "text": [
      "\r",
      " 39%|███████████████████████████████████████████████████████████████████████████▊                                                                                                                        | 488/1261 [03:00<04:39,  2.77it/s]"
     ]
    },
    {
     "name": "stdout",
     "output_type": "stream",
     "text": [
      "@ 489  > left and right curves similarity failure :  12634.449089 1326.46222376\n"
     ]
    },
    {
     "name": "stderr",
     "output_type": "stream",
     "text": [
      "\r",
      " 39%|████████████████████████████████████████████████████████████████████████████                                                                                                                        | 489/1261 [03:00<04:37,  2.78it/s]"
     ]
    },
    {
     "name": "stdout",
     "output_type": "stream",
     "text": [
      "@ 490  > curve check failure :  27658.9036751 2213.97419935\n"
     ]
    },
    {
     "name": "stderr",
     "output_type": "stream",
     "text": [
      "\r",
      " 39%|████████████████████████████████████████████████████████████████████████████▏                                                                                                                       | 490/1261 [03:00<04:40,  2.75it/s]"
     ]
    },
    {
     "name": "stdout",
     "output_type": "stream",
     "text": [
      "@ 491  > curve check failure :  42265.4443026 5203.4761029\n"
     ]
    },
    {
     "name": "stderr",
     "output_type": "stream",
     "text": [
      "\r",
      " 39%|████████████████████████████████████████████████████████████████████████████▎                                                                                                                       | 491/1261 [03:01<04:37,  2.78it/s]"
     ]
    },
    {
     "name": "stdout",
     "output_type": "stream",
     "text": [
      "@ 492  > curve check failure :  16070.6445879 34214.8075895\n"
     ]
    },
    {
     "name": "stderr",
     "output_type": "stream",
     "text": [
      "\r",
      " 39%|████████████████████████████████████████████████████████████████████████████▍                                                                                                                       | 492/1261 [03:01<04:42,  2.72it/s]"
     ]
    },
    {
     "name": "stdout",
     "output_type": "stream",
     "text": [
      "Inside reset\n",
      "@ 493  > left and right curves similarity failure :  17069.2367223 2608.7326274\n"
     ]
    },
    {
     "name": "stderr",
     "output_type": "stream",
     "text": [
      "\r",
      " 39%|████████████████████████████████████████████████████████████████████████████▋                                                                                                                       | 493/1261 [03:01<04:46,  2.68it/s]"
     ]
    },
    {
     "name": "stdout",
     "output_type": "stream",
     "text": [
      "Inside reset\n",
      "@ 494  > curve check failure :  27281.3452084 2881.22972929\n"
     ]
    },
    {
     "name": "stderr",
     "output_type": "stream",
     "text": [
      "\r",
      " 39%|████████████████████████████████████████████████████████████████████████████▊                                                                                                                       | 494/1261 [03:02<04:48,  2.66it/s]"
     ]
    },
    {
     "name": "stdout",
     "output_type": "stream",
     "text": [
      "Inside reset\n",
      "@ 495  > curve check failure :  23789.7537214 1570.67274041\n"
     ]
    },
    {
     "name": "stderr",
     "output_type": "stream",
     "text": [
      "\r",
      " 39%|████████████████████████████████████████████████████████████████████████████▉                                                                                                                       | 495/1261 [03:02<04:48,  2.66it/s]"
     ]
    },
    {
     "name": "stdout",
     "output_type": "stream",
     "text": [
      "Inside reset\n"
     ]
    },
    {
     "name": "stderr",
     "output_type": "stream",
     "text": [
      "\r",
      " 39%|█████████████████████████████████████████████████████████████████████████████                                                                                                                       | 496/1261 [03:03<04:46,  2.67it/s]"
     ]
    },
    {
     "name": "stdout",
     "output_type": "stream",
     "text": [
      "@ 497  > curve check failure :  15253.3602205 25498.9886992\n"
     ]
    },
    {
     "name": "stderr",
     "output_type": "stream",
     "text": [
      "\r",
      " 39%|█████████████████████████████████████████████████████████████████████████████▏                                                                                                                      | 497/1261 [03:03<04:45,  2.68it/s]"
     ]
    },
    {
     "name": "stdout",
     "output_type": "stream",
     "text": [
      "@ 498  > curve check failure :  22380.8752898 1634.57148482\n"
     ]
    },
    {
     "name": "stderr",
     "output_type": "stream",
     "text": [
      "\r",
      " 39%|█████████████████████████████████████████████████████████████████████████████▍                                                                                                                      | 498/1261 [03:03<04:42,  2.70it/s]"
     ]
    },
    {
     "name": "stdout",
     "output_type": "stream",
     "text": [
      "@ 499  > curve check failure :  49265.6786657 2210.73921117\n"
     ]
    },
    {
     "name": "stderr",
     "output_type": "stream",
     "text": [
      " 40%|██████████████████████████████████████████████████████████████████████████████                                                                                                                      | 502/1261 [03:05<04:32,  2.79it/s]"
     ]
    },
    {
     "name": "stdout",
     "output_type": "stream",
     "text": [
      "@ 503  > left and right curves similarity failure :  12662.846191 1286.64955077\n"
     ]
    },
    {
     "name": "stderr",
     "output_type": "stream",
     "text": [
      "\r",
      " 40%|██████████████████████████████████████████████████████████████████████████████▏                                                                                                                     | 503/1261 [03:05<04:33,  2.77it/s]"
     ]
    },
    {
     "name": "stdout",
     "output_type": "stream",
     "text": [
      "@ 504  > left and right curves similarity failure :  16419.7890278 1039.5637906\n"
     ]
    },
    {
     "name": "stderr",
     "output_type": "stream",
     "text": [
      "\r",
      " 40%|██████████████████████████████████████████████████████████████████████████████▎                                                                                                                     | 504/1261 [03:05<04:33,  2.77it/s]"
     ]
    },
    {
     "name": "stdout",
     "output_type": "stream",
     "text": [
      "@ 505  > left and right curves similarity failure :  16211.8508195 6081.06001858\n"
     ]
    },
    {
     "name": "stderr",
     "output_type": "stream",
     "text": [
      "\r",
      " 40%|██████████████████████████████████████████████████████████████████████████████▍                                                                                                                     | 505/1261 [03:06<04:31,  2.78it/s]"
     ]
    },
    {
     "name": "stdout",
     "output_type": "stream",
     "text": [
      "@ 506  > left and right curves similarity failure :  18047.0162515 4037.27773554\n"
     ]
    },
    {
     "name": "stderr",
     "output_type": "stream",
     "text": [
      "\r",
      " 40%|██████████████████████████████████████████████████████████████████████████████▋                                                                                                                     | 506/1261 [03:06<04:37,  2.72it/s]"
     ]
    },
    {
     "name": "stdout",
     "output_type": "stream",
     "text": [
      "@ 507  > curve check failure :  30376.043812 1896.76075477\n"
     ]
    },
    {
     "name": "stderr",
     "output_type": "stream",
     "text": [
      "\r",
      " 40%|██████████████████████████████████████████████████████████████████████████████▊                                                                                                                     | 507/1261 [03:07<04:38,  2.71it/s]"
     ]
    },
    {
     "name": "stdout",
     "output_type": "stream",
     "text": [
      "@ 508  > Continuity check failed - right curve variation high :  815.60441945 4579.65938699\n"
     ]
    },
    {
     "name": "stderr",
     "output_type": "stream",
     "text": [
      "\r",
      " 40%|██████████████████████████████████████████████████████████████████████████████▉                                                                                                                     | 508/1261 [03:07<04:37,  2.71it/s]"
     ]
    },
    {
     "name": "stdout",
     "output_type": "stream",
     "text": [
      "Inside reset\n",
      "@ 509  > curve check failure :  141955.114278 470.427616544\n"
     ]
    },
    {
     "name": "stderr",
     "output_type": "stream",
     "text": [
      "\r",
      " 40%|███████████████████████████████████████████████████████████████████████████████                                                                                                                     | 509/1261 [03:07<04:40,  2.68it/s]"
     ]
    },
    {
     "name": "stdout",
     "output_type": "stream",
     "text": [
      "Inside reset\n",
      "@ 510  > curve check failure :  5612.46045834 58460.8323575\n"
     ]
    },
    {
     "name": "stderr",
     "output_type": "stream",
     "text": [
      "\r",
      " 40%|███████████████████████████████████████████████████████████████████████████████▎                                                                                                                    | 510/1261 [03:08<04:43,  2.65it/s]"
     ]
    },
    {
     "name": "stdout",
     "output_type": "stream",
     "text": [
      "Inside reset\n"
     ]
    },
    {
     "name": "stderr",
     "output_type": "stream",
     "text": [
      " 41%|███████████████████████████████████████████████████████████████████████████████▌                                                                                                                    | 512/1261 [03:08<04:36,  2.71it/s]"
     ]
    },
    {
     "name": "stdout",
     "output_type": "stream",
     "text": [
      "@ 513  > Continuity check failed - right curve variation high :  903.617802845 10336.1051471\n"
     ]
    },
    {
     "name": "stderr",
     "output_type": "stream",
     "text": [
      "\r",
      " 41%|███████████████████████████████████████████████████████████████████████████████▋                                                                                                                    | 513/1261 [03:09<04:36,  2.71it/s]"
     ]
    },
    {
     "name": "stdout",
     "output_type": "stream",
     "text": [
      "@ 514  > curve check failure :  22329.3184806 800.71752879\n"
     ]
    },
    {
     "name": "stderr",
     "output_type": "stream",
     "text": [
      "\r",
      " 41%|███████████████████████████████████████████████████████████████████████████████▉                                                                                                                    | 514/1261 [03:09<04:35,  2.71it/s]"
     ]
    },
    {
     "name": "stdout",
     "output_type": "stream",
     "text": [
      "@ 515  > curve check failure :  175427.864396 1138.29972774\n"
     ]
    },
    {
     "name": "stderr",
     "output_type": "stream",
     "text": [
      "\r",
      " 41%|████████████████████████████████████████████████████████████████████████████████                                                                                                                    | 515/1261 [03:10<04:33,  2.72it/s]"
     ]
    },
    {
     "name": "stdout",
     "output_type": "stream",
     "text": [
      "@ 516  > Continuity check failed - right curve variation high :  1232.52449937 10336.1051471\n"
     ]
    },
    {
     "name": "stderr",
     "output_type": "stream",
     "text": [
      "\r",
      " 41%|████████████████████████████████████████████████████████████████████████████████▏                                                                                                                   | 516/1261 [03:10<04:34,  2.72it/s]"
     ]
    },
    {
     "name": "stdout",
     "output_type": "stream",
     "text": [
      "@ 517  > Continuity check failed - right curve variation high :  1649.34745646 10336.1051471\n"
     ]
    },
    {
     "name": "stderr",
     "output_type": "stream",
     "text": [
      " 41%|████████████████████████████████████████████████████████████████████████████████▋                                                                                                                   | 519/1261 [03:11<04:29,  2.75it/s]"
     ]
    },
    {
     "name": "stdout",
     "output_type": "stream",
     "text": [
      "@ 520  > left and right curves similarity failure :  14954.5432449 1073.8175038\n"
     ]
    },
    {
     "name": "stderr",
     "output_type": "stream",
     "text": [
      "\r",
      " 41%|████████████████████████████████████████████████████████████████████████████████▊                                                                                                                   | 520/1261 [03:11<04:28,  2.76it/s]"
     ]
    },
    {
     "name": "stdout",
     "output_type": "stream",
     "text": [
      "@ 521  > Continuity check failed - right curve variation high :  724.448176409 3515.28098478\n"
     ]
    },
    {
     "name": "stderr",
     "output_type": "stream",
     "text": [
      " 42%|█████████████████████████████████████████████████████████████████████████████████▊                                                                                                                  | 526/1261 [03:14<04:26,  2.75it/s]"
     ]
    },
    {
     "name": "stdout",
     "output_type": "stream",
     "text": [
      "@ 527  > curve check failure :  257469.662117 663.787618375\n"
     ]
    },
    {
     "name": "stderr",
     "output_type": "stream",
     "text": [
      " 42%|███████████████████████████████████████████████████████████████████████████████████                                                                                                                 | 534/1261 [03:16<04:18,  2.81it/s]"
     ]
    },
    {
     "name": "stdout",
     "output_type": "stream",
     "text": [
      "@ 535  > lane width failure :  4.21262713684\n"
     ]
    },
    {
     "name": "stderr",
     "output_type": "stream",
     "text": [
      "\r",
      " 42%|███████████████████████████████████████████████████████████████████████████████████▏                                                                                                                | 535/1261 [03:17<04:31,  2.67it/s]"
     ]
    },
    {
     "name": "stdout",
     "output_type": "stream",
     "text": [
      "@ 536  > lane width failure :  4.21262713684\n"
     ]
    },
    {
     "name": "stderr",
     "output_type": "stream",
     "text": [
      "\r",
      " 43%|███████████████████████████████████████████████████████████████████████████████████▎                                                                                                                | 536/1261 [03:17<04:30,  2.68it/s]"
     ]
    },
    {
     "name": "stdout",
     "output_type": "stream",
     "text": [
      "@ 537  > lane width failure :  4.21262713684\n"
     ]
    },
    {
     "name": "stderr",
     "output_type": "stream",
     "text": [
      "\r",
      " 43%|███████████████████████████████████████████████████████████████████████████████████▍                                                                                                                | 537/1261 [03:18<04:31,  2.66it/s]"
     ]
    },
    {
     "name": "stdout",
     "output_type": "stream",
     "text": [
      "@ 538  > lane width failure :  4.21262713684\n"
     ]
    },
    {
     "name": "stderr",
     "output_type": "stream",
     "text": [
      "\r",
      " 43%|███████████████████████████████████████████████████████████████████████████████████▌                                                                                                                | 538/1261 [03:18<04:31,  2.67it/s]"
     ]
    },
    {
     "name": "stdout",
     "output_type": "stream",
     "text": [
      "@ 539  > lane width failure :  4.21262713684\n"
     ]
    },
    {
     "name": "stderr",
     "output_type": "stream",
     "text": [
      "\r",
      " 43%|███████████████████████████████████████████████████████████████████████████████████▊                                                                                                                | 539/1261 [03:18<04:31,  2.66it/s]"
     ]
    },
    {
     "name": "stdout",
     "output_type": "stream",
     "text": [
      "@ 540  > lane width failure :  4.21262713684\n"
     ]
    },
    {
     "name": "stderr",
     "output_type": "stream",
     "text": [
      "\r",
      " 43%|███████████████████████████████████████████████████████████████████████████████████▉                                                                                                                | 540/1261 [03:19<04:36,  2.60it/s]"
     ]
    },
    {
     "name": "stdout",
     "output_type": "stream",
     "text": [
      "Inside reset\n"
     ]
    },
    {
     "name": "stderr",
     "output_type": "stream",
     "text": [
      " 43%|████████████████████████████████████████████████████████████████████████████████████▏                                                                                                               | 542/1261 [03:20<04:45,  2.52it/s]"
     ]
    },
    {
     "name": "stdout",
     "output_type": "stream",
     "text": [
      "@ 543  > 1st order coefficient similarity failure :  0.0281436566843 -0.343866880709\n"
     ]
    },
    {
     "name": "stderr",
     "output_type": "stream",
     "text": [
      " 44%|██████████████████████████████████████████████████████████████████████████████████████                                                                                                              | 554/1261 [03:24<04:11,  2.81it/s]"
     ]
    },
    {
     "name": "stdout",
     "output_type": "stream",
     "text": [
      "@ 555  > Continuity check failed - right curve variation high :  402.419604546 2650.607648\n"
     ]
    },
    {
     "name": "stderr",
     "output_type": "stream",
     "text": [
      "\r",
      " 44%|██████████████████████████████████████████████████████████████████████████████████████▎                                                                                                             | 555/1261 [03:24<04:12,  2.80it/s]"
     ]
    },
    {
     "name": "stdout",
     "output_type": "stream",
     "text": [
      "@ 556  > Continuity check failed - right curve variation high :  417.868530813 2650.607648\n"
     ]
    },
    {
     "name": "stderr",
     "output_type": "stream",
     "text": [
      "\r",
      " 44%|██████████████████████████████████████████████████████████████████████████████████████▍                                                                                                             | 556/1261 [03:25<04:14,  2.77it/s]"
     ]
    },
    {
     "name": "stdout",
     "output_type": "stream",
     "text": [
      "@ 557  > left and right curves similarity failure :  13691.3856236 1308.57102316\n"
     ]
    },
    {
     "name": "stderr",
     "output_type": "stream",
     "text": [
      " 45%|███████████████████████████████████████████████████████████████████████████████████████▎                                                                                                            | 562/1261 [03:27<04:06,  2.83it/s]"
     ]
    },
    {
     "name": "stdout",
     "output_type": "stream",
     "text": [
      "@ 563  > curve check failure :  29591.296141 896.138754017\n"
     ]
    },
    {
     "name": "stderr",
     "output_type": "stream",
     "text": [
      "\r",
      " 45%|███████████████████████████████████████████████████████████████████████████████████████▌                                                                                                            | 563/1261 [03:27<04:07,  2.82it/s]"
     ]
    },
    {
     "name": "stdout",
     "output_type": "stream",
     "text": [
      "@ 564  > Continuity check failed - left curve variation high :  804.563798321 9203.28892437\n"
     ]
    },
    {
     "name": "stderr",
     "output_type": "stream",
     "text": [
      "\r",
      " 45%|███████████████████████████████████████████████████████████████████████████████████████▋                                                                                                            | 564/1261 [03:28<04:09,  2.79it/s]"
     ]
    },
    {
     "name": "stdout",
     "output_type": "stream",
     "text": [
      "@ 565  > left and right curves similarity failure :  215.515576757 17519.302334\n"
     ]
    },
    {
     "name": "stderr",
     "output_type": "stream",
     "text": [
      "\r",
      " 45%|███████████████████████████████████████████████████████████████████████████████████████▊                                                                                                            | 565/1261 [03:28<04:11,  2.76it/s]"
     ]
    },
    {
     "name": "stdout",
     "output_type": "stream",
     "text": [
      "@ 566  > 2nd order coefficient similarity failure :  -0.00082209274386 -1.27992014819e-05\n"
     ]
    },
    {
     "name": "stderr",
     "output_type": "stream",
     "text": [
      "\r",
      " 45%|███████████████████████████████████████████████████████████████████████████████████████▉                                                                                                            | 566/1261 [03:28<04:12,  2.76it/s]"
     ]
    },
    {
     "name": "stdout",
     "output_type": "stream",
     "text": [
      "@ 567  > 2nd order coefficient similarity failure :  -0.000876675999339 -2.39676806578e-05\n"
     ]
    },
    {
     "name": "stderr",
     "output_type": "stream",
     "text": [
      "\r",
      " 45%|████████████████████████████████████████████████████████████████████████████████████████▏                                                                                                           | 567/1261 [03:29<04:08,  2.79it/s]"
     ]
    },
    {
     "name": "stdout",
     "output_type": "stream",
     "text": [
      "@ 568  > 2nd order coefficient similarity failure :  -0.000823202170215 0.000190807380121\n"
     ]
    },
    {
     "name": "stderr",
     "output_type": "stream",
     "text": [
      "\r",
      " 45%|████████████████████████████████████████████████████████████████████████████████████████▎                                                                                                           | 568/1261 [03:29<04:17,  2.70it/s]"
     ]
    },
    {
     "name": "stdout",
     "output_type": "stream",
     "text": [
      "Inside reset\n"
     ]
    },
    {
     "name": "stderr",
     "output_type": "stream",
     "text": [
      " 45%|████████████████████████████████████████████████████████████████████████████████████████▌                                                                                                           | 570/1261 [03:30<04:16,  2.69it/s]"
     ]
    },
    {
     "name": "stdout",
     "output_type": "stream",
     "text": [
      "@ 571  > curve check failure :  62561.9439021 535.180763581\n"
     ]
    },
    {
     "name": "stderr",
     "output_type": "stream",
     "text": [
      " 45%|████████████████████████████████████████████████████████████████████████████████████████▉                                                                                                           | 572/1261 [03:31<04:20,  2.64it/s]"
     ]
    },
    {
     "name": "stdout",
     "output_type": "stream",
     "text": [
      "@ 573  > curve check failure :  176629.215023 803.037957589\n"
     ]
    },
    {
     "name": "stderr",
     "output_type": "stream",
     "text": [
      " 46%|█████████████████████████████████████████████████████████████████████████████████████████▉                                                                                                          | 579/1261 [03:33<04:13,  2.69it/s]"
     ]
    },
    {
     "name": "stdout",
     "output_type": "stream",
     "text": [
      "@ 580  > Continuity check failed - left curve variation high :  937.798036096 5025.76689983\n"
     ]
    },
    {
     "name": "stderr",
     "output_type": "stream",
     "text": [
      "\r",
      " 46%|██████████████████████████████████████████████████████████████████████████████████████████▏                                                                                                         | 580/1261 [03:34<04:24,  2.57it/s]"
     ]
    },
    {
     "name": "stdout",
     "output_type": "stream",
     "text": [
      "@ 581  > left and right curves similarity failure :  2899.53919825 16877.8716761\n"
     ]
    },
    {
     "name": "stderr",
     "output_type": "stream",
     "text": [
      "\r",
      " 46%|██████████████████████████████████████████████████████████████████████████████████████████▎                                                                                                         | 581/1261 [03:34<04:23,  2.58it/s]"
     ]
    },
    {
     "name": "stdout",
     "output_type": "stream",
     "text": [
      "@ 582  > left and right curves similarity failure :  15028.0023231 1739.71970553\n"
     ]
    },
    {
     "name": "stderr",
     "output_type": "stream",
     "text": [
      "\r",
      " 46%|██████████████████████████████████████████████████████████████████████████████████████████▍                                                                                                         | 582/1261 [03:34<04:21,  2.60it/s]"
     ]
    },
    {
     "name": "stdout",
     "output_type": "stream",
     "text": [
      "@ 583  > curve check failure :  412551.801247 833.811091388\n"
     ]
    },
    {
     "name": "stderr",
     "output_type": "stream",
     "text": [
      "\r",
      " 46%|██████████████████████████████████████████████████████████████████████████████████████████▌                                                                                                         | 583/1261 [03:35<04:25,  2.56it/s]"
     ]
    },
    {
     "name": "stdout",
     "output_type": "stream",
     "text": [
      "@ 584  > Continuity check failed - left curve variation high :  805.940345523 5025.76689983\n"
     ]
    },
    {
     "name": "stderr",
     "output_type": "stream",
     "text": [
      "\r",
      " 46%|██████████████████████████████████████████████████████████████████████████████████████████▊                                                                                                         | 584/1261 [03:35<04:21,  2.59it/s]"
     ]
    },
    {
     "name": "stdout",
     "output_type": "stream",
     "text": [
      "@ 585  > Continuity check failed - left curve variation high :  961.817163267 5025.76689983\n"
     ]
    },
    {
     "name": "stderr",
     "output_type": "stream",
     "text": [
      "\r",
      " 46%|██████████████████████████████████████████████████████████████████████████████████████████▉                                                                                                         | 585/1261 [03:35<04:18,  2.61it/s]"
     ]
    },
    {
     "name": "stdout",
     "output_type": "stream",
     "text": [
      "Inside reset\n"
     ]
    },
    {
     "name": "stderr",
     "output_type": "stream",
     "text": [
      " 47%|███████████████████████████████████████████████████████████████████████████████████████████▍                                                                                                        | 588/1261 [03:37<04:05,  2.74it/s]"
     ]
    },
    {
     "name": "stdout",
     "output_type": "stream",
     "text": [
      "@ 589  > 1st order coefficient similarity failure :  0.227468449383 -0.124839818214\n"
     ]
    },
    {
     "name": "stderr",
     "output_type": "stream",
     "text": [
      " 47%|████████████████████████████████████████████████████████████████████████████████████████████▏                                                                                                       | 593/1261 [03:38<03:57,  2.81it/s]"
     ]
    },
    {
     "name": "stdout",
     "output_type": "stream",
     "text": [
      "@ 594  > curve check failure :  736.117369584 20407.6714225\n"
     ]
    },
    {
     "name": "stderr",
     "output_type": "stream",
     "text": [
      " 47%|████████████████████████████████████████████████████████████████████████████████████████████▍                                                                                                       | 595/1261 [03:39<04:04,  2.72it/s]"
     ]
    },
    {
     "name": "stdout",
     "output_type": "stream",
     "text": [
      "@ 596  > curve check failure :  581.016623779 165107.192049\n"
     ]
    },
    {
     "name": "stderr",
     "output_type": "stream",
     "text": [
      " 48%|█████████████████████████████████████████████████████████████████████████████████████████████                                                                                                       | 599/1261 [03:41<04:01,  2.74it/s]"
     ]
    },
    {
     "name": "stdout",
     "output_type": "stream",
     "text": [
      "@ 600  > Continuity check failed - right curve variation high :  741.509835384 3745.97463351\n"
     ]
    },
    {
     "name": "stderr",
     "output_type": "stream",
     "text": [
      "\r",
      " 48%|█████████████████████████████████████████████████████████████████████████████████████████████▎                                                                                                      | 600/1261 [03:41<04:04,  2.70it/s]"
     ]
    },
    {
     "name": "stdout",
     "output_type": "stream",
     "text": [
      "@ 601  > Continuity check failed - right curve variation high :  640.957839152 3745.97463351\n"
     ]
    },
    {
     "name": "stderr",
     "output_type": "stream",
     "text": [
      "\r",
      " 48%|█████████████████████████████████████████████████████████████████████████████████████████████▍                                                                                                      | 601/1261 [03:41<04:06,  2.68it/s]"
     ]
    },
    {
     "name": "stdout",
     "output_type": "stream",
     "text": [
      "@ 602  > Continuity check failed - right curve variation high :  627.459928042 3745.97463351\n"
     ]
    },
    {
     "name": "stderr",
     "output_type": "stream",
     "text": [
      " 49%|████████████████████████████████████████████████████████████████████████████████████████████████                                                                                                    | 618/1261 [03:47<03:50,  2.79it/s]"
     ]
    },
    {
     "name": "stdout",
     "output_type": "stream",
     "text": [
      "@ 619  > Continuity check failed - right curve variation high :  812.243138374 7979.68524754\n"
     ]
    },
    {
     "name": "stderr",
     "output_type": "stream",
     "text": [
      "\r",
      " 49%|████████████████████████████████████████████████████████████████████████████████████████████████▏                                                                                                   | 619/1261 [03:48<03:52,  2.76it/s]"
     ]
    },
    {
     "name": "stdout",
     "output_type": "stream",
     "text": [
      "@ 620  > Continuity check failed - right curve variation high :  873.856100506 7979.68524754\n"
     ]
    },
    {
     "name": "stderr",
     "output_type": "stream",
     "text": [
      "\r",
      " 49%|████████████████████████████████████████████████████████████████████████████████████████████████▎                                                                                                   | 620/1261 [03:48<03:53,  2.74it/s]"
     ]
    },
    {
     "name": "stdout",
     "output_type": "stream",
     "text": [
      "@ 621  > Continuity check failed - right curve variation high :  552.490078442 7979.68524754\n"
     ]
    },
    {
     "name": "stderr",
     "output_type": "stream",
     "text": [
      "\r",
      " 49%|████████████████████████████████████████████████████████████████████████████████████████████████▌                                                                                                   | 621/1261 [03:49<04:00,  2.66it/s]"
     ]
    },
    {
     "name": "stdout",
     "output_type": "stream",
     "text": [
      "@ 622  > Continuity check failed - right curve variation high :  775.99107203 7979.68524754\n"
     ]
    },
    {
     "name": "stderr",
     "output_type": "stream",
     "text": [
      "\r",
      " 49%|████████████████████████████████████████████████████████████████████████████████████████████████▋                                                                                                   | 622/1261 [03:49<03:57,  2.69it/s]"
     ]
    },
    {
     "name": "stdout",
     "output_type": "stream",
     "text": [
      "@ 623  > Continuity check failed - right curve variation high :  648.267776076 7979.68524754\n"
     ]
    },
    {
     "name": "stderr",
     "output_type": "stream",
     "text": [
      "\r",
      " 49%|████████████████████████████████████████████████████████████████████████████████████████████████▊                                                                                                   | 623/1261 [03:49<03:57,  2.69it/s]"
     ]
    },
    {
     "name": "stdout",
     "output_type": "stream",
     "text": [
      "@ 624  > Continuity check failed - right curve variation high :  667.144006332 7979.68524754\n"
     ]
    },
    {
     "name": "stderr",
     "output_type": "stream",
     "text": [
      "\r",
      " 49%|████████████████████████████████████████████████████████████████████████████████████████████████▉                                                                                                   | 624/1261 [03:50<03:57,  2.68it/s]"
     ]
    },
    {
     "name": "stdout",
     "output_type": "stream",
     "text": [
      "Inside reset\n"
     ]
    },
    {
     "name": "stderr",
     "output_type": "stream",
     "text": [
      " 55%|███████████████████████████████████████████████████████████████████████████████████████████████████████████▊                                                                                        | 694/1261 [04:14<03:20,  2.83it/s]"
     ]
    },
    {
     "name": "stdout",
     "output_type": "stream",
     "text": [
      "@ 695  > Continuity check failed - right curve variation high :  1082.12588532 5640.10276433\n"
     ]
    },
    {
     "name": "stderr",
     "output_type": "stream",
     "text": [
      "\r",
      " 55%|████████████████████████████████████████████████████████████████████████████████████████████████████████████                                                                                        | 695/1261 [04:15<03:22,  2.80it/s]"
     ]
    },
    {
     "name": "stdout",
     "output_type": "stream",
     "text": [
      "@ 696  > Continuity check failed - right curve variation high :  697.755218943 5640.10276433\n"
     ]
    },
    {
     "name": "stderr",
     "output_type": "stream",
     "text": [
      "\r",
      " 55%|████████████████████████████████████████████████████████████████████████████████████████████████████████████▏                                                                                       | 696/1261 [04:15<03:22,  2.79it/s]"
     ]
    },
    {
     "name": "stdout",
     "output_type": "stream",
     "text": [
      "@ 697  > Continuity check failed - right curve variation high :  527.277195075 5640.10276433\n"
     ]
    },
    {
     "name": "stderr",
     "output_type": "stream",
     "text": [
      "\r",
      " 55%|████████████████████████████████████████████████████████████████████████████████████████████████████████████▎                                                                                       | 697/1261 [04:16<03:21,  2.80it/s]"
     ]
    },
    {
     "name": "stdout",
     "output_type": "stream",
     "text": [
      "@ 698  > Continuity check failed - right curve variation high :  511.249170256 5640.10276433\n"
     ]
    },
    {
     "name": "stderr",
     "output_type": "stream",
     "text": [
      "\r",
      " 55%|████████████████████████████████████████████████████████████████████████████████████████████████████████████▍                                                                                       | 698/1261 [04:16<03:26,  2.73it/s]"
     ]
    },
    {
     "name": "stdout",
     "output_type": "stream",
     "text": [
      "@ 699  > Continuity check failed - right curve variation high :  605.283008898 5640.10276433\n"
     ]
    },
    {
     "name": "stderr",
     "output_type": "stream",
     "text": [
      "\r",
      " 55%|████████████████████████████████████████████████████████████████████████████████████████████████████████████▋                                                                                       | 699/1261 [04:16<03:25,  2.73it/s]"
     ]
    },
    {
     "name": "stdout",
     "output_type": "stream",
     "text": [
      "@ 700  > Continuity check failed - right curve variation high :  702.903009024 5640.10276433\n"
     ]
    },
    {
     "name": "stderr",
     "output_type": "stream",
     "text": [
      "\r",
      " 56%|████████████████████████████████████████████████████████████████████████████████████████████████████████████▊                                                                                       | 700/1261 [04:17<03:26,  2.71it/s]"
     ]
    },
    {
     "name": "stdout",
     "output_type": "stream",
     "text": [
      "Inside reset\n"
     ]
    },
    {
     "name": "stderr",
     "output_type": "stream",
     "text": [
      " 63%|████████████████████████████████████████████████████████████████████████████████████████████████████████████████████████████▏                                                                       | 799/1261 [04:54<02:56,  2.61it/s]"
     ]
    },
    {
     "name": "stdout",
     "output_type": "stream",
     "text": [
      "@ 800  > left and right curves similarity failure :  1422.20280555 17045.8562357\n"
     ]
    },
    {
     "name": "stderr",
     "output_type": "stream",
     "text": [
      " 73%|███████████████████████████████████████████████████████████████████████████████████████████████████████████████████████████████████████████████▎                                                    | 922/1261 [05:44<02:12,  2.55it/s]"
     ]
    },
    {
     "name": "stdout",
     "output_type": "stream",
     "text": [
      "@ 923  > curve check failure :  725.508087338 28103.6407117\n"
     ]
    },
    {
     "name": "stderr",
     "output_type": "stream",
     "text": [
      " 76%|█████████████████████████████████████████████████████████████████████████████████████████████████████████████████████████████████████████████████████                                               | 959/1261 [05:59<02:06,  2.39it/s]"
     ]
    },
    {
     "name": "stdout",
     "output_type": "stream",
     "text": [
      "@ 960  > Continuity check failed - right curve variation high :  1039.15258537 5438.09009807\n"
     ]
    },
    {
     "name": "stderr",
     "output_type": "stream",
     "text": [
      "\r",
      " 76%|█████████████████████████████████████████████████████████████████████████████████████████████████████████████████████████████████████████████████████▏                                              | 960/1261 [06:00<02:09,  2.33it/s]"
     ]
    },
    {
     "name": "stdout",
     "output_type": "stream",
     "text": [
      "@ 961  > Continuity check failed - right curve variation high :  958.435180909 5438.09009807\n"
     ]
    },
    {
     "name": "stderr",
     "output_type": "stream",
     "text": [
      "\r",
      " 76%|█████████████████████████████████████████████████████████████████████████████████████████████████████████████████████████████████████████████████████▎                                              | 961/1261 [06:00<02:09,  2.32it/s]"
     ]
    },
    {
     "name": "stdout",
     "output_type": "stream",
     "text": [
      "@ 962  > Continuity check failed - right curve variation high :  820.945763339 5438.09009807\n"
     ]
    },
    {
     "name": "stderr",
     "output_type": "stream",
     "text": [
      "\r",
      " 76%|█████████████████████████████████████████████████████████████████████████████████████████████████████████████████████████████████████████████████████▌                                              | 962/1261 [06:00<02:05,  2.39it/s]"
     ]
    },
    {
     "name": "stdout",
     "output_type": "stream",
     "text": [
      "@ 963  > Continuity check failed - right curve variation high :  613.298174691 5438.09009807\n"
     ]
    },
    {
     "name": "stderr",
     "output_type": "stream",
     "text": [
      "\r",
      " 76%|█████████████████████████████████████████████████████████████████████████████████████████████████████████████████████████████████████████████████████▋                                              | 963/1261 [06:01<02:02,  2.44it/s]"
     ]
    },
    {
     "name": "stdout",
     "output_type": "stream",
     "text": [
      "@ 964  > Continuity check failed - right curve variation high :  513.509502196 5438.09009807\n"
     ]
    },
    {
     "name": "stderr",
     "output_type": "stream",
     "text": [
      "\r",
      " 76%|█████████████████████████████████████████████████████████████████████████████████████████████████████████████████████████████████████████████████████▊                                              | 964/1261 [06:01<02:03,  2.41it/s]"
     ]
    },
    {
     "name": "stdout",
     "output_type": "stream",
     "text": [
      "@ 965  > Continuity check failed - right curve variation high :  1086.16240149 5438.09009807\n"
     ]
    },
    {
     "name": "stderr",
     "output_type": "stream",
     "text": [
      "\r",
      " 77%|█████████████████████████████████████████████████████████████████████████████████████████████████████████████████████████████████████████████████████▉                                              | 965/1261 [06:02<02:03,  2.40it/s]"
     ]
    },
    {
     "name": "stdout",
     "output_type": "stream",
     "text": [
      "Inside reset\n"
     ]
    },
    {
     "name": "stderr",
     "output_type": "stream",
     "text": [
      " 77%|███████████████████████████████████████████████████████████████████████████████████████████████████████████████████████████████████████████████████████▏                                            | 973/1261 [06:05<02:03,  2.34it/s]"
     ]
    },
    {
     "name": "stdout",
     "output_type": "stream",
     "text": [
      "@ 974  > left and right curves similarity failure :  1667.46847245 13267.018419\n"
     ]
    },
    {
     "name": "stderr",
     "output_type": "stream",
     "text": [
      " 77%|███████████████████████████████████████████████████████████████████████████████████████████████████████████████████████████████████████████████████████▌                                            | 975/1261 [06:06<01:58,  2.42it/s]"
     ]
    },
    {
     "name": "stdout",
     "output_type": "stream",
     "text": [
      "@ 976  > 2nd order coefficient similarity failure :  2.51572541856e-05 -0.000520454003988\n"
     ]
    },
    {
     "name": "stderr",
     "output_type": "stream",
     "text": [
      "\r",
      " 77%|███████████████████████████████████████████████████████████████████████████████████████████████████████████████████████████████████████████████████████▋                                            | 976/1261 [06:07<01:58,  2.41it/s]"
     ]
    },
    {
     "name": "stdout",
     "output_type": "stream",
     "text": [
      "@ 977  > 2nd order coefficient similarity failure :  6.56528811882e-05 -0.000643878762785\n"
     ]
    },
    {
     "name": "stderr",
     "output_type": "stream",
     "text": [
      "\r",
      " 77%|███████████████████████████████████████████████████████████████████████████████████████████████████████████████████████████████████████████████████████▊                                            | 977/1261 [06:07<01:59,  2.38it/s]"
     ]
    },
    {
     "name": "stdout",
     "output_type": "stream",
     "text": [
      "@ 978  > 2nd order coefficient similarity failure :  7.14889106446e-05 -0.000435957512029\n"
     ]
    },
    {
     "name": "stderr",
     "output_type": "stream",
     "text": [
      " 78%|████████████████████████████████████████████████████████████████████████████████████████████████████████████████████████████████████████████████████████▏                                           | 979/1261 [06:08<01:58,  2.38it/s]"
     ]
    },
    {
     "name": "stdout",
     "output_type": "stream",
     "text": [
      "@ 980  > 2nd order coefficient similarity failure :  3.8031415988e-05 -0.000570381401701\n"
     ]
    },
    {
     "name": "stderr",
     "output_type": "stream",
     "text": [
      "\r",
      " 78%|████████████████████████████████████████████████████████████████████████████████████████████████████████████████████████████████████████████████████████▎                                           | 980/1261 [06:08<01:55,  2.43it/s]"
     ]
    },
    {
     "name": "stdout",
     "output_type": "stream",
     "text": [
      "@ 981  > 2nd order coefficient similarity failure :  1.86680657409e-05 -0.000578762865956\n"
     ]
    },
    {
     "name": "stderr",
     "output_type": "stream",
     "text": [
      " 78%|████████████████████████████████████████████████████████████████████████████████████████████████████████████████████████████████████████████████████████▋                                           | 982/1261 [06:09<01:52,  2.48it/s]"
     ]
    },
    {
     "name": "stdout",
     "output_type": "stream",
     "text": [
      "@ 983  > Continuity check failed - left curve variation high :  1626.30171378 6999.862079\n"
     ]
    },
    {
     "name": "stderr",
     "output_type": "stream",
     "text": [
      " 79%|██████████████████████████████████████████████████████████████████████████████████████████████████████████████████████████████████████████████████████████▎                                         | 993/1261 [06:15<02:14,  1.99it/s]"
     ]
    },
    {
     "name": "stdout",
     "output_type": "stream",
     "text": [
      "@ 994  > 1st order coefficient similarity failure :  -0.158483080602 -0.570748638754\n"
     ]
    },
    {
     "name": "stderr",
     "output_type": "stream",
     "text": [
      " 79%|██████████████████████████████████████████████████████████████████████████████████████████████████████████████████████████████████████████████████████████▊                                        | 1001/1261 [06:18<01:49,  2.37it/s]"
     ]
    },
    {
     "name": "stdout",
     "output_type": "stream",
     "text": [
      "@ 1002  > curve check failure :  3215.25000229 54890.0972435\n"
     ]
    },
    {
     "name": "stderr",
     "output_type": "stream",
     "text": [
      "\r",
      " 79%|██████████████████████████████████████████████████████████████████████████████████████████████████████████████████████████████████████████████████████████▉                                        | 1002/1261 [06:19<01:51,  2.32it/s]"
     ]
    },
    {
     "name": "stdout",
     "output_type": "stream",
     "text": [
      "@ 1003  > left and right curves similarity failure :  16243.6074145 5684.34585359\n"
     ]
    },
    {
     "name": "stderr",
     "output_type": "stream",
     "text": [
      "\r",
      " 80%|███████████████████████████████████████████████████████████████████████████████████████████████████████████████████████████████████████████████████████████                                        | 1003/1261 [06:19<01:50,  2.33it/s]"
     ]
    },
    {
     "name": "stdout",
     "output_type": "stream",
     "text": [
      "@ 1004  > left and right curves similarity failure :  12382.1376943 794.131965832\n"
     ]
    },
    {
     "name": "stderr",
     "output_type": "stream",
     "text": [
      "\r",
      " 80%|███████████████████████████████████████████████████████████████████████████████████████████████████████████████████████████████████████████████████████████▎                                       | 1004/1261 [06:20<01:49,  2.35it/s]"
     ]
    },
    {
     "name": "stdout",
     "output_type": "stream",
     "text": [
      "@ 1005  > 1st order coefficient similarity failure :  -0.0153165087884 -0.385784666308\n"
     ]
    },
    {
     "name": "stderr",
     "output_type": "stream",
     "text": [
      "\r",
      " 80%|███████████████████████████████████████████████████████████████████████████████████████████████████████████████████████████████████████████████████████████▍                                       | 1005/1261 [06:20<01:49,  2.34it/s]"
     ]
    },
    {
     "name": "stdout",
     "output_type": "stream",
     "text": [
      "@ 1006  > 1st order coefficient similarity failure :  0.0222070206124 -0.422485962388\n"
     ]
    },
    {
     "name": "stderr",
     "output_type": "stream",
     "text": [
      "\r",
      " 80%|███████████████████████████████████████████████████████████████████████████████████████████████████████████████████████████████████████████████████████████▌                                       | 1006/1261 [06:20<01:48,  2.35it/s]"
     ]
    },
    {
     "name": "stdout",
     "output_type": "stream",
     "text": [
      "@ 1007  > 2nd order coefficient similarity failure :  -9.65925084947e-05 0.000419152765048\n"
     ]
    },
    {
     "name": "stderr",
     "output_type": "stream",
     "text": [
      "\r",
      " 80%|███████████████████████████████████████████████████████████████████████████████████████████████████████████████████████████████████████████████████████████▋                                       | 1007/1261 [06:21<01:49,  2.31it/s]"
     ]
    },
    {
     "name": "stdout",
     "output_type": "stream",
     "text": [
      "Inside reset\n"
     ]
    },
    {
     "name": "stderr",
     "output_type": "stream",
     "text": [
      " 84%|██████████████████████████████████████████████████████████████████████████████████████████████████████████████████████████████████████████████████████████████████▊                                | 1053/1261 [06:40<01:36,  2.16it/s]"
     ]
    },
    {
     "name": "stdout",
     "output_type": "stream",
     "text": [
      "@ 1054  > curve check failure :  1056.7099256 172365.669145\n"
     ]
    },
    {
     "name": "stderr",
     "output_type": "stream",
     "text": [
      " 87%|█████████████████████████████████████████████████████████████████████████████████████████████████████████████████████████████████████████████████████████████████████████▉                         | 1099/1261 [07:00<01:14,  2.17it/s]"
     ]
    },
    {
     "name": "stdout",
     "output_type": "stream",
     "text": [
      "@ 1100  > left and right curves similarity failure :  2184.07219486 16091.8697997\n"
     ]
    },
    {
     "name": "stderr",
     "output_type": "stream",
     "text": [
      " 97%|██████████████████████████████████████████████████████████████████████████████████████████████████████████████████████████████████████████████████████████████████████████████████████████████     | 1229/1261 [07:55<00:12,  2.56it/s]"
     ]
    },
    {
     "name": "stdout",
     "output_type": "stream",
     "text": [
      "@ 1230  > Continuity check failed - right curve variation high :  593.772091549 3173.1236965\n"
     ]
    },
    {
     "name": "stderr",
     "output_type": "stream",
     "text": [
      "\r",
      " 98%|██████████████████████████████████████████████████████████████████████████████████████████████████████████████████████████████████████████████████████████████████████████████████████████████▏    | 1230/1261 [07:56<00:12,  2.52it/s]"
     ]
    },
    {
     "name": "stdout",
     "output_type": "stream",
     "text": [
      "@ 1231  > Continuity check failed - right curve variation high :  460.879850088 3173.1236965\n"
     ]
    },
    {
     "name": "stderr",
     "output_type": "stream",
     "text": [
      " 98%|███████████████████████████████████████████████████████████████████████████████████████████████████████████████████████████████████████████████████████████████████████████████████████████████▍   | 1238/1261 [07:59<00:08,  2.56it/s]"
     ]
    },
    {
     "name": "stdout",
     "output_type": "stream",
     "text": [
      "@ 1239  > left and right curves similarity failure :  15998.1602116 1470.03191152\n"
     ]
    },
    {
     "name": "stderr",
     "output_type": "stream",
     "text": [
      " 98%|███████████████████████████████████████████████████████████████████████████████████████████████████████████████████████████████████████████████████████████████████████████████████████████████▊   | 1240/1261 [08:00<00:08,  2.52it/s]"
     ]
    },
    {
     "name": "stdout",
     "output_type": "stream",
     "text": [
      "@ 1241  > Continuity check failed - right curve variation high :  494.833695175 2079.8377573\n"
     ]
    },
    {
     "name": "stderr",
     "output_type": "stream",
     "text": [
      "\r",
      " 98%|███████████████████████████████████████████████████████████████████████████████████████████████████████████████████████████████████████████████████████████████████████████████████████████████▉   | 1241/1261 [08:00<00:08,  2.46it/s]"
     ]
    },
    {
     "name": "stdout",
     "output_type": "stream",
     "text": [
      "@ 1242  > 2nd order coefficient similarity failure :  3.15319015411e-05 -0.000520841528696\n"
     ]
    },
    {
     "name": "stderr",
     "output_type": "stream",
     "text": [
      "\r",
      " 98%|████████████████████████████████████████████████████████████████████████████████████████████████████████████████████████████████████████████████████████████████████████████████████████████████   | 1242/1261 [08:00<00:07,  2.41it/s]"
     ]
    },
    {
     "name": "stdout",
     "output_type": "stream",
     "text": [
      "@ 1243  > Continuity check failed - right curve variation high :  281.071137531 2079.8377573\n"
     ]
    },
    {
     "name": "stderr",
     "output_type": "stream",
     "text": [
      "\r",
      " 99%|████████████████████████████████████████████████████████████████████████████████████████████████████████████████████████████████████████████████████████████████████████████████████████████████▏  | 1243/1261 [08:01<00:07,  2.34it/s]"
     ]
    },
    {
     "name": "stdout",
     "output_type": "stream",
     "text": [
      "@ 1244  > Continuity check failed - right curve variation high :  255.190990435 2079.8377573\n"
     ]
    },
    {
     "name": "stderr",
     "output_type": "stream",
     "text": [
      "\r",
      " 99%|████████████████████████████████████████████████████████████████████████████████████████████████████████████████████████████████████████████████████████████████████████████████████████████████▎  | 1244/1261 [08:01<00:07,  2.27it/s]"
     ]
    },
    {
     "name": "stdout",
     "output_type": "stream",
     "text": [
      "@ 1245  > Continuity check failed - right curve variation high :  390.791049383 2079.8377573\n"
     ]
    },
    {
     "name": "stderr",
     "output_type": "stream",
     "text": [
      "\r",
      " 99%|████████████████████████████████████████████████████████████████████████████████████████████████████████████████████████████████████████████████████████████████████████████████████████████████▌  | 1245/1261 [08:02<00:06,  2.29it/s]"
     ]
    },
    {
     "name": "stdout",
     "output_type": "stream",
     "text": [
      "@ 1246  > Continuity check failed - right curve variation high :  257.271767821 2079.8377573\n"
     ]
    },
    {
     "name": "stderr",
     "output_type": "stream",
     "text": [
      "\r",
      " 99%|████████████████████████████████████████████████████████████████████████████████████████████████████████████████████████████████████████████████████████████████████████████████████████████████▋  | 1246/1261 [08:02<00:06,  2.29it/s]"
     ]
    },
    {
     "name": "stdout",
     "output_type": "stream",
     "text": [
      "Inside reset\n"
     ]
    },
    {
     "name": "stderr",
     "output_type": "stream",
     "text": [
      " 99%|████████████████████████████████████████████████████████████████████████████████████████████████████████████████████████████████████████████████████████████████████████████████████████████████▉  | 1248/1261 [08:03<00:05,  2.37it/s]"
     ]
    },
    {
     "name": "stdout",
     "output_type": "stream",
     "text": [
      "@ 1249  > 2nd order coefficient similarity failure :  1.96297176746e-05 -0.000519448848919\n"
     ]
    },
    {
     "name": "stderr",
     "output_type": "stream",
     "text": [
      "\r",
      " 99%|█████████████████████████████████████████████████████████████████████████████████████████████████████████████████████████████████████████████████████████████████████████████████████████████████▏ | 1249/1261 [08:03<00:04,  2.40it/s]"
     ]
    },
    {
     "name": "stdout",
     "output_type": "stream",
     "text": [
      "@ 1250  > 2nd order coefficient similarity failure :  1.36882798659e-05 -0.000698890055824\n"
     ]
    },
    {
     "name": "stderr",
     "output_type": "stream",
     "text": [
      "\r",
      " 99%|█████████████████████████████████████████████████████████████████████████████████████████████████████████████████████████████████████████████████████████████████████████████████████████████████▎ | 1250/1261 [08:04<00:04,  2.36it/s]"
     ]
    },
    {
     "name": "stdout",
     "output_type": "stream",
     "text": [
      "@ 1251  > 2nd order coefficient similarity failure :  1.39102701027e-05 -0.000852459830327\n"
     ]
    },
    {
     "name": "stderr",
     "output_type": "stream",
     "text": [
      "\r",
      " 99%|█████████████████████████████████████████████████████████████████████████████████████████████████████████████████████████████████████████████████████████████████████████████████████████████████▍ | 1251/1261 [08:04<00:04,  2.38it/s]"
     ]
    },
    {
     "name": "stdout",
     "output_type": "stream",
     "text": [
      "@ 1252  > 2nd order coefficient similarity failure :  1.83314066565e-05 -0.000783559976121\n"
     ]
    },
    {
     "name": "stderr",
     "output_type": "stream",
     "text": [
      "\r",
      " 99%|█████████████████████████████████████████████████████████████████████████████████████████████████████████████████████████████████████████████████████████████████████████████████████████████████▌ | 1252/1261 [08:05<00:03,  2.40it/s]"
     ]
    },
    {
     "name": "stdout",
     "output_type": "stream",
     "text": [
      "@ 1253  > left and right curves similarity failure :  12970.7772029 127.393287675\n"
     ]
    },
    {
     "name": "stderr",
     "output_type": "stream",
     "text": [
      "\r",
      " 99%|█████████████████████████████████████████████████████████████████████████████████████████████████████████████████████████████████████████████████████████████████████████████████████████████████▊ | 1253/1261 [08:05<00:03,  2.39it/s]"
     ]
    },
    {
     "name": "stdout",
     "output_type": "stream",
     "text": [
      "@ 1254  > 2nd order coefficient similarity failure :  1.81149926807e-05 -0.000697962540579\n"
     ]
    },
    {
     "name": "stderr",
     "output_type": "stream",
     "text": [
      "\r",
      " 99%|█████████████████████████████████████████████████████████████████████████████████████████████████████████████████████████████████████████████████████████████████████████████████████████████████▉ | 1254/1261 [08:06<00:02,  2.40it/s]"
     ]
    },
    {
     "name": "stdout",
     "output_type": "stream",
     "text": [
      "Inside reset\n"
     ]
    },
    {
     "name": "stderr",
     "output_type": "stream",
     "text": [
      "\r",
      "100%|██████████████████████████████████████████████████████████████████████████████████████████████████████████████████████████████████████████████████████████████████████████████████████████████████ | 1255/1261 [08:06<00:02,  2.33it/s]"
     ]
    },
    {
     "name": "stdout",
     "output_type": "stream",
     "text": [
      "@ 1256  > curve check failure :  42947.2902108 228.674364403\n"
     ]
    },
    {
     "name": "stderr",
     "output_type": "stream",
     "text": [
      "\r",
      "100%|██████████████████████████████████████████████████████████████████████████████████████████████████████████████████████████████████████████████████████████████████████████████████████████████████▏| 1256/1261 [08:06<00:02,  2.34it/s]"
     ]
    },
    {
     "name": "stdout",
     "output_type": "stream",
     "text": [
      "@ 1257  > curve check failure :  151811.175098 209.592930438\n"
     ]
    },
    {
     "name": "stderr",
     "output_type": "stream",
     "text": [
      "\r",
      "100%|██████████████████████████████████████████████████████████████████████████████████████████████████████████████████████████████████████████████████████████████████████████████████████████████████▍| 1257/1261 [08:07<00:01,  2.35it/s]"
     ]
    },
    {
     "name": "stdout",
     "output_type": "stream",
     "text": [
      "@ 1258  > left and right curves similarity failure :  15207.0229175 181.316788637\n"
     ]
    },
    {
     "name": "stderr",
     "output_type": "stream",
     "text": [
      "\r",
      "100%|██████████████████████████████████████████████████████████████████████████████████████████████████████████████████████████████████████████████████████████████████████████████████████████████████▌| 1258/1261 [08:07<00:01,  2.36it/s]"
     ]
    },
    {
     "name": "stdout",
     "output_type": "stream",
     "text": [
      "@ 1259  > curve check failure :  49370.2183546 211.567147374\n"
     ]
    },
    {
     "name": "stderr",
     "output_type": "stream",
     "text": [
      "\r",
      "100%|██████████████████████████████████████████████████████████████████████████████████████████████████████████████████████████████████████████████████████████████████████████████████████████████████▋| 1259/1261 [08:08<00:00,  2.35it/s]"
     ]
    },
    {
     "name": "stdout",
     "output_type": "stream",
     "text": [
      "@ 1260  > left and right curves similarity failure :  13935.8758017 195.136239067\n"
     ]
    },
    {
     "name": "stderr",
     "output_type": "stream",
     "text": [
      "100%|██████████████████████████████████████████████████████████████████████████████████████████████████████████████████████████████████████████████████████████████████████████████████████████████████▊| 1260/1261 [08:08<00:00,  2.34it/s]\n"
     ]
    },
    {
     "name": "stdout",
     "output_type": "stream",
     "text": [
      "[MoviePy] Done.\n",
      "[MoviePy] >>>> Video ready: project_video_output.mp4 \n",
      "\n",
      "Wall time: 8min 10s\n",
      "Number of frames =  1261\n"
     ]
    }
   ],
   "source": [
    "# Initialize variables\n",
    "reset_lanes = True\n",
    "detected_lines = []\n",
    "\n",
    "# use n for normal, c for challenge and h for harder\n",
    "terrain_type = 'n'\n",
    "\n",
    "# Caliberate Camera\n",
    "mtx, dist = caliberate_camera()\n",
    "\n",
    "# Get perspective\n",
    "perspective_M, perspective_Minv = compute_perspective()\n",
    "\n",
    "# Get baseline lane width\n",
    "baseline_lane_width = compute_lane_width()\n",
    "\n",
    "project_video_output = 'project_video_output.mp4'\n",
    "#clip1 = VideoFileClip(\"P2.mp4\")\n",
    "clip1 = VideoFileClip(\"project_video.mp4\")\n",
    "project_video_clip = clip1.fl_image(process_image) #NOTE: this function expects color images!!\n",
    "%time project_video_clip.write_videofile(project_video_output, audio=False)\n",
    "print(\"Number of frames = \", len(detected_lines))"
   ]
  },
  {
   "cell_type": "markdown",
   "metadata": {
    "deletable": true,
    "editable": true
   },
   "source": [
    "Play the video inline, or if you prefer find the video in your filesystem (should be in the same directory) and play it in your video player of choice."
   ]
  },
  {
   "cell_type": "code",
   "execution_count": null,
   "metadata": {
    "collapsed": false,
    "deletable": true,
    "editable": true
   },
   "outputs": [],
   "source": [
    "HTML(\"\"\"\n",
    "<video width=\"960\" height=\"540\" controls>\n",
    "  <source src=\"{0}\">\n",
    "</video>\n",
    "\"\"\".format(project_video_output))"
   ]
  },
  {
   "cell_type": "markdown",
   "metadata": {
    "deletable": true,
    "editable": true
   },
   "source": [
    "## Challenge Video\n",
    "\n",
    "Go back and modify your draw_lines function accordingly and try re-running your pipeline. The new output should draw a single, solid line over the left lane line and a single, solid line over the right lane line. The lines should start from the bottom of the image and extend out to the top of the region of interest."
   ]
  },
  {
   "cell_type": "markdown",
   "metadata": {
    "deletable": true,
    "editable": true
   },
   "source": [
    "Now for the one with the solid yellow lane on the left. This one's more tricky!"
   ]
  },
  {
   "cell_type": "code",
   "execution_count": 86,
   "metadata": {
    "collapsed": false,
    "deletable": true,
    "editable": true
   },
   "outputs": [
    {
     "name": "stdout",
     "output_type": "stream",
     "text": [
      "Chess board shape =  (1280, 720)\n",
      "Camera caliberated.  mtx =  [[  1.15396093e+03   0.00000000e+00   6.69705359e+02]\n",
      " [  0.00000000e+00   1.14802495e+03   3.85656232e+02]\n",
      " [  0.00000000e+00   0.00000000e+00   1.00000000e+00]]  dist =  [[ -2.41017968e-01  -5.30720497e-02  -1.15810318e-03  -1.28318543e-04\n",
      "    2.67124302e-02]]\n"
     ]
    },
    {
     "data": {
      "image/png": "[encoded data removed]",
      "text/plain": [
       "<matplotlib.figure.Figure at 0x231ad3c81d0>"
      ]
     },
     "metadata": {},
     "output_type": "display_data"
    },
    {
     "name": "stdout",
     "output_type": "stream",
     "text": [
      "(1280,)\n",
      "Baseline mid, left, center =  640 406 864\n",
      "Baeline Lane width in pixels =  458\n",
      "Inside reset\n",
      "[MoviePy] >>>> Building video challenge_video_output.mp4\n",
      "[MoviePy] Writing video challenge_video_output.mp4\n"
     ]
    },
    {
     "name": "stderr",
     "output_type": "stream",
     "text": [
      "  5%|██████████▏                                                                                                                                                                                           | 25/485 [00:09<02:57,  2.60it/s]"
     ]
    },
    {
     "name": "stdout",
     "output_type": "stream",
     "text": [
      "@ 26  > Continuity check failed - right curve variation high :  732.860914046 4181.14177449\n"
     ]
    },
    {
     "name": "stderr",
     "output_type": "stream",
     "text": [
      "\r",
      "  5%|██████████▌                                                                                                                                                                                           | 26/485 [00:09<03:01,  2.53it/s]"
     ]
    },
    {
     "name": "stdout",
     "output_type": "stream",
     "text": [
      "@ 27  > Continuity check failed - right curve variation high :  559.1169204 4181.14177449\n"
     ]
    },
    {
     "name": "stderr",
     "output_type": "stream",
     "text": [
      "\r",
      "  6%|███████████                                                                                                                                                                                           | 27/485 [00:10<03:12,  2.38it/s]"
     ]
    },
    {
     "name": "stdout",
     "output_type": "stream",
     "text": [
      "@ 28  > Continuity check failed - right curve variation high :  467.419425948 4181.14177449\n"
     ]
    },
    {
     "name": "stderr",
     "output_type": "stream",
     "text": [
      "\r",
      "  6%|███████████▍                                                                                                                                                                                          | 28/485 [00:10<03:09,  2.41it/s]"
     ]
    },
    {
     "name": "stdout",
     "output_type": "stream",
     "text": [
      "@ 29  > Continuity check failed - right curve variation high :  431.649242034 4181.14177449\n"
     ]
    },
    {
     "name": "stderr",
     "output_type": "stream",
     "text": [
      "\r",
      "  6%|███████████▊                                                                                                                                                                                          | 29/485 [00:11<03:09,  2.41it/s]"
     ]
    },
    {
     "name": "stdout",
     "output_type": "stream",
     "text": [
      "@ 30  > Continuity check failed - right curve variation high :  389.161319195 4181.14177449\n"
     ]
    },
    {
     "name": "stderr",
     "output_type": "stream",
     "text": [
      "\r",
      "  6%|████████████▏                                                                                                                                                                                         | 30/485 [00:11<03:06,  2.44it/s]"
     ]
    },
    {
     "name": "stdout",
     "output_type": "stream",
     "text": [
      "@ 31  > Continuity check failed - right curve variation high :  331.681334296 4181.14177449\n"
     ]
    },
    {
     "name": "stderr",
     "output_type": "stream",
     "text": [
      "\r",
      "  6%|████████████▋                                                                                                                                                                                         | 31/485 [00:11<03:04,  2.46it/s]"
     ]
    },
    {
     "name": "stdout",
     "output_type": "stream",
     "text": [
      "Inside reset\n"
     ]
    },
    {
     "name": "stderr",
     "output_type": "stream",
     "text": [
      "  7%|██████████████▎                                                                                                                                                                                       | 35/485 [00:13<03:00,  2.49it/s]"
     ]
    },
    {
     "name": "stdout",
     "output_type": "stream",
     "text": [
      "@ 36  > lane width failure :  4.22212159316\n"
     ]
    },
    {
     "name": "stderr",
     "output_type": "stream",
     "text": [
      "\r",
      "  7%|██████████████▋                                                                                                                                                                                       | 36/485 [00:14<03:01,  2.48it/s]"
     ]
    },
    {
     "name": "stdout",
     "output_type": "stream",
     "text": [
      "@ 37  > lane width failure :  4.22212159316\n"
     ]
    },
    {
     "name": "stderr",
     "output_type": "stream",
     "text": [
      "\r",
      "  8%|███████████████                                                                                                                                                                                       | 37/485 [00:14<03:07,  2.39it/s]"
     ]
    },
    {
     "name": "stdout",
     "output_type": "stream",
     "text": [
      "@ 38  > lane width failure :  4.22212159316\n"
     ]
    },
    {
     "name": "stderr",
     "output_type": "stream",
     "text": [
      "\r",
      "  8%|███████████████▌                                                                                                                                                                                      | 38/485 [00:14<03:01,  2.46it/s]"
     ]
    },
    {
     "name": "stdout",
     "output_type": "stream",
     "text": [
      "@ 39  > lane width failure :  4.22212159316\n"
     ]
    },
    {
     "name": "stderr",
     "output_type": "stream",
     "text": [
      "\r",
      "  8%|███████████████▉                                                                                                                                                                                      | 39/485 [00:15<02:58,  2.50it/s]"
     ]
    },
    {
     "name": "stdout",
     "output_type": "stream",
     "text": [
      "@ 40  > lane width failure :  4.22212159316\n"
     ]
    },
    {
     "name": "stderr",
     "output_type": "stream",
     "text": [
      "\r",
      "  8%|████████████████▎                                                                                                                                                                                     | 40/485 [00:15<02:59,  2.48it/s]"
     ]
    },
    {
     "name": "stdout",
     "output_type": "stream",
     "text": [
      "@ 41  > lane width failure :  4.22212159316\n"
     ]
    },
    {
     "name": "stderr",
     "output_type": "stream",
     "text": [
      "\r",
      "  8%|████████████████▋                                                                                                                                                                                     | 41/485 [00:16<03:04,  2.41it/s]"
     ]
    },
    {
     "name": "stdout",
     "output_type": "stream",
     "text": [
      "Inside reset\n"
     ]
    },
    {
     "name": "stderr",
     "output_type": "stream",
     "text": [
      "\r",
      "  9%|█████████████████▏                                                                                                                                                                                    | 42/485 [00:16<03:03,  2.41it/s]"
     ]
    },
    {
     "name": "stdout",
     "output_type": "stream",
     "text": [
      "@ 43  > Continuity check failed - lane offset variation high :  0.03 -0.54\n"
     ]
    },
    {
     "name": "stderr",
     "output_type": "stream",
     "text": [
      "\r",
      "  9%|█████████████████▌                                                                                                                                                                                    | 43/485 [00:16<03:00,  2.44it/s]"
     ]
    },
    {
     "name": "stdout",
     "output_type": "stream",
     "text": [
      "@ 44  > Continuity check failed - lane offset variation high :  0.03 -0.54\n"
     ]
    },
    {
     "name": "stderr",
     "output_type": "stream",
     "text": [
      "\r",
      "  9%|█████████████████▉                                                                                                                                                                                    | 44/485 [00:17<03:00,  2.45it/s]"
     ]
    },
    {
     "name": "stdout",
     "output_type": "stream",
     "text": [
      "@ 45  > Continuity check failed - lane offset variation high :  0.03 -0.54\n"
     ]
    },
    {
     "name": "stderr",
     "output_type": "stream",
     "text": [
      "\r",
      "  9%|██████████████████▎                                                                                                                                                                                   | 45/485 [00:17<02:58,  2.47it/s]"
     ]
    },
    {
     "name": "stdout",
     "output_type": "stream",
     "text": [
      "@ 46  > Continuity check failed - lane offset variation high :  0.03 -0.54\n"
     ]
    },
    {
     "name": "stderr",
     "output_type": "stream",
     "text": [
      "\r",
      "  9%|██████████████████▊                                                                                                                                                                                   | 46/485 [00:18<02:59,  2.45it/s]"
     ]
    },
    {
     "name": "stdout",
     "output_type": "stream",
     "text": [
      "@ 47  > Continuity check failed - lane offset variation high :  0.03 -0.54\n"
     ]
    },
    {
     "name": "stderr",
     "output_type": "stream",
     "text": [
      "\r",
      " 10%|███████████████████▏                                                                                                                                                                                  | 47/485 [00:18<02:58,  2.46it/s]"
     ]
    },
    {
     "name": "stdout",
     "output_type": "stream",
     "text": [
      "@ 48  > left and right curves similarity failure :  16506.743164 645.271210778\n"
     ]
    },
    {
     "name": "stderr",
     "output_type": "stream",
     "text": [
      "\r",
      " 10%|███████████████████▌                                                                                                                                                                                  | 48/485 [00:18<02:56,  2.47it/s]"
     ]
    },
    {
     "name": "stdout",
     "output_type": "stream",
     "text": [
      "Inside reset\n"
     ]
    },
    {
     "name": "stderr",
     "output_type": "stream",
     "text": [
      "\r",
      " 10%|████████████████████                                                                                                                                                                                  | 49/485 [00:19<02:56,  2.47it/s]"
     ]
    },
    {
     "name": "stdout",
     "output_type": "stream",
     "text": [
      "@ 50  > lane width failure :  4.51201413628\n"
     ]
    },
    {
     "name": "stderr",
     "output_type": "stream",
     "text": [
      "\r",
      " 10%|████████████████████▍                                                                                                                                                                                 | 50/485 [00:19<02:56,  2.47it/s]"
     ]
    },
    {
     "name": "stdout",
     "output_type": "stream",
     "text": [
      "@ 51  > lane width failure :  4.51201413628\n"
     ]
    },
    {
     "name": "stderr",
     "output_type": "stream",
     "text": [
      "\r",
      " 11%|████████████████████▊                                                                                                                                                                                 | 51/485 [00:20<02:59,  2.42it/s]"
     ]
    },
    {
     "name": "stdout",
     "output_type": "stream",
     "text": [
      "@ 52  > lane width failure :  4.51201413628\n"
     ]
    },
    {
     "name": "stderr",
     "output_type": "stream",
     "text": [
      "\r",
      " 11%|█████████████████████▏                                                                                                                                                                                | 52/485 [00:20<02:56,  2.45it/s]"
     ]
    },
    {
     "name": "stdout",
     "output_type": "stream",
     "text": [
      "@ 53  > lane width failure :  4.51201413628\n"
     ]
    },
    {
     "name": "stderr",
     "output_type": "stream",
     "text": [
      "\r",
      " 11%|█████████████████████▋                                                                                                                                                                                | 53/485 [00:20<02:55,  2.46it/s]"
     ]
    },
    {
     "name": "stdout",
     "output_type": "stream",
     "text": [
      "@ 54  > lane width failure :  4.51201413628\n"
     ]
    },
    {
     "name": "stderr",
     "output_type": "stream",
     "text": [
      "\r",
      " 11%|██████████████████████                                                                                                                                                                                | 54/485 [00:21<02:54,  2.47it/s]"
     ]
    },
    {
     "name": "stdout",
     "output_type": "stream",
     "text": [
      "@ 55  > lane width failure :  4.51201413628\n"
     ]
    },
    {
     "name": "stderr",
     "output_type": "stream",
     "text": [
      "\r",
      " 11%|██████████████████████▍                                                                                                                                                                               | 55/485 [00:21<02:55,  2.45it/s]"
     ]
    },
    {
     "name": "stdout",
     "output_type": "stream",
     "text": [
      "Inside reset\n",
      "@ 56  > lane width failure :  5.16222707424\n"
     ]
    },
    {
     "name": "stderr",
     "output_type": "stream",
     "text": [
      "\r",
      " 12%|██████████████████████▊                                                                                                                                                                               | 56/485 [00:22<03:02,  2.35it/s]"
     ]
    },
    {
     "name": "stdout",
     "output_type": "stream",
     "text": [
      "Inside reset\n",
      "@ 57  > lane width failure :  5.1056768559\n"
     ]
    },
    {
     "name": "stderr",
     "output_type": "stream",
     "text": [
      "\r",
      " 12%|███████████████████████▎                                                                                                                                                                              | 57/485 [00:22<02:58,  2.40it/s]"
     ]
    },
    {
     "name": "stdout",
     "output_type": "stream",
     "text": [
      "Inside reset\n",
      "@ 58  > lane width failure :  5.04912663755\n"
     ]
    },
    {
     "name": "stderr",
     "output_type": "stream",
     "text": [
      "\r",
      " 12%|███████████████████████▋                                                                                                                                                                              | 58/485 [00:23<02:56,  2.42it/s]"
     ]
    },
    {
     "name": "stdout",
     "output_type": "stream",
     "text": [
      "Inside reset\n",
      "@ 59  > lane width failure :  4.92794759825\n"
     ]
    },
    {
     "name": "stderr",
     "output_type": "stream",
     "text": [
      "\r",
      " 12%|████████████████████████                                                                                                                                                                              | 59/485 [00:23<02:55,  2.42it/s]"
     ]
    },
    {
     "name": "stdout",
     "output_type": "stream",
     "text": [
      "Inside reset\n",
      "@ 60  > lane width failure :  4.93602620087\n"
     ]
    },
    {
     "name": "stderr",
     "output_type": "stream",
     "text": [
      "\r",
      " 12%|████████████████████████▍                                                                                                                                                                             | 60/485 [00:23<03:00,  2.36it/s]"
     ]
    },
    {
     "name": "stdout",
     "output_type": "stream",
     "text": [
      "Inside reset\n",
      "@ 61  > lane width failure :  4.94410480349\n"
     ]
    },
    {
     "name": "stderr",
     "output_type": "stream",
     "text": [
      "\r",
      " 13%|████████████████████████▉                                                                                                                                                                             | 61/485 [00:24<03:01,  2.33it/s]"
     ]
    },
    {
     "name": "stdout",
     "output_type": "stream",
     "text": [
      "Inside reset\n",
      "@ 62  > lane width failure :  4.99257641921\n"
     ]
    },
    {
     "name": "stderr",
     "output_type": "stream",
     "text": [
      "\r",
      " 13%|█████████████████████████▎                                                                                                                                                                            | 62/485 [00:24<03:01,  2.33it/s]"
     ]
    },
    {
     "name": "stdout",
     "output_type": "stream",
     "text": [
      "Inside reset\n",
      "@ 63  > lane width failure :  4.97641921397\n"
     ]
    },
    {
     "name": "stderr",
     "output_type": "stream",
     "text": [
      "\r",
      " 13%|█████████████████████████▋                                                                                                                                                                            | 63/485 [00:25<03:00,  2.34it/s]"
     ]
    },
    {
     "name": "stdout",
     "output_type": "stream",
     "text": [
      "Inside reset\n",
      "@ 64  > lane width failure :  4.84716157205\n"
     ]
    },
    {
     "name": "stderr",
     "output_type": "stream",
     "text": [
      "\r",
      " 13%|██████████████████████████▏                                                                                                                                                                           | 64/485 [00:25<02:58,  2.36it/s]"
     ]
    },
    {
     "name": "stdout",
     "output_type": "stream",
     "text": [
      "Inside reset\n",
      "@ 65  > lane width failure :  4.80676855895\n"
     ]
    },
    {
     "name": "stderr",
     "output_type": "stream",
     "text": [
      "\r",
      " 13%|██████████████████████████▌                                                                                                                                                                           | 65/485 [00:26<03:01,  2.31it/s]"
     ]
    },
    {
     "name": "stdout",
     "output_type": "stream",
     "text": [
      "Inside reset\n",
      "@ 66  > lane width failure :  4.88755458515\n"
     ]
    },
    {
     "name": "stderr",
     "output_type": "stream",
     "text": [
      "\r",
      " 14%|██████████████████████████▉                                                                                                                                                                           | 66/485 [00:26<02:58,  2.34it/s]"
     ]
    },
    {
     "name": "stdout",
     "output_type": "stream",
     "text": [
      "Inside reset\n",
      "@ 67  > lane width failure :  4.73406113537\n"
     ]
    },
    {
     "name": "stderr",
     "output_type": "stream",
     "text": [
      "\r",
      " 14%|███████████████████████████▎                                                                                                                                                                          | 67/485 [00:26<02:57,  2.35it/s]"
     ]
    },
    {
     "name": "stdout",
     "output_type": "stream",
     "text": [
      "Inside reset\n",
      "@ 68  > lane width failure :  4.58864628821\n"
     ]
    },
    {
     "name": "stderr",
     "output_type": "stream",
     "text": [
      "\r",
      " 14%|███████████████████████████▊                                                                                                                                                                          | 68/485 [00:27<02:57,  2.34it/s]"
     ]
    },
    {
     "name": "stdout",
     "output_type": "stream",
     "text": [
      "Inside reset\n",
      "@ 69  > lane width failure :  4.48362445415\n"
     ]
    },
    {
     "name": "stderr",
     "output_type": "stream",
     "text": [
      "\r",
      " 14%|████████████████████████████▏                                                                                                                                                                         | 69/485 [00:27<02:58,  2.33it/s]"
     ]
    },
    {
     "name": "stdout",
     "output_type": "stream",
     "text": [
      "Inside reset\n",
      "@ 70  > lane width failure :  4.52401746725\n"
     ]
    },
    {
     "name": "stderr",
     "output_type": "stream",
     "text": [
      "\r",
      " 14%|████████████████████████████▌                                                                                                                                                                         | 70/485 [00:28<02:56,  2.36it/s]"
     ]
    },
    {
     "name": "stdout",
     "output_type": "stream",
     "text": [
      "Inside reset\n",
      "@ 71  > lane width failure :  4.59672489083\n"
     ]
    },
    {
     "name": "stderr",
     "output_type": "stream",
     "text": [
      "\r",
      " 15%|████████████████████████████▉                                                                                                                                                                         | 71/485 [00:28<02:54,  2.37it/s]"
     ]
    },
    {
     "name": "stdout",
     "output_type": "stream",
     "text": [
      "Inside reset\n",
      "@ 72  > lane width failure :  4.64519650655\n"
     ]
    },
    {
     "name": "stderr",
     "output_type": "stream",
     "text": [
      "\r",
      " 15%|█████████████████████████████▍                                                                                                                                                                        | 72/485 [00:29<02:53,  2.37it/s]"
     ]
    },
    {
     "name": "stdout",
     "output_type": "stream",
     "text": [
      "Inside reset\n",
      "@ 73  > lane width failure :  4.62903930131\n"
     ]
    },
    {
     "name": "stderr",
     "output_type": "stream",
     "text": [
      "\r",
      " 15%|█████████████████████████████▊                                                                                                                                                                        | 73/485 [00:29<02:53,  2.38it/s]"
     ]
    },
    {
     "name": "stdout",
     "output_type": "stream",
     "text": [
      "Inside reset\n",
      "@ 74  > lane width failure :  4.62903930131\n"
     ]
    },
    {
     "name": "stderr",
     "output_type": "stream",
     "text": [
      "\r",
      " 15%|██████████████████████████████▏                                                                                                                                                                       | 74/485 [00:29<02:56,  2.33it/s]"
     ]
    },
    {
     "name": "stdout",
     "output_type": "stream",
     "text": [
      "Inside reset\n",
      "@ 75  > lane width failure :  4.59672489083\n"
     ]
    },
    {
     "name": "stderr",
     "output_type": "stream",
     "text": [
      "\r",
      " 15%|██████████████████████████████▌                                                                                                                                                                       | 75/485 [00:30<02:53,  2.36it/s]"
     ]
    },
    {
     "name": "stdout",
     "output_type": "stream",
     "text": [
      "Inside reset\n",
      "@ 76  > lane width failure :  4.59672489083\n"
     ]
    },
    {
     "name": "stderr",
     "output_type": "stream",
     "text": [
      "\r",
      " 16%|███████████████████████████████                                                                                                                                                                       | 76/485 [00:30<02:52,  2.37it/s]"
     ]
    },
    {
     "name": "stdout",
     "output_type": "stream",
     "text": [
      "Inside reset\n",
      "@ 77  > lane width failure :  4.75829694323\n"
     ]
    },
    {
     "name": "stderr",
     "output_type": "stream",
     "text": [
      "\r",
      " 16%|███████████████████████████████▍                                                                                                                                                                      | 77/485 [00:31<02:52,  2.37it/s]"
     ]
    },
    {
     "name": "stdout",
     "output_type": "stream",
     "text": [
      "Inside reset\n",
      "@ 78  > lane width failure :  4.66135371179\n"
     ]
    },
    {
     "name": "stderr",
     "output_type": "stream",
     "text": [
      "\r",
      " 16%|███████████████████████████████▊                                                                                                                                                                      | 78/485 [00:31<02:53,  2.34it/s]"
     ]
    },
    {
     "name": "stdout",
     "output_type": "stream",
     "text": [
      "Inside reset\n",
      "@ 79  > lane width failure :  4.58864628821\n"
     ]
    },
    {
     "name": "stderr",
     "output_type": "stream",
     "text": [
      "\r",
      " 16%|████████████████████████████████▎                                                                                                                                                                     | 79/485 [00:31<02:52,  2.35it/s]"
     ]
    },
    {
     "name": "stdout",
     "output_type": "stream",
     "text": [
      "Inside reset\n",
      "@ 80  > lane width failure :  4.55633187773\n"
     ]
    },
    {
     "name": "stderr",
     "output_type": "stream",
     "text": [
      "\r",
      " 16%|████████████████████████████████▋                                                                                                                                                                     | 80/485 [00:32<02:52,  2.35it/s]"
     ]
    },
    {
     "name": "stdout",
     "output_type": "stream",
     "text": [
      "Inside reset\n",
      "@ 81  > lane width failure :  4.50786026201\n"
     ]
    },
    {
     "name": "stderr",
     "output_type": "stream",
     "text": [
      "\r",
      " 17%|█████████████████████████████████                                                                                                                                                                     | 81/485 [00:32<02:50,  2.37it/s]"
     ]
    },
    {
     "name": "stdout",
     "output_type": "stream",
     "text": [
      "Inside reset\n",
      "@ 82  > lane width failure :  4.58056768559\n"
     ]
    },
    {
     "name": "stderr",
     "output_type": "stream",
     "text": [
      "\r",
      " 17%|█████████████████████████████████▍                                                                                                                                                                    | 82/485 [00:33<02:50,  2.37it/s]"
     ]
    },
    {
     "name": "stdout",
     "output_type": "stream",
     "text": [
      "Inside reset\n",
      "@ 83  > lane width failure :  4.58864628821\n"
     ]
    },
    {
     "name": "stderr",
     "output_type": "stream",
     "text": [
      "\r",
      " 17%|█████████████████████████████████▉                                                                                                                                                                    | 83/485 [00:33<02:53,  2.32it/s]"
     ]
    },
    {
     "name": "stdout",
     "output_type": "stream",
     "text": [
      "Inside reset\n",
      "@ 84  > lane width failure :  4.58864628821\n"
     ]
    },
    {
     "name": "stderr",
     "output_type": "stream",
     "text": [
      "\r",
      " 17%|██████████████████████████████████▎                                                                                                                                                                   | 84/485 [00:34<02:51,  2.34it/s]"
     ]
    },
    {
     "name": "stdout",
     "output_type": "stream",
     "text": [
      "Inside reset\n",
      "@ 85  > lane width failure :  4.55633187773\n"
     ]
    },
    {
     "name": "stderr",
     "output_type": "stream",
     "text": [
      "\r",
      " 18%|██████████████████████████████████▋                                                                                                                                                                   | 85/485 [00:34<02:50,  2.35it/s]"
     ]
    },
    {
     "name": "stdout",
     "output_type": "stream",
     "text": [
      "Inside reset\n",
      "@ 86  > lane width failure :  4.52401746725\n"
     ]
    },
    {
     "name": "stderr",
     "output_type": "stream",
     "text": [
      "\r",
      " 18%|███████████████████████████████████                                                                                                                                                                   | 86/485 [00:34<02:49,  2.35it/s]"
     ]
    },
    {
     "name": "stdout",
     "output_type": "stream",
     "text": [
      "Inside reset\n",
      "@ 87  > lane width failure :  4.35436681223\n"
     ]
    },
    {
     "name": "stderr",
     "output_type": "stream",
     "text": [
      "\r",
      " 18%|███████████████████████████████████▌                                                                                                                                                                  | 87/485 [00:35<02:50,  2.33it/s]"
     ]
    },
    {
     "name": "stdout",
     "output_type": "stream",
     "text": [
      "Inside reset\n",
      "@ 88  > lane width failure :  4.32205240175\n"
     ]
    },
    {
     "name": "stderr",
     "output_type": "stream",
     "text": [
      "\r",
      " 18%|███████████████████████████████████▉                                                                                                                                                                  | 88/485 [00:35<02:49,  2.34it/s]"
     ]
    },
    {
     "name": "stdout",
     "output_type": "stream",
     "text": [
      "Inside reset\n",
      "@ 89  > lane width failure :  4.31397379913\n"
     ]
    },
    {
     "name": "stderr",
     "output_type": "stream",
     "text": [
      "\r",
      " 18%|████████████████████████████████████▎                                                                                                                                                                 | 89/485 [00:36<02:47,  2.36it/s]"
     ]
    },
    {
     "name": "stdout",
     "output_type": "stream",
     "text": [
      "Inside reset\n",
      "@ 90  > lane width failure :  4.62903930131\n"
     ]
    },
    {
     "name": "stderr",
     "output_type": "stream",
     "text": [
      "\r",
      " 19%|████████████████████████████████████▋                                                                                                                                                                 | 90/485 [00:36<02:46,  2.38it/s]"
     ]
    },
    {
     "name": "stdout",
     "output_type": "stream",
     "text": [
      "Inside reset\n",
      "@ 91  > lane width failure :  4.60480349345\n"
     ]
    },
    {
     "name": "stderr",
     "output_type": "stream",
     "text": [
      "\r",
      " 19%|█████████████████████████████████████▏                                                                                                                                                                | 91/485 [00:37<02:46,  2.37it/s]"
     ]
    },
    {
     "name": "stdout",
     "output_type": "stream",
     "text": [
      "Inside reset\n",
      "@ 92  > lane width failure :  4.70982532751\n"
     ]
    },
    {
     "name": "stderr",
     "output_type": "stream",
     "text": [
      "\r",
      " 19%|█████████████████████████████████████▌                                                                                                                                                                | 92/485 [00:37<02:50,  2.31it/s]"
     ]
    },
    {
     "name": "stdout",
     "output_type": "stream",
     "text": [
      "Inside reset\n",
      "@ 93  > lane width failure :  4.55633187773\n"
     ]
    },
    {
     "name": "stderr",
     "output_type": "stream",
     "text": [
      "\r",
      " 19%|█████████████████████████████████████▉                                                                                                                                                                | 93/485 [00:37<02:47,  2.33it/s]"
     ]
    },
    {
     "name": "stdout",
     "output_type": "stream",
     "text": [
      "Inside reset\n",
      "@ 94  > lane width failure :  4.54017467249\n"
     ]
    },
    {
     "name": "stderr",
     "output_type": "stream",
     "text": [
      "\r",
      " 19%|██████████████████████████████████████▍                                                                                                                                                               | 94/485 [00:38<02:47,  2.33it/s]"
     ]
    },
    {
     "name": "stdout",
     "output_type": "stream",
     "text": [
      "Inside reset\n",
      "@ 95  > lane width failure :  4.46746724891\n"
     ]
    },
    {
     "name": "stderr",
     "output_type": "stream",
     "text": [
      "\r",
      " 20%|██████████████████████████████████████▊                                                                                                                                                               | 95/485 [00:38<02:47,  2.33it/s]"
     ]
    },
    {
     "name": "stdout",
     "output_type": "stream",
     "text": [
      "Inside reset\n",
      "@ 96  > lane width failure :  4.41091703057\n"
     ]
    },
    {
     "name": "stderr",
     "output_type": "stream",
     "text": [
      "\r",
      " 20%|███████████████████████████████████████▏                                                                                                                                                              | 96/485 [00:39<02:50,  2.28it/s]"
     ]
    },
    {
     "name": "stdout",
     "output_type": "stream",
     "text": [
      "Inside reset\n",
      "@ 97  > lane width failure :  4.37860262009\n"
     ]
    },
    {
     "name": "stderr",
     "output_type": "stream",
     "text": [
      "\r",
      " 20%|███████████████████████████████████████▌                                                                                                                                                              | 97/485 [00:39<02:46,  2.33it/s]"
     ]
    },
    {
     "name": "stdout",
     "output_type": "stream",
     "text": [
      "Inside reset\n",
      "@ 98  > lane width failure :  4.33013100437\n"
     ]
    },
    {
     "name": "stderr",
     "output_type": "stream",
     "text": [
      "\r",
      " 20%|████████████████████████████████████████                                                                                                                                                              | 98/485 [00:40<02:44,  2.35it/s]"
     ]
    },
    {
     "name": "stdout",
     "output_type": "stream",
     "text": [
      "Inside reset\n",
      "@ 99  > lane width failure :  4.26550218341\n"
     ]
    },
    {
     "name": "stderr",
     "output_type": "stream",
     "text": [
      "\r",
      " 20%|████████████████████████████████████████▍                                                                                                                                                             | 99/485 [00:40<02:42,  2.37it/s]"
     ]
    },
    {
     "name": "stdout",
     "output_type": "stream",
     "text": [
      "Inside reset\n",
      "@ 100  > lane width failure :  4.28973799127\n"
     ]
    },
    {
     "name": "stderr",
     "output_type": "stream",
     "text": [
      "\r",
      " 21%|████████████████████████████████████████▌                                                                                                                                                            | 100/485 [00:40<02:41,  2.39it/s]"
     ]
    },
    {
     "name": "stdout",
     "output_type": "stream",
     "text": [
      "Inside reset\n",
      "@ 101  > lane width failure :  4.37052401747\n"
     ]
    },
    {
     "name": "stderr",
     "output_type": "stream",
     "text": [
      "\r",
      " 21%|█████████████████████████████████████████                                                                                                                                                            | 101/485 [00:41<02:43,  2.35it/s]"
     ]
    },
    {
     "name": "stdout",
     "output_type": "stream",
     "text": [
      "Inside reset\n",
      "@ 102  > 1st order coefficient similarity failure :  -0.0650661710939 -0.623556042713\n"
     ]
    },
    {
     "name": "stderr",
     "output_type": "stream",
     "text": [
      "\r",
      " 21%|█████████████████████████████████████████▍                                                                                                                                                           | 102/485 [00:41<02:42,  2.36it/s]"
     ]
    },
    {
     "name": "stdout",
     "output_type": "stream",
     "text": [
      "Inside reset\n",
      "@ 103  > 1st order coefficient similarity failure :  -0.0635239181829 -0.635260125157\n"
     ]
    },
    {
     "name": "stderr",
     "output_type": "stream",
     "text": [
      "\r",
      " 21%|█████████████████████████████████████████▊                                                                                                                                                           | 103/485 [00:42<02:40,  2.37it/s]"
     ]
    },
    {
     "name": "stdout",
     "output_type": "stream",
     "text": [
      "Inside reset\n",
      "@ 104  > lane width failure :  4.68558951965\n"
     ]
    },
    {
     "name": "stderr",
     "output_type": "stream",
     "text": [
      "\r",
      " 21%|██████████████████████████████████████████▏                                                                                                                                                          | 104/485 [00:42<02:40,  2.37it/s]"
     ]
    },
    {
     "name": "stdout",
     "output_type": "stream",
     "text": [
      "Inside reset\n",
      "@ 105  > 1st order coefficient similarity failure :  0.00518929598608 -0.757262207195\n"
     ]
    },
    {
     "name": "stderr",
     "output_type": "stream",
     "text": [
      "\r",
      " 22%|██████████████████████████████████████████▋                                                                                                                                                          | 105/485 [00:43<02:37,  2.41it/s]"
     ]
    },
    {
     "name": "stdout",
     "output_type": "stream",
     "text": [
      "Inside reset\n",
      "@ 106  > 1st order coefficient similarity failure :  -0.00355157570195 -0.776160924158\n"
     ]
    },
    {
     "name": "stderr",
     "output_type": "stream",
     "text": [
      "\r",
      " 22%|███████████████████████████████████████████                                                                                                                                                          | 106/485 [00:43<02:34,  2.45it/s]"
     ]
    },
    {
     "name": "stdout",
     "output_type": "stream",
     "text": [
      "Inside reset\n"
     ]
    },
    {
     "name": "stderr",
     "output_type": "stream",
     "text": [
      " 24%|███████████████████████████████████████████████▉                                                                                                                                                     | 118/485 [00:47<02:07,  2.89it/s]"
     ]
    },
    {
     "name": "stdout",
     "output_type": "stream",
     "text": [
      "@ 119  > 1st order coefficient similarity failure :  0.0187890601157 -0.446856428652\n"
     ]
    },
    {
     "name": "stderr",
     "output_type": "stream",
     "text": [
      "\r",
      " 25%|████████████████████████████████████████████████▎                                                                                                                                                    | 119/485 [00:47<02:08,  2.85it/s]"
     ]
    },
    {
     "name": "stdout",
     "output_type": "stream",
     "text": [
      "@ 120  > curve check failure :  20173.2220825 478.563491132\n"
     ]
    },
    {
     "name": "stderr",
     "output_type": "stream",
     "text": [
      "\r",
      " 25%|████████████████████████████████████████████████▋                                                                                                                                                    | 120/485 [00:48<02:11,  2.77it/s]"
     ]
    },
    {
     "name": "stdout",
     "output_type": "stream",
     "text": [
      "@ 121  > 2nd order coefficient similarity failure :  -7.72644024377e-05 0.00108821236\n"
     ]
    },
    {
     "name": "stderr",
     "output_type": "stream",
     "text": [
      "\r",
      " 25%|█████████████████████████████████████████████████▏                                                                                                                                                   | 121/485 [00:48<02:11,  2.76it/s]"
     ]
    },
    {
     "name": "stdout",
     "output_type": "stream",
     "text": [
      "@ 122  > 2nd order coefficient similarity failure :  -7.27818014863e-05 0.00114777755671\n"
     ]
    },
    {
     "name": "stderr",
     "output_type": "stream",
     "text": [
      "\r",
      " 25%|█████████████████████████████████████████████████▌                                                                                                                                                   | 122/485 [00:49<02:11,  2.75it/s]"
     ]
    },
    {
     "name": "stdout",
     "output_type": "stream",
     "text": [
      "@ 123  > 2nd order coefficient similarity failure :  -0.000327881800539 0.000530274112719\n"
     ]
    },
    {
     "name": "stderr",
     "output_type": "stream",
     "text": [
      "\r",
      " 25%|█████████████████████████████████████████████████▉                                                                                                                                                   | 123/485 [00:49<02:19,  2.60it/s]"
     ]
    },
    {
     "name": "stdout",
     "output_type": "stream",
     "text": [
      "@ 124  > 2nd order coefficient similarity failure :  -0.000300778498214 0.000669779942804\n"
     ]
    },
    {
     "name": "stderr",
     "output_type": "stream",
     "text": [
      "\r",
      " 26%|██████████████████████████████████████████████████▎                                                                                                                                                  | 124/485 [00:49<02:19,  2.59it/s]"
     ]
    },
    {
     "name": "stdout",
     "output_type": "stream",
     "text": [
      "Inside reset\n",
      "@ 125  > 2nd order coefficient similarity failure :  -0.000368895459753 0.00035901132993\n"
     ]
    },
    {
     "name": "stderr",
     "output_type": "stream",
     "text": [
      "\r",
      " 26%|██████████████████████████████████████████████████▊                                                                                                                                                  | 125/485 [00:50<02:20,  2.56it/s]"
     ]
    },
    {
     "name": "stdout",
     "output_type": "stream",
     "text": [
      "Inside reset\n",
      "@ 126  > 1st order coefficient similarity failure :  0.825483282685 0.322039174873\n"
     ]
    },
    {
     "name": "stderr",
     "output_type": "stream",
     "text": [
      "\r",
      " 26%|███████████████████████████████████████████████████▏                                                                                                                                                 | 126/485 [00:50<02:20,  2.56it/s]"
     ]
    },
    {
     "name": "stdout",
     "output_type": "stream",
     "text": [
      "Inside reset\n",
      "@ 127  > 2nd order coefficient similarity failure :  -0.000691678660177 -3.76728074188e-05\n"
     ]
    },
    {
     "name": "stderr",
     "output_type": "stream",
     "text": [
      "\r",
      " 26%|███████████████████████████████████████████████████▌                                                                                                                                                 | 127/485 [00:51<02:18,  2.58it/s]"
     ]
    },
    {
     "name": "stdout",
     "output_type": "stream",
     "text": [
      "Inside reset\n",
      "@ 128  > 2nd order coefficient similarity failure :  -0.00151045082413 -0.000241958728288\n"
     ]
    },
    {
     "name": "stderr",
     "output_type": "stream",
     "text": [
      "\r",
      " 26%|███████████████████████████████████████████████████▉                                                                                                                                                 | 128/485 [00:51<02:17,  2.60it/s]"
     ]
    },
    {
     "name": "stdout",
     "output_type": "stream",
     "text": [
      "Inside reset\n",
      "@ 129  > 2nd order coefficient similarity failure :  -0.00224212453379 -0.000319180984223\n"
     ]
    },
    {
     "name": "stderr",
     "output_type": "stream",
     "text": [
      "\r",
      " 27%|████████████████████████████████████████████████████▍                                                                                                                                                | 129/485 [00:51<02:13,  2.66it/s]"
     ]
    },
    {
     "name": "stdout",
     "output_type": "stream",
     "text": [
      "Inside reset\n",
      "@ 130  > 2nd order coefficient similarity failure :  -0.0115419474347 0.000132001869009\n"
     ]
    },
    {
     "name": "stderr",
     "output_type": "stream",
     "text": [
      "\r",
      " 27%|████████████████████████████████████████████████████▊                                                                                                                                                | 130/485 [00:52<02:17,  2.59it/s]"
     ]
    },
    {
     "name": "stdout",
     "output_type": "stream",
     "text": [
      "Inside reset\n",
      "@ 131  > 2nd order coefficient similarity failure :  0.00877981734371 -0.000681679878082\n"
     ]
    },
    {
     "name": "stderr",
     "output_type": "stream",
     "text": [
      "\r",
      " 27%|█████████████████████████████████████████████████████▏                                                                                                                                               | 131/485 [00:52<02:14,  2.63it/s]"
     ]
    },
    {
     "name": "stdout",
     "output_type": "stream",
     "text": [
      "Inside reset\n",
      "@ 132  > 2nd order coefficient similarity failure :  -0.0969087062614 0.00035543271992\n"
     ]
    },
    {
     "name": "stderr",
     "output_type": "stream",
     "text": [
      "\r",
      " 27%|█████████████████████████████████████████████████████▌                                                                                                                                               | 132/485 [00:52<02:14,  2.62it/s]"
     ]
    },
    {
     "name": "stdout",
     "output_type": "stream",
     "text": [
      "Inside reset\n",
      "@ 133  > lane width failure :  2.35087336245\n"
     ]
    },
    {
     "name": "stderr",
     "output_type": "stream",
     "text": [
      "\r",
      " 27%|██████████████████████████████████████████████████████                                                                                                                                               | 133/485 [00:53<02:14,  2.62it/s]"
     ]
    },
    {
     "name": "stdout",
     "output_type": "stream",
     "text": [
      "Inside reset\n",
      "@ 134  > low pass failure :  12 23\n"
     ]
    },
    {
     "name": "stderr",
     "output_type": "stream",
     "text": [
      "\r",
      " 28%|██████████████████████████████████████████████████████▍                                                                                                                                              | 134/485 [00:53<02:17,  2.56it/s]"
     ]
    },
    {
     "name": "stdout",
     "output_type": "stream",
     "text": [
      "Inside reset\n",
      "@ 135  > low pass failure :  11 1042\n"
     ]
    },
    {
     "name": "stderr",
     "output_type": "stream",
     "text": [
      "\r",
      " 28%|██████████████████████████████████████████████████████▊                                                                                                                                              | 135/485 [00:54<02:14,  2.59it/s]"
     ]
    },
    {
     "name": "stdout",
     "output_type": "stream",
     "text": [
      "Inside reset\n",
      "@ 136  > low pass failure :  10 1787\n"
     ]
    },
    {
     "name": "stderr",
     "output_type": "stream",
     "text": [
      "\r",
      " 28%|███████████████████████████████████████████████████████▏                                                                                                                                             | 136/485 [00:54<02:14,  2.59it/s]"
     ]
    },
    {
     "name": "stdout",
     "output_type": "stream",
     "text": [
      "Inside reset\n",
      "@ 137  > lane width failure :  2.1731441048\n"
     ]
    },
    {
     "name": "stderr",
     "output_type": "stream",
     "text": [
      "\r",
      " 28%|███████████████████████████████████████████████████████▋                                                                                                                                             | 137/485 [00:54<02:11,  2.65it/s]"
     ]
    },
    {
     "name": "stdout",
     "output_type": "stream",
     "text": [
      "Inside reset\n",
      "@ 138  > lane width failure :  2.15698689956\n"
     ]
    },
    {
     "name": "stderr",
     "output_type": "stream",
     "text": [
      "\r",
      " 28%|████████████████████████████████████████████████████████                                                                                                                                             | 138/485 [00:55<02:11,  2.64it/s]"
     ]
    },
    {
     "name": "stdout",
     "output_type": "stream",
     "text": [
      "Inside reset\n",
      "@ 139  > lane width failure :  2.22161572052\n"
     ]
    },
    {
     "name": "stderr",
     "output_type": "stream",
     "text": [
      "\r",
      " 29%|████████████████████████████████████████████████████████▍                                                                                                                                            | 139/485 [00:55<02:11,  2.63it/s]"
     ]
    },
    {
     "name": "stdout",
     "output_type": "stream",
     "text": [
      "Inside reset\n",
      "@ 140  > 2nd order coefficient similarity failure :  -0.00110556986813 0.000322230482265\n"
     ]
    },
    {
     "name": "stderr",
     "output_type": "stream",
     "text": [
      "\r",
      " 29%|████████████████████████████████████████████████████████▊                                                                                                                                            | 140/485 [00:56<02:11,  2.62it/s]"
     ]
    },
    {
     "name": "stdout",
     "output_type": "stream",
     "text": [
      "Inside reset\n"
     ]
    },
    {
     "name": "stderr",
     "output_type": "stream",
     "text": [
      "\r",
      " 29%|█████████████████████████████████████████████████████████▎                                                                                                                                           | 141/485 [00:56<02:09,  2.66it/s]"
     ]
    },
    {
     "name": "stdout",
     "output_type": "stream",
     "text": [
      "@ 142  > 2nd order coefficient similarity failure :  -0.000178072258688 0.000413717094891\n"
     ]
    },
    {
     "name": "stderr",
     "output_type": "stream",
     "text": [
      "\r",
      " 29%|█████████████████████████████████████████████████████████▋                                                                                                                                           | 142/485 [00:56<02:07,  2.69it/s]"
     ]
    },
    {
     "name": "stdout",
     "output_type": "stream",
     "text": [
      "@ 143  > 1st order coefficient similarity failure :  0.100326577359 -0.354033682527\n"
     ]
    },
    {
     "name": "stderr",
     "output_type": "stream",
     "text": [
      "\r",
      " 29%|██████████████████████████████████████████████████████████                                                                                                                                           | 143/485 [00:57<02:07,  2.67it/s]"
     ]
    },
    {
     "name": "stdout",
     "output_type": "stream",
     "text": [
      "@ 144  > 1st order coefficient similarity failure :  -0.0112188767112 -0.696449287325\n"
     ]
    },
    {
     "name": "stderr",
     "output_type": "stream",
     "text": [
      "\r",
      " 30%|██████████████████████████████████████████████████████████▍                                                                                                                                          | 144/485 [00:57<02:06,  2.70it/s]"
     ]
    },
    {
     "name": "stdout",
     "output_type": "stream",
     "text": [
      "@ 145  > 2nd order coefficient similarity failure :  0.000375199850369 0.00103944409191\n"
     ]
    },
    {
     "name": "stderr",
     "output_type": "stream",
     "text": [
      "\r",
      " 30%|██████████████████████████████████████████████████████████▉                                                                                                                                          | 145/485 [00:57<02:08,  2.64it/s]"
     ]
    },
    {
     "name": "stdout",
     "output_type": "stream",
     "text": [
      "@ 146  > 2nd order coefficient similarity failure :  0.000100675743486 0.000646750212065\n"
     ]
    },
    {
     "name": "stderr",
     "output_type": "stream",
     "text": [
      "\r",
      " 30%|███████████████████████████████████████████████████████████▎                                                                                                                                         | 146/485 [00:58<02:11,  2.59it/s]"
     ]
    },
    {
     "name": "stdout",
     "output_type": "stream",
     "text": [
      "@ 147  > 1st order coefficient similarity failure :  0.0525878696691 -0.471986591211\n"
     ]
    },
    {
     "name": "stderr",
     "output_type": "stream",
     "text": [
      "\r",
      " 30%|███████████████████████████████████████████████████████████▋                                                                                                                                         | 147/485 [00:58<02:11,  2.56it/s]"
     ]
    },
    {
     "name": "stdout",
     "output_type": "stream",
     "text": [
      "Inside reset\n",
      "@ 148  > lane width failure :  4.91179039301\n"
     ]
    },
    {
     "name": "stderr",
     "output_type": "stream",
     "text": [
      "\r",
      " 31%|████████████████████████████████████████████████████████████                                                                                                                                         | 148/485 [00:59<02:13,  2.52it/s]"
     ]
    },
    {
     "name": "stdout",
     "output_type": "stream",
     "text": [
      "Inside reset\n",
      "@ 149  > lane width failure :  4.87139737991\n"
     ]
    },
    {
     "name": "stderr",
     "output_type": "stream",
     "text": [
      "\r",
      " 31%|████████████████████████████████████████████████████████████▌                                                                                                                                        | 149/485 [00:59<02:11,  2.56it/s]"
     ]
    },
    {
     "name": "stdout",
     "output_type": "stream",
     "text": [
      "Inside reset\n",
      "@ 150  > lane width failure :  4.94410480349\n"
     ]
    },
    {
     "name": "stderr",
     "output_type": "stream",
     "text": [
      "\r",
      " 31%|████████████████████████████████████████████████████████████▉                                                                                                                                        | 150/485 [00:59<02:11,  2.55it/s]"
     ]
    },
    {
     "name": "stdout",
     "output_type": "stream",
     "text": [
      "Inside reset\n",
      "@ 151  > lane width failure :  4.83100436681\n"
     ]
    },
    {
     "name": "stderr",
     "output_type": "stream",
     "text": [
      "\r",
      " 31%|█████████████████████████████████████████████████████████████▎                                                                                                                                       | 151/485 [01:00<02:10,  2.57it/s]"
     ]
    },
    {
     "name": "stdout",
     "output_type": "stream",
     "text": [
      "Inside reset\n",
      "@ 152  > lane width failure :  4.77445414847\n"
     ]
    },
    {
     "name": "stderr",
     "output_type": "stream",
     "text": [
      "\r",
      " 31%|█████████████████████████████████████████████████████████████▋                                                                                                                                       | 152/485 [01:00<02:08,  2.59it/s]"
     ]
    },
    {
     "name": "stdout",
     "output_type": "stream",
     "text": [
      "Inside reset\n",
      "@ 153  > lane width failure :  4.58864628821\n"
     ]
    },
    {
     "name": "stderr",
     "output_type": "stream",
     "text": [
      "\r",
      " 32%|██████████████████████████████████████████████████████████████▏                                                                                                                                      | 153/485 [01:01<02:06,  2.62it/s]"
     ]
    },
    {
     "name": "stdout",
     "output_type": "stream",
     "text": [
      "Inside reset\n",
      "@ 154  > lane width failure :  4.71790393013\n"
     ]
    },
    {
     "name": "stderr",
     "output_type": "stream",
     "text": [
      "\r",
      " 32%|██████████████████████████████████████████████████████████████▌                                                                                                                                      | 154/485 [01:01<02:05,  2.63it/s]"
     ]
    },
    {
     "name": "stdout",
     "output_type": "stream",
     "text": [
      "Inside reset\n",
      "@ 155  > lane width failure :  4.60480349345\n"
     ]
    },
    {
     "name": "stderr",
     "output_type": "stream",
     "text": [
      "\r",
      " 32%|██████████████████████████████████████████████████████████████▉                                                                                                                                      | 155/485 [01:01<02:06,  2.61it/s]"
     ]
    },
    {
     "name": "stdout",
     "output_type": "stream",
     "text": [
      "Inside reset\n",
      "@ 156  > lane width failure :  4.57248908297\n"
     ]
    },
    {
     "name": "stderr",
     "output_type": "stream",
     "text": [
      "\r",
      " 32%|███████████████████████████████████████████████████████████████▎                                                                                                                                     | 156/485 [01:02<02:05,  2.61it/s]"
     ]
    },
    {
     "name": "stdout",
     "output_type": "stream",
     "text": [
      "Inside reset\n",
      "@ 157  > 1st order coefficient similarity failure :  0.140407901345 -0.412806663309\n"
     ]
    },
    {
     "name": "stderr",
     "output_type": "stream",
     "text": [
      "\r",
      " 32%|███████████████████████████████████████████████████████████████▊                                                                                                                                     | 157/485 [01:02<02:06,  2.60it/s]"
     ]
    },
    {
     "name": "stdout",
     "output_type": "stream",
     "text": [
      "Inside reset\n",
      "@ 158  > lane width failure :  4.60480349345\n"
     ]
    },
    {
     "name": "stderr",
     "output_type": "stream",
     "text": [
      "\r",
      " 33%|████████████████████████████████████████████████████████████████▏                                                                                                                                    | 158/485 [01:02<02:05,  2.61it/s]"
     ]
    },
    {
     "name": "stdout",
     "output_type": "stream",
     "text": [
      "Inside reset\n",
      "@ 159  > 1st order coefficient similarity failure :  0.0478425865545 -0.487869666081\n"
     ]
    },
    {
     "name": "stderr",
     "output_type": "stream",
     "text": [
      "\r",
      " 33%|████████████████████████████████████████████████████████████████▌                                                                                                                                    | 159/485 [01:03<02:04,  2.61it/s]"
     ]
    },
    {
     "name": "stdout",
     "output_type": "stream",
     "text": [
      "Inside reset\n",
      "@ 160  > 1st order coefficient similarity failure :  0.0577858677989 -0.516653739664\n"
     ]
    },
    {
     "name": "stderr",
     "output_type": "stream",
     "text": [
      "\r",
      " 33%|████████████████████████████████████████████████████████████████▉                                                                                                                                    | 160/485 [01:03<02:04,  2.60it/s]"
     ]
    },
    {
     "name": "stdout",
     "output_type": "stream",
     "text": [
      "Inside reset\n"
     ]
    },
    {
     "name": "stderr",
     "output_type": "stream",
     "text": [
      " 33%|█████████████████████████████████████████████████████████████████▊                                                                                                                                   | 162/485 [01:04<02:00,  2.68it/s]"
     ]
    },
    {
     "name": "stdout",
     "output_type": "stream",
     "text": [
      "@ 163  > Continuity check failed - right curve variation high :  675.599783427 6568.91741174\n"
     ]
    },
    {
     "name": "stderr",
     "output_type": "stream",
     "text": [
      "\r",
      " 34%|██████████████████████████████████████████████████████████████████▏                                                                                                                                  | 163/485 [01:04<01:59,  2.70it/s]"
     ]
    },
    {
     "name": "stdout",
     "output_type": "stream",
     "text": [
      "@ 164  > 1st order coefficient similarity failure :  0.162440338864 -0.283721494479\n"
     ]
    },
    {
     "name": "stderr",
     "output_type": "stream",
     "text": [
      "\r",
      " 34%|██████████████████████████████████████████████████████████████████▌                                                                                                                                  | 164/485 [01:05<01:58,  2.70it/s]"
     ]
    },
    {
     "name": "stdout",
     "output_type": "stream",
     "text": [
      "@ 165  > 1st order coefficient similarity failure :  0.147157298206 -0.329221106019\n"
     ]
    },
    {
     "name": "stderr",
     "output_type": "stream",
     "text": [
      "\r",
      " 34%|███████████████████████████████████████████████████████████████████                                                                                                                                  | 165/485 [01:05<01:57,  2.72it/s]"
     ]
    },
    {
     "name": "stdout",
     "output_type": "stream",
     "text": [
      "@ 166  > 1st order coefficient similarity failure :  0.164108368678 -0.303485332632\n"
     ]
    },
    {
     "name": "stderr",
     "output_type": "stream",
     "text": [
      "\r",
      " 34%|███████████████████████████████████████████████████████████████████▍                                                                                                                                 | 166/485 [01:05<01:55,  2.76it/s]"
     ]
    },
    {
     "name": "stdout",
     "output_type": "stream",
     "text": [
      "@ 167  > 1st order coefficient similarity failure :  0.196399851984 -0.311003738228\n"
     ]
    },
    {
     "name": "stderr",
     "output_type": "stream",
     "text": [
      "\r",
      " 34%|███████████████████████████████████████████████████████████████████▊                                                                                                                                 | 167/485 [01:06<01:57,  2.70it/s]"
     ]
    },
    {
     "name": "stdout",
     "output_type": "stream",
     "text": [
      "@ 168  > 1st order coefficient similarity failure :  0.178486123868 -0.350465240255\n"
     ]
    },
    {
     "name": "stderr",
     "output_type": "stream",
     "text": [
      "\r",
      " 35%|████████████████████████████████████████████████████████████████████▏                                                                                                                                | 168/485 [01:06<01:57,  2.71it/s]"
     ]
    },
    {
     "name": "stdout",
     "output_type": "stream",
     "text": [
      "Inside reset\n",
      "@ 169  > 1st order coefficient similarity failure :  0.179489880671 -0.372877120888\n"
     ]
    },
    {
     "name": "stderr",
     "output_type": "stream",
     "text": [
      "\r",
      " 35%|████████████████████████████████████████████████████████████████████▋                                                                                                                                | 169/485 [01:07<01:59,  2.65it/s]"
     ]
    },
    {
     "name": "stdout",
     "output_type": "stream",
     "text": [
      "Inside reset\n",
      "@ 170  > 1st order coefficient similarity failure :  0.168716936386 -0.437503316263\n"
     ]
    },
    {
     "name": "stderr",
     "output_type": "stream",
     "text": [
      "\r",
      " 35%|█████████████████████████████████████████████████████████████████████                                                                                                                                | 170/485 [01:07<02:00,  2.62it/s]"
     ]
    },
    {
     "name": "stdout",
     "output_type": "stream",
     "text": [
      "Inside reset\n",
      "@ 171  > 1st order coefficient similarity failure :  0.15226700744 -0.428502962316\n"
     ]
    },
    {
     "name": "stderr",
     "output_type": "stream",
     "text": [
      "\r",
      " 35%|█████████████████████████████████████████████████████████████████████▍                                                                                                                               | 171/485 [01:07<02:00,  2.61it/s]"
     ]
    },
    {
     "name": "stdout",
     "output_type": "stream",
     "text": [
      "Inside reset\n",
      "@ 172  > 1st order coefficient similarity failure :  0.145965482646 -0.470089419564\n"
     ]
    },
    {
     "name": "stderr",
     "output_type": "stream",
     "text": [
      "\r",
      " 35%|█████████████████████████████████████████████████████████████████████▊                                                                                                                               | 172/485 [01:08<02:00,  2.60it/s]"
     ]
    },
    {
     "name": "stdout",
     "output_type": "stream",
     "text": [
      "Inside reset\n",
      "@ 173  > 1st order coefficient similarity failure :  0.14810171795 -0.502154873337\n"
     ]
    },
    {
     "name": "stderr",
     "output_type": "stream",
     "text": [
      "\r",
      " 36%|██████████████████████████████████████████████████████████████████████▎                                                                                                                              | 173/485 [01:08<01:59,  2.62it/s]"
     ]
    },
    {
     "name": "stdout",
     "output_type": "stream",
     "text": [
      "Inside reset\n"
     ]
    },
    {
     "name": "stderr",
     "output_type": "stream",
     "text": [
      " 36%|███████████████████████████████████████████████████████████████████████▍                                                                                                                             | 176/485 [01:09<01:52,  2.74it/s]"
     ]
    },
    {
     "name": "stdout",
     "output_type": "stream",
     "text": [
      "@ 177  > 1st order coefficient similarity failure :  0.151872062443 -0.245888652924\n"
     ]
    },
    {
     "name": "stderr",
     "output_type": "stream",
     "text": [
      "\r",
      " 36%|███████████████████████████████████████████████████████████████████████▉                                                                                                                             | 177/485 [01:10<01:52,  2.74it/s]"
     ]
    },
    {
     "name": "stdout",
     "output_type": "stream",
     "text": [
      "@ 178  > 1st order coefficient similarity failure :  0.177673697754 -0.306743865984\n"
     ]
    },
    {
     "name": "stderr",
     "output_type": "stream",
     "text": [
      "\r",
      " 37%|████████████████████████████████████████████████████████████████████████▎                                                                                                                            | 178/485 [01:10<01:50,  2.77it/s]"
     ]
    },
    {
     "name": "stdout",
     "output_type": "stream",
     "text": [
      "@ 179  > 1st order coefficient similarity failure :  0.146473368089 -0.318157128605\n"
     ]
    },
    {
     "name": "stderr",
     "output_type": "stream",
     "text": [
      "\r",
      " 37%|████████████████████████████████████████████████████████████████████████▋                                                                                                                            | 179/485 [01:10<01:50,  2.77it/s]"
     ]
    },
    {
     "name": "stdout",
     "output_type": "stream",
     "text": [
      "@ 180  > 1st order coefficient similarity failure :  0.156224316898 -0.365367989048\n"
     ]
    },
    {
     "name": "stderr",
     "output_type": "stream",
     "text": [
      "\r",
      " 37%|█████████████████████████████████████████████████████████████████████████                                                                                                                            | 180/485 [01:11<01:51,  2.74it/s]"
     ]
    },
    {
     "name": "stdout",
     "output_type": "stream",
     "text": [
      "@ 181  > curve check failure :  69110.3584999 317.056471601\n"
     ]
    },
    {
     "name": "stderr",
     "output_type": "stream",
     "text": [
      "\r",
      " 37%|█████████████████████████████████████████████████████████████████████████▌                                                                                                                           | 181/485 [01:11<01:51,  2.73it/s]"
     ]
    },
    {
     "name": "stdout",
     "output_type": "stream",
     "text": [
      "@ 182  > 1st order coefficient similarity failure :  0.161867003716 -0.379710403282\n"
     ]
    },
    {
     "name": "stderr",
     "output_type": "stream",
     "text": [
      "\r",
      " 38%|█████████████████████████████████████████████████████████████████████████▉                                                                                                                           | 182/485 [01:11<01:51,  2.72it/s]"
     ]
    },
    {
     "name": "stdout",
     "output_type": "stream",
     "text": [
      "Inside reset\n",
      "@ 183  > 1st order coefficient similarity failure :  0.115467240963 -0.405109281776\n"
     ]
    },
    {
     "name": "stderr",
     "output_type": "stream",
     "text": [
      "\r",
      " 38%|██████████████████████████████████████████████████████████████████████████▎                                                                                                                          | 183/485 [01:12<01:51,  2.70it/s]"
     ]
    },
    {
     "name": "stdout",
     "output_type": "stream",
     "text": [
      "Inside reset\n",
      "@ 184  > 1st order coefficient similarity failure :  0.191339742664 -0.414527180453\n"
     ]
    },
    {
     "name": "stderr",
     "output_type": "stream",
     "text": [
      "\r",
      " 38%|██████████████████████████████████████████████████████████████████████████▋                                                                                                                          | 184/485 [01:12<01:51,  2.69it/s]"
     ]
    },
    {
     "name": "stdout",
     "output_type": "stream",
     "text": [
      "Inside reset\n",
      "@ 185  > 1st order coefficient similarity failure :  0.182376405206 -0.415677889008\n"
     ]
    },
    {
     "name": "stderr",
     "output_type": "stream",
     "text": [
      "\r",
      " 38%|███████████████████████████████████████████████████████████████████████████▏                                                                                                                         | 185/485 [01:12<01:53,  2.64it/s]"
     ]
    },
    {
     "name": "stdout",
     "output_type": "stream",
     "text": [
      "Inside reset\n",
      "@ 186  > 1st order coefficient similarity failure :  0.152517450123 -0.455531947754\n"
     ]
    },
    {
     "name": "stderr",
     "output_type": "stream",
     "text": [
      "\r",
      " 38%|███████████████████████████████████████████████████████████████████████████▌                                                                                                                         | 186/485 [01:13<01:53,  2.63it/s]"
     ]
    },
    {
     "name": "stdout",
     "output_type": "stream",
     "text": [
      "Inside reset\n",
      "@ 187  > 1st order coefficient similarity failure :  0.114045273733 -0.513749196587\n"
     ]
    },
    {
     "name": "stderr",
     "output_type": "stream",
     "text": [
      "\r",
      " 39%|███████████████████████████████████████████████████████████████████████████▉                                                                                                                         | 187/485 [01:13<01:53,  2.62it/s]"
     ]
    },
    {
     "name": "stdout",
     "output_type": "stream",
     "text": [
      "Inside reset\n"
     ]
    },
    {
     "name": "stderr",
     "output_type": "stream",
     "text": [
      " 40%|██████████████████████████████████████████████████████████████████████████████▍                                                                                                                      | 193/485 [01:15<01:43,  2.81it/s]"
     ]
    },
    {
     "name": "stdout",
     "output_type": "stream",
     "text": [
      "@ 194  > 1st order coefficient similarity failure :  0.0506541294098 -0.381867990476\n"
     ]
    },
    {
     "name": "stderr",
     "output_type": "stream",
     "text": [
      "\r",
      " 40%|██████████████████████████████████████████████████████████████████████████████▊                                                                                                                      | 194/485 [01:16<01:43,  2.81it/s]"
     ]
    },
    {
     "name": "stdout",
     "output_type": "stream",
     "text": [
      "@ 195  > 1st order coefficient similarity failure :  0.017528605583 -0.39794473713\n"
     ]
    },
    {
     "name": "stderr",
     "output_type": "stream",
     "text": [
      "\r",
      " 40%|███████████████████████████████████████████████████████████████████████████████▏                                                                                                                     | 195/485 [01:16<01:44,  2.78it/s]"
     ]
    },
    {
     "name": "stdout",
     "output_type": "stream",
     "text": [
      "@ 196  > 1st order coefficient similarity failure :  0.0161184238692 -0.383044990259\n"
     ]
    },
    {
     "name": "stderr",
     "output_type": "stream",
     "text": [
      "\r",
      " 40%|███████████████████████████████████████████████████████████████████████████████▌                                                                                                                     | 196/485 [01:16<01:44,  2.78it/s]"
     ]
    },
    {
     "name": "stdout",
     "output_type": "stream",
     "text": [
      "@ 197  > 1st order coefficient similarity failure :  0.0724148624411 -0.344266085565\n"
     ]
    },
    {
     "name": "stderr",
     "output_type": "stream",
     "text": [
      "\r",
      " 41%|████████████████████████████████████████████████████████████████████████████████                                                                                                                     | 197/485 [01:17<01:44,  2.75it/s]"
     ]
    },
    {
     "name": "stdout",
     "output_type": "stream",
     "text": [
      "@ 198  > 1st order coefficient similarity failure :  0.108420876631 -0.352499561904\n"
     ]
    },
    {
     "name": "stderr",
     "output_type": "stream",
     "text": [
      "\r",
      " 41%|████████████████████████████████████████████████████████████████████████████████▍                                                                                                                    | 198/485 [01:17<01:44,  2.75it/s]"
     ]
    },
    {
     "name": "stdout",
     "output_type": "stream",
     "text": [
      "@ 199  > 1st order coefficient similarity failure :  0.0884877607978 -0.438379018219\n"
     ]
    },
    {
     "name": "stderr",
     "output_type": "stream",
     "text": [
      "\r",
      " 41%|████████████████████████████████████████████████████████████████████████████████▊                                                                                                                    | 199/485 [01:18<01:44,  2.74it/s]"
     ]
    },
    {
     "name": "stdout",
     "output_type": "stream",
     "text": [
      "Inside reset\n"
     ]
    },
    {
     "name": "stderr",
     "output_type": "stream",
     "text": [
      " 42%|██████████████████████████████████████████████████████████████████████████████████                                                                                                                   | 202/485 [01:19<01:40,  2.81it/s]"
     ]
    },
    {
     "name": "stdout",
     "output_type": "stream",
     "text": [
      "@ 203  > Continuity check failed - right curve variation high :  354.106795979 7549.70861353\n"
     ]
    },
    {
     "name": "stderr",
     "output_type": "stream",
     "text": [
      "\r",
      " 42%|██████████████████████████████████████████████████████████████████████████████████▍                                                                                                                  | 203/485 [01:19<01:40,  2.82it/s]"
     ]
    },
    {
     "name": "stdout",
     "output_type": "stream",
     "text": [
      "@ 204  > Continuity check failed - right curve variation high :  270.134553109 7549.70861353\n"
     ]
    },
    {
     "name": "stderr",
     "output_type": "stream",
     "text": [
      "\r",
      " 42%|██████████████████████████████████████████████████████████████████████████████████▊                                                                                                                  | 204/485 [01:19<01:41,  2.76it/s]"
     ]
    },
    {
     "name": "stdout",
     "output_type": "stream",
     "text": [
      "@ 205  > Continuity check failed - right curve variation high :  276.910054904 7549.70861353\n"
     ]
    },
    {
     "name": "stderr",
     "output_type": "stream",
     "text": [
      "\r",
      " 42%|███████████████████████████████████████████████████████████████████████████████████▎                                                                                                                 | 205/485 [01:20<01:41,  2.76it/s]"
     ]
    },
    {
     "name": "stdout",
     "output_type": "stream",
     "text": [
      "@ 206  > Continuity check failed - right curve variation high :  334.741741746 7549.70861353\n"
     ]
    },
    {
     "name": "stderr",
     "output_type": "stream",
     "text": [
      "\r",
      " 42%|███████████████████████████████████████████████████████████████████████████████████▋                                                                                                                 | 206/485 [01:20<01:41,  2.75it/s]"
     ]
    },
    {
     "name": "stdout",
     "output_type": "stream",
     "text": [
      "@ 207  > Continuity check failed - right curve variation high :  242.972940034 7549.70861353\n"
     ]
    },
    {
     "name": "stderr",
     "output_type": "stream",
     "text": [
      "\r",
      " 43%|████████████████████████████████████████████████████████████████████████████████████                                                                                                                 | 207/485 [01:20<01:40,  2.75it/s]"
     ]
    },
    {
     "name": "stdout",
     "output_type": "stream",
     "text": [
      "@ 208  > 1st order coefficient similarity failure :  -0.00687620983003 -0.39965472954\n"
     ]
    },
    {
     "name": "stderr",
     "output_type": "stream",
     "text": [
      "\r",
      " 43%|████████████████████████████████████████████████████████████████████████████████████▍                                                                                                                | 208/485 [01:21<01:40,  2.76it/s]"
     ]
    },
    {
     "name": "stdout",
     "output_type": "stream",
     "text": [
      "Inside reset\n",
      "@ 209  > 1st order coefficient similarity failure :  0.0158929141684 -0.378343991533\n"
     ]
    },
    {
     "name": "stderr",
     "output_type": "stream",
     "text": [
      "\r",
      " 43%|████████████████████████████████████████████████████████████████████████████████████▉                                                                                                                | 209/485 [01:21<01:42,  2.69it/s]"
     ]
    },
    {
     "name": "stdout",
     "output_type": "stream",
     "text": [
      "Inside reset\n",
      "@ 210  > 1st order coefficient similarity failure :  0.0199965119386 -0.453887867597\n"
     ]
    },
    {
     "name": "stderr",
     "output_type": "stream",
     "text": [
      "\r",
      " 43%|█████████████████████████████████████████████████████████████████████████████████████▎                                                                                                               | 210/485 [01:22<01:42,  2.68it/s]"
     ]
    },
    {
     "name": "stdout",
     "output_type": "stream",
     "text": [
      "Inside reset\n",
      "@ 211  > 1st order coefficient similarity failure :  0.03491856259 -0.410412648646\n"
     ]
    },
    {
     "name": "stderr",
     "output_type": "stream",
     "text": [
      "\r",
      " 44%|█████████████████████████████████████████████████████████████████████████████████████▋                                                                                                               | 211/485 [01:22<01:44,  2.61it/s]"
     ]
    },
    {
     "name": "stdout",
     "output_type": "stream",
     "text": [
      "Inside reset\n"
     ]
    },
    {
     "name": "stderr",
     "output_type": "stream",
     "text": [
      " 45%|█████████████████████████████████████████████████████████████████████████████████████████▎                                                                                                           | 220/485 [01:25<01:34,  2.82it/s]"
     ]
    },
    {
     "name": "stdout",
     "output_type": "stream",
     "text": [
      "@ 221  > 1st order coefficient similarity failure :  -0.0276159051461 -0.410413968037\n"
     ]
    },
    {
     "name": "stderr",
     "output_type": "stream",
     "text": [
      "\r",
      " 46%|█████████████████████████████████████████████████████████████████████████████████████████▊                                                                                                           | 221/485 [01:26<01:34,  2.78it/s]"
     ]
    },
    {
     "name": "stdout",
     "output_type": "stream",
     "text": [
      "@ 222  > 1st order coefficient similarity failure :  0.000298743825533 -0.386453997768\n"
     ]
    },
    {
     "name": "stderr",
     "output_type": "stream",
     "text": [
      "\r",
      " 46%|██████████████████████████████████████████████████████████████████████████████████████████▏                                                                                                          | 222/485 [01:26<01:34,  2.78it/s]"
     ]
    },
    {
     "name": "stdout",
     "output_type": "stream",
     "text": [
      "@ 223  > 1st order coefficient similarity failure :  0.00650149547871 -0.427764271456\n"
     ]
    },
    {
     "name": "stderr",
     "output_type": "stream",
     "text": [
      "\r",
      " 46%|██████████████████████████████████████████████████████████████████████████████████████████▌                                                                                                          | 223/485 [01:26<01:35,  2.75it/s]"
     ]
    },
    {
     "name": "stdout",
     "output_type": "stream",
     "text": [
      "@ 224  > 1st order coefficient similarity failure :  -0.0219835472679 -0.420875539277\n"
     ]
    },
    {
     "name": "stderr",
     "output_type": "stream",
     "text": [
      "\r",
      " 46%|██████████████████████████████████████████████████████████████████████████████████████████▉                                                                                                          | 224/485 [01:27<01:35,  2.73it/s]"
     ]
    },
    {
     "name": "stdout",
     "output_type": "stream",
     "text": [
      "@ 225  > 1st order coefficient similarity failure :  -0.0543740061245 -0.509308848085\n"
     ]
    },
    {
     "name": "stderr",
     "output_type": "stream",
     "text": [
      " 51%|███████████████████████████████████████████████████████████████████████████████████████████████████▉                                                                                                 | 246/485 [01:34<01:24,  2.84it/s]"
     ]
    },
    {
     "name": "stdout",
     "output_type": "stream",
     "text": [
      "@ 247  > 1st order coefficient similarity failure :  0.0208796355319 -0.329635058056\n"
     ]
    },
    {
     "name": "stderr",
     "output_type": "stream",
     "text": [
      "\r",
      " 51%|████████████████████████████████████████████████████████████████████████████████████████████████████▎                                                                                                | 247/485 [01:35<01:25,  2.77it/s]"
     ]
    },
    {
     "name": "stdout",
     "output_type": "stream",
     "text": [
      "@ 248  > 1st order coefficient similarity failure :  7.10261403771e-05 -0.39640043468\n"
     ]
    },
    {
     "name": "stderr",
     "output_type": "stream",
     "text": [
      "\r",
      " 51%|████████████████████████████████████████████████████████████████████████████████████████████████████▋                                                                                                | 248/485 [01:35<01:25,  2.79it/s]"
     ]
    },
    {
     "name": "stdout",
     "output_type": "stream",
     "text": [
      "@ 249  > 1st order coefficient similarity failure :  0.0280245738163 -0.351765641408\n"
     ]
    },
    {
     "name": "stderr",
     "output_type": "stream",
     "text": [
      "\r",
      " 51%|█████████████████████████████████████████████████████████████████████████████████████████████████████▏                                                                                               | 249/485 [01:35<01:27,  2.69it/s]"
     ]
    },
    {
     "name": "stdout",
     "output_type": "stream",
     "text": [
      "@ 250  > 1st order coefficient similarity failure :  0.014476243788 -0.370178831845\n"
     ]
    },
    {
     "name": "stderr",
     "output_type": "stream",
     "text": [
      "\r",
      " 52%|█████████████████████████████████████████████████████████████████████████████████████████████████████▌                                                                                               | 250/485 [01:36<01:27,  2.67it/s]"
     ]
    },
    {
     "name": "stdout",
     "output_type": "stream",
     "text": [
      "@ 251  > 1st order coefficient similarity failure :  0.00265170916591 -0.459812713433\n"
     ]
    },
    {
     "name": "stderr",
     "output_type": "stream",
     "text": [
      "\r",
      " 52%|█████████████████████████████████████████████████████████████████████████████████████████████████████▉                                                                                               | 251/485 [01:36<01:28,  2.65it/s]"
     ]
    },
    {
     "name": "stdout",
     "output_type": "stream",
     "text": [
      "@ 252  > 1st order coefficient similarity failure :  -0.0267480137862 -0.426384112157\n"
     ]
    },
    {
     "name": "stderr",
     "output_type": "stream",
     "text": [
      "\r",
      " 52%|██████████████████████████████████████████████████████████████████████████████████████████████████████▎                                                                                              | 252/485 [01:37<01:26,  2.71it/s]"
     ]
    },
    {
     "name": "stdout",
     "output_type": "stream",
     "text": [
      "Inside reset\n",
      "@ 253  > lane width failure :  4.41091703057\n"
     ]
    },
    {
     "name": "stderr",
     "output_type": "stream",
     "text": [
      "\r",
      " 52%|██████████████████████████████████████████████████████████████████████████████████████████████████████▊                                                                                              | 253/485 [01:37<01:28,  2.63it/s]"
     ]
    },
    {
     "name": "stdout",
     "output_type": "stream",
     "text": [
      "Inside reset\n",
      "@ 254  > lane width failure :  4.43515283843\n"
     ]
    },
    {
     "name": "stderr",
     "output_type": "stream",
     "text": [
      "\r",
      " 52%|███████████████████████████████████████████████████████████████████████████████████████████████████████▏                                                                                             | 254/485 [01:37<01:27,  2.63it/s]"
     ]
    },
    {
     "name": "stdout",
     "output_type": "stream",
     "text": [
      "Inside reset\n",
      "@ 255  > lane width failure :  4.48362445415\n"
     ]
    },
    {
     "name": "stderr",
     "output_type": "stream",
     "text": [
      "\r",
      " 53%|███████████████████████████████████████████████████████████████████████████████████████████████████████▌                                                                                             | 255/485 [01:38<01:28,  2.61it/s]"
     ]
    },
    {
     "name": "stdout",
     "output_type": "stream",
     "text": [
      "Inside reset\n",
      "@ 256  > lane width failure :  4.53209606987\n"
     ]
    },
    {
     "name": "stderr",
     "output_type": "stream",
     "text": [
      "\r",
      " 53%|███████████████████████████████████████████████████████████████████████████████████████████████████████▉                                                                                             | 256/485 [01:38<01:28,  2.60it/s]"
     ]
    },
    {
     "name": "stdout",
     "output_type": "stream",
     "text": [
      "Inside reset\n"
     ]
    },
    {
     "name": "stderr",
     "output_type": "stream",
     "text": [
      " 54%|██████████████████████████████████████████████████████████████████████████████████████████████████████████▊                                                                                          | 263/485 [01:41<01:17,  2.87it/s]"
     ]
    },
    {
     "name": "stdout",
     "output_type": "stream",
     "text": [
      "@ 264  > 1st order coefficient similarity failure :  -0.141106817923 -0.492903452289\n"
     ]
    },
    {
     "name": "stderr",
     "output_type": "stream",
     "text": [
      " 55%|███████████████████████████████████████████████████████████████████████████████████████████████████████████▋                                                                                         | 265/485 [01:41<01:18,  2.81it/s]"
     ]
    },
    {
     "name": "stdout",
     "output_type": "stream",
     "text": [
      "@ 266  > 1st order coefficient similarity failure :  -0.161330252807 -0.518623600884\n"
     ]
    },
    {
     "name": "stderr",
     "output_type": "stream",
     "text": [
      "\r",
      " 55%|████████████████████████████████████████████████████████████████████████████████████████████████████████████                                                                                         | 266/485 [01:42<01:18,  2.79it/s]"
     ]
    },
    {
     "name": "stdout",
     "output_type": "stream",
     "text": [
      "@ 267  > 1st order coefficient similarity failure :  -0.144585995672 -0.512622043315\n"
     ]
    },
    {
     "name": "stderr",
     "output_type": "stream",
     "text": [
      " 61%|███████████████████████████████████████████████████████████████████████████████████████████████████████████████████████▍                                                                             | 294/485 [01:51<01:06,  2.89it/s]"
     ]
    },
    {
     "name": "stdout",
     "output_type": "stream",
     "text": [
      "@ 295  > 1st order coefficient similarity failure :  -0.0448003844309 -0.434631919603\n"
     ]
    },
    {
     "name": "stderr",
     "output_type": "stream",
     "text": [
      "\r",
      " 61%|███████████████████████████████████████████████████████████████████████████████████████████████████████████████████████▊                                                                             | 295/485 [01:52<01:06,  2.84it/s]"
     ]
    },
    {
     "name": "stdout",
     "output_type": "stream",
     "text": [
      "@ 296  > 1st order coefficient similarity failure :  0.00658532017625 -0.426321893185\n"
     ]
    },
    {
     "name": "stderr",
     "output_type": "stream",
     "text": [
      " 61%|████████████████████████████████████████████████████████████████████████████████████████████████████████████████████████▋                                                                            | 297/485 [01:52<01:06,  2.83it/s]"
     ]
    },
    {
     "name": "stdout",
     "output_type": "stream",
     "text": [
      "@ 298  > curve check failure :  1330.44936198 393457.970035\n"
     ]
    },
    {
     "name": "stderr",
     "output_type": "stream",
     "text": [
      " 62%|█████████████████████████████████████████████████████████████████████████████████████████████████████████████████████████▊                                                                           | 300/485 [01:54<01:05,  2.84it/s]"
     ]
    },
    {
     "name": "stdout",
     "output_type": "stream",
     "text": [
      "@ 301  > Continuity check failed - right curve variation high :  460.114604254 1894.69178205\n"
     ]
    },
    {
     "name": "stderr",
     "output_type": "stream",
     "text": [
      "\r",
      " 62%|██████████████████████████████████████████████████████████████████████████████████████████████████████████████████████████▎                                                                          | 301/485 [01:54<01:05,  2.81it/s]"
     ]
    },
    {
     "name": "stdout",
     "output_type": "stream",
     "text": [
      "@ 302  > 1st order coefficient similarity failure :  0.104188784097 -0.273230381938\n"
     ]
    },
    {
     "name": "stderr",
     "output_type": "stream",
     "text": [
      "\r",
      " 62%|██████████████████████████████████████████████████████████████████████████████████████████████████████████████████████████▋                                                                          | 302/485 [01:54<01:05,  2.79it/s]"
     ]
    },
    {
     "name": "stdout",
     "output_type": "stream",
     "text": [
      "@ 303  > 1st order coefficient similarity failure :  0.111478708002 -0.332049151344\n"
     ]
    },
    {
     "name": "stderr",
     "output_type": "stream",
     "text": [
      "\r",
      " 62%|███████████████████████████████████████████████████████████████████████████████████████████████████████████████████████████                                                                          | 303/485 [01:55<01:05,  2.78it/s]"
     ]
    },
    {
     "name": "stdout",
     "output_type": "stream",
     "text": [
      "@ 304  > 1st order coefficient similarity failure :  0.00285652451671 -0.390197165129\n"
     ]
    },
    {
     "name": "stderr",
     "output_type": "stream",
     "text": [
      "\r",
      " 63%|███████████████████████████████████████████████████████████████████████████████████████████████████████████████████████████▍                                                                         | 304/485 [01:55<01:05,  2.77it/s]"
     ]
    },
    {
     "name": "stdout",
     "output_type": "stream",
     "text": [
      "@ 305  > Continuity check failed - right curve variation high :  283.072239665 1894.69178205\n"
     ]
    },
    {
     "name": "stderr",
     "output_type": "stream",
     "text": [
      "\r",
      " 63%|███████████████████████████████████████████████████████████████████████████████████████████████████████████████████████████▉                                                                         | 305/485 [01:55<01:05,  2.76it/s]"
     ]
    },
    {
     "name": "stdout",
     "output_type": "stream",
     "text": [
      "@ 306  > 1st order coefficient similarity failure :  0.00640279597644 -0.369306377115\n"
     ]
    },
    {
     "name": "stderr",
     "output_type": "stream",
     "text": [
      "\r",
      " 63%|████████████████████████████████████████████████████████████████████████████████████████████████████████████████████████████▎                                                                        | 306/485 [01:56<01:04,  2.78it/s]"
     ]
    },
    {
     "name": "stdout",
     "output_type": "stream",
     "text": [
      "Inside reset\n",
      "@ 307  > lane width failure :  4.41091703057\n"
     ]
    },
    {
     "name": "stderr",
     "output_type": "stream",
     "text": [
      "\r",
      " 63%|████████████████████████████████████████████████████████████████████████████████████████████████████████████████████████████▋                                                                        | 307/485 [01:56<01:04,  2.74it/s]"
     ]
    },
    {
     "name": "stdout",
     "output_type": "stream",
     "text": [
      "Inside reset\n",
      "@ 308  > 1st order coefficient similarity failure :  0.0285863039315 -0.408315128022\n"
     ]
    },
    {
     "name": "stderr",
     "output_type": "stream",
     "text": [
      "\r",
      " 64%|█████████████████████████████████████████████████████████████████████████████████████████████████████████████████████████████                                                                        | 308/485 [01:56<01:06,  2.68it/s]"
     ]
    },
    {
     "name": "stdout",
     "output_type": "stream",
     "text": [
      "Inside reset\n",
      "@ 309  > 1st order coefficient similarity failure :  0.010392694114 -0.412613421504\n"
     ]
    },
    {
     "name": "stderr",
     "output_type": "stream",
     "text": [
      "\r",
      " 64%|█████████████████████████████████████████████████████████████████████████████████████████████████████████████████████████████▌                                                                       | 309/485 [01:57<01:05,  2.67it/s]"
     ]
    },
    {
     "name": "stdout",
     "output_type": "stream",
     "text": [
      "Inside reset\n",
      "@ 310  > 1st order coefficient similarity failure :  0.0121202416086 -0.427755581886\n"
     ]
    },
    {
     "name": "stderr",
     "output_type": "stream",
     "text": [
      "\r",
      " 64%|█████████████████████████████████████████████████████████████████████████████████████████████████████████████████████████████▉                                                                       | 310/485 [01:57<01:06,  2.64it/s]"
     ]
    },
    {
     "name": "stdout",
     "output_type": "stream",
     "text": [
      "Inside reset\n"
     ]
    },
    {
     "name": "stderr",
     "output_type": "stream",
     "text": [
      " 66%|██████████████████████████████████████████████████████████████████████████████████████████████████████████████████████████████████▍                                                                  | 321/485 [02:01<00:56,  2.89it/s]"
     ]
    },
    {
     "name": "stdout",
     "output_type": "stream",
     "text": [
      "@ 322  > 1st order coefficient similarity failure :  0.0281968605407 -0.371766361539\n"
     ]
    },
    {
     "name": "stderr",
     "output_type": "stream",
     "text": [
      "\r",
      " 66%|██████████████████████████████████████████████████████████████████████████████████████████████████████████████████████████████████▊                                                                  | 322/485 [02:01<00:56,  2.89it/s]"
     ]
    },
    {
     "name": "stdout",
     "output_type": "stream",
     "text": [
      "@ 323  > 1st order coefficient similarity failure :  0.0276001476639 -0.344386243455\n"
     ]
    },
    {
     "name": "stderr",
     "output_type": "stream",
     "text": [
      " 67%|███████████████████████████████████████████████████████████████████████████████████████████████████████████████████████████████████▌                                                                 | 324/485 [02:02<00:57,  2.81it/s]"
     ]
    },
    {
     "name": "stdout",
     "output_type": "stream",
     "text": [
      "@ 325  > curve check failure :  1186.74958134 24569.3062046\n"
     ]
    },
    {
     "name": "stderr",
     "output_type": "stream",
     "text": [
      "\r",
      " 67%|████████████████████████████████████████████████████████████████████████████████████████████████████████████████████████████████████                                                                 | 325/485 [02:02<00:57,  2.79it/s]"
     ]
    },
    {
     "name": "stdout",
     "output_type": "stream",
     "text": [
      "@ 326  > Continuity check failed - right curve variation high :  559.641407047 9772.21781937\n"
     ]
    },
    {
     "name": "stderr",
     "output_type": "stream",
     "text": [
      "\r",
      " 67%|████████████████████████████████████████████████████████████████████████████████████████████████████████████████████████████████████▍                                                                | 326/485 [02:03<00:57,  2.78it/s]"
     ]
    },
    {
     "name": "stdout",
     "output_type": "stream",
     "text": [
      "@ 327  > left and right curves similarity failure :  19326.7418912 364.240999149\n"
     ]
    },
    {
     "name": "stderr",
     "output_type": "stream",
     "text": [
      "\r",
      " 67%|████████████████████████████████████████████████████████████████████████████████████████████████████████████████████████████████████▊                                                                | 327/485 [02:03<00:57,  2.76it/s]"
     ]
    },
    {
     "name": "stdout",
     "output_type": "stream",
     "text": [
      "@ 328  > Continuity check failed - right curve variation high :  361.987101665 9772.21781937\n"
     ]
    },
    {
     "name": "stderr",
     "output_type": "stream",
     "text": [
      "\r",
      " 68%|█████████████████████████████████████████████████████████████████████████████████████████████████████████████████████████████████████▏                                                               | 328/485 [02:04<00:56,  2.77it/s]"
     ]
    },
    {
     "name": "stdout",
     "output_type": "stream",
     "text": [
      "@ 329  > Continuity check failed - right curve variation high :  383.729583151 9772.21781937\n"
     ]
    },
    {
     "name": "stderr",
     "output_type": "stream",
     "text": [
      "\r",
      " 68%|█████████████████████████████████████████████████████████████████████████████████████████████████████████████████████████████████████▋                                                               | 329/485 [02:04<00:56,  2.76it/s]"
     ]
    },
    {
     "name": "stdout",
     "output_type": "stream",
     "text": [
      "@ 330  > curve check failure :  32387.9364576 353.106995742\n"
     ]
    },
    {
     "name": "stderr",
     "output_type": "stream",
     "text": [
      "\r",
      " 68%|██████████████████████████████████████████████████████████████████████████████████████████████████████████████████████████████████████                                                               | 330/485 [02:04<00:56,  2.73it/s]"
     ]
    },
    {
     "name": "stdout",
     "output_type": "stream",
     "text": [
      "Inside reset\n",
      "@ 331  > 1st order coefficient similarity failure :  0.135893324748 -0.28992554038\n"
     ]
    },
    {
     "name": "stderr",
     "output_type": "stream",
     "text": [
      "\r",
      " 68%|██████████████████████████████████████████████████████████████████████████████████████████████████████████████████████████████████████▍                                                              | 331/485 [02:05<00:57,  2.68it/s]"
     ]
    },
    {
     "name": "stdout",
     "output_type": "stream",
     "text": [
      "Inside reset\n",
      "@ 332  > curve check failure :  55206.0205713 282.017635771\n"
     ]
    },
    {
     "name": "stderr",
     "output_type": "stream",
     "text": [
      "\r",
      " 68%|██████████████████████████████████████████████████████████████████████████████████████████████████████████████████████████████████████▊                                                              | 332/485 [02:05<00:57,  2.66it/s]"
     ]
    },
    {
     "name": "stdout",
     "output_type": "stream",
     "text": [
      "Inside reset\n",
      "@ 333  > curve check failure :  169603.237865 295.281481937\n"
     ]
    },
    {
     "name": "stderr",
     "output_type": "stream",
     "text": [
      "\r",
      " 69%|███████████████████████████████████████████████████████████████████████████████████████████████████████████████████████████████████████▎                                                             | 333/485 [02:05<00:56,  2.67it/s]"
     ]
    },
    {
     "name": "stdout",
     "output_type": "stream",
     "text": [
      "Inside reset\n",
      "@ 334  > 1st order coefficient similarity failure :  0.182479765409 -0.285585990013\n"
     ]
    },
    {
     "name": "stderr",
     "output_type": "stream",
     "text": [
      "\r",
      " 69%|███████████████████████████████████████████████████████████████████████████████████████████████████████████████████████████████████████▋                                                             | 334/485 [02:06<00:57,  2.63it/s]"
     ]
    },
    {
     "name": "stdout",
     "output_type": "stream",
     "text": [
      "Inside reset\n",
      "@ 335  > curve check failure :  28526.6794016 339.467554912\n"
     ]
    },
    {
     "name": "stderr",
     "output_type": "stream",
     "text": [
      "\r",
      " 69%|████████████████████████████████████████████████████████████████████████████████████████████████████████████████████████████████████████                                                             | 335/485 [02:06<00:57,  2.61it/s]"
     ]
    },
    {
     "name": "stdout",
     "output_type": "stream",
     "text": [
      "Inside reset\n",
      "@ 336  > 1st order coefficient similarity failure :  0.168454720967 -0.28603045824\n"
     ]
    },
    {
     "name": "stderr",
     "output_type": "stream",
     "text": [
      "\r",
      " 69%|████████████████████████████████████████████████████████████████████████████████████████████████████████████████████████████████████████▍                                                            | 336/485 [02:07<00:57,  2.61it/s]"
     ]
    },
    {
     "name": "stdout",
     "output_type": "stream",
     "text": [
      "Inside reset\n"
     ]
    },
    {
     "name": "stderr",
     "output_type": "stream",
     "text": [
      " 70%|█████████████████████████████████████████████████████████████████████████████████████████████████████████████████████████████████████████▋                                                           | 339/485 [02:08<00:52,  2.75it/s]"
     ]
    },
    {
     "name": "stdout",
     "output_type": "stream",
     "text": [
      "@ 340  > Continuity check failed - right curve variation high :  282.893157713 2988.18495861\n"
     ]
    },
    {
     "name": "stderr",
     "output_type": "stream",
     "text": [
      "\r",
      " 70%|██████████████████████████████████████████████████████████████████████████████████████████████████████████████████████████████████████████                                                           | 340/485 [02:08<00:52,  2.75it/s]"
     ]
    },
    {
     "name": "stdout",
     "output_type": "stream",
     "text": [
      "@ 341  > Continuity check failed - right curve variation high :  447.997653169 2988.18495861\n"
     ]
    },
    {
     "name": "stderr",
     "output_type": "stream",
     "text": [
      "\r",
      " 70%|██████████████████████████████████████████████████████████████████████████████████████████████████████████████████████████████████████████▌                                                          | 341/485 [02:08<00:52,  2.75it/s]"
     ]
    },
    {
     "name": "stdout",
     "output_type": "stream",
     "text": [
      "@ 342  > Continuity check failed - right curve variation high :  350.390533611 2988.18495861\n"
     ]
    },
    {
     "name": "stderr",
     "output_type": "stream",
     "text": [
      "\r",
      " 71%|██████████████████████████████████████████████████████████████████████████████████████████████████████████████████████████████████████████▉                                                          | 342/485 [02:09<00:51,  2.75it/s]"
     ]
    },
    {
     "name": "stdout",
     "output_type": "stream",
     "text": [
      "@ 343  > Continuity check failed - right curve variation high :  340.132135108 2988.18495861\n"
     ]
    },
    {
     "name": "stderr",
     "output_type": "stream",
     "text": [
      "\r",
      " 71%|███████████████████████████████████████████████████████████████████████████████████████████████████████████████████████████████████████████▎                                                         | 343/485 [02:09<00:51,  2.75it/s]"
     ]
    },
    {
     "name": "stdout",
     "output_type": "stream",
     "text": [
      "@ 344  > Continuity check failed - right curve variation high :  389.57305805 2988.18495861\n"
     ]
    },
    {
     "name": "stderr",
     "output_type": "stream",
     "text": [
      "\r",
      " 71%|███████████████████████████████████████████████████████████████████████████████████████████████████████████████████████████████████████████▋                                                         | 344/485 [02:10<00:51,  2.75it/s]"
     ]
    },
    {
     "name": "stdout",
     "output_type": "stream",
     "text": [
      "@ 345  > 1st order coefficient similarity failure :  0.199291367662 -0.156841004172\n"
     ]
    },
    {
     "name": "stderr",
     "output_type": "stream",
     "text": [
      "\r",
      " 71%|████████████████████████████████████████████████████████████████████████████████████████████████████████████████████████████████████████████▏                                                        | 345/485 [02:10<00:50,  2.75it/s]"
     ]
    },
    {
     "name": "stdout",
     "output_type": "stream",
     "text": [
      "Inside reset\n"
     ]
    },
    {
     "name": "stderr",
     "output_type": "stream",
     "text": [
      " 73%|███████████████████████████████████████████████████████████████████████████████████████████████████████████████████████████████████████████████▍                                                     | 353/485 [02:13<00:45,  2.88it/s]"
     ]
    },
    {
     "name": "stdout",
     "output_type": "stream",
     "text": [
      "@ 354  > Continuity check failed - right curve variation high :  439.575251643 1778.83173498\n"
     ]
    },
    {
     "name": "stderr",
     "output_type": "stream",
     "text": [
      " 74%|█████████████████████████████████████████████████████████████████████████████████████████████████████████████████████████████████████████████████▊                                                   | 359/485 [02:15<00:43,  2.92it/s]"
     ]
    },
    {
     "name": "stdout",
     "output_type": "stream",
     "text": [
      "@ 360  > 1st order coefficient similarity failure :  0.16833020793 -0.22220007041\n"
     ]
    },
    {
     "name": "stderr",
     "output_type": "stream",
     "text": [
      "\r",
      " 74%|██████████████████████████████████████████████████████████████████████████████████████████████████████████████████████████████████████████████████▏                                                  | 360/485 [02:15<00:43,  2.85it/s]"
     ]
    },
    {
     "name": "stdout",
     "output_type": "stream",
     "text": [
      "@ 361  > curve check failure :  188691.97267 353.67239773\n"
     ]
    },
    {
     "name": "stderr",
     "output_type": "stream",
     "text": [
      "\r",
      " 74%|██████████████████████████████████████████████████████████████████████████████████████████████████████████████████████████████████████████████████▋                                                  | 361/485 [02:15<00:44,  2.82it/s]"
     ]
    },
    {
     "name": "stdout",
     "output_type": "stream",
     "text": [
      "@ 362  > 1st order coefficient similarity failure :  0.191669843407 -0.183052796167\n"
     ]
    },
    {
     "name": "stderr",
     "output_type": "stream",
     "text": [
      "\r",
      " 75%|███████████████████████████████████████████████████████████████████████████████████████████████████████████████████████████████████████████████████                                                  | 362/485 [02:16<00:43,  2.80it/s]"
     ]
    },
    {
     "name": "stdout",
     "output_type": "stream",
     "text": [
      "@ 363  > 1st order coefficient similarity failure :  0.177121807689 -0.188531762896\n"
     ]
    },
    {
     "name": "stderr",
     "output_type": "stream",
     "text": [
      " 76%|██████████████████████████████████████████████████████████████████████████████████████████████████████████████████████████████████████████████████████▎                                              | 370/485 [02:19<00:39,  2.91it/s]"
     ]
    },
    {
     "name": "stdout",
     "output_type": "stream",
     "text": [
      "@ 371  > 1st order coefficient similarity failure :  0.254214522495 -0.110104172125\n"
     ]
    },
    {
     "name": "stderr",
     "output_type": "stream",
     "text": [
      "\r",
      " 76%|██████████████████████████████████████████████████████████████████████████████████████████████████████████████████████████████████████████████████████▋                                              | 371/485 [02:19<00:40,  2.84it/s]"
     ]
    },
    {
     "name": "stdout",
     "output_type": "stream",
     "text": [
      "@ 372  > 1st order coefficient similarity failure :  0.262234296496 -0.150260589612\n"
     ]
    },
    {
     "name": "stderr",
     "output_type": "stream",
     "text": [
      "\r",
      " 77%|███████████████████████████████████████████████████████████████████████████████████████████████████████████████████████████████████████████████████████                                              | 372/485 [02:19<00:40,  2.80it/s]"
     ]
    },
    {
     "name": "stdout",
     "output_type": "stream",
     "text": [
      "@ 373  > 1st order coefficient similarity failure :  0.260516179354 -0.176682843457\n"
     ]
    },
    {
     "name": "stderr",
     "output_type": "stream",
     "text": [
      "\r",
      " 77%|███████████████████████████████████████████████████████████████████████████████████████████████████████████████████████████████████████████████████████▌                                             | 373/485 [02:20<00:40,  2.78it/s]"
     ]
    },
    {
     "name": "stdout",
     "output_type": "stream",
     "text": [
      "@ 374  > 1st order coefficient similarity failure :  0.275160149678 -0.212963087931\n"
     ]
    },
    {
     "name": "stderr",
     "output_type": "stream",
     "text": [
      "\r",
      " 77%|███████████████████████████████████████████████████████████████████████████████████████████████████████████████████████████████████████████████████████▉                                             | 374/485 [02:20<00:39,  2.82it/s]"
     ]
    },
    {
     "name": "stdout",
     "output_type": "stream",
     "text": [
      "@ 375  > 1st order coefficient similarity failure :  0.255400808281 -0.217492279652\n"
     ]
    },
    {
     "name": "stderr",
     "output_type": "stream",
     "text": [
      "\r",
      " 77%|████████████████████████████████████████████████████████████████████████████████████████████████████████████████████████████████████████████████████████▎                                            | 375/485 [02:20<00:39,  2.76it/s]"
     ]
    },
    {
     "name": "stdout",
     "output_type": "stream",
     "text": [
      "@ 376  > 1st order coefficient similarity failure :  0.229723814683 -0.209944415956\n"
     ]
    },
    {
     "name": "stderr",
     "output_type": "stream",
     "text": [
      "\r",
      " 78%|████████████████████████████████████████████████████████████████████████████████████████████████████████████████████████████████████████████████████████▋                                            | 376/485 [02:21<00:39,  2.75it/s]"
     ]
    },
    {
     "name": "stdout",
     "output_type": "stream",
     "text": [
      "Inside reset\n",
      "@ 377  > 1st order coefficient similarity failure :  0.234796425968 -0.198488627282\n"
     ]
    },
    {
     "name": "stderr",
     "output_type": "stream",
     "text": [
      "\r",
      " 78%|█████████████████████████████████████████████████████████████████████████████████████████████████████████████████████████████████████████████████████████▏                                           | 377/485 [02:21<00:39,  2.72it/s]"
     ]
    },
    {
     "name": "stdout",
     "output_type": "stream",
     "text": [
      "Inside reset\n",
      "@ 378  > 1st order coefficient similarity failure :  0.242325307012 -0.212320372389\n"
     ]
    },
    {
     "name": "stderr",
     "output_type": "stream",
     "text": [
      "\r",
      " 78%|█████████████████████████████████████████████████████████████████████████████████████████████████████████████████████████████████████████████████████████▌                                           | 378/485 [02:22<00:40,  2.67it/s]"
     ]
    },
    {
     "name": "stdout",
     "output_type": "stream",
     "text": [
      "Inside reset\n",
      "@ 379  > left and right curves similarity failure :  11072.7397994 376.480224637\n"
     ]
    },
    {
     "name": "stderr",
     "output_type": "stream",
     "text": [
      "\r",
      " 78%|█████████████████████████████████████████████████████████████████████████████████████████████████████████████████████████████████████████████████████████▉                                           | 379/485 [02:22<00:39,  2.65it/s]"
     ]
    },
    {
     "name": "stdout",
     "output_type": "stream",
     "text": [
      "Inside reset\n"
     ]
    },
    {
     "name": "stderr",
     "output_type": "stream",
     "text": [
      " 79%|██████████████████████████████████████████████████████████████████████████████████████████████████████████████████████████████████████████████████████████▊                                          | 381/485 [02:23<00:38,  2.73it/s]"
     ]
    },
    {
     "name": "stdout",
     "output_type": "stream",
     "text": [
      "@ 382  > curve check failure :  43886.1535075 41398.7427984\n"
     ]
    },
    {
     "name": "stderr",
     "output_type": "stream",
     "text": [
      "\r",
      " 79%|███████████████████████████████████████████████████████████████████████████████████████████████████████████████████████████████████████████████████████████▏                                         | 382/485 [02:23<00:37,  2.75it/s]"
     ]
    },
    {
     "name": "stdout",
     "output_type": "stream",
     "text": [
      "@ 383  > curve check failure :  88554.0998354 834.195484656\n"
     ]
    },
    {
     "name": "stderr",
     "output_type": "stream",
     "text": [
      "\r",
      " 79%|███████████████████████████████████████████████████████████████████████████████████████████████████████████████████████████████████████████████████████████▌                                         | 383/485 [02:23<00:37,  2.72it/s]"
     ]
    },
    {
     "name": "stdout",
     "output_type": "stream",
     "text": [
      "@ 384  > 1st order coefficient similarity failure :  0.372953924493 -0.119900356884\n"
     ]
    },
    {
     "name": "stderr",
     "output_type": "stream",
     "text": [
      "\r",
      " 79%|███████████████████████████████████████████████████████████████████████████████████████████████████████████████████████████████████████████████████████████▉                                         | 384/485 [02:24<00:37,  2.73it/s]"
     ]
    },
    {
     "name": "stdout",
     "output_type": "stream",
     "text": [
      "@ 385  > 1st order coefficient similarity failure :  0.369692795034 -0.126945179874\n"
     ]
    },
    {
     "name": "stderr",
     "output_type": "stream",
     "text": [
      "\r",
      " 79%|████████████████████████████████████████████████████████████████████████████████████████████████████████████████████████████████████████████████████████████▍                                        | 385/485 [02:24<00:36,  2.74it/s]"
     ]
    },
    {
     "name": "stdout",
     "output_type": "stream",
     "text": [
      "@ 386  > 1st order coefficient similarity failure :  0.33343599419 -0.140401861549\n"
     ]
    },
    {
     "name": "stderr",
     "output_type": "stream",
     "text": [
      "\r",
      " 80%|████████████████████████████████████████████████████████████████████████████████████████████████████████████████████████████████████████████████████████████▊                                        | 386/485 [02:25<00:36,  2.72it/s]"
     ]
    },
    {
     "name": "stdout",
     "output_type": "stream",
     "text": [
      "@ 387  > 1st order coefficient similarity failure :  0.312464944021 -0.255343033565\n"
     ]
    },
    {
     "name": "stderr",
     "output_type": "stream",
     "text": [
      "\r",
      " 80%|█████████████████████████████████████████████████████████████████████████████████████████████████████████████████████████████████████████████████████████████▏                                       | 387/485 [02:25<00:36,  2.72it/s]"
     ]
    },
    {
     "name": "stdout",
     "output_type": "stream",
     "text": [
      "Inside reset\n",
      "@ 388  > 2nd order coefficient similarity failure :  -0.000103335614169 0.000427335422284\n"
     ]
    },
    {
     "name": "stderr",
     "output_type": "stream",
     "text": [
      "\r",
      " 80%|█████████████████████████████████████████████████████████████████████████████████████████████████████████████████████████████████████████████████████████████▌                                       | 388/485 [02:25<00:35,  2.70it/s]"
     ]
    },
    {
     "name": "stdout",
     "output_type": "stream",
     "text": [
      "Inside reset\n",
      "@ 389  > 1st order coefficient similarity failure :  0.41765824147 -0.247490424637\n"
     ]
    },
    {
     "name": "stderr",
     "output_type": "stream",
     "text": [
      "\r",
      " 80%|██████████████████████████████████████████████████████████████████████████████████████████████████████████████████████████████████████████████████████████████                                       | 389/485 [02:26<00:36,  2.66it/s]"
     ]
    },
    {
     "name": "stdout",
     "output_type": "stream",
     "text": [
      "Inside reset\n",
      "@ 390  > 1st order coefficient similarity failure :  0.406677809323 -0.230432090012\n"
     ]
    },
    {
     "name": "stderr",
     "output_type": "stream",
     "text": [
      "\r",
      " 80%|██████████████████████████████████████████████████████████████████████████████████████████████████████████████████████████████████████████████████████████████▍                                      | 390/485 [02:26<00:36,  2.63it/s]"
     ]
    },
    {
     "name": "stdout",
     "output_type": "stream",
     "text": [
      "Inside reset\n",
      "@ 391  > 1st order coefficient similarity failure :  0.412261132011 -0.258634162777\n"
     ]
    },
    {
     "name": "stderr",
     "output_type": "stream",
     "text": [
      "\r",
      " 81%|██████████████████████████████████████████████████████████████████████████████████████████████████████████████████████████████████████████████████████████████▊                                      | 391/485 [02:26<00:35,  2.66it/s]"
     ]
    },
    {
     "name": "stdout",
     "output_type": "stream",
     "text": [
      "Inside reset\n",
      "@ 392  > 1st order coefficient similarity failure :  0.390232640308 -0.321021821397\n"
     ]
    },
    {
     "name": "stderr",
     "output_type": "stream",
     "text": [
      "\r",
      " 81%|███████████████████████████████████████████████████████████████████████████████████████████████████████████████████████████████████████████████████████████████▏                                     | 392/485 [02:27<00:35,  2.64it/s]"
     ]
    },
    {
     "name": "stdout",
     "output_type": "stream",
     "text": [
      "Inside reset\n"
     ]
    },
    {
     "name": "stderr",
     "output_type": "stream",
     "text": [
      " 81%|████████████████████████████████████████████████████████████████████████████████████████████████████████████████████████████████████████████████████████████████▍                                    | 395/485 [02:28<00:32,  2.77it/s]"
     ]
    },
    {
     "name": "stdout",
     "output_type": "stream",
     "text": [
      "@ 396  > curve check failure :  615.156081005 47180.6542411\n"
     ]
    },
    {
     "name": "stderr",
     "output_type": "stream",
     "text": [
      "\r",
      " 82%|████████████████████████████████████████████████████████████████████████████████████████████████████████████████████████████████████████████████████████████████▊                                    | 396/485 [02:28<00:31,  2.79it/s]"
     ]
    },
    {
     "name": "stdout",
     "output_type": "stream",
     "text": [
      "@ 397  > Continuity check failed - right curve variation high :  537.019756538 7117.69167688\n"
     ]
    },
    {
     "name": "stderr",
     "output_type": "stream",
     "text": [
      "\r",
      " 82%|█████████████████████████████████████████████████████████████████████████████████████████████████████████████████████████████████████████████████████████████████▎                                   | 397/485 [02:29<00:32,  2.74it/s]"
     ]
    },
    {
     "name": "stdout",
     "output_type": "stream",
     "text": [
      "@ 398  > 1st order coefficient similarity failure :  0.202663779481 -0.151057313315\n"
     ]
    },
    {
     "name": "stderr",
     "output_type": "stream",
     "text": [
      "\r",
      " 82%|█████████████████████████████████████████████████████████████████████████████████████████████████████████████████████████████████████████████████████████████████▋                                   | 398/485 [02:29<00:32,  2.71it/s]"
     ]
    },
    {
     "name": "stdout",
     "output_type": "stream",
     "text": [
      "@ 399  > Continuity check failed - right curve variation high :  444.258499264 7117.69167688\n"
     ]
    },
    {
     "name": "stderr",
     "output_type": "stream",
     "text": [
      "\r",
      " 82%|██████████████████████████████████████████████████████████████████████████████████████████████████████████████████████████████████████████████████████████████████                                   | 399/485 [02:29<00:31,  2.72it/s]"
     ]
    },
    {
     "name": "stdout",
     "output_type": "stream",
     "text": [
      "@ 400  > 1st order coefficient similarity failure :  0.148792868741 -0.22259944326\n"
     ]
    },
    {
     "name": "stderr",
     "output_type": "stream",
     "text": [
      "\r",
      " 82%|██████████████████████████████████████████████████████████████████████████████████████████████████████████████████████████████████████████████████████████████████▍                                  | 400/485 [02:30<00:31,  2.72it/s]"
     ]
    },
    {
     "name": "stdout",
     "output_type": "stream",
     "text": [
      "@ 401  > 1st order coefficient similarity failure :  0.163879124981 -0.298113006414\n"
     ]
    },
    {
     "name": "stderr",
     "output_type": "stream",
     "text": [
      "\r",
      " 83%|██████████████████████████████████████████████████████████████████████████████████████████████████████████████████████████████████████████████████████████████████▉                                  | 401/485 [02:30<00:30,  2.74it/s]"
     ]
    },
    {
     "name": "stdout",
     "output_type": "stream",
     "text": [
      "Inside reset\n",
      "@ 402  > 1st order coefficient similarity failure :  0.22171615837 -0.313636709153\n"
     ]
    },
    {
     "name": "stderr",
     "output_type": "stream",
     "text": [
      "\r",
      " 83%|███████████████████████████████████████████████████████████████████████████████████████████████████████████████████████████████████████████████████████████████████▎                                 | 402/485 [02:30<00:30,  2.70it/s]"
     ]
    },
    {
     "name": "stdout",
     "output_type": "stream",
     "text": [
      "Inside reset\n",
      "@ 403  > 1st order coefficient similarity failure :  0.378015480713 -0.311565920855\n"
     ]
    },
    {
     "name": "stderr",
     "output_type": "stream",
     "text": [
      "\r",
      " 83%|███████████████████████████████████████████████████████████████████████████████████████████████████████████████████████████████████████████████████████████████████▋                                 | 403/485 [02:31<00:30,  2.67it/s]"
     ]
    },
    {
     "name": "stdout",
     "output_type": "stream",
     "text": [
      "Inside reset\n",
      "@ 404  > 1st order coefficient similarity failure :  0.0736857175626 -0.362698923674\n"
     ]
    },
    {
     "name": "stderr",
     "output_type": "stream",
     "text": [
      "\r",
      " 83%|████████████████████████████████████████████████████████████████████████████████████████████████████████████████████████████████████████████████████████████████████                                 | 404/485 [02:31<00:30,  2.70it/s]"
     ]
    },
    {
     "name": "stdout",
     "output_type": "stream",
     "text": [
      "Inside reset\n",
      "@ 405  > 1st order coefficient similarity failure :  0.0344024547773 -0.357004106668\n"
     ]
    },
    {
     "name": "stderr",
     "output_type": "stream",
     "text": [
      "\r",
      " 84%|████████████████████████████████████████████████████████████████████████████████████████████████████████████████████████████████████████████████████████████████████▌                                | 405/485 [02:32<00:30,  2.64it/s]"
     ]
    },
    {
     "name": "stdout",
     "output_type": "stream",
     "text": [
      "Inside reset\n"
     ]
    },
    {
     "name": "stderr",
     "output_type": "stream",
     "text": [
      " 84%|██████████████████████████████████████████████████████████████████████████████████████████████████████████████████████████████████████████████████████████████████████▏                              | 409/485 [02:33<00:26,  2.82it/s]"
     ]
    },
    {
     "name": "stdout",
     "output_type": "stream",
     "text": [
      "@ 410  > lane width failure :  4.227233305\n"
     ]
    },
    {
     "name": "stderr",
     "output_type": "stream",
     "text": [
      "\r",
      " 85%|██████████████████████████████████████████████████████████████████████████████████████████████████████████████████████████████████████████████████████████████████████▌                              | 410/485 [02:33<00:26,  2.78it/s]"
     ]
    },
    {
     "name": "stdout",
     "output_type": "stream",
     "text": [
      "@ 411  > lane width failure :  4.227233305\n"
     ]
    },
    {
     "name": "stderr",
     "output_type": "stream",
     "text": [
      "\r",
      " 85%|██████████████████████████████████████████████████████████████████████████████████████████████████████████████████████████████████████████████████████████████████████▉                              | 411/485 [02:34<00:26,  2.81it/s]"
     ]
    },
    {
     "name": "stdout",
     "output_type": "stream",
     "text": [
      "@ 412  > lane width failure :  4.227233305\n"
     ]
    },
    {
     "name": "stderr",
     "output_type": "stream",
     "text": [
      "\r",
      " 85%|███████████████████████████████████████████████████████████████████████████████████████████████████████████████████████████████████████████████████████████████████████▎                             | 412/485 [02:34<00:26,  2.80it/s]"
     ]
    },
    {
     "name": "stdout",
     "output_type": "stream",
     "text": [
      "@ 413  > lane width failure :  4.227233305\n"
     ]
    },
    {
     "name": "stderr",
     "output_type": "stream",
     "text": [
      "\r",
      " 85%|███████████████████████████████████████████████████████████████████████████████████████████████████████████████████████████████████████████████████████████████████████▊                             | 413/485 [02:34<00:25,  2.79it/s]"
     ]
    },
    {
     "name": "stdout",
     "output_type": "stream",
     "text": [
      "@ 414  > lane width failure :  4.227233305\n"
     ]
    },
    {
     "name": "stderr",
     "output_type": "stream",
     "text": [
      "\r",
      " 85%|████████████████████████████████████████████████████████████████████████████████████████████████████████████████████████████████████████████████████████████████████████▏                            | 414/485 [02:35<00:25,  2.78it/s]"
     ]
    },
    {
     "name": "stdout",
     "output_type": "stream",
     "text": [
      "@ 415  > lane width failure :  4.227233305\n"
     ]
    },
    {
     "name": "stderr",
     "output_type": "stream",
     "text": [
      "\r",
      " 86%|████████████████████████████████████████████████████████████████████████████████████████████████████████████████████████████████████████████████████████████████████████▌                            | 415/485 [02:35<00:25,  2.76it/s]"
     ]
    },
    {
     "name": "stdout",
     "output_type": "stream",
     "text": [
      "Inside reset\n",
      "@ 416  > 1st order coefficient similarity failure :  0.148525487713 -0.317328192595\n"
     ]
    },
    {
     "name": "stderr",
     "output_type": "stream",
     "text": [
      "\r",
      " 86%|████████████████████████████████████████████████████████████████████████████████████████████████████████████████████████████████████████████████████████████████████████▉                            | 416/485 [02:36<00:25,  2.74it/s]"
     ]
    },
    {
     "name": "stdout",
     "output_type": "stream",
     "text": [
      "Inside reset\n",
      "@ 417  > 1st order coefficient similarity failure :  0.11191717708 -0.275558328045\n"
     ]
    },
    {
     "name": "stderr",
     "output_type": "stream",
     "text": [
      "\r",
      " 86%|█████████████████████████████████████████████████████████████████████████████████████████████████████████████████████████████████████████████████████████████████████████▍                           | 417/485 [02:36<00:24,  2.74it/s]"
     ]
    },
    {
     "name": "stdout",
     "output_type": "stream",
     "text": [
      "Inside reset\n"
     ]
    },
    {
     "name": "stderr",
     "output_type": "stream",
     "text": [
      " 87%|███████████████████████████████████████████████████████████████████████████████████████████████████████████████████████████████████████████████████████████████████████████▊                         | 423/485 [02:38<00:21,  2.88it/s]"
     ]
    },
    {
     "name": "stdout",
     "output_type": "stream",
     "text": [
      "@ 424  > Continuity check failed - right curve variation high :  644.40281183 4646.84011098\n"
     ]
    },
    {
     "name": "stderr",
     "output_type": "stream",
     "text": [
      "\r",
      " 87%|████████████████████████████████████████████████████████████████████████████████████████████████████████████████████████████████████████████████████████████████████████████▏                        | 424/485 [02:38<00:21,  2.88it/s]"
     ]
    },
    {
     "name": "stdout",
     "output_type": "stream",
     "text": [
      "@ 425  > 1st order coefficient similarity failure :  0.246139335489 -0.164242253201\n"
     ]
    },
    {
     "name": "stderr",
     "output_type": "stream",
     "text": [
      "\r",
      " 88%|████████████████████████████████████████████████████████████████████████████████████████████████████████████████████████████████████████████████████████████████████████████▋                        | 425/485 [02:39<00:21,  2.81it/s]"
     ]
    },
    {
     "name": "stdout",
     "output_type": "stream",
     "text": [
      "@ 426  > 1st order coefficient similarity failure :  0.254118849336 -0.181072130682\n"
     ]
    },
    {
     "name": "stderr",
     "output_type": "stream",
     "text": [
      "\r",
      " 88%|█████████████████████████████████████████████████████████████████████████████████████████████████████████████████████████████████████████████████████████████████████████████                        | 426/485 [02:39<00:21,  2.78it/s]"
     ]
    },
    {
     "name": "stdout",
     "output_type": "stream",
     "text": [
      "@ 427  > 2nd order coefficient similarity failure :  -0.000142961382254 0.000522127111542\n"
     ]
    },
    {
     "name": "stderr",
     "output_type": "stream",
     "text": [
      "\r",
      " 88%|█████████████████████████████████████████████████████████████████████████████████████████████████████████████████████████████████████████████████████████████████████████████▍                       | 427/485 [02:39<00:21,  2.70it/s]"
     ]
    },
    {
     "name": "stdout",
     "output_type": "stream",
     "text": [
      "@ 428  > 2nd order coefficient similarity failure :  -0.000104022546808 0.000512839628718\n"
     ]
    },
    {
     "name": "stderr",
     "output_type": "stream",
     "text": [
      "\r",
      " 88%|█████████████████████████████████████████████████████████████████████████████████████████████████████████████████████████████████████████████████████████████████████████████▊                       | 428/485 [02:40<00:20,  2.72it/s]"
     ]
    },
    {
     "name": "stdout",
     "output_type": "stream",
     "text": [
      "@ 429  > 2nd order coefficient similarity failure :  -8.87160550868e-05 0.000471944227474\n"
     ]
    },
    {
     "name": "stderr",
     "output_type": "stream",
     "text": [
      "\r",
      " 88%|██████████████████████████████████████████████████████████████████████████████████████████████████████████████████████████████████████████████████████████████████████████████▎                      | 429/485 [02:40<00:20,  2.73it/s]"
     ]
    },
    {
     "name": "stdout",
     "output_type": "stream",
     "text": [
      "Inside reset\n",
      "@ 430  > 2nd order coefficient similarity failure :  -0.000171597269881 0.000394763634754\n"
     ]
    },
    {
     "name": "stderr",
     "output_type": "stream",
     "text": [
      "\r",
      " 89%|██████████████████████████████████████████████████████████████████████████████████████████████████████████████████████████████████████████████████████████████████████████████▋                      | 430/485 [02:41<00:20,  2.68it/s]"
     ]
    },
    {
     "name": "stdout",
     "output_type": "stream",
     "text": [
      "Inside reset\n",
      "@ 431  > 2nd order coefficient similarity failure :  -0.000138171888495 0.000403453989445\n"
     ]
    },
    {
     "name": "stderr",
     "output_type": "stream",
     "text": [
      "\r",
      " 89%|███████████████████████████████████████████████████████████████████████████████████████████████████████████████████████████████████████████████████████████████████████████████                      | 431/485 [02:41<00:20,  2.68it/s]"
     ]
    },
    {
     "name": "stdout",
     "output_type": "stream",
     "text": [
      "Inside reset\n",
      "@ 432  > 2nd order coefficient similarity failure :  -0.000250942688137 0.000394466364432\n"
     ]
    },
    {
     "name": "stderr",
     "output_type": "stream",
     "text": [
      "\r",
      " 89%|███████████████████████████████████████████████████████████████████████████████████████████████████████████████████████████████████████████████████████████████████████████████▍                     | 432/485 [02:41<00:20,  2.60it/s]"
     ]
    },
    {
     "name": "stdout",
     "output_type": "stream",
     "text": [
      "Inside reset\n",
      "@ 433  > 1st order coefficient similarity failure :  0.185313142756 -0.335936295172\n"
     ]
    },
    {
     "name": "stderr",
     "output_type": "stream",
     "text": [
      "\r",
      " 89%|███████████████████████████████████████████████████████████████████████████████████████████████████████████████████████████████████████████████████████████████████████████████▉                     | 433/485 [02:42<00:19,  2.61it/s]"
     ]
    },
    {
     "name": "stdout",
     "output_type": "stream",
     "text": [
      "Inside reset\n",
      "@ 434  > 1st order coefficient similarity failure :  0.063788614243 -0.370694467369\n"
     ]
    },
    {
     "name": "stderr",
     "output_type": "stream",
     "text": [
      "\r",
      " 89%|████████████████████████████████████████████████████████████████████████████████████████████████████████████████████████████████████████████████████████████████████████████████▎                    | 434/485 [02:42<00:19,  2.58it/s]"
     ]
    },
    {
     "name": "stdout",
     "output_type": "stream",
     "text": [
      "Inside reset\n",
      "@ 435  > 1st order coefficient similarity failure :  0.0680799120424 -0.381477960596\n"
     ]
    },
    {
     "name": "stderr",
     "output_type": "stream",
     "text": [
      "\r",
      " 90%|████████████████████████████████████████████████████████████████████████████████████████████████████████████████████████████████████████████████████████████████████████████████▋                    | 435/485 [02:42<00:19,  2.60it/s]"
     ]
    },
    {
     "name": "stdout",
     "output_type": "stream",
     "text": [
      "Inside reset\n"
     ]
    },
    {
     "name": "stderr",
     "output_type": "stream",
     "text": [
      " 91%|███████████████████████████████████████████████████████████████████████████████████████████████████████████████████████████████████████████████████████████████████████████████████▏                 | 441/485 [02:45<00:15,  2.82it/s]"
     ]
    },
    {
     "name": "stdout",
     "output_type": "stream",
     "text": [
      "@ 442  > 1st order coefficient similarity failure :  0.0912648336579 -0.268533004024\n"
     ]
    },
    {
     "name": "stderr",
     "output_type": "stream",
     "text": [
      "\r",
      " 91%|███████████████████████████████████████████████████████████████████████████████████████████████████████████████████████████████████████████████████████████████████████████████████▌                 | 442/485 [02:45<00:15,  2.76it/s]"
     ]
    },
    {
     "name": "stdout",
     "output_type": "stream",
     "text": [
      "@ 443  > 1st order coefficient similarity failure :  0.124458701523 -0.290646508756\n"
     ]
    },
    {
     "name": "stderr",
     "output_type": "stream",
     "text": [
      "\r",
      " 91%|███████████████████████████████████████████████████████████████████████████████████████████████████████████████████████████████████████████████████████████████████████████████████▉                 | 443/485 [02:45<00:15,  2.74it/s]"
     ]
    },
    {
     "name": "stdout",
     "output_type": "stream",
     "text": [
      "@ 444  > 1st order coefficient similarity failure :  0.150061991528 -0.332246387168\n"
     ]
    },
    {
     "name": "stderr",
     "output_type": "stream",
     "text": [
      "\r",
      " 92%|████████████████████████████████████████████████████████████████████████████████████████████████████████████████████████████████████████████████████████████████████████████████████▎                | 444/485 [02:46<00:15,  2.70it/s]"
     ]
    },
    {
     "name": "stdout",
     "output_type": "stream",
     "text": [
      "@ 445  > 2nd order coefficient similarity failure :  -5.80517919832e-05 0.000476750382218\n"
     ]
    },
    {
     "name": "stderr",
     "output_type": "stream",
     "text": [
      "\r",
      " 92%|████████████████████████████████████████████████████████████████████████████████████████████████████████████████████████████████████████████████████████████████████████████████████▊                | 445/485 [02:46<00:14,  2.71it/s]"
     ]
    },
    {
     "name": "stdout",
     "output_type": "stream",
     "text": [
      "@ 446  > 2nd order coefficient similarity failure :  -0.000144218674717 0.000405735199514\n"
     ]
    },
    {
     "name": "stderr",
     "output_type": "stream",
     "text": [
      "\r",
      " 92%|█████████████████████████████████████████████████████████████████████████████████████████████████████████████████████████████████████████████████████████████████████████████████████▏               | 446/485 [02:47<00:14,  2.71it/s]"
     ]
    },
    {
     "name": "stdout",
     "output_type": "stream",
     "text": [
      "@ 447  > 2nd order coefficient similarity failure :  -0.00017403370851 0.000442177377714\n"
     ]
    },
    {
     "name": "stderr",
     "output_type": "stream",
     "text": [
      "\r",
      " 92%|█████████████████████████████████████████████████████████████████████████████████████████████████████████████████████████████████████████████████████████████████████████████████████▌               | 447/485 [02:47<00:13,  2.72it/s]"
     ]
    },
    {
     "name": "stdout",
     "output_type": "stream",
     "text": [
      "Inside reset\n",
      "@ 448  > 2nd order coefficient similarity failure :  -0.00016889022903 0.000423234357752\n"
     ]
    },
    {
     "name": "stderr",
     "output_type": "stream",
     "text": [
      "\r",
      " 92%|█████████████████████████████████████████████████████████████████████████████████████████████████████████████████████████████████████████████████████████████████████████████████████▉               | 448/485 [02:47<00:13,  2.69it/s]"
     ]
    },
    {
     "name": "stdout",
     "output_type": "stream",
     "text": [
      "Inside reset\n"
     ]
    },
    {
     "name": "stderr",
     "output_type": "stream",
     "text": [
      " 93%|███████████████████████████████████████████████████████████████████████████████████████████████████████████████████████████████████████████████████████████████████████████████████████▌             | 452/485 [02:49<00:11,  2.84it/s]"
     ]
    },
    {
     "name": "stdout",
     "output_type": "stream",
     "text": [
      "@ 453  > 1st order coefficient similarity failure :  0.307764950616 -0.0632200644167\n"
     ]
    },
    {
     "name": "stderr",
     "output_type": "stream",
     "text": [
      "\r",
      " 93%|████████████████████████████████████████████████████████████████████████████████████████████████████████████████████████████████████████████████████████████████████████████████████████             | 453/485 [02:49<00:11,  2.78it/s]"
     ]
    },
    {
     "name": "stdout",
     "output_type": "stream",
     "text": [
      "@ 454  > 1st order coefficient similarity failure :  0.293432303135 -0.0944065333683\n"
     ]
    },
    {
     "name": "stderr",
     "output_type": "stream",
     "text": [
      "\r",
      " 94%|████████████████████████████████████████████████████████████████████████████████████████████████████████████████████████████████████████████████████████████████████████████████████████▍            | 454/485 [02:49<00:11,  2.75it/s]"
     ]
    },
    {
     "name": "stdout",
     "output_type": "stream",
     "text": [
      "@ 455  > 1st order coefficient similarity failure :  0.289261386506 -0.123529781175\n"
     ]
    },
    {
     "name": "stderr",
     "output_type": "stream",
     "text": [
      "\r",
      " 94%|████████████████████████████████████████████████████████████████████████████████████████████████████████████████████████████████████████████████████████████████████████████████████████▊            | 455/485 [02:50<00:10,  2.75it/s]"
     ]
    },
    {
     "name": "stdout",
     "output_type": "stream",
     "text": [
      "@ 456  > 1st order coefficient similarity failure :  0.305372480049 -0.165213527616\n"
     ]
    },
    {
     "name": "stderr",
     "output_type": "stream",
     "text": [
      "\r",
      " 94%|█████████████████████████████████████████████████████████████████████████████████████████████████████████████████████████████████████████████████████████████████████████████████████████▏           | 456/485 [02:50<00:10,  2.75it/s]"
     ]
    },
    {
     "name": "stdout",
     "output_type": "stream",
     "text": [
      "@ 457  > 1st order coefficient similarity failure :  0.303055273015 -0.217197649284\n"
     ]
    },
    {
     "name": "stderr",
     "output_type": "stream",
     "text": [
      "\r",
      " 94%|█████████████████████████████████████████████████████████████████████████████████████████████████████████████████████████████████████████████████████████████████████████████████████████▋           | 457/485 [02:51<00:10,  2.73it/s]"
     ]
    },
    {
     "name": "stdout",
     "output_type": "stream",
     "text": [
      "@ 458  > 1st order coefficient similarity failure :  0.312981005805 -0.193424400871\n"
     ]
    },
    {
     "name": "stderr",
     "output_type": "stream",
     "text": [
      "\r",
      " 94%|██████████████████████████████████████████████████████████████████████████████████████████████████████████████████████████████████████████████████████████████████████████████████████████           | 458/485 [02:51<00:09,  2.72it/s]"
     ]
    },
    {
     "name": "stdout",
     "output_type": "stream",
     "text": [
      "Inside reset\n",
      "@ 459  > 1st order coefficient similarity failure :  0.301897925063 -0.226060041661\n"
     ]
    },
    {
     "name": "stderr",
     "output_type": "stream",
     "text": [
      "\r",
      " 95%|██████████████████████████████████████████████████████████████████████████████████████████████████████████████████████████████████████████████████████████████████████████████████████████▍          | 459/485 [02:51<00:09,  2.72it/s]"
     ]
    },
    {
     "name": "stdout",
     "output_type": "stream",
     "text": [
      "Inside reset\n",
      "@ 460  > 1st order coefficient similarity failure :  0.311479294354 -0.18293919752\n"
     ]
    },
    {
     "name": "stderr",
     "output_type": "stream",
     "text": [
      "\r",
      " 95%|██████████████████████████████████████████████████████████████████████████████████████████████████████████████████████████████████████████████████████████████████████████████████████████▊          | 460/485 [02:52<00:09,  2.67it/s]"
     ]
    },
    {
     "name": "stdout",
     "output_type": "stream",
     "text": [
      "Inside reset\n",
      "@ 461  > lane width failure :  4.20087336245\n"
     ]
    },
    {
     "name": "stderr",
     "output_type": "stream",
     "text": [
      "\r",
      " 95%|███████████████████████████████████████████████████████████████████████████████████████████████████████████████████████████████████████████████████████████████████████████████████████████▎         | 461/485 [02:52<00:09,  2.66it/s]"
     ]
    },
    {
     "name": "stdout",
     "output_type": "stream",
     "text": [
      "Inside reset\n",
      "@ 462  > 1st order coefficient similarity failure :  0.321066027897 -0.17339416798\n"
     ]
    },
    {
     "name": "stderr",
     "output_type": "stream",
     "text": [
      "\r",
      " 95%|███████████████████████████████████████████████████████████████████████████████████████████████████████████████████████████████████████████████████████████████████████████████████████████▋         | 462/485 [02:52<00:08,  2.66it/s]"
     ]
    },
    {
     "name": "stdout",
     "output_type": "stream",
     "text": [
      "Inside reset\n",
      "@ 463  > 1st order coefficient similarity failure :  0.323678550546 -0.0783357531774\n"
     ]
    },
    {
     "name": "stderr",
     "output_type": "stream",
     "text": [
      "\r",
      " 95%|████████████████████████████████████████████████████████████████████████████████████████████████████████████████████████████████████████████████████████████████████████████████████████████         | 463/485 [02:53<00:08,  2.67it/s]"
     ]
    },
    {
     "name": "stdout",
     "output_type": "stream",
     "text": [
      "Inside reset\n",
      "@ 464  > lane width failure :  4.24934497817\n"
     ]
    },
    {
     "name": "stderr",
     "output_type": "stream",
     "text": [
      "\r",
      " 96%|████████████████████████████████████████████████████████████████████████████████████████████████████████████████████████████████████████████████████████████████████████████████████████████▍        | 464/485 [02:53<00:07,  2.65it/s]"
     ]
    },
    {
     "name": "stdout",
     "output_type": "stream",
     "text": [
      "Inside reset\n",
      "@ 465  > 2nd order coefficient similarity failure :  -0.000128133209033 0.000670836213338\n"
     ]
    },
    {
     "name": "stderr",
     "output_type": "stream",
     "text": [
      "\r",
      " 96%|████████████████████████████████████████████████████████████████████████████████████████████████████████████████████████████████████████████████████████████████████████████████████████████▉        | 465/485 [02:54<00:07,  2.65it/s]"
     ]
    },
    {
     "name": "stdout",
     "output_type": "stream",
     "text": [
      "Inside reset\n",
      "@ 466  > lane width failure :  4.23318777293\n"
     ]
    },
    {
     "name": "stderr",
     "output_type": "stream",
     "text": [
      "\r",
      " 96%|█████████████████████████████████████████████████████████████████████████████████████████████████████████████████████████████████████████████████████████████████████████████████████████████▎       | 466/485 [02:54<00:07,  2.62it/s]"
     ]
    },
    {
     "name": "stdout",
     "output_type": "stream",
     "text": [
      "Inside reset\n",
      "@ 467  > lane width failure :  4.28165938865\n"
     ]
    },
    {
     "name": "stderr",
     "output_type": "stream",
     "text": [
      "\r",
      " 96%|█████████████████████████████████████████████████████████████████████████████████████████████████████████████████████████████████████████████████████████████████████████████████████████████▋       | 467/485 [02:54<00:06,  2.63it/s]"
     ]
    },
    {
     "name": "stdout",
     "output_type": "stream",
     "text": [
      "Inside reset\n",
      "@ 468  > 1st order coefficient similarity failure :  0.386964891569 -0.0598834491929\n"
     ]
    },
    {
     "name": "stderr",
     "output_type": "stream",
     "text": [
      "\r",
      " 96%|██████████████████████████████████████████████████████████████████████████████████████████████████████████████████████████████████████████████████████████████████████████████████████████████       | 468/485 [02:55<00:06,  2.64it/s]"
     ]
    },
    {
     "name": "stdout",
     "output_type": "stream",
     "text": [
      "Inside reset\n",
      "@ 469  > 1st order coefficient similarity failure :  0.415601323911 -0.107583201608\n"
     ]
    },
    {
     "name": "stderr",
     "output_type": "stream",
     "text": [
      "\r",
      " 97%|██████████████████████████████████████████████████████████████████████████████████████████████████████████████████████████████████████████████████████████████████████████████████████████████▌      | 469/485 [02:55<00:06,  2.61it/s]"
     ]
    },
    {
     "name": "stdout",
     "output_type": "stream",
     "text": [
      "Inside reset\n",
      "@ 470  > 2nd order coefficient similarity failure :  -0.000215152054142 0.000291199778729\n"
     ]
    },
    {
     "name": "stderr",
     "output_type": "stream",
     "text": [
      "\r",
      " 97%|██████████████████████████████████████████████████████████████████████████████████████████████████████████████████████████████████████████████████████████████████████████████████████████████▉      | 470/485 [02:55<00:05,  2.65it/s]"
     ]
    },
    {
     "name": "stdout",
     "output_type": "stream",
     "text": [
      "Inside reset\n",
      "@ 471  > 2nd order coefficient similarity failure :  -0.000147422840211 0.000355398905062\n"
     ]
    },
    {
     "name": "stderr",
     "output_type": "stream",
     "text": [
      "\r",
      " 97%|███████████████████████████████████████████████████████████████████████████████████████████████████████████████████████████████████████████████████████████████████████████████████████████████▎     | 471/485 [02:56<00:05,  2.64it/s]"
     ]
    },
    {
     "name": "stdout",
     "output_type": "stream",
     "text": [
      "Inside reset\n",
      "@ 472  > 2nd order coefficient similarity failure :  -8.60059730552e-05 0.000428915106794\n"
     ]
    },
    {
     "name": "stderr",
     "output_type": "stream",
     "text": [
      "\r",
      " 97%|███████████████████████████████████████████████████████████████████████████████████████████████████████████████████████████████████████████████████████████████████████████████████████████████▋     | 472/485 [02:56<00:04,  2.65it/s]"
     ]
    },
    {
     "name": "stdout",
     "output_type": "stream",
     "text": [
      "Inside reset\n",
      "@ 473  > lane width failure :  4.22510917031\n"
     ]
    },
    {
     "name": "stderr",
     "output_type": "stream",
     "text": [
      "\r",
      " 98%|████████████████████████████████████████████████████████████████████████████████████████████████████████████████████████████████████████████████████████████████████████████████████████████████▏    | 473/485 [02:57<00:04,  2.65it/s]"
     ]
    },
    {
     "name": "stdout",
     "output_type": "stream",
     "text": [
      "Inside reset\n",
      "@ 474  > 1st order coefficient similarity failure :  0.326336356614 -0.301899482929\n"
     ]
    },
    {
     "name": "stderr",
     "output_type": "stream",
     "text": [
      "\r",
      " 98%|████████████████████████████████████████████████████████████████████████████████████████████████████████████████████████████████████████████████████████████████████████████████████████████████▌    | 474/485 [02:57<00:04,  2.62it/s]"
     ]
    },
    {
     "name": "stdout",
     "output_type": "stream",
     "text": [
      "Inside reset\n",
      "@ 475  > lane width failure :  4.20087336245\n"
     ]
    },
    {
     "name": "stderr",
     "output_type": "stream",
     "text": [
      "\r",
      " 98%|████████████████████████████████████████████████████████████████████████████████████████████████████████████████████████████████████████████████████████████████████████████████████████████████▉    | 475/485 [02:57<00:03,  2.63it/s]"
     ]
    },
    {
     "name": "stdout",
     "output_type": "stream",
     "text": [
      "Inside reset\n",
      "@ 476  > 1st order coefficient similarity failure :  0.299880864983 -0.21169419157\n"
     ]
    },
    {
     "name": "stderr",
     "output_type": "stream",
     "text": [
      "\r",
      " 98%|█████████████████████████████████████████████████████████████████████████████████████████████████████████████████████████████████████████████████████████████████████████████████████████████████▎   | 476/485 [02:58<00:03,  2.62it/s]"
     ]
    },
    {
     "name": "stdout",
     "output_type": "stream",
     "text": [
      "Inside reset\n",
      "@ 477  > curve check failure :  30009.5502457 1536.17332629\n"
     ]
    },
    {
     "name": "stderr",
     "output_type": "stream",
     "text": [
      "\r",
      " 98%|█████████████████████████████████████████████████████████████████████████████████████████████████████████████████████████████████████████████████████████████████████████████████████████████████▊   | 477/485 [02:58<00:03,  2.64it/s]"
     ]
    },
    {
     "name": "stdout",
     "output_type": "stream",
     "text": [
      "Inside reset\n",
      "@ 478  > curve check failure :  37532.0435213 1046.64634976\n"
     ]
    },
    {
     "name": "stderr",
     "output_type": "stream",
     "text": [
      "\r",
      " 99%|██████████████████████████████████████████████████████████████████████████████████████████████████████████████████████████████████████████████████████████████████████████████████████████████████▏  | 478/485 [02:58<00:02,  2.59it/s]"
     ]
    },
    {
     "name": "stdout",
     "output_type": "stream",
     "text": [
      "Inside reset\n"
     ]
    },
    {
     "name": "stderr",
     "output_type": "stream",
     "text": [
      " 99%|██████████████████████████████████████████████████████████████████████████████████████████████████████████████████████████████████████████████████████████████████████████████████████████████████▉  | 480/485 [02:59<00:01,  2.70it/s]"
     ]
    },
    {
     "name": "stdout",
     "output_type": "stream",
     "text": [
      "@ 481  > lane width failure :  4.2397879087\n"
     ]
    },
    {
     "name": "stderr",
     "output_type": "stream",
     "text": [
      "\r",
      " 99%|███████████████████████████████████████████████████████████████████████████████████████████████████████████████████████████████████████████████████████████████████████████████████████████████████▍ | 481/485 [03:00<00:01,  2.73it/s]"
     ]
    },
    {
     "name": "stdout",
     "output_type": "stream",
     "text": [
      "@ 482  > lane width failure :  4.2397879087\n"
     ]
    },
    {
     "name": "stderr",
     "output_type": "stream",
     "text": [
      "\r",
      " 99%|███████████████████████████████████████████████████████████████████████████████████████████████████████████████████████████████████████████████████████████████████████████████████████████████████▊ | 482/485 [03:00<00:01,  2.74it/s]"
     ]
    },
    {
     "name": "stdout",
     "output_type": "stream",
     "text": [
      "@ 483  > lane width failure :  4.2397879087\n"
     ]
    },
    {
     "name": "stderr",
     "output_type": "stream",
     "text": [
      "\r",
      "100%|████████████████████████████████████████████████████████████████████████████████████████████████████████████████████████████████████████████████████████████████████████████████████████████████████▏| 483/485 [03:00<00:00,  2.71it/s]"
     ]
    },
    {
     "name": "stdout",
     "output_type": "stream",
     "text": [
      "@ 484  > lane width failure :  4.2397879087\n"
     ]
    },
    {
     "name": "stderr",
     "output_type": "stream",
     "text": [
      "\r",
      "100%|████████████████████████████████████████████████████████████████████████████████████████████████████████████████████████████████████████████████████████████████████████████████████████████████████▌| 484/485 [03:01<00:00,  2.74it/s]"
     ]
    },
    {
     "name": "stdout",
     "output_type": "stream",
     "text": [
      "@ 485  > lane width failure :  4.2397879087\n"
     ]
    },
    {
     "name": "stderr",
     "output_type": "stream",
     "text": [
      "100%|█████████████████████████████████████████████████████████████████████████████████████████████████████████████████████████████████████████████████████████████████████████████████████████████████████| 485/485 [03:01<00:00,  2.75it/s]\n"
     ]
    },
    {
     "name": "stdout",
     "output_type": "stream",
     "text": [
      "[MoviePy] Done.\n",
      "[MoviePy] >>>> Video ready: challenge_video_output.mp4 \n",
      "\n",
      "Wall time: 3min 2s\n"
     ]
    }
   ],
   "source": [
    "# Initialize variables\n",
    "reset_lanes = True\n",
    "detected_lines = []\n",
    "\n",
    "# use n for normal, c for challenge and h for harder\n",
    "terrain_type = 'c'\n",
    "\n",
    "# Caliberate Camera\n",
    "mtx, dist = caliberate_camera()\n",
    "\n",
    "# Get perspective\n",
    "perspective_M, perspective_Minv = compute_perspective()\n",
    "\n",
    "# Get baseline lane width\n",
    "baseline_lane_width = compute_lane_width()\n",
    "\n",
    "challenge_output = 'challenge_video_output.mp4'\n",
    "clip2 = VideoFileClip('challenge_video.mp4')\n",
    "challenge_video_clip = clip2.fl_image(process_image)\n",
    "%time challenge_video_clip.write_videofile(challenge_output, audio=False)"
   ]
  },
  {
   "cell_type": "code",
   "execution_count": null,
   "metadata": {
    "collapsed": false,
    "deletable": true,
    "editable": true
   },
   "outputs": [],
   "source": [
    "HTML(\"\"\"\n",
    "<video width=\"960\" height=\"540\" controls>\n",
    "  <source src=\"{0}\">\n",
    "</video>\n",
    "\"\"\".format(yellow_output))"
   ]
  },
  {
   "cell_type": "markdown",
   "metadata": {
    "collapsed": true,
    "deletable": true,
    "editable": true
   },
   "source": [
    "## Harder Challenge Video\n",
    "\n",
    "Try your lane finding pipeline on the video below.  Does it still work?  Can you figure out a way to make it more robust?  If you're up for the challenge, modify your pipeline so it works with this video and submit it along with the rest of your project!"
   ]
  },
  {
   "cell_type": "code",
   "execution_count": null,
   "metadata": {
    "collapsed": false,
    "deletable": true,
    "editable": true
   },
   "outputs": [],
   "source": [
    "# Initialize variables\n",
    "reset_lanes = True\n",
    "detected_lines = []\n",
    "\n",
    "# use n for normal, c for challenge and h for harder\n",
    "terrain_type = 'h'\n",
    "\n",
    "# Caliberate Camera\n",
    "mtx, dist = caliberate_camera()\n",
    "\n",
    "# Get perspective\n",
    "perspective_M, perspective_Minv = compute_perspective()\n",
    "\n",
    "# Get baseline lane width\n",
    "baseline_lane_width = compute_lane_width()\n",
    "\n",
    "harder_challenge_output = 'harder_challenge_video_output.mp4'\n",
    "#clip2 = VideoFileClip('harder_challenge_video.mp4')\n",
    "clip2 = VideoFileClip('h1.mp4')\n",
    "harder_challenge_clip = clip2.fl_image(process_image)\n",
    "%time harder_challenge_clip.write_videofile(harder_challenge_output, audio=False)"
   ]
  },
  {
   "cell_type": "code",
   "execution_count": null,
   "metadata": {
    "collapsed": false,
    "deletable": true,
    "editable": true
   },
   "outputs": [],
   "source": [
    "HTML(\"\"\"\n",
    "<video width=\"960\" height=\"540\" controls>\n",
    "  <source src=\"{0}\">\n",
    "</video>\n",
    "\"\"\".format(yellow_output))"
   ]
  },
  {
   "cell_type": "code",
   "execution_count": null,
   "metadata": {
    "collapsed": true,
    "deletable": true,
    "editable": true
   },
   "outputs": [],
   "source": []
  }
 ],
 "metadata": {
  "anaconda-cloud": {},
  "kernelspec": {
   "display_name": "Python 3",
   "language": "python",
   "name": "python3"
  },
  "language_info": {
   "codemirror_mode": {
    "name": "ipython",
    "version": 3
   },
   "file_extension": ".py",
   "mimetype": "text/x-python",
   "name": "python",
   "nbconvert_exporter": "python",
   "pygments_lexer": "ipython3",
   "version": "3.5.2"
  },
  "widgets": {
   "state": {},
   "version": "1.1.2"
  }
 },
 "nbformat": 4,
 "nbformat_minor": 0
}
