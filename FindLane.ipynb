{
 "cells": [
  {
   "cell_type": "markdown",
   "metadata": {
    "deletable": true,
    "editable": true
   },
   "source": [
    "# Self-Driving Car Engineer Nanodegree\n",
    "\n",
    "\n",
    "## Project: **Finding Lane Lines on the Road** \n",
    "***\n",
    "\n",
    "The goals of this project are the following:\n",
    "\n",
    "<ul>\n",
    "<li>Compute the camera calibration matrix and distortion coefficients given a set of chessboard images.\n",
    "<li>Apply a distortion correction to raw images.\n",
    "<li>Use color transforms, gradients, etc., to create a thresholded binary image.\n",
    "<li>Apply a perspective transform to rectify binary image (birds-eye view).\n",
    "<li>Detect lane pixels and fit to find the lane boundary.\n",
    "<li>Determine the curvature of the lane and vehicle position with respect to center.\n",
    "<li>Warp the detected lane boundaries back onto the original image.\n",
    "<li>Output visual display of the lane boundaries and numerical estimation of lane curvature and vehicle position.\n",
    "</ul>\n",
    "\n",
    "---"
   ]
  },
  {
   "cell_type": "markdown",
   "metadata": {
    "deletable": true,
    "editable": true
   },
   "source": [
    "## Import Packages"
   ]
  },
  {
   "cell_type": "code",
   "execution_count": 1,
   "metadata": {
    "collapsed": false,
    "deletable": true,
    "editable": true,
    "scrolled": true
   },
   "outputs": [
    {
     "name": "stdout",
     "output_type": "stream",
     "text": [
      "All package import complete\n"
     ]
    }
   ],
   "source": [
    "### Importing necessary packages\n",
    "\n",
    "import numpy as np                  # For handling images\n",
    "import glob                         # For iterating through multiple image files\n",
    "import cv2                          # For image manipulation\n",
    "import matplotlib.pyplot as plt     # For plotting images\n",
    "\n",
    "# For plotting to display inline within the notebook\n",
    "%matplotlib inline\n",
    "\n",
    "print(\"All package import complete\")"
   ]
  },
  {
   "cell_type": "markdown",
   "metadata": {
    "deletable": true,
    "editable": true
   },
   "source": [
    "## Define Global Variables"
   ]
  },
  {
   "cell_type": "code",
   "execution_count": 2,
   "metadata": {
    "collapsed": false,
    "deletable": true,
    "editable": true
   },
   "outputs": [
    {
     "name": "stdout",
     "output_type": "stream",
     "text": [
      "All global variable definition complete\n"
     ]
    }
   ],
   "source": [
    "### Global variables and constants defined here\n",
    "\n",
    "detected_lines = []                  # Global variable to hold all detected lines\n",
    "reset_lanes = True                   # Flag that drives detection of fresh lanes\n",
    "terrain_type = None                  # Variable that indicates the terrain type\n",
    "mtx = dist = None                    # Camera caliberation parameters\n",
    "perspective_M = perspective_Minv = None  # Perspective and inverse perspective\n",
    "baseline_lane_width = None           # Baseline lane width in px calculated from reference image\n",
    "cb = np.empty([360,1930,3])          # Holding variable for image concatenation        \n",
    "c1 = np.empty([370,640,3])           # Holding variable for image concatenation\n",
    "c2 = np.empty([360,640,3])           # Holding variable for image concatenation\n",
    "\n",
    "class Line():                        # Objects of this Line class hold details of a detected lines\n",
    "    def __init__(self):\n",
    "\n",
    "        self.fresh_lane = None\n",
    "        self.good_lane = None\n",
    "        self.continous_bad_lanes = 0\n",
    "        self.leftx_base = None\n",
    "        self.rightx_base = None\n",
    "        self.leftx = None\n",
    "        self.lefty = None\n",
    "        self.rightx = None\n",
    "        self.righty = None\n",
    "        self.left_fit = None\n",
    "        self.right_fit = None\n",
    "        self.left_curverad = None\n",
    "        self.right_curverad = None\n",
    "        self.center_offset_m = None\n",
    "        self.lane_width = None\n",
    "        self.smooth_leftx_base = 0\n",
    "        self.smooth_rightx_base = 0\n",
    "        self.smooth_left_fit = [0,0,0]\n",
    "        self.smooth_right_fit = [0,0,0]\n",
    "\n",
    "print(\"All global variable definition complete\")"
   ]
  },
  {
   "cell_type": "markdown",
   "metadata": {
    "deletable": true,
    "editable": true
   },
   "source": [
    "## Define support functions"
   ]
  },
  {
   "cell_type": "markdown",
   "metadata": {
    "deletable": true,
    "editable": true
   },
   "source": [
    "The helper functions needed for this project are defined in this section"
   ]
  },
  {
   "cell_type": "code",
   "execution_count": 3,
   "metadata": {
    "collapsed": false,
    "deletable": true,
    "editable": true
   },
   "outputs": [],
   "source": [
    "### Support Functions\n",
    "\n",
    "\"\"\" The helper functions needed to identify lanes are defined in this section \"\"\"\n",
    "\n",
    "def showImg(img):\n",
    "    \"\"\" Combines plt.imshow() and plt.show() so that\n",
    "        grayscale images can be displayed with a single line funtion call\"\"\"\n",
    "    plt.imshow(img)\n",
    "    plt.show()\n",
    "    return\n",
    "\n",
    "def showGrayImg(img):\n",
    "    \"\"\" Combines plt.imshow() and plt.show() so that \n",
    "        images can be displayed with a single line funtion call\"\"\"\n",
    "    plt.imshow(img, cmap=\"gray\")\n",
    "    plt.show()\n",
    "    return\n",
    "\n",
    "def undistort(img):\n",
    "    \"\"\" Undistorts a given image using \n",
    "        Camera caliberations\"\"\"\n",
    "    return cv2.undistort(img, mtx, dist, None, mtx)\n",
    "\n",
    "def grayscale(img):\n",
    "    \"\"\"Applies the Grayscale transform\n",
    "       This will return an image with only one color channel\"\"\"\n",
    "    \n",
    "    return cv2.cvtColor(img, cv2.COLOR_RGB2GRAY)\n",
    "\n",
    "def gradient(gray, orient, sobel_kernel, thresh):\n",
    "    \"\"\" Calculates directional gradient in the required orientation\n",
    "        Applies threshold\"\"\"\n",
    "    \n",
    "    if orient == 'x':\n",
    "        sobel = cv2.Sobel(gray, cv2.CV_64F, 1, 0, ksize=sobel_kernel)\n",
    "    else:\n",
    "        sobel = cv2.Sobel(gray, cv2.CV_64F, 0, 1, ksize=sobel_kernel)\n",
    "\n",
    "    abs_sobel = np.absolute(sobel)\n",
    "    scaled_sobel = np.uint8(255*abs_sobel/np.max(abs_sobel))\n",
    "    grad_binary = np.zeros_like(scaled_sobel)\n",
    "    grad_binary[(scaled_sobel >= thresh[0]) & (scaled_sobel <= thresh[1])] = 1\n",
    "    return grad_binary\n",
    "\n",
    "def gradient_mag(gray, sobel_kernel, mag_thresh):\n",
    "    \"\"\" Calculates gradient magnitude\n",
    "        Applies threshold\"\"\"\n",
    "\n",
    "    sobelx = cv2.Sobel(gray, cv2.CV_64F, 1, 0, ksize=sobel_kernel)\n",
    "    sobely = cv2.Sobel(gray, cv2.CV_64F, 0, 1, ksize=sobel_kernel)\n",
    "    abs_sobel = np.sqrt( (sobelx*sobelx) + (sobely*sobely) )\n",
    "    scaled_sobel = np.uint8(255*abs_sobel/np.max(abs_sobel))\n",
    "    mag_binary = np.zeros_like(scaled_sobel)\n",
    "    mag_binary[(scaled_sobel >= mag_thresh[0]) & (scaled_sobel <= mag_thresh[1])] = 1\n",
    "\n",
    "    return mag_binary\n",
    "\n",
    "def gradient_dir(gray, sobel_kernel, dir_thresh):\n",
    "    \"\"\" Calculates gradient direction\n",
    "        Applies threshold\"\"\"\n",
    "    \n",
    "    sobelx = cv2.Sobel(gray, cv2.CV_64F, 1, 0, ksize=sobel_kernel)\n",
    "    sobely = cv2.Sobel(gray, cv2.CV_64F, 0, 1, ksize=sobel_kernel)\n",
    "    abs_sobelx = np.absolute(sobelx)\n",
    "    abs_sobely = np.absolute(sobely)\n",
    "    dir_grad = np.arctan2(abs_sobely, abs_sobelx)\n",
    "#    scaled_dir_grad = np.uint8(255*dir_grad/np.max(dir_grad))\n",
    "    dir_binary = np.zeros_like(dir_grad)\n",
    "    dir_binary[(dir_grad >= dir_thresh[0]) & (dir_grad <= dir_thresh[1])] = 1\n",
    "    return dir_binary\n",
    "\n",
    "def s_select(img, thresh):\n",
    "    \"\"\" 1) Converts image to HLS color space\n",
    "        2) Apply a threshold to the S channel\n",
    "        3) Return a binary image of threshold result \"\"\"\n",
    "    \n",
    "    img = cv2.cvtColor(img,cv2.COLOR_BGR2HLS)\n",
    "    img_s = img[:,:,2]\n",
    "\n",
    "    sbinary = np.zeros_like(img_s)\n",
    "    sbinary[(img_s > thresh[0]) & (img_s <= thresh[1])] = 1\n",
    "    return sbinary\n",
    "\n",
    "def l_select(img, thresh):\n",
    "    \"\"\" 1) Converts image to HLS color space\n",
    "        2) Apply a threshold to the S channel\n",
    "        3) Return a binary image of threshold result \"\"\"\n",
    "    \n",
    "    img = cv2.cvtColor(img,cv2.COLOR_BGR2HLS)\n",
    "    img_l = img[:,:,1]\n",
    "\n",
    "    lbinary = np.zeros_like(img_l)\n",
    "    lbinary[(img_l > thresh[0]) & (img_l <= thresh[1])] = 1\n",
    "    return lbinary\n",
    "\n",
    "def canny(img, low_threshold, high_threshold):\n",
    "    \"\"\"Applies the Canny transform\"\"\"\n",
    "    return cv2.Canny(img, low_threshold, high_threshold)\n",
    "\n",
    "def gaussian_blur(img, kernel_size):\n",
    "    \"\"\"Applies a Gaussian Noise kernel\"\"\"\n",
    "    return cv2.GaussianBlur(img, (kernel_size, kernel_size), 0)\n",
    "\n",
    "def region_of_interest(img):\n",
    "    \"\"\"\n",
    "    Applies an image mask.\n",
    "    Only keeps the region of the image defined by the polygon\n",
    "    formed from `vertices`. The rest of the image is set to black.\n",
    "    \"\"\"\n",
    "    global terrain_type\n",
    "    \n",
    "    if terrain_type == 'h':\n",
    "        mask_top_y = 470\n",
    "        mask_bottom_y = 720\n",
    "        mask_top_left_x = 360\n",
    "        mask_top_right_x = 680\n",
    "        mask_bottom_right_x = 1190\n",
    "        mask_bottom_left_x = 75\n",
    "    elif terrain_type == 'c':\n",
    "        mask_top_y = 470\n",
    "        mask_bottom_y = 720\n",
    "        mask_top_left_x = 580\n",
    "        mask_top_right_x = 750\n",
    "        mask_bottom_right_x = 1150\n",
    "        mask_bottom_left_x = 180\n",
    "    else:\n",
    "        mask_top_y = 440\n",
    "        mask_bottom_y = 720\n",
    "        mask_top_left_x = 530\n",
    "        mask_top_right_x = 740\n",
    "        mask_bottom_right_x = 1165\n",
    "        mask_bottom_left_x = 150\n",
    "        \n",
    "    \n",
    "    vertices = np.array([[(mask_top_left_x, mask_top_y), (mask_top_right_x, mask_top_y),  \\\n",
    "                          (mask_bottom_right_x, mask_bottom_y), (mask_bottom_left_x, mask_bottom_y)]],  \\\n",
    "                             dtype=np.int32) # vertices of the masked area\n",
    "\n",
    "    #defining a blank mask to start with\n",
    "    mask = np.zeros_like(img)\n",
    "\n",
    "    #defining a 3 channel or 1 channel color to fill the mask with depending on the input image\n",
    "    if len(img.shape) > 2:\n",
    "        channel_count = img.shape[2]  # i.e. 3 or 4 depending on your image\n",
    "        ignore_mask_color = (255,) * channel_count\n",
    "    else:\n",
    "        ignore_mask_color = 255\n",
    "\n",
    "    #filling pixels inside the polygon defined by \"vertices\" with the fill color\n",
    "    cv2.fillPoly(mask, vertices, ignore_mask_color)\n",
    "\n",
    "    #returning the image only where mask pixels are nonzero\n",
    "    masked_image = cv2.bitwise_and(img, mask)\n",
    "\n",
    "    return masked_image\n",
    "\n",
    "def calculate_curvature(y_eval, fit):\n",
    "    \"\"\"Calculates the radius of curvature of a given line\"\"\"\n",
    "    # y_eval : y-value where we want radius of curvature\n",
    "    # fit : left or right line fit\n",
    "    return ((1 + (2*fit[0]*y_eval + fit[1])**2)**1.5) / np.absolute(2*fit[0])\n",
    "\n",
    "def hough_lines(img, rho, theta, threshold, min_line_len, max_line_gap):\n",
    "    \"\"\"\n",
    "    Returns an image with hough lines drawn.\n",
    "    \"\"\"\n",
    "    lines = cv2.HoughLinesP(img, rho, theta, threshold, np.array([]), minLineLength=min_line_len, maxLineGap=max_line_gap)\n",
    "    \n",
    "    return lines\n",
    "\n",
    "def img_collage(marked_img):\n",
    "    \"\"\" Concatenate images into a single image\n",
    "        This helps view different perspectives of the image\n",
    "        at the same time helping with debugging\"\"\"\n",
    "    global c1, c2\n",
    "    c3 = np.concatenate((c1,c2),0)\n",
    "    marked_img = cv2.resize(marked_img,(1280, 720))\n",
    "    c0 = cv2.copyMakeBorder(marked_img,0,10,0,10,cv2.BORDER_CONSTANT, value=[255,255,0])\n",
    "    ct = np.concatenate((c0,c3),1)\n",
    "    c = np.concatenate((ct,cb),0)\n",
    "    c = cv2.resize(c,(1280, 720))\n",
    "    return c"
   ]
  },
  {
   "cell_type": "markdown",
   "metadata": {
    "deletable": true,
    "editable": true
   },
   "source": [
    "## Extract warped binary image of the lanes"
   ]
  },
  {
   "cell_type": "markdown",
   "metadata": {
    "deletable": true,
    "editable": true
   },
   "source": [
    "This function takes in a 3 channel RGB color image and returns a warped binary image with the lane markings only"
   ]
  },
  {
   "cell_type": "code",
   "execution_count": 4,
   "metadata": {
    "collapsed": true,
    "deletable": true,
    "editable": true
   },
   "outputs": [],
   "source": [
    "### Function to extract a warped binary image of the lanes\n",
    "\n",
    "\"\"\" This function takes in a 3 channel RGB olor image and \n",
    "    returns a warped binary image with the lane markings only \"\"\"\n",
    "\n",
    "    # Undistort the image\n",
    "    # Create necessary color channel filters\n",
    "    # Create necessary sobel filters\n",
    "    # Create a combined filter that provides the best results\n",
    "    # Apply mask to pick up lane pixels only\n",
    "    # Warp the image\n",
    "\n",
    "def get_binary_warp(image):\n",
    "\n",
    "    # Undistort the camera image\n",
    "    image = undistort(image)\n",
    "    \n",
    "    # Get image filtered by S channel\n",
    "    s_chn_img = s_select(image, thresh=(100,255))\n",
    "    \n",
    "    # Get image filtered by L channel\n",
    "    l_chn_img = l_select(image, thresh=(50,255))\n",
    "    \n",
    "    # Grayscale the image\n",
    "    gray_img = grayscale(image)\n",
    "    \n",
    "    # Get image filtered by sobel x\n",
    "    sobelx_img = gradient(gray_img, orient='x', sobel_kernel=9, thresh=(20,100))\n",
    "    \n",
    "    # Get image filtered by sobel y\n",
    "    sobely_img = gradient(gray_img, orient='y', sobel_kernel=9, thresh=(20,100))\n",
    "    \n",
    "    # Get image filtered by sobel magnitude\n",
    "    sobel_mag = gradient_mag(gray_img, sobel_kernel=3, mag_thresh=(20,100))\n",
    "    \n",
    "    # Get image filtered by sobel gradient direction\n",
    "    sobel_dir = gradient_dir(gray_img, sobel_kernel=31, dir_thresh=(0.7,1.3))\n",
    "    \n",
    "    # Stack each channel to view their individual contributions in green and blue respectively\n",
    "    # This returns a stack of the two binary images, whose components you can see as different colors\n",
    "    #color_binary = np.dstack(( np.zeros_like(sobelx_img), sobelx_img, s_chn_img))\n",
    "    \n",
    "    # Combine the two binary thresholds\n",
    "    combined_img = np.zeros_like(sobelx_img)\n",
    "    combined_img[((s_chn_img == 1) | ((sobelx_img == 1) & (sobely_img ==1))) & ((l_chn_img == 1))] = 1\n",
    "\n",
    "    # Pick up pixels that have high S and L channel values.  This will help address shadow conditions\n",
    "    combined_img2 = np.zeros_like(sobelx_img)\n",
    "    combined_img2[((s_chn_img == 1) & (l_chn_img == 1))] = 1\n",
    "    \n",
    "    # Pick up pixels that have high sobel x and y values.  This will help pick only strong pixels.\n",
    "    combined_img3 = np.zeros_like(sobelx_img)\n",
    "    combined_img3[((sobelx_img == 1) & (sobely_img ==1))] = 1\n",
    "\n",
    "    # Combine the two binary images.  This image :\n",
    "    # 1. Will capture lanes under shadows as well\n",
    "    # 2. Will pick up only strong pixels that have high values both in x and y\n",
    "    combined_img4 = np.zeros_like(sobelx_img)\n",
    "    combined_img4[((combined_img2 == 1) | (combined_img3 ==1))] = 1\n",
    "    \n",
    "    \"\"\"\n",
    "    # Use Hough transform to filter out non-line pixels and horizontal lines\n",
    "    lines = hough_lines(combined_img4, 2, np.pi/180, 100, 30, 20)\n",
    "    #creating a blank to draw lines on\n",
    "    line_image = np.copy(image)*0\n",
    "    # Iterate over the output \"lines\" and draw lines on the blank\n",
    "    for line in lines:\n",
    "        for x1,y1,x2,y2 in line:\n",
    "            slope, intercept = np.polyfit([x1, x2], [y1, y2], 1)\n",
    "            if((slope*slope) > 0.1) & ((slope*slope) < 100):       # Filters out horizontal lines \n",
    "                cv2.line(line_image,(x1,y1),(x2,y2),(255,0,0),10)\n",
    "    # Create a \"color\" binary image to combine with line image\n",
    "    color_edges = np.dstack((combined_img4, combined_img4, combined_img4)) \n",
    "    # Draw the lines on the edge image\n",
    "    combo = cv2.addWeighted(color_edges, 0.8, line_image, 1, 0) \n",
    "    showImg(combo)\n",
    "    \"\"\"\n",
    "\n",
    "    # Apply mask for lane region only to filter out non-lane pixels.\n",
    "    masked_image = region_of_interest(combined_img4) \n",
    "    \n",
    "    # Warp the image to provide a top down perspective view\n",
    "    warped_image = cv2.warpPerspective(masked_image, perspective_M, gray_img.shape[::-1], flags=cv2.INTER_LINEAR)\n",
    "#    showGrayImg(warped_image)\n",
    "\n",
    "    \"\"\"\n",
    "    # Plot the images for review\n",
    "    f = plt.figure(figsize=(30, 18))\n",
    "    ax1 = plt.subplot(2, 4, 1)\n",
    "    ax1.imshow(image)\n",
    "    ax1.set_title('Original Image', fontsize=10)\n",
    "    ax2 = plt.subplot(2, 4, 2)\n",
    "    ax2.imshow(s_chn_img, cmap='gray')\n",
    "    ax2.set_title('S Channel', fontsize=10)\n",
    "    ax3 = plt.subplot(2, 4, 3)\n",
    "    ax3.imshow(l_chn_img, cmap='gray')\n",
    "    ax3.set_title('L Channel', fontsize=10)\n",
    "    ax4 = plt.subplot(2, 4, 4)\n",
    "    ax4.imshow(sobelx_img, cmap=\"gray\")\n",
    "    ax4.set_title('Gradient x', fontsize=10)\n",
    "    ax5 = plt.subplot(2, 4, 5)\n",
    "    ax5.imshow(sobely_img, cmap=\"gray\")\n",
    "    ax5.set_title('Gradient y', fontsize=10)\n",
    "    ax6 = plt.subplot(2, 4, 6)\n",
    "    ax6.imshow(combined_img, cmap=\"gray\")\n",
    "    ax6.set_title('Combined Image', fontsize=10)\n",
    "    ax7 = plt.subplot(2, 4, 7)\n",
    "    ax7.imshow(warped_image, cmap=\"gray\")\n",
    "    ax7.set_title('Warped View', fontsize=10)\n",
    "    ax8 = plt.subplot(2, 4, 8)\n",
    "    ax8.imshow(masked_image, cmap=\"gray\")\n",
    "    ax8.set_title('Masked View', fontsize=10)\n",
    "    plt.subplots_adjust(left=0., right=1, top=0.5, bottom=0.)\n",
    "    f.savefig('Inflight_' + str(idx))\n",
    "    plt.show()\n",
    "    \"\"\"\n",
    "    \n",
    "    # Combine images to create a collage of different perspectives\n",
    "    # This makes it easy to debug as many perspective are shown at the same time\n",
    "    c4 = cv2.resize(combined_img,(640, 360))\n",
    "    c4 = np.dstack((c4, c4, c4))*255\n",
    "    c4 = cv2.copyMakeBorder(c4,0,0,0,5,cv2.BORDER_CONSTANT, value=[255,255,0])\n",
    "    cv2.putText(c4,\"Filtered Binary Image\", (150,30), cv2.FONT_HERSHEY_PLAIN, 2, (0,0,255))\n",
    "#    print(\"c4 shape = \", c4.shape)\n",
    "    c5 = cv2.resize(masked_image,(640, 360))\n",
    "    c5 = np.dstack((c5, c5, c5))*255\n",
    "    c5 = cv2.copyMakeBorder(c5,0,0,0,5,cv2.BORDER_CONSTANT, value=[0,0,0])\n",
    "    cv2.putText(c5,\"Masked Binary Image\", (150,30), cv2.FONT_HERSHEY_PLAIN, 2, (255255,255))\n",
    "#    print(\"c5 shape = \", c5.shape)\n",
    "    c6 = cv2.resize(warped_image,(640, 360))\n",
    "    c6 = np.dstack((c6, c6, c6))*255\n",
    "    c6 = cv2.copyMakeBorder(c6,0,0,0,0,cv2.BORDER_CONSTANT, value=[255,255,0])\n",
    "    cv2.putText(c6,\"Warped\", (150,30), cv2.FONT_HERSHEY_PLAIN, 2, (255,255,255))\n",
    "    cv2.putText(c6,\"Image\", (150,60), cv2.FONT_HERSHEY_PLAIN, 2, (255,255,255))\n",
    "#    print(\"c6 shape = \", c6.shape)\n",
    "    global cb\n",
    "    cb = np.concatenate((c4, c5, c6),1)\n",
    "\n",
    "    return warped_image"
   ]
  },
  {
   "cell_type": "markdown",
   "metadata": {
    "deletable": true,
    "editable": true
   },
   "source": [
    "## Detect fresh left and right lanes a warped binary image"
   ]
  },
  {
   "cell_type": "markdown",
   "metadata": {
    "deletable": true,
    "editable": true
   },
   "source": [
    "This function takes in a warped binary image of the lanes and detects the lanes.  This function is used during the start of the pipeline and whenever multiple bad lines are detected continously"
   ]
  },
  {
   "cell_type": "code",
   "execution_count": 21,
   "metadata": {
    "collapsed": false,
    "deletable": true,
    "editable": true
   },
   "outputs": [],
   "source": [
    "### This function will locate a fresh set of lane lines from a given binary warped image\n",
    "\"\"\"  This function called \n",
    "     1. During the start of the pipeline to find the lanes\n",
    "     2. Whenever continous bad lanes are detected - this will help as a reset\"\"\"\n",
    "\n",
    "def find_fresh_lanes(binary_warped):\n",
    "    \n",
    "    print(\"Inside reset\")\n",
    "    drive_log.write(\"@ \" + str(len(detected_lines)) + \" - Inside reset\\n\")\n",
    "    \n",
    "    # Take a histogram of the bottom half of the image\n",
    "    histogram = np.sum(binary_warped[binary_warped.shape[0]/2:,:], axis=0)\n",
    "#    plt.plot(histogram)\n",
    "#    plt.show()\n",
    "    \n",
    "\n",
    "    # Find the peak of the left and right halves of the histogram\n",
    "    # These will be the starting point for the left and right lines\n",
    "    midpoint = np.int(histogram.shape[0]/2)\n",
    "    leftx_base = np.argmax(histogram[:midpoint])\n",
    "    rightx_base = np.argmax(histogram[midpoint:]) + midpoint\n",
    "#    print(leftx_base, rightx_base)\n",
    "\n",
    "    # Choose the number of sliding windows\n",
    "    nwindows = 9\n",
    "    # Set height of windows\n",
    "    window_height = np.int(binary_warped.shape[0]/nwindows)\n",
    "    \n",
    "    # Identify the x and y positions of all nonzero pixels in the image\n",
    "    nonzero = binary_warped.nonzero()\n",
    "    nonzeroy = np.array(nonzero[0])\n",
    "    nonzerox = np.array(nonzero[1])\n",
    "    \n",
    "    # Current positions to be updated for each window\n",
    "    leftx_current = leftx_base\n",
    "    rightx_current = rightx_base\n",
    "    \n",
    "    # Set the width of the windows +/- margin\n",
    "    margin = 100\n",
    "    # Set minimum number of pixels found to recenter window\n",
    "    minpix = 20\n",
    "    \n",
    "    # Create empty lists to receive left and right lane pixel indices\n",
    "    left_lane_inds = []\n",
    "    right_lane_inds = []\n",
    "    \n",
    "    # Create an output image to draw on and  visualize the result\n",
    "    out_img = np.dstack((binary_warped, binary_warped, binary_warped))*255\n",
    "    \n",
    "    # Step through the windows one by one\n",
    "    for window in range(nwindows):\n",
    "        # Identify window boundaries in x and y (and right and left)\n",
    "        win_y_low = binary_warped.shape[0] - (window+1)*window_height\n",
    "        win_y_high = binary_warped.shape[0] - window*window_height\n",
    "        win_xleft_low = leftx_current - margin\n",
    "        win_xleft_high = leftx_current + margin\n",
    "        win_xright_low = rightx_current - margin\n",
    "        win_xright_high = rightx_current + margin\n",
    "        # Draw the windows on the visualization image\n",
    "        cv2.rectangle(out_img,(win_xleft_low,win_y_low),(win_xleft_high,win_y_high),(0,255,0), 3) \n",
    "        cv2.rectangle(out_img,(win_xright_low,win_y_low),(win_xright_high,win_y_high),(0,255,0), 3) \n",
    "        # Identify the nonzero pixels in x and y within the window\n",
    "        good_left_inds = ((nonzeroy >= win_y_low) & (nonzeroy < win_y_high) & (nonzerox >= win_xleft_low) & (nonzerox < win_xleft_high)).nonzero()[0]\n",
    "        good_right_inds = ((nonzeroy >= win_y_low) & (nonzeroy < win_y_high) & (nonzerox >= win_xright_low) & (nonzerox < win_xright_high)).nonzero()[0]\n",
    "        # Append these indices to the lists\n",
    "        left_lane_inds.append(good_left_inds)\n",
    "        right_lane_inds.append(good_right_inds)\n",
    "        # If you found > minpix pixels, recenter next window on their mean position\n",
    "        if len(good_left_inds) > minpix:\n",
    "            leftx_current = np.int(np.mean(nonzerox[good_left_inds]))\n",
    "        if len(good_right_inds) > minpix:        \n",
    "            rightx_current = np.int(np.mean(nonzerox[good_right_inds]))\n",
    "        \n",
    "    # Concatenate the arrays of indices\n",
    "    left_lane_inds = np.concatenate(left_lane_inds)\n",
    "    right_lane_inds = np.concatenate(right_lane_inds)\n",
    "\n",
    "    # Combine images to create a collage of different perspectives\n",
    "    # This makes it easy to debug as many perspective are shown at the same time\n",
    "    global c2\n",
    "    c2 = cv2.resize(out_img,None,fx=0.5, fy=0.5)\n",
    "    c2 = cv2.copyMakeBorder(c2,0,10,0,0,cv2.BORDER_CONSTANT, value=[255,255,0])\n",
    "#    showImg(c2)\n",
    " \n",
    "    # Reset the flag to indicate that fresh detection has been done\n",
    "    global reset_lanes\n",
    "    reset_lanes = False\n",
    "    \n",
    "#    showImg(out_img)\n",
    "\n",
    "    return leftx_base, rightx_base, left_lane_inds, right_lane_inds\n",
    "    "
   ]
  },
  {
   "cell_type": "markdown",
   "metadata": {
    "deletable": true,
    "editable": true
   },
   "source": [
    "## Perform sanity check on lane lines"
   ]
  },
  {
   "cell_type": "markdown",
   "metadata": {
    "deletable": true,
    "editable": true
   },
   "source": [
    "This function performs sanity checks on the identified lane lines and decides if they are high confidence detections"
   ]
  },
  {
   "cell_type": "code",
   "execution_count": 27,
   "metadata": {
    "collapsed": false,
    "deletable": true,
    "editable": true
   },
   "outputs": [],
   "source": [
    "### Perform sanity checks.\n",
    "\"\"\" 1. Sanity check the left and right lanes from the current detection.\n",
    "    2. Sanity check the lanes against previous good values for continuity \"\"\"\n",
    "\n",
    "def sanity_check_lanes(l):\n",
    "    \n",
    "    good_lane = True\n",
    "    \n",
    "    while True:\n",
    "\n",
    "        # Low Pass Filter - Do the left and rigth lanes have enough pixels\n",
    "        if len(l.leftx) < 20 or len(l.rightx) < 20:\n",
    "            good_lane = False\n",
    "            print(\"@\", len(detected_lines),  \" > low pass failure : \", len(l.leftx), len(l.rightx) )\n",
    "            drive_log.write(\"@ \" + str(len(detected_lines)) + \" > low pass failure : \" \n",
    "                            + str(len(l.leftx)) + str(len(l.rightx)) + \"\\n\")\n",
    "            break\n",
    "\n",
    "        # Is the lane width reasonable (around 3.7 m)\n",
    "        if not(3 < l.lane_width < 4.2):\n",
    "            good_lane = False\n",
    "            print(\"@\", len(detected_lines),  \" > lane width failure : \", l.lane_width)\n",
    "            drive_log.write(\"@ \" + str(len(detected_lines)) + \" > lane width failure : \" \n",
    "                            + str(l.lane_width) + \"\\n\")\n",
    "            break\n",
    "\n",
    "        # Are the lane curvatures reasonable\n",
    "        if l.left_curverad > 20000 or l.right_curverad > 20000:\n",
    "            good_lane = False\n",
    "            print(\"@\", len(detected_lines),  \" > curve check failure : \", l.left_curverad, l.right_curverad)\n",
    "            break\n",
    "\n",
    "        # Do the left and right lanes have similar curvature\n",
    "        if abs(l.left_curverad - l.right_curverad) > 10000:\n",
    "            good_lane = False\n",
    "            print(\"@\", len(detected_lines),  \" > left and right curves similarity failure : \", l.left_curverad, l.right_curverad)\n",
    "            break\n",
    "            \n",
    "        # Are the lanes parallel (co-eff check)\n",
    "#        if abs(l.left_fit[0] - l.right_fit[0]) > abs(0.75 * l.left_fit[0]):\n",
    "        if abs(l.left_fit[0] - l.right_fit[0]) > 0.0005:\n",
    "            good_lane = False\n",
    "            print(\"@\", len(detected_lines),  \" > 2nd order coefficient similarity failure : \", l.left_fit[0], l.right_fit[0])\n",
    "            break\n",
    "            \n",
    "#        if abs(l.left_fit[1] - l.right_fit[1]) > abs(0.75 * l.left_fit[1]):\n",
    "        if abs(l.left_fit[1] - l.right_fit[1]) > 0.35:\n",
    "            good_lane = False\n",
    "            print(\"@\", len(detected_lines),  \" > 1st order coefficient similarity failure : \", l.left_fit[1], l.right_fit[1])\n",
    "            break\n",
    "        \n",
    "        if not l.fresh_lane:\n",
    "            \n",
    "            # Is the lane offset marginal from prev frame\n",
    "                if abs(l.center_offset_m - detected_lines[-1].center_offset_m) > 0.5:\n",
    "                    good_lane = False\n",
    "                    print(\"@\", len(detected_lines),  \" > Continuity check failed - lane offset variation high : \", \n",
    "                          l.center_offset_m, detected_lines[-1].center_offset_m)\n",
    "                    break\n",
    "\n",
    "            # Is the left curvature offset reasonable from prev frame\n",
    "                if abs(l.left_curverad - detected_lines[-1].left_curverad) > abs(3.0 * l.left_curverad):\n",
    "                    good_lane = False\n",
    "                    print(\"@\", len(detected_lines),  \" > Continuity check failed - left curve variation high : \", \n",
    "                          l.left_curverad, detected_lines[-1].left_curverad)\n",
    "                    break\n",
    "            \n",
    "            # Is the right curvature offset reasonable from prev frame\n",
    "                if abs(l.right_curverad - detected_lines[-1].right_curverad) > abs(3.0 * l.right_curverad):\n",
    "                    good_lane = False\n",
    "                    print(\"@\", len(detected_lines),  \" > Continuity check failed - right curve variation high : \", \n",
    "                          l.right_curverad, detected_lines[-1].right_curverad)\n",
    "                    break\n",
    "\n",
    "            # Is the co-eff offset reasonable from prev frame\n",
    "            \n",
    "        break\n",
    "            \n",
    "#    print(\"lane quality = \", good_lane)\n",
    "    return good_lane"
   ]
  },
  {
   "cell_type": "markdown",
   "metadata": {
    "deletable": true,
    "editable": true
   },
   "source": [
    "## Extract left and right lane fits from a warped binary image"
   ]
  },
  {
   "cell_type": "markdown",
   "metadata": {
    "deletable": true,
    "editable": true
   },
   "source": [
    "This function takes in a warped binary image of the lanes and returns the left and right lane fits"
   ]
  },
  {
   "cell_type": "code",
   "execution_count": 7,
   "metadata": {
    "collapsed": false,
    "deletable": true,
    "editable": true
   },
   "outputs": [],
   "source": [
    "### Function to extract the left and right line fits from a given warped binary image of the lanes\n",
    "\n",
    "\"\"\" This function takes in a warped binary image of the lanes and \n",
    "    returns the left and right lane fits \"\"\"\n",
    "\n",
    "def get_line_fits(binary_warped):\n",
    "    \n",
    "#    showGrayImg(binary_warped)\n",
    "    global reset_lanes\n",
    "#    print('reset status', reset_lanes)\n",
    "\n",
    "    # Identify indices of non-zero pixels from the binary image\n",
    "    nonzero = binary_warped.nonzero()\n",
    "    nonzeroy = np.array(nonzero[0])\n",
    "    nonzerox = np.array(nonzero[1])\n",
    "\n",
    "    # Create a new Line object to store the lane parameters\n",
    "    l = Line()\n",
    "    \n",
    "    if reset_lanes :\n",
    "        # Fresh lanes being built\n",
    "        leftx_base, rightx_base, left_lane_inds, right_lane_inds = find_fresh_lanes(binary_warped)\n",
    "        l.fresh_lane = True\n",
    "    else:\n",
    "        # Using coeff from last good detection for plotting new lanes\n",
    "        l.fresh_lane = False\n",
    "        margin = 100\n",
    "        left_fit = detected_lines[-1].left_fit\n",
    "        right_fit = detected_lines[-1].right_fit\n",
    "        left_lane_inds = ((nonzerox > (left_fit[0]*(nonzeroy**2) + left_fit[1]*nonzeroy + left_fit[2] - margin)) & (nonzerox < (left_fit[0]*(nonzeroy**2) + left_fit[1]*nonzeroy + left_fit[2] + margin))) \n",
    "        right_lane_inds = ((nonzerox > (right_fit[0]*(nonzeroy**2) + right_fit[1]*nonzeroy + right_fit[2] - margin)) & (nonzerox < (right_fit[0]*(nonzeroy**2) + right_fit[1]*nonzeroy + right_fit[2] + margin)))\n",
    "        y_base = binary_warped.shape[0]\n",
    "        leftx_base = left_fit[0]*(y_base**2) + left_fit[1]*y_base + left_fit[2]\n",
    "        rightx_base = right_fit[0]*(y_base**2) + right_fit[1]*y_base + right_fit[2]\n",
    "#        print(leftx_base, rightx_base)\n",
    "\n",
    "\n",
    "    # Extract left and right line pixel positions\n",
    "    leftx = nonzerox[left_lane_inds]\n",
    "    lefty = nonzeroy[left_lane_inds] \n",
    "    rightx = nonzerox[right_lane_inds]\n",
    "    righty = nonzeroy[right_lane_inds] \n",
    "\n",
    "    # Create an output image to draw on and  visualize the result\n",
    "    out_img = np.dstack((binary_warped, binary_warped, binary_warped))*255\n",
    "    out_img[nonzeroy[left_lane_inds], nonzerox[left_lane_inds]] = [255, 0, 0]\n",
    "    out_img[nonzeroy[right_lane_inds], nonzerox[right_lane_inds]] = [0, 0, 255]\n",
    "#    showImg(out_img)\n",
    "\n",
    "    # Fit a second order polynomial to each lane\n",
    "    if len(leftx) == 0 or len(lefty) == 0:\n",
    "        leftx = detected_lines[-1].leftx\n",
    "        lefty = detected_lines[-1].lefty\n",
    "    if len(rightx) == 0 or len(righty) == 0:\n",
    "        rightx = detected_lines[-1].rightx\n",
    "        righty = detected_lines[-1].righty\n",
    "\n",
    "    left_fit = np.polyfit(lefty, leftx, 2)\n",
    "    right_fit = np.polyfit(righty, rightx, 2)\n",
    "#    print(\"left fit =\" , left_fit)\n",
    "#    print(\"right fit =\" , right_fit)\n",
    "\n",
    "\n",
    "    # Calculate radius of curvature\n",
    "    global baseline_lane_width\n",
    "    ploty = np.linspace(0, binary_warped.shape[0]-1, binary_warped.shape[0] )\n",
    "    y_eval = np.max(ploty) / 2  # y-value where we want radius of curvature\n",
    "    ym_per_pix = 30/720 # meters per pixel in y dimension  -->  Manual observation\n",
    "    xm_per_pix = 3.7/baseline_lane_width # meters per pixel in x dimension\n",
    "#    xm_per_pix = 3.7/700 # meters per pixel in x dimension\n",
    "#    ym_per_pix = 3/7 # meters per pixel in y dimension  -->  Manual observation\n",
    "\n",
    "\n",
    "    # Calculate curvature in pixels\n",
    "    left_curverad = calculate_curvature(y_eval, left_fit)\n",
    "    right_curverad = calculate_curvature(y_eval, right_fit)\n",
    "#    print(\"Curvature left = \", left_curverad, \"px  right = \", right_curverad, \"px\")\n",
    "    \n",
    "    # Fit new polynomials to x,y in world space to calculate curvature in meters\n",
    "    left_fit_cr = np.polyfit(lefty*ym_per_pix, leftx*xm_per_pix, 2)\n",
    "    right_fit_cr = np.polyfit(righty*ym_per_pix, rightx*xm_per_pix, 2)\n",
    "    \n",
    "    # Calculate the new radii of curvature\n",
    "    left_curverad = ((1 + (2*left_fit_cr[0]*y_eval*ym_per_pix + left_fit_cr[1])**2)**1.5) / np.absolute(2*left_fit_cr[0])\n",
    "    right_curverad = ((1 + (2*right_fit_cr[0]*y_eval*ym_per_pix + right_fit_cr[1])**2)**1.5) / np.absolute(2*right_fit_cr[0])\n",
    "     \n",
    "    # Determine lane width and offset\n",
    "    lane_width = (rightx_base - leftx_base) * xm_per_pix\n",
    "    lane_center = int(leftx_base + ((rightx_base - leftx_base) / 2))\n",
    "    img_center = np.int(image.shape[1]/2)\n",
    "    center_offset_px = img_center - lane_center\n",
    "    center_offset_m = round((center_offset_px * xm_per_pix), 2)\n",
    "\n",
    "    # Store detect lane parametes in the line object\n",
    "    l.leftx_base = leftx_base\n",
    "    l.rightx_base = rightx_base\n",
    "    l.leftx = leftx\n",
    "    l.lefty = lefty\n",
    "    l.rightx = rightx\n",
    "    l.righty = righty\n",
    "    l.left_fit = left_fit\n",
    "    l.right_fit = right_fit\n",
    "    l.left_curverad = left_curverad\n",
    "    l.right_curverad = right_curverad\n",
    "    l.center_offset_m = center_offset_m\n",
    "    l.lane_width = lane_width\n",
    "    \n",
    "    # Sanity check the identified lanes.\n",
    "    if len(detected_lines) == 0:\n",
    "        # Handle first clip of the pipeline\n",
    "        l.good_lane = True\n",
    "        l.continous_bad_lanes = 0\n",
    "        l.smooth_left_fit = left_fit\n",
    "        l.smooth_right_fit = right_fit\n",
    "    else:\n",
    "        l.continous_bad_lanes = detected_lines[-1].continous_bad_lanes\n",
    "        l.good_lane = sanity_check_lanes(l)        \n",
    "\n",
    "    # Create an image section that will show lane parameters\n",
    "    # This makes it easy to debug\n",
    "    global c1\n",
    "    c1 = np.zeros_like(out_img)\n",
    "    c1 = cv2.resize(c1,None,fx=0.5, fy=0.5)\n",
    "    c1.fill(255)\n",
    "    cv2.putText(c1,\"Frame Metrics - \" + str(len(detected_lines) + 1), (200,30), cv2.FONT_HERSHEY_PLAIN, 2, (0,0,255))\n",
    "    cv2.putText(c1,\"lx_base = \" + str(int(leftx_base)), (10,60), cv2.FONT_HERSHEY_PLAIN, 2, (0,0,255))\n",
    "    cv2.putText(c1,\"rx_base = \" + str(int(rightx_base)), (10,90), cv2.FONT_HERSHEY_PLAIN, 2, (0,0,255))\n",
    "    cv2.putText(c1,\"ln_width = \" + str(round(lane_width,2)), (10,120), cv2.FONT_HERSHEY_PLAIN, 2, (0,0,255))\n",
    "    cv2.putText(c1,\"lfit2 = \" + str(round(left_fit[2],2)), (10,150), cv2.FONT_HERSHEY_PLAIN, 2, (0,0,255))\n",
    "    cv2.putText(c1,\"rfit2 = \" + str(round(right_fit[2],2)), (10,180), cv2.FONT_HERSHEY_PLAIN, 2, (0,0,255))\n",
    "    cv2.putText(c1,\"lfit1 = \" + str(round(left_fit[1],3)), (10,210), cv2.FONT_HERSHEY_PLAIN, 2, (0,0,255))\n",
    "    cv2.putText(c1,\"rfit1 = \" + str(round(right_fit[1],3)), (10,240), cv2.FONT_HERSHEY_PLAIN, 2, (0,0,255))\n",
    "    cv2.putText(c1,\"lfit0 = \" + str(round(left_fit[0],6)), (10,270), cv2.FONT_HERSHEY_PLAIN, 2, (0,0,255))\n",
    "    cv2.putText(c1,\"rfit0 = \" + str(round(right_fit[0],6)), (10,300), cv2.FONT_HERSHEY_PLAIN, 2, (0,0,255))\n",
    "    cv2.putText(c1,\"Fresh Lane = \" + str(l.fresh_lane), (300,60), cv2.FONT_HERSHEY_PLAIN, 2, (0,0,255))\n",
    "    cv2.putText(c1,\"Good Lane = \" + str(l.good_lane), (300,90), cv2.FONT_HERSHEY_PLAIN, 2, (0,0,255))\n",
    "    cv2.putText(c1,\"Bad Lns = \" + str(l.continous_bad_lanes), (300,120), cv2.FONT_HERSHEY_PLAIN, 2, (0,0,255))\n",
    "    cv2.putText(c1,\"Left Curve = \" + str(int(l.left_curverad)), (300,150), cv2.FONT_HERSHEY_PLAIN, 2, (0,0,255))\n",
    "    cv2.putText(c1,\"Right Curve = \" + str(int(l.right_curverad)), (300,180), cv2.FONT_HERSHEY_PLAIN, 2, (0,0,255))\n",
    "    c1 = cv2.copyMakeBorder(c1,0,0,0,0,cv2.BORDER_CONSTANT, value=[255,255,0])\n",
    "#    print(c1.shape)\n",
    "#    showImg(c1)\n",
    "\n",
    "    # If the current lane detection is bad, use the previous good values to draw current lane\n",
    "    if l.good_lane:\n",
    "        l.continous_bad_lanes = 0\n",
    "        i = 1\n",
    "        # Smoothen the fit over the last n good detections\n",
    "        for line in detected_lines[::-1]:\n",
    "            l.smooth_left_fit += line.left_fit\n",
    "            l.smooth_right_fit += line.right_fit\n",
    "            if i == 5: \n",
    "                l.smooth_left_fit = l.smooth_left_fit / i\n",
    "                l.smooth_right_fit = l.smooth_right_fit / i\n",
    "                break \n",
    "            i += 1\n",
    "    else:\n",
    "        l.continous_bad_lanes += 1\n",
    "        if l.continous_bad_lanes > 5: reset_lanes = True\n",
    "        l.leftx_base = detected_lines[-1].leftx_base\n",
    "        l.rightx_base = detected_lines[-1].rightx_base\n",
    "        l.leftx = detected_lines[-1].leftx\n",
    "        l.lefty = detected_lines[-1].lefty\n",
    "        l.rightx = detected_lines[-1].rightx\n",
    "        l.righty = detected_lines[-1].righty\n",
    "        l.left_fit = detected_lines[-1].left_fit\n",
    "        l.right_fit = detected_lines[-1].right_fit\n",
    "        l.left_curverad = detected_lines[-1].left_curverad\n",
    "        l.right_curverad = detected_lines[-1].right_curverad\n",
    "        l.center_offset_m = detected_lines[-1].center_offset_m\n",
    "        l.lane_width = detected_lines[-1].lane_width\n",
    "        l.smooth_left_fit = detected_lines[-1].smooth_left_fit\n",
    "        l.smooth_right_fit = detected_lines[-1].smooth_right_fit\n",
    "    \n",
    "    # Add the current lane lines to the detected_lines list\n",
    "    detected_lines.append(l)\n",
    "\n",
    "    return l"
   ]
  },
  {
   "cell_type": "markdown",
   "metadata": {
    "deletable": true,
    "editable": true
   },
   "source": [
    "## Lane Marker Pipeline\n",
    "\n",
    "This function acts as a pipeline that takes a 3 channel RGB color image as input and returns the same image with lanes marked in it.\n"
   ]
  },
  {
   "cell_type": "code",
   "execution_count": 8,
   "metadata": {
    "collapsed": false,
    "deletable": true,
    "editable": true
   },
   "outputs": [],
   "source": [
    "### Lane Marker Pipeline\n",
    "\"\"\" This function acts as a pipeline that takes a 3 channel RGB color image as input\n",
    "    and returns the same image with lanes marked in it \"\"\"\n",
    "\n",
    "def lane_marker_pipeline(image):\n",
    "\n",
    "    # Get the binary warped image of the input image\n",
    "    binary_warped = get_binary_warp(image)\n",
    "    \n",
    "    # Identify the left and right fits from the binary warped image\n",
    "    l = get_line_fits(binary_warped)\n",
    "    \n",
    "    # Generate x and y values for plotting\n",
    "    ploty = np.linspace(0, binary_warped.shape[0]-1, binary_warped.shape[0] )\n",
    "    left_fitx = l.smooth_left_fit[0]*ploty**2 + l.smooth_left_fit[1]*ploty + l.smooth_left_fit[2]\n",
    "    right_fitx = l.smooth_right_fit[0]*ploty**2 + l.smooth_right_fit[1]*ploty + l.smooth_right_fit[2]\n",
    "#    left_fitx = l.left_fit[0]*ploty**2 + l.left_fit[1]*ploty + l.left_fit[2]\n",
    "#    right_fitx = l.right_fit[0]*ploty**2 + l.right_fit[1]*ploty + l.right_fit[2]\n",
    "\n",
    "    # Create an output image to draw on and  visualize the result\n",
    "    out_img = np.dstack((binary_warped, binary_warped, binary_warped))*255\n",
    "    window_img = np.zeros_like(out_img)\n",
    "    \n",
    "    # Generate a polygon to illustrate the search window area\n",
    "    # And recast the x and y points into usable format for cv2.fillPoly()\n",
    "    line_width = 15\n",
    " \n",
    "    left_line_window1 = np.array([np.transpose(np.vstack([left_fitx - line_width, ploty]))])\n",
    "    left_line_window2 = np.array([np.flipud(np.transpose(np.vstack([left_fitx + line_width, ploty])))])\n",
    "    left_line_pts = np.hstack((left_line_window1, left_line_window2))\n",
    "    right_line_window1 = np.array([np.transpose(np.vstack([right_fitx - line_width, ploty]))])\n",
    "    right_line_window2 = np.array([np.flipud(np.transpose(np.vstack([right_fitx + line_width, ploty])))])\n",
    "    right_line_pts = np.hstack((right_line_window1, right_line_window2))\n",
    "\n",
    "    # Draw the lane onto the warped blank image\n",
    "    cv2.fillPoly(window_img, np.int_([left_line_pts]), (255,0, 0))\n",
    "    cv2.fillPoly(window_img, np.int_([right_line_pts]), (0,0, 255))\n",
    "    result = cv2.addWeighted(out_img, 0.5, window_img, 1.0, 0)\n",
    "\n",
    "    \n",
    "    \"\"\"\n",
    "    # Draw images\n",
    "    f = plt.figure(figsize=(30, 18))\n",
    "   \n",
    "    ax1 = plt.subplot(1, 3, 1)\n",
    "    ax1.imshow(binary_warped, cmap='gray')\n",
    "    ax1.set_title('Input Image', fontsize=10)\n",
    "    \n",
    "    ax2 = plt.subplot(1, 3, 2)\n",
    "    ax2.imshow(out_img, cmap='gray')\n",
    "    ax2.plot(left_fitx, ploty, color='yellow')\n",
    "    ax2.plot(right_fitx, ploty, color='yellow')\n",
    "    ax2.set_title('Marked Image', fontsize=10)\n",
    "    \n",
    "    ax3 = plt.subplot(1, 3, 3)\n",
    "    ax3.imshow(result, cmap='gray')\n",
    "    ax3.set_title('Final', fontsize=10)\n",
    "    ax3.plot(left_fitx, ploty, color='yellow', linewidth=2)\n",
    "    ax3.plot(right_fitx, ploty, color='yellow', linewidth=2)\n",
    "\n",
    "    plt.subplots_adjust(left=0., right=1, top=0.5, bottom=0.)\n",
    "    \"\"\"\n",
    "\n",
    "    # Create an image to draw the lines on\n",
    "    warp_zero = np.zeros_like(binary_warped).astype(np.uint8)\n",
    "    color_warp = np.dstack((warp_zero, warp_zero, warp_zero))\n",
    "#    ax3.plot(left_fitx, ploty, color='yellow', linewidth=2)\n",
    "#    ax3.plot(right_fitx, ploty, color='yellow', linewidth=2)\n",
    "\n",
    "    # Recast the x and y points into usable format for cv2.fillPoly()\n",
    "    pts_left = np.array([np.transpose(np.vstack([left_fitx, ploty]))])\n",
    "    pts_right = np.array([np.flipud(np.transpose(np.vstack([right_fitx, ploty])))])\n",
    "    pts = np.hstack((pts_left, pts_right))\n",
    "\n",
    "    # Draw the lane onto the warped blank image\n",
    "    cv2.fillPoly(color_warp, np.int_([pts]), (0,255, 0))\n",
    "#    showImg(color_warp)\n",
    "    color_warp = cv2.addWeighted(color_warp, .5, window_img, .5, 0)\n",
    "#    showImg(color_warp)\n",
    "\n",
    "    # Warp the blank back to original image space using inverse perspective matrix (Minv)\n",
    "    newwarp = cv2.warpPerspective(color_warp, perspective_Minv, (image.shape[1], image.shape[0])) \n",
    "    # Combine the result with the original image\n",
    "    marked_img = cv2.addWeighted(image, 1, newwarp, 0.3, 0)\n",
    "\n",
    "    curverad = int((l.left_curverad + l.right_curverad) / 2)\n",
    "    cv2.putText(marked_img,\"Radius of Curvature = \" + str(curverad) + \"m\", (50,50), cv2.FONT_HERSHEY_PLAIN, 2.5, (255,255,255))\n",
    "    if l.center_offset_m > 0:\n",
    "        offset_txt = \"Vehicle is \" + str(abs(l.center_offset_m)) + \"m right of centre\"\n",
    "    elif l.center_offset_m < 0:\n",
    "        offset_txt = \"Vehicle is \" + str(abs(l.center_offset_m)) + \"m left of centre\"\n",
    "    else:\n",
    "        offset_txt = \"Vehicle is at centre\"\n",
    "    \n",
    "    cv2.putText(marked_img,offset_txt, (50,100), cv2.FONT_HERSHEY_PLAIN, 2.5, (255,255,255))\n",
    "    \n",
    "    \n",
    "    return marked_img"
   ]
  },
  {
   "cell_type": "markdown",
   "metadata": {
    "deletable": true,
    "editable": true
   },
   "source": [
    "## Caliberate Camera\n",
    "This section caliberates the camera by using chessboard images so that images can be undistorted"
   ]
  },
  {
   "cell_type": "code",
   "execution_count": 9,
   "metadata": {
    "collapsed": false,
    "deletable": true,
    "editable": true
   },
   "outputs": [],
   "source": [
    "### Caliberate Camera\n",
    "\n",
    "\"\"\"This section caliberates the camera by using chessboard images so that images can be undistorted\"\"\"\n",
    "\n",
    "def caliberate_camera():\n",
    "    # Chessboard corners\n",
    "    nx = 9\n",
    "    ny = 6\n",
    "\n",
    "    # prepare object points, like (0,0,0), (1,0,0), (2,0,0) ....,(6,5,0)\n",
    "    objp = np.zeros((6*9,3), np.float32)\n",
    "    objp[:,:2] = np.mgrid[0:nx, 0:ny].T.reshape(-1,2)\n",
    "\n",
    "    # Arrays to store object points and image points from all the images.\n",
    "    objpoints = [] # 3d points in real world space\n",
    "    imgpoints = [] # 2d points in image plane.\n",
    "\n",
    "    # Make a list of calibration images\n",
    "    images = glob.glob('camera_cal/cal*.jpg')\n",
    "\n",
    "    # Step through the list and search for chessboard corners\n",
    "    for idx, fname in enumerate(images):\n",
    "        img = cv2.imread(fname)\n",
    "        img = cv2.cvtColor(img, cv2.COLOR_BGR2RGB)\n",
    "        gray = grayscale(img)\n",
    "        # Find the chessboard corners\n",
    "        ret, corners = cv2.findChessboardCorners(gray, (nx,ny), None)\n",
    "        # If found, add object points, image points\n",
    "        if ret == True:\n",
    "            objpoints.append(objp)\n",
    "            imgpoints.append(corners)\n",
    "\n",
    "            # Draw and display the corners\n",
    "            cv2.drawChessboardCorners(img, (nx,ny), corners, ret)\n",
    "            write_name = 'camera_cal/corners_found'+str(idx)+'.jpg'\n",
    "            cv2.imwrite(write_name, img)\n",
    "\n",
    "    # Get chessboard image size\n",
    "    img = cv2.imread('camera_cal/calibration1.jpg')\n",
    "    img_size = (img.shape[1], img.shape[0])\n",
    "    print(\"Chess board shape = \", img_size)\n",
    "\n",
    "    # Do camera calibration given object points and image points\n",
    "    ret, mtx, dist, rvecs, tvecs = cv2.calibrateCamera(objpoints, imgpoints, img_size,None,None)\n",
    "    print(\"Camera caliberated.  mtx = \", mtx, \" dist = \", dist)\n",
    "\n",
    "    dst = cv2.undistort(img, mtx, dist, None, mtx)\n",
    "    cv2.imwrite('camera_cal/test_undist.jpg',dst)\n",
    "\n",
    "    # Visualize undistortion\n",
    "    \"\"\"\n",
    "    f, (ax1, ax2) = plt.subplots(1, 2, figsize=(20,10))\n",
    "    ax1.imshow(img)\n",
    "    ax1.set_title('Original Image', fontsize=20)\n",
    "    ax2.imshow(dst)\n",
    "    ax2.set_title('Undistorted Image', fontsize=20)\n",
    "    plt.show()\n",
    "    \"\"\"\n",
    "    return mtx, dist"
   ]
  },
  {
   "cell_type": "markdown",
   "metadata": {
    "deletable": true,
    "editable": true
   },
   "source": [
    "## Compute Perspective Transform\n",
    "This section calculates the Perspective Transform (M) that can be applied to any image later"
   ]
  },
  {
   "cell_type": "code",
   "execution_count": 10,
   "metadata": {
    "collapsed": false,
    "deletable": true,
    "editable": true
   },
   "outputs": [],
   "source": [
    "### Compute Perspective Transform (M) and Inverse Transform (Minv)\n",
    "\n",
    "\"\"\" This function calculates the Perspective Transform (M) that can be applied to any images later \"\"\"\n",
    "\n",
    "def compute_perspective():\n",
    "    \n",
    "    global terrain_type\n",
    "    \n",
    "    if terrain_type == 'h':\n",
    "        reference_image = 'test_images/h1.png'\n",
    "    elif terrain_type == 'c':\n",
    "        reference_image = 'test_images/c1.png'\n",
    "    else:\n",
    "        reference_image = 'test_images/straight_lines1.jpg'\n",
    "\n",
    "    # Read in an image with straight lanes\n",
    "    img = cv2.imread(reference_image)\n",
    "    img = cv2.cvtColor(img, cv2.COLOR_BGR2RGB)\n",
    "    img_size = (img.shape[1], img.shape[0])\n",
    "\n",
    "    #Convert to gray scale\n",
    "    gray = grayscale(img)\n",
    "\n",
    "    # Undistorting using mtx and dist from camera caliberation\n",
    "    dst = undistort(img)\n",
    "   \n",
    "    #Set source and destination image co-ordinates\n",
    "    xoffset = 400 # offset for dst points\n",
    "    yoffset = 10 # offset for dst points\n",
    "\n",
    "    #Define 4 source points src = np.float32([[,],[,],[,],[,]]) from the straight lane image\n",
    "    \n",
    "    if terrain_type == 'h':\n",
    "        #src = np.float32([[510,498],[703,498],[961,683],[267,683]]) # Good for harder challenge\n",
    "        src = np.float32([[513,483],[664,483],[961,683],[267,683]]) # Best for harder challenge\n",
    "    elif terrain_type == 'c':\n",
    "        src = np.float32([[629,483],[736,483],[1036,680],[353,680]]) # Best for challenge\n",
    "        #src = np.float32([[608,500],[741,500],[984,650],[397,650]]) # Good for challenge\n",
    "    else:\n",
    "        src = np.float32([[588,455],[694,455],[998,650],[305,650]]) # Best co-ordinates for normal video\n",
    "        #src = np.float32([[599,448],[682,448],[1010,658],[295,658]]) # second best for p1\n",
    "\n",
    "    # Define 4 destination points dst = np.float32([[,],[,],[,],[,]]) through trial and error\n",
    "    dst = np.float32([[xoffset, yoffset], [img_size[0]-xoffset, yoffset], \n",
    "                                     [img_size[0]-xoffset, img_size[1]-yoffset], \n",
    "                                     [xoffset, img_size[1]-yoffset]])\n",
    "    \n",
    "    # Calculate Perspective Transform\n",
    "    perspective_M = cv2.getPerspectiveTransform(src, dst)\n",
    "    \n",
    "    # Calculate Perspective Inverse Transform\n",
    "    perspective_Minv = cv2.getPerspectiveTransform(dst, src)\n",
    "    \n",
    "    # Warp the image using the perspective transform M\n",
    "    warped_image = cv2.warpPerspective(img, perspective_M, gray.shape[::-1], flags=cv2.INTER_LINEAR)\n",
    "\n",
    "    \"\"\"\n",
    "    # Visualize perspective transform\n",
    "    f, (ax1, ax2) = plt.subplots(1, 2, figsize=(24, 9))\n",
    "    f.tight_layout()\n",
    "    ax1.imshow(img)\n",
    "    ax1.set_title('Original Image', fontsize=20)\n",
    "    ax2.imshow(warped_image)\n",
    "    ax2.set_title('Undistorted and Warped Image', fontsize=20)\n",
    "    plt.subplots_adjust(left=0., right=1, top=0.9, bottom=0.)\n",
    "    plt.show()\n",
    "    \"\"\"\n",
    "    \n",
    "    warped_image = cv2.cvtColor(warped_image, cv2.COLOR_RGB2BGR)\n",
    "    cv2.imwrite('img_calib.jpg', warped_image)\n",
    "    \n",
    "    return perspective_M, perspective_Minv"
   ]
  },
  {
   "cell_type": "markdown",
   "metadata": {
    "deletable": true,
    "editable": true
   },
   "source": [
    "## Compute Lane Width\n",
    "\n",
    "Compute the lane width from a straight lane image in pixels which can be used as a reference for pixel to meters conversion.\n"
   ]
  },
  {
   "cell_type": "code",
   "execution_count": 11,
   "metadata": {
    "collapsed": false,
    "deletable": true,
    "editable": true
   },
   "outputs": [],
   "source": [
    "### Determine the lane width using a clean image (straight line image).\n",
    "### This image will be used for calculating the pixel to meter conversion for x axis\n",
    "\n",
    "def compute_lane_width():\n",
    "\n",
    "    global terrain_type\n",
    "    \n",
    "    if terrain_type == 'h':\n",
    "        reference_image = 'test_images/h1.png'\n",
    "    elif terrain_type == 'c':\n",
    "        reference_image = 'test_images/c1.png'\n",
    "    else:\n",
    "        reference_image = 'test_images/straight_lines1.jpg'\n",
    "\n",
    "    # Read in a baseline image (straight lanes image)\n",
    "    img = cv2.imread(reference_image)\n",
    "    img = cv2.cvtColor(img, cv2.COLOR_BGR2RGB)\n",
    "\n",
    "    binary_warped = get_binary_warp(img)\n",
    "    showGrayImg(binary_warped)\n",
    "\n",
    "    # Take a histogram of the bottom quarter of the image\n",
    "    histogram = np.sum(binary_warped[binary_warped.shape[0]//4:,:], axis=0)\n",
    "    print(histogram.shape)\n",
    "#    plt.plot(histogram)\n",
    "#    plt.show()\n",
    "\n",
    "    # Find the peak of the left and right halves of the histogram\n",
    "    # These will be the starting point for the left and right lines\n",
    "    baseline_midpoint = np.int(histogram.shape[0]/2)\n",
    "    baseline_leftx_base = np.argmax(histogram[:baseline_midpoint])\n",
    "    baseline_rightx_base = np.argmax(histogram[baseline_midpoint:]) + baseline_midpoint\n",
    "    baseline_lane_width = baseline_rightx_base - baseline_leftx_base\n",
    "    print(\"Baseline mid, left, center = \", baseline_midpoint, baseline_leftx_base, baseline_rightx_base)\n",
    "    print(\"Baeline Lane width in pixels = \", baseline_lane_width)\n",
    "    \n",
    "    return baseline_lane_width"
   ]
  },
  {
   "cell_type": "markdown",
   "metadata": {
    "deletable": true,
    "editable": true
   },
   "source": [
    "## Explore input image characteristics\n",
    "Read a sample image to find out its shape and type"
   ]
  },
  {
   "cell_type": "code",
   "execution_count": 12,
   "metadata": {
    "collapsed": false,
    "deletable": true,
    "editable": true
   },
   "outputs": [
    {
     "name": "stdout",
     "output_type": "stream",
     "text": [
      "shape of image object =  (720, 1280, 3)\n",
      "type of image object =  <class 'numpy.ndarray'>\n"
     ]
    },
    {
     "data": {
      "image/png": "[encoded data removed]",
      "text/plain": [
       "<matplotlib.figure.Figure at 0x23d41c45f98>"
      ]
     },
     "metadata": {},
     "output_type": "display_data"
    }
   ],
   "source": [
    "image = cv2.imread(\"test_images\\\\straight_lines1.jpg\")\n",
    "image = cv2.cvtColor(image, cv2.COLOR_BGR2RGB)\n",
    "print(\"shape of image object = \", image.shape)\n",
    "print(\"type of image object = \", type(image))\n",
    "showImg(image)   "
   ]
  },
  {
   "cell_type": "markdown",
   "metadata": {
    "deletable": true,
    "editable": true
   },
   "source": [
    "## Validate pipeline on test images\n",
    "\n",
    "Use test images to validate the pipeline.\n"
   ]
  },
  {
   "cell_type": "code",
   "execution_count": 20,
   "metadata": {
    "collapsed": false,
    "deletable": true,
    "editable": true
   },
   "outputs": [
    {
     "name": "stdout",
     "output_type": "stream",
     "text": [
      "Inside reset\n"
     ]
    },
    {
     "name": "stderr",
     "output_type": "stream",
     "text": [
      "C:\\Users\\ADMIN\\Miniconda3\\envs\\carnd-term1\\lib\\site-packages\\ipykernel\\__main__.py:12: VisibleDeprecationWarning: using a non-integer number instead of an integer will result in an error in the future\n"
     ]
    },
    {
     "data": {
      "image/png": "[encoded data removed]",
      "text/plain": [
       "<matplotlib.figure.Figure at 0x23d40195cc0>"
      ]
     },
     "metadata": {},
     "output_type": "display_data"
    },
    {
     "data": {
      "image/png": "[encoded data removed]",
      "text/plain": [
       "<matplotlib.figure.Figure at 0x23d402f3c18>"
      ]
     },
     "metadata": {},
     "output_type": "display_data"
    },
    {
     "name": "stdout",
     "output_type": "stream",
     "text": [
      "Pair of lanes detected =  1\n"
     ]
    }
   ],
   "source": [
    "reset_lanes = True\n",
    "detected_lines = []\n",
    "\n",
    "drive_log = open(\"driveLog.txt\",\"w\") \n",
    "drive_log.write(\"Driver's Log -------------------\\n\")\n",
    "\n",
    "# use n for normal, c for challenge and h for harder\n",
    "terrain_type = 'n'\n",
    "\n",
    "# Caliberate Camera\n",
    "#mtx, dist = caliberate_camera()\n",
    "\n",
    "# Get perspective\n",
    "#perspective_M, perspective_Minv = compute_perspective()\n",
    "\n",
    "# Get baseline lane width\n",
    "#baseline_lane_width = compute_lane_width()\n",
    "\n",
    "image = cv2.imread('test_images/straight_lines1.jpg')\n",
    "image = cv2.cvtColor(image, cv2.COLOR_BGR2RGB)\n",
    "marked_img = lane_marker_pipeline(image)\n",
    "showImg(marked_img)\n",
    "combined_imgs = img_collage(marked_img)\n",
    "showImg(combined_imgs)\n",
    "combined_imgs = cv2.cvtColor(combined_imgs, cv2.COLOR_RGB2BGR)\n",
    "cv2.imwrite('text_test.jpg',combined_imgs)\n",
    "drive_log.close()\n",
    "\n",
    "\"\"\"\n",
    "images = glob.glob('test_images/test1*')\n",
    "for idx, fname in enumerate(images):\n",
    "    image = cv2.imread(fname)\n",
    "    image = cv2.cvtColor(image, cv2.COLOR_BGR2RGB)\n",
    "    marked_img = lane_marker_pipeline(image)\n",
    "    showImg(marked_img)\n",
    "    combined_imgs = img_collage(marked_img)\n",
    "    showImg(combined_imgs)\n",
    "    combined_imgs = cv2.cvtColor(combined_imgs, cv2.COLOR_RGB2BGR)\n",
    "    cv2.imwrite('text_test.jpg',combined_imgs)\n",
    "\"\"\" \n",
    "print(\"Pair of lanes detected = \", len(detected_lines))\n",
    "    "
   ]
  },
  {
   "cell_type": "markdown",
   "metadata": {
    "deletable": true,
    "editable": true
   },
   "source": [
    "## Test lane finding pipeline on Videos\n",
    "\n",
    "This section reads the clips from the video, passes them to the pipeline and creates a video out of the pipeline outputs\n",
    "\n"
   ]
  },
  {
   "cell_type": "code",
   "execution_count": 24,
   "metadata": {
    "collapsed": true,
    "deletable": true,
    "editable": true
   },
   "outputs": [],
   "source": [
    "# Import everything needed to edit/save/watch video clips\n",
    "from moviepy.editor import VideoFileClip\n",
    "from IPython.display import HTML"
   ]
  },
  {
   "cell_type": "code",
   "execution_count": 25,
   "metadata": {
    "collapsed": true,
    "deletable": true,
    "editable": true
   },
   "outputs": [],
   "source": [
    "def process_image(image):\n",
    "    # NOTE: The output you return should be a color image (3 channel) for processing video below\n",
    "    # Calling pipeline that will return the final output (image where lines are drawn on lanes)\n",
    "        \n",
    "    result = lane_marker_pipeline(image)\n",
    "    result = img_collage(result)\n",
    "\n",
    "    return result"
   ]
  },
  {
   "cell_type": "markdown",
   "metadata": {
    "deletable": true,
    "editable": true
   },
   "source": [
    "## Project Video\n",
    "\n",
    "Applying lane marking pipeline on project video."
   ]
  },
  {
   "cell_type": "code",
   "execution_count": null,
   "metadata": {
    "collapsed": false,
    "deletable": true,
    "editable": true
   },
   "outputs": [],
   "source": [
    "# Initialize variables\n",
    "reset_lanes = True\n",
    "detected_lines = []\n",
    "\n",
    "drive_log = open(\"driveLog.txt\",\"w\") \n",
    "drive_log.write(\"Driver's Log -------------------\\n\")\n",
    "\n",
    "# use n for normal, c for challenge and h for harder\n",
    "terrain_type = 'n'\n",
    "\n",
    "# Caliberate Camera\n",
    "mtx, dist = caliberate_camera()\n",
    "\n",
    "# Get perspective\n",
    "perspective_M, perspective_Minv = compute_perspective()\n",
    "\n",
    "# Get baseline lane width\n",
    "baseline_lane_width = compute_lane_width()\n",
    "\n",
    "project_video_output = 'project_video_output.mp4'\n",
    "#clip1 = VideoFileClip(\"P2.mp4\")\n",
    "clip1 = VideoFileClip(\"project_video.mp4\")\n",
    "project_video_clip = clip1.fl_image(process_image) #NOTE: this function expects color images!!\n",
    "%time project_video_clip.write_videofile(project_video_output, audio=False)\n",
    "print(\"Number of frames = \", len(detected_lines))\n",
    "drive_log.close()"
   ]
  },
  {
   "cell_type": "markdown",
   "metadata": {
    "deletable": true,
    "editable": true
   },
   "source": [
    "## Challenge Video\n",
    "\n",
    "Applying lane marking pipeline on challenge video."
   ]
  },
  {
   "cell_type": "code",
   "execution_count": 28,
   "metadata": {
    "collapsed": false,
    "deletable": true,
    "editable": true
   },
   "outputs": [
    {
     "name": "stdout",
     "output_type": "stream",
     "text": [
      "Chess board shape =  (1280, 720)\n",
      "Camera caliberated.  mtx =  [[  1.15396093e+03   0.00000000e+00   6.69705359e+02]\n",
      " [  0.00000000e+00   1.14802495e+03   3.85656232e+02]\n",
      " [  0.00000000e+00   0.00000000e+00   1.00000000e+00]]  dist =  [[ -2.41017968e-01  -5.30720497e-02  -1.15810318e-03  -1.28318543e-04\n",
      "    2.67124302e-02]]\n"
     ]
    },
    {
     "data": {
      "image/png": "[encoded data removed]",
      "text/plain": [
       "<matplotlib.figure.Figure at 0x23d4145d358>"
      ]
     },
     "metadata": {},
     "output_type": "display_data"
    },
    {
     "name": "stdout",
     "output_type": "stream",
     "text": [
      "(1280,)\n",
      "Baseline mid, left, center =  640 407 864\n",
      "Baeline Lane width in pixels =  457\n",
      "Inside reset\n",
      "[MoviePy] >>>> Building video challenge_video_output.mp4\n",
      "[MoviePy] Writing video challenge_video_output.mp4\n"
     ]
    },
    {
     "name": "stderr",
     "output_type": "stream",
     "text": [
      "\n",
      "  0%|                                                                                                                                                                                                               | 0/485 [00:00<?, ?it/s]\n",
      "  0%|▍                                                                                                                                                                                                      | 1/485 [00:00<02:47,  2.89it/s]\n",
      "  0%|▊                                                                                                                                                                                                      | 2/485 [00:00<02:47,  2.88it/s]\n",
      "  1%|█▏                                                                                                                                                                                                     | 3/485 [00:01<02:47,  2.87it/s]\n",
      "  1%|█▋                                                                                                                                                                                                     | 4/485 [00:01<02:47,  2.86it/s]\n",
      "  1%|██                                                                                                                                                                                                     | 5/485 [00:01<02:47,  2.87it/s]\n",
      "  1%|██▍                                                                                                                                                                                                    | 6/485 [00:02<02:46,  2.87it/s]\n",
      "  1%|██▊                                                                                                                                                                                                    | 7/485 [00:02<02:47,  2.86it/s]\n",
      "  2%|███▎                                                                                                                                                                                                   | 8/485 [00:02<02:47,  2.85it/s]\n",
      "  2%|███▋                                                                                                                                                                                                   | 9/485 [00:03<02:47,  2.84it/s]\n",
      "  2%|████                                                                                                                                                                                                  | 10/485 [00:03<02:48,  2.82it/s]\n",
      "  2%|████▍                                                                                                                                                                                                 | 11/485 [00:03<02:47,  2.83it/s]\n",
      "  2%|████▉                                                                                                                                                                                                 | 12/485 [00:04<02:48,  2.81it/s]\n",
      "  3%|█████▎                                                                                                                                                                                                | 13/485 [00:04<02:46,  2.83it/s]\n",
      "  3%|█████▋                                                                                                                                                                                                | 14/485 [00:04<02:47,  2.81it/s]\n",
      "  3%|██████                                                                                                                                                                                                | 15/485 [00:05<02:46,  2.82it/s]\n",
      "  3%|██████▌                                                                                                                                                                                               | 16/485 [00:05<02:45,  2.83it/s]\n",
      "  4%|██████▉                                                                                                                                                                                               | 17/485 [00:05<02:45,  2.83it/s]\n",
      "  4%|███████▎                                                                                                                                                                                              | 18/485 [00:06<02:44,  2.85it/s]\n",
      "  4%|███████▊                                                                                                                                                                                              | 19/485 [00:06<02:43,  2.85it/s]\n",
      "  4%|████████▏                                                                                                                                                                                             | 20/485 [00:07<02:42,  2.86it/s]\n",
      "  4%|████████▌                                                                                                                                                                                             | 21/485 [00:07<02:43,  2.84it/s]\n",
      "  5%|████████▉                                                                                                                                                                                             | 22/485 [00:07<02:42,  2.85it/s]\n",
      "  5%|█████████▍                                                                                                                                                                                            | 23/485 [00:08<02:41,  2.86it/s]\n",
      "  5%|█████████▊                                                                                                                                                                                            | 24/485 [00:08<02:41,  2.85it/s]\n",
      "  5%|██████████▏                                                                                                                                                                                           | 25/485 [00:08<02:41,  2.85it/s]"
     ]
    },
    {
     "name": "stdout",
     "output_type": "stream",
     "text": [
      "@ 26  > Continuity check failed - right curve variation high :  798.650940467 7713.56589554\n"
     ]
    },
    {
     "name": "stderr",
     "output_type": "stream",
     "text": [
      "\n",
      "  5%|██████████▌                                                                                                                                                                                           | 26/485 [00:09<02:42,  2.82it/s]"
     ]
    },
    {
     "name": "stdout",
     "output_type": "stream",
     "text": [
      "@ 27  > Continuity check failed - right curve variation high :  599.798916178 7713.56589554\n"
     ]
    },
    {
     "name": "stderr",
     "output_type": "stream",
     "text": [
      "\n",
      "  6%|███████████                                                                                                                                                                                           | 27/485 [00:09<02:43,  2.81it/s]"
     ]
    },
    {
     "name": "stdout",
     "output_type": "stream",
     "text": [
      "@ 28  > Continuity check failed - right curve variation high :  504.092607491 7713.56589554\n"
     ]
    },
    {
     "name": "stderr",
     "output_type": "stream",
     "text": [
      "\n",
      "  6%|███████████▍                                                                                                                                                                                          | 28/485 [00:09<02:43,  2.79it/s]"
     ]
    },
    {
     "name": "stdout",
     "output_type": "stream",
     "text": [
      "@ 29  > Continuity check failed - right curve variation high :  487.95192685 7713.56589554\n"
     ]
    },
    {
     "name": "stderr",
     "output_type": "stream",
     "text": [
      "\n",
      "  6%|███████████▊                                                                                                                                                                                          | 29/485 [00:10<02:45,  2.75it/s]"
     ]
    },
    {
     "name": "stdout",
     "output_type": "stream",
     "text": [
      "@ 30  > Continuity check failed - right curve variation high :  461.718352884 7713.56589554\n"
     ]
    },
    {
     "name": "stderr",
     "output_type": "stream",
     "text": [
      "\n",
      "  6%|████████████▏                                                                                                                                                                                         | 30/485 [00:10<02:45,  2.75it/s]"
     ]
    },
    {
     "name": "stdout",
     "output_type": "stream",
     "text": [
      "@ 31  > Continuity check failed - right curve variation high :  389.36039997 7713.56589554\n"
     ]
    },
    {
     "name": "stderr",
     "output_type": "stream",
     "text": [
      "\n",
      "  6%|████████████▋                                                                                                                                                                                         | 31/485 [00:10<02:45,  2.74it/s]"
     ]
    },
    {
     "name": "stdout",
     "output_type": "stream",
     "text": [
      "Inside reset\n"
     ]
    },
    {
     "name": "stderr",
     "output_type": "stream",
     "text": [
      "\n",
      "  7%|█████████████                                                                                                                                                                                         | 32/485 [00:11<02:46,  2.72it/s]\n",
      "  7%|█████████████▍                                                                                                                                                                                        | 33/485 [00:11<02:43,  2.77it/s]\n",
      "  7%|█████████████▉                                                                                                                                                                                        | 34/485 [00:12<02:40,  2.81it/s]\n",
      "  7%|██████████████▎                                                                                                                                                                                       | 35/485 [00:12<02:38,  2.83it/s]\n",
      "  7%|██████████████▋                                                                                                                                                                                       | 36/485 [00:12<02:37,  2.85it/s]\n",
      "  8%|███████████████                                                                                                                                                                                       | 37/485 [00:13<02:36,  2.86it/s]\n",
      "  8%|███████████████▌                                                                                                                                                                                      | 38/485 [00:13<02:35,  2.87it/s]\n",
      "  8%|███████████████▉                                                                                                                                                                                      | 39/485 [00:13<02:34,  2.89it/s]"
     ]
    },
    {
     "name": "stdout",
     "output_type": "stream",
     "text": [
      "@ 40  > curve check failure :  433.849650218 21603.3407799\n"
     ]
    },
    {
     "name": "stderr",
     "output_type": "stream",
     "text": [
      "\n",
      "  8%|████████████████▎                                                                                                                                                                                     | 40/485 [00:14<02:36,  2.85it/s]"
     ]
    },
    {
     "name": "stdout",
     "output_type": "stream",
     "text": [
      "@ 41  > 2nd order coefficient similarity failure :  0.000231359609784 -0.000269039325871\n"
     ]
    },
    {
     "name": "stderr",
     "output_type": "stream",
     "text": [
      "\n",
      "  8%|████████████████▋                                                                                                                                                                                     | 41/485 [00:14<02:37,  2.82it/s]"
     ]
    },
    {
     "name": "stdout",
     "output_type": "stream",
     "text": [
      "@ 42  > 2nd order coefficient similarity failure :  0.000264256751739 -0.000441864276697\n"
     ]
    },
    {
     "name": "stderr",
     "output_type": "stream",
     "text": [
      "\n",
      "  9%|█████████████████▏                                                                                                                                                                                    | 42/485 [00:14<02:38,  2.79it/s]"
     ]
    },
    {
     "name": "stdout",
     "output_type": "stream",
     "text": [
      "@ 43  > 2nd order coefficient similarity failure :  0.000160075761914 -0.00043164564712\n"
     ]
    },
    {
     "name": "stderr",
     "output_type": "stream",
     "text": [
      "\n",
      "  9%|█████████████████▌                                                                                                                                                                                    | 43/485 [00:15<02:39,  2.78it/s]"
     ]
    },
    {
     "name": "stdout",
     "output_type": "stream",
     "text": [
      "@ 44  > Continuity check failed - right curve variation high :  268.258666672 2422.61959206\n"
     ]
    },
    {
     "name": "stderr",
     "output_type": "stream",
     "text": [
      "\n",
      "  9%|█████████████████▉                                                                                                                                                                                    | 44/485 [00:15<02:40,  2.75it/s]"
     ]
    },
    {
     "name": "stdout",
     "output_type": "stream",
     "text": [
      "@ 45  > Continuity check failed - right curve variation high :  294.302694324 2422.61959206\n"
     ]
    },
    {
     "name": "stderr",
     "output_type": "stream",
     "text": [
      "\n",
      "  9%|██████████████████▎                                                                                                                                                                                   | 45/485 [00:15<02:39,  2.76it/s]"
     ]
    },
    {
     "name": "stdout",
     "output_type": "stream",
     "text": [
      "Inside reset\n"
     ]
    },
    {
     "name": "stderr",
     "output_type": "stream",
     "text": [
      "\n",
      "  9%|██████████████████▊                                                                                                                                                                                   | 46/485 [00:16<02:38,  2.76it/s]\n",
      " 10%|███████████████████▏                                                                                                                                                                                  | 47/485 [00:16<02:35,  2.81it/s]\n",
      " 10%|███████████████████▌                                                                                                                                                                                  | 48/485 [00:17<02:33,  2.84it/s]"
     ]
    },
    {
     "name": "stdout",
     "output_type": "stream",
     "text": [
      "@ 49  > 2nd order coefficient similarity failure :  -0.000243288793163 0.000333101930974\n"
     ]
    },
    {
     "name": "stderr",
     "output_type": "stream",
     "text": [
      "\n",
      " 10%|████████████████████                                                                                                                                                                                  | 49/485 [00:17<02:34,  2.83it/s]"
     ]
    },
    {
     "name": "stdout",
     "output_type": "stream",
     "text": [
      "@ 50  > 2nd order coefficient similarity failure :  -0.000303839897339 0.000330932183086\n"
     ]
    },
    {
     "name": "stderr",
     "output_type": "stream",
     "text": [
      "\n",
      " 10%|████████████████████▍                                                                                                                                                                                 | 50/485 [00:17<02:35,  2.79it/s]"
     ]
    },
    {
     "name": "stdout",
     "output_type": "stream",
     "text": [
      "@ 51  > 2nd order coefficient similarity failure :  -0.000306976487597 0.0003335540109\n"
     ]
    },
    {
     "name": "stderr",
     "output_type": "stream",
     "text": [
      "\n",
      " 11%|████████████████████▊                                                                                                                                                                                 | 51/485 [00:18<02:36,  2.78it/s]"
     ]
    },
    {
     "name": "stdout",
     "output_type": "stream",
     "text": [
      "@ 52  > 2nd order coefficient similarity failure :  -0.000322014524615 0.000413464323995\n"
     ]
    },
    {
     "name": "stderr",
     "output_type": "stream",
     "text": [
      "\n",
      " 11%|█████████████████████▏                                                                                                                                                                                | 52/485 [00:18<02:36,  2.77it/s]"
     ]
    },
    {
     "name": "stdout",
     "output_type": "stream",
     "text": [
      "@ 53  > 2nd order coefficient similarity failure :  -0.000429596803152 0.000485404177318\n"
     ]
    },
    {
     "name": "stderr",
     "output_type": "stream",
     "text": [
      "\n",
      " 11%|█████████████████████▋                                                                                                                                                                                | 53/485 [00:18<02:35,  2.77it/s]"
     ]
    },
    {
     "name": "stdout",
     "output_type": "stream",
     "text": [
      "@ 54  > 2nd order coefficient similarity failure :  -0.000479183213994 0.00044481629382\n"
     ]
    },
    {
     "name": "stderr",
     "output_type": "stream",
     "text": [
      "\n",
      " 11%|██████████████████████                                                                                                                                                                                | 54/485 [00:19<02:34,  2.78it/s]"
     ]
    },
    {
     "name": "stdout",
     "output_type": "stream",
     "text": [
      "Inside reset\n",
      "@ 55  > 2nd order coefficient similarity failure :  -0.000177752048005 0.000545874348116\n"
     ]
    },
    {
     "name": "stderr",
     "output_type": "stream",
     "text": [
      "\n",
      " 11%|██████████████████████▍                                                                                                                                                                               | 55/485 [00:19<02:36,  2.74it/s]"
     ]
    },
    {
     "name": "stdout",
     "output_type": "stream",
     "text": [
      "Inside reset\n",
      "@ 56  > 2nd order coefficient similarity failure :  -0.000201539696798 0.000572294285087\n"
     ]
    },
    {
     "name": "stderr",
     "output_type": "stream",
     "text": [
      "\n",
      " 12%|██████████████████████▊                                                                                                                                                                               | 56/485 [00:19<02:38,  2.70it/s]"
     ]
    },
    {
     "name": "stdout",
     "output_type": "stream",
     "text": [
      "Inside reset\n",
      "@ 57  > 1st order coefficient similarity failure :  0.120966510623 -0.518177238995\n"
     ]
    },
    {
     "name": "stderr",
     "output_type": "stream",
     "text": [
      "\n",
      " 12%|███████████████████████▎                                                                                                                                                                              | 57/485 [00:20<02:39,  2.68it/s]"
     ]
    },
    {
     "name": "stdout",
     "output_type": "stream",
     "text": [
      "Inside reset\n",
      "@ 58  > 1st order coefficient similarity failure :  0.0991215139716 -0.514269858083\n"
     ]
    },
    {
     "name": "stderr",
     "output_type": "stream",
     "text": [
      "\n",
      " 12%|███████████████████████▋                                                                                                                                                                              | 58/485 [00:20<02:40,  2.66it/s]"
     ]
    },
    {
     "name": "stdout",
     "output_type": "stream",
     "text": [
      "Inside reset\n"
     ]
    },
    {
     "name": "stderr",
     "output_type": "stream",
     "text": [
      "\n",
      " 12%|████████████████████████                                                                                                                                                                              | 59/485 [00:21<02:38,  2.69it/s]"
     ]
    },
    {
     "name": "stdout",
     "output_type": "stream",
     "text": [
      "@ 60  > 2nd order coefficient similarity failure :  0.000702418391118 0.000178212657145\n"
     ]
    },
    {
     "name": "stderr",
     "output_type": "stream",
     "text": [
      "\n",
      " 12%|████████████████████████▍                                                                                                                                                                             | 60/485 [00:21<02:36,  2.71it/s]\n",
      " 13%|████████████████████████▉                                                                                                                                                                             | 61/485 [00:21<02:34,  2.74it/s]\n",
      " 13%|█████████████████████████▎                                                                                                                                                                            | 62/485 [00:22<02:31,  2.79it/s]\n",
      " 13%|█████████████████████████▋                                                                                                                                                                            | 63/485 [00:22<02:29,  2.83it/s]\n",
      " 13%|██████████████████████████▏                                                                                                                                                                           | 64/485 [00:22<02:27,  2.85it/s]\n",
      " 13%|██████████████████████████▌                                                                                                                                                                           | 65/485 [00:23<02:26,  2.86it/s]\n",
      " 14%|██████████████████████████▉                                                                                                                                                                           | 66/485 [00:23<02:25,  2.87it/s]\n",
      " 14%|███████████████████████████▎                                                                                                                                                                          | 67/485 [00:23<02:25,  2.87it/s]"
     ]
    },
    {
     "name": "stdout",
     "output_type": "stream",
     "text": [
      "@ 68  > lane width failure :  4.22148915045\n"
     ]
    },
    {
     "name": "stderr",
     "output_type": "stream",
     "text": [
      "\n",
      " 14%|███████████████████████████▊                                                                                                                                                                          | 68/485 [00:24<02:26,  2.84it/s]"
     ]
    },
    {
     "name": "stdout",
     "output_type": "stream",
     "text": [
      "@ 69  > lane width failure :  4.22148915045\n"
     ]
    },
    {
     "name": "stderr",
     "output_type": "stream",
     "text": [
      "\n",
      " 14%|████████████████████████████▏                                                                                                                                                                         | 69/485 [00:24<02:26,  2.83it/s]"
     ]
    },
    {
     "name": "stdout",
     "output_type": "stream",
     "text": [
      "@ 70  > lane width failure :  4.22148915045\n"
     ]
    },
    {
     "name": "stderr",
     "output_type": "stream",
     "text": [
      "\n",
      " 14%|████████████████████████████▌                                                                                                                                                                         | 70/485 [00:24<02:27,  2.81it/s]"
     ]
    },
    {
     "name": "stdout",
     "output_type": "stream",
     "text": [
      "@ 71  > lane width failure :  4.22148915045\n"
     ]
    },
    {
     "name": "stderr",
     "output_type": "stream",
     "text": [
      "\n",
      " 15%|████████████████████████████▉                                                                                                                                                                         | 71/485 [00:25<02:29,  2.78it/s]"
     ]
    },
    {
     "name": "stdout",
     "output_type": "stream",
     "text": [
      "@ 72  > lane width failure :  4.22148915045\n"
     ]
    },
    {
     "name": "stderr",
     "output_type": "stream",
     "text": [
      "\n",
      " 15%|█████████████████████████████▍                                                                                                                                                                        | 72/485 [00:25<02:28,  2.78it/s]"
     ]
    },
    {
     "name": "stdout",
     "output_type": "stream",
     "text": [
      "@ 73  > lane width failure :  4.22148915045\n"
     ]
    },
    {
     "name": "stderr",
     "output_type": "stream",
     "text": [
      "\n",
      " 15%|█████████████████████████████▊                                                                                                                                                                        | 73/485 [00:26<02:27,  2.78it/s]"
     ]
    },
    {
     "name": "stdout",
     "output_type": "stream",
     "text": [
      "Inside reset\n",
      "@ 74  > lane width failure :  4.55010940919\n"
     ]
    },
    {
     "name": "stderr",
     "output_type": "stream",
     "text": [
      "\n",
      " 15%|██████████████████████████████▏                                                                                                                                                                       | 74/485 [00:26<02:30,  2.73it/s]"
     ]
    },
    {
     "name": "stdout",
     "output_type": "stream",
     "text": [
      "Inside reset\n",
      "@ 75  > lane width failure :  4.52582056893\n"
     ]
    },
    {
     "name": "stderr",
     "output_type": "stream",
     "text": [
      "\n",
      " 15%|██████████████████████████████▌                                                                                                                                                                       | 75/485 [00:26<02:31,  2.70it/s]"
     ]
    },
    {
     "name": "stdout",
     "output_type": "stream",
     "text": [
      "Inside reset\n",
      "@ 76  > lane width failure :  4.51772428884\n"
     ]
    },
    {
     "name": "stderr",
     "output_type": "stream",
     "text": [
      "\n",
      " 16%|███████████████████████████████                                                                                                                                                                       | 76/485 [00:27<02:32,  2.68it/s]"
     ]
    },
    {
     "name": "stdout",
     "output_type": "stream",
     "text": [
      "Inside reset\n",
      "@ 77  > lane width failure :  4.68774617068\n"
     ]
    },
    {
     "name": "stderr",
     "output_type": "stream",
     "text": [
      "\n",
      " 16%|███████████████████████████████▍                                                                                                                                                                      | 77/485 [00:27<02:33,  2.66it/s]"
     ]
    },
    {
     "name": "stdout",
     "output_type": "stream",
     "text": [
      "Inside reset\n",
      "@ 78  > lane width failure :  4.65536105033\n"
     ]
    },
    {
     "name": "stderr",
     "output_type": "stream",
     "text": [
      "\n",
      " 16%|███████████████████████████████▊                                                                                                                                                                      | 78/485 [00:27<02:33,  2.65it/s]"
     ]
    },
    {
     "name": "stdout",
     "output_type": "stream",
     "text": [
      "Inside reset\n",
      "@ 79  > lane width failure :  4.6067833698\n"
     ]
    },
    {
     "name": "stderr",
     "output_type": "stream",
     "text": [
      "\n",
      " 16%|████████████████████████████████▎                                                                                                                                                                     | 79/485 [00:28<02:33,  2.65it/s]"
     ]
    },
    {
     "name": "stdout",
     "output_type": "stream",
     "text": [
      "Inside reset\n",
      "@ 80  > lane width failure :  4.55820568928\n"
     ]
    },
    {
     "name": "stderr",
     "output_type": "stream",
     "text": [
      "\n",
      " 16%|████████████████████████████████▋                                                                                                                                                                     | 80/485 [00:28<02:33,  2.64it/s]"
     ]
    },
    {
     "name": "stdout",
     "output_type": "stream",
     "text": [
      "Inside reset\n",
      "@ 81  > lane width failure :  4.51772428884\n"
     ]
    },
    {
     "name": "stderr",
     "output_type": "stream",
     "text": [
      "\n",
      " 17%|█████████████████████████████████                                                                                                                                                                     | 81/485 [00:29<02:33,  2.64it/s]"
     ]
    },
    {
     "name": "stdout",
     "output_type": "stream",
     "text": [
      "Inside reset\n",
      "@ 82  > lane width failure :  4.59868708972\n"
     ]
    },
    {
     "name": "stderr",
     "output_type": "stream",
     "text": [
      "\n",
      " 17%|█████████████████████████████████▍                                                                                                                                                                    | 82/485 [00:29<02:32,  2.65it/s]"
     ]
    },
    {
     "name": "stdout",
     "output_type": "stream",
     "text": [
      "Inside reset\n",
      "@ 83  > lane width failure :  4.62297592998\n"
     ]
    },
    {
     "name": "stderr",
     "output_type": "stream",
     "text": [
      "\n",
      " 17%|█████████████████████████████████▉                                                                                                                                                                    | 83/485 [00:29<02:31,  2.65it/s]"
     ]
    },
    {
     "name": "stdout",
     "output_type": "stream",
     "text": [
      "Inside reset\n",
      "@ 84  > lane width failure :  4.6067833698\n"
     ]
    },
    {
     "name": "stderr",
     "output_type": "stream",
     "text": [
      "\n",
      " 17%|██████████████████████████████████▎                                                                                                                                                                   | 84/485 [00:30<02:31,  2.65it/s]"
     ]
    },
    {
     "name": "stdout",
     "output_type": "stream",
     "text": [
      "Inside reset\n",
      "@ 85  > lane width failure :  4.57439824945\n"
     ]
    },
    {
     "name": "stderr",
     "output_type": "stream",
     "text": [
      "\n",
      " 18%|██████████████████████████████████▋                                                                                                                                                                   | 85/485 [00:30<02:31,  2.64it/s]"
     ]
    },
    {
     "name": "stdout",
     "output_type": "stream",
     "text": [
      "Inside reset\n",
      "@ 86  > lane width failure :  4.55010940919\n"
     ]
    },
    {
     "name": "stderr",
     "output_type": "stream",
     "text": [
      "\n",
      " 18%|███████████████████████████████████                                                                                                                                                                   | 86/485 [00:30<02:33,  2.60it/s]"
     ]
    },
    {
     "name": "stdout",
     "output_type": "stream",
     "text": [
      "Inside reset\n",
      "@ 87  > lane width failure :  4.37199124726\n"
     ]
    },
    {
     "name": "stderr",
     "output_type": "stream",
     "text": [
      "\n",
      " 18%|███████████████████████████████████▌                                                                                                                                                                  | 87/485 [00:31<02:32,  2.60it/s]"
     ]
    },
    {
     "name": "stdout",
     "output_type": "stream",
     "text": [
      "Inside reset\n",
      "@ 88  > lane width failure :  4.4124726477\n"
     ]
    },
    {
     "name": "stderr",
     "output_type": "stream",
     "text": [
      "\n",
      " 18%|███████████████████████████████████▉                                                                                                                                                                  | 88/485 [00:31<02:32,  2.61it/s]"
     ]
    },
    {
     "name": "stdout",
     "output_type": "stream",
     "text": [
      "Inside reset\n",
      "@ 89  > lane width failure :  4.64726477024\n"
     ]
    },
    {
     "name": "stderr",
     "output_type": "stream",
     "text": [
      "\n",
      " 18%|████████████████████████████████████▎                                                                                                                                                                 | 89/485 [00:32<02:31,  2.61it/s]"
     ]
    },
    {
     "name": "stdout",
     "output_type": "stream",
     "text": [
      "Inside reset\n",
      "@ 90  > lane width failure :  4.64726477024\n"
     ]
    },
    {
     "name": "stderr",
     "output_type": "stream",
     "text": [
      "\n",
      " 19%|████████████████████████████████████▋                                                                                                                                                                 | 90/485 [00:32<02:31,  2.60it/s]"
     ]
    },
    {
     "name": "stdout",
     "output_type": "stream",
     "text": [
      "Inside reset\n",
      "@ 91  > lane width failure :  4.59868708972\n"
     ]
    },
    {
     "name": "stderr",
     "output_type": "stream",
     "text": [
      "\n",
      " 19%|█████████████████████████████████████▏                                                                                                                                                                | 91/485 [00:32<02:31,  2.60it/s]"
     ]
    },
    {
     "name": "stdout",
     "output_type": "stream",
     "text": [
      "Inside reset\n",
      "@ 92  > lane width failure :  4.72013129103\n"
     ]
    },
    {
     "name": "stderr",
     "output_type": "stream",
     "text": [
      "\n",
      " 19%|█████████████████████████████████████▌                                                                                                                                                                | 92/485 [00:33<02:30,  2.61it/s]"
     ]
    },
    {
     "name": "stdout",
     "output_type": "stream",
     "text": [
      "Inside reset\n",
      "@ 93  > lane width failure :  4.56630196937\n"
     ]
    },
    {
     "name": "stderr",
     "output_type": "stream",
     "text": [
      "\n",
      " 19%|█████████████████████████████████████▉                                                                                                                                                                | 93/485 [00:33<02:31,  2.60it/s]"
     ]
    },
    {
     "name": "stdout",
     "output_type": "stream",
     "text": [
      "Inside reset\n",
      "@ 94  > lane width failure :  4.55820568928\n"
     ]
    },
    {
     "name": "stderr",
     "output_type": "stream",
     "text": [
      "\n",
      " 19%|██████████████████████████████████████▍                                                                                                                                                               | 94/485 [00:34<02:29,  2.61it/s]"
     ]
    },
    {
     "name": "stdout",
     "output_type": "stream",
     "text": [
      "Inside reset\n",
      "@ 95  > lane width failure :  4.59868708972\n"
     ]
    },
    {
     "name": "stderr",
     "output_type": "stream",
     "text": [
      "\n",
      " 20%|██████████████████████████████████████▊                                                                                                                                                               | 95/485 [00:34<02:29,  2.61it/s]"
     ]
    },
    {
     "name": "stdout",
     "output_type": "stream",
     "text": [
      "Inside reset\n",
      "@ 96  > lane width failure :  4.52582056893\n"
     ]
    },
    {
     "name": "stderr",
     "output_type": "stream",
     "text": [
      "\n",
      " 20%|███████████████████████████████████████▏                                                                                                                                                              | 96/485 [00:34<02:28,  2.61it/s]"
     ]
    },
    {
     "name": "stdout",
     "output_type": "stream",
     "text": [
      "Inside reset\n",
      "@ 97  > lane width failure :  4.38008752735\n"
     ]
    },
    {
     "name": "stderr",
     "output_type": "stream",
     "text": [
      "\n",
      " 20%|███████████████████████████████████████▌                                                                                                                                                              | 97/485 [00:35<02:28,  2.61it/s]"
     ]
    },
    {
     "name": "stdout",
     "output_type": "stream",
     "text": [
      "Inside reset\n",
      "@ 98  > lane width failure :  4.33150984683\n"
     ]
    },
    {
     "name": "stderr",
     "output_type": "stream",
     "text": [
      "\n",
      " 20%|████████████████████████████████████████                                                                                                                                                              | 98/485 [00:35<02:28,  2.61it/s]"
     ]
    },
    {
     "name": "stdout",
     "output_type": "stream",
     "text": [
      "Inside reset\n",
      "@ 99  > lane width failure :  4.27483588621\n"
     ]
    },
    {
     "name": "stderr",
     "output_type": "stream",
     "text": [
      "\n",
      " 20%|████████████████████████████████████████▍                                                                                                                                                             | 99/485 [00:35<02:28,  2.60it/s]"
     ]
    },
    {
     "name": "stdout",
     "output_type": "stream",
     "text": [
      "Inside reset\n",
      "@ 100  > lane width failure :  4.30722100656\n"
     ]
    },
    {
     "name": "stderr",
     "output_type": "stream",
     "text": [
      "\n",
      " 21%|████████████████████████████████████████▌                                                                                                                                                            | 100/485 [00:36<02:29,  2.57it/s]"
     ]
    },
    {
     "name": "stdout",
     "output_type": "stream",
     "text": [
      "Inside reset\n",
      "@ 101  > lane width failure :  4.38818380744\n"
     ]
    },
    {
     "name": "stderr",
     "output_type": "stream",
     "text": [
      "\n",
      " 21%|█████████████████████████████████████████                                                                                                                                                            | 101/485 [00:36<02:28,  2.59it/s]"
     ]
    },
    {
     "name": "stdout",
     "output_type": "stream",
     "text": [
      "Inside reset\n",
      "@ 102  > lane width failure :  4.45295404814\n"
     ]
    },
    {
     "name": "stderr",
     "output_type": "stream",
     "text": [
      "\n",
      " 21%|█████████████████████████████████████████▍                                                                                                                                                           | 102/485 [00:37<02:27,  2.59it/s]"
     ]
    },
    {
     "name": "stdout",
     "output_type": "stream",
     "text": [
      "Inside reset\n",
      "@ 103  > lane width failure :  4.61487964989\n"
     ]
    },
    {
     "name": "stderr",
     "output_type": "stream",
     "text": [
      "\n",
      " 21%|█████████████████████████████████████████▊                                                                                                                                                           | 103/485 [00:37<02:26,  2.61it/s]"
     ]
    },
    {
     "name": "stdout",
     "output_type": "stream",
     "text": [
      "Inside reset\n",
      "@ 104  > lane width failure :  4.70393873085\n"
     ]
    },
    {
     "name": "stderr",
     "output_type": "stream",
     "text": [
      "\n",
      " 21%|██████████████████████████████████████████▏                                                                                                                                                          | 104/485 [00:37<02:25,  2.62it/s]"
     ]
    },
    {
     "name": "stdout",
     "output_type": "stream",
     "text": [
      "Inside reset\n",
      "@ 105  > 1st order coefficient similarity failure :  -0.0244932227808 -0.682699968509\n"
     ]
    },
    {
     "name": "stderr",
     "output_type": "stream",
     "text": [
      "\n",
      " 22%|██████████████████████████████████████████▋                                                                                                                                                          | 105/485 [00:38<02:25,  2.61it/s]"
     ]
    },
    {
     "name": "stdout",
     "output_type": "stream",
     "text": [
      "Inside reset\n",
      "@ 106  > 1st order coefficient similarity failure :  -0.0664425769491 -0.748815753908\n"
     ]
    },
    {
     "name": "stderr",
     "output_type": "stream",
     "text": [
      "\n",
      " 22%|███████████████████████████████████████████                                                                                                                                                          | 106/485 [00:38<02:25,  2.61it/s]"
     ]
    },
    {
     "name": "stdout",
     "output_type": "stream",
     "text": [
      "Inside reset\n"
     ]
    },
    {
     "name": "stderr",
     "output_type": "stream",
     "text": [
      "\n",
      " 22%|███████████████████████████████████████████▍                                                                                                                                                         | 107/485 [00:39<02:22,  2.65it/s]\n",
      " 22%|███████████████████████████████████████████▊                                                                                                                                                         | 108/485 [00:39<02:18,  2.72it/s]\n",
      " 22%|████████████████████████████████████████████▎                                                                                                                                                        | 109/485 [00:39<02:15,  2.77it/s]"
     ]
    },
    {
     "name": "stdout",
     "output_type": "stream",
     "text": [
      "@ 110  > 2nd order coefficient similarity failure :  0.000717623391387 0.000207532868127\n"
     ]
    },
    {
     "name": "stderr",
     "output_type": "stream",
     "text": [
      "\n",
      " 23%|████████████████████████████████████████████▋                                                                                                                                                        | 110/485 [00:40<02:16,  2.76it/s]\n",
      " 23%|█████████████████████████████████████████████                                                                                                                                                        | 111/485 [00:40<02:14,  2.79it/s]\n",
      " 23%|█████████████████████████████████████████████▍                                                                                                                                                       | 112/485 [00:40<02:11,  2.83it/s]\n",
      " 23%|█████████████████████████████████████████████▉                                                                                                                                                       | 113/485 [00:41<02:10,  2.85it/s]\n",
      " 24%|██████████████████████████████████████████████▎                                                                                                                                                      | 114/485 [00:41<02:09,  2.86it/s]\n",
      " 24%|██████████████████████████████████████████████▋                                                                                                                                                      | 115/485 [00:41<02:08,  2.88it/s]\n",
      " 24%|███████████████████████████████████████████████                                                                                                                                                      | 116/485 [00:42<02:07,  2.89it/s]\n",
      " 24%|███████████████████████████████████████████████▌                                                                                                                                                     | 117/485 [00:42<02:07,  2.89it/s]\n",
      " 24%|███████████████████████████████████████████████▉                                                                                                                                                     | 118/485 [00:42<02:06,  2.91it/s]\n",
      " 25%|████████████████████████████████████████████████▎                                                                                                                                                    | 119/485 [00:43<02:05,  2.91it/s]"
     ]
    },
    {
     "name": "stdout",
     "output_type": "stream",
     "text": [
      "@ 120  > Continuity check failed - right curve variation high :  327.70529885 1559.17539376\n"
     ]
    },
    {
     "name": "stderr",
     "output_type": "stream",
     "text": [
      "\n",
      " 25%|████████████████████████████████████████████████▋                                                                                                                                                    | 120/485 [00:43<02:07,  2.87it/s]\n",
      " 25%|█████████████████████████████████████████████████▏                                                                                                                                                   | 121/485 [00:43<02:05,  2.89it/s]\n",
      " 25%|█████████████████████████████████████████████████▌                                                                                                                                                   | 122/485 [00:44<02:04,  2.91it/s]\n",
      " 25%|█████████████████████████████████████████████████▉                                                                                                                                                   | 123/485 [00:44<02:04,  2.92it/s]"
     ]
    },
    {
     "name": "stdout",
     "output_type": "stream",
     "text": [
      "@ 124  > 1st order coefficient similarity failure :  0.118403017692 -0.453319273732\n"
     ]
    },
    {
     "name": "stderr",
     "output_type": "stream",
     "text": [
      "\n",
      " 26%|██████████████████████████████████████████████████▎                                                                                                                                                  | 124/485 [00:44<02:05,  2.89it/s]\n",
      " 26%|██████████████████████████████████████████████████▊                                                                                                                                                  | 125/485 [00:45<02:04,  2.90it/s]"
     ]
    },
    {
     "name": "stdout",
     "output_type": "stream",
     "text": [
      "@ 126  > 2nd order coefficient similarity failure :  -0.000727288355474 -0.000154793046087\n"
     ]
    },
    {
     "name": "stderr",
     "output_type": "stream",
     "text": [
      "\n",
      " 26%|███████████████████████████████████████████████████▏                                                                                                                                                 | 126/485 [00:45<02:06,  2.84it/s]"
     ]
    },
    {
     "name": "stdout",
     "output_type": "stream",
     "text": [
      "@ 127  > 2nd order coefficient similarity failure :  -0.000829051039531 -0.00013964370045\n"
     ]
    },
    {
     "name": "stderr",
     "output_type": "stream",
     "text": [
      "\n",
      " 26%|███████████████████████████████████████████████████▌                                                                                                                                                 | 127/485 [00:45<02:06,  2.83it/s]"
     ]
    },
    {
     "name": "stdout",
     "output_type": "stream",
     "text": [
      "@ 128  > 2nd order coefficient similarity failure :  -0.0017644677376 -6.0819940422e-05\n"
     ]
    },
    {
     "name": "stderr",
     "output_type": "stream",
     "text": [
      "\n",
      " 26%|███████████████████████████████████████████████████▉                                                                                                                                                 | 128/485 [00:46<02:06,  2.81it/s]"
     ]
    },
    {
     "name": "stdout",
     "output_type": "stream",
     "text": [
      "@ 129  > 2nd order coefficient similarity failure :  -0.00306757993958 -0.00105699613897\n"
     ]
    },
    {
     "name": "stderr",
     "output_type": "stream",
     "text": [
      "\n",
      " 27%|████████████████████████████████████████████████████▍                                                                                                                                                | 129/485 [00:46<02:06,  2.81it/s]"
     ]
    },
    {
     "name": "stdout",
     "output_type": "stream",
     "text": [
      "@ 130  > 2nd order coefficient similarity failure :  -0.00843020266948 -1.87751632022e-05\n"
     ]
    },
    {
     "name": "stderr",
     "output_type": "stream",
     "text": [
      "\n",
      " 27%|████████████████████████████████████████████████████▊                                                                                                                                                | 130/485 [00:47<02:07,  2.79it/s]"
     ]
    },
    {
     "name": "stdout",
     "output_type": "stream",
     "text": [
      "@ 131  > 2nd order coefficient similarity failure :  0.056822200451 0.00042576414498\n"
     ]
    },
    {
     "name": "stderr",
     "output_type": "stream",
     "text": [
      "\n",
      " 27%|█████████████████████████████████████████████████████▏                                                                                                                                               | 131/485 [00:47<02:06,  2.79it/s]"
     ]
    },
    {
     "name": "stdout",
     "output_type": "stream",
     "text": [
      "Inside reset\n",
      "@ 132  > 2nd order coefficient similarity failure :  -0.0408903185895 0.00156981715061\n"
     ]
    },
    {
     "name": "stderr",
     "output_type": "stream",
     "text": [
      "\n",
      " 27%|█████████████████████████████████████████████████████▌                                                                                                                                               | 132/485 [00:47<02:08,  2.74it/s]"
     ]
    },
    {
     "name": "stdout",
     "output_type": "stream",
     "text": [
      "Inside reset\n",
      "@ 133  > curve check failure :  65051.6597103 35997.0924181\n"
     ]
    },
    {
     "name": "stderr",
     "output_type": "stream",
     "text": [
      "\n",
      " 27%|██████████████████████████████████████████████████████                                                                                                                                               | 133/485 [00:48<02:09,  2.72it/s]"
     ]
    },
    {
     "name": "stdout",
     "output_type": "stream",
     "text": [
      "Inside reset\n",
      "@ 134  > low pass failure :  9 22\n"
     ]
    },
    {
     "name": "stderr",
     "output_type": "stream",
     "text": [
      "\n",
      " 28%|██████████████████████████████████████████████████████▍                                                                                                                                              | 134/485 [00:48<02:10,  2.69it/s]"
     ]
    },
    {
     "name": "stdout",
     "output_type": "stream",
     "text": [
      "Inside reset\n",
      "@ 135  > low pass failure :  8 1047\n"
     ]
    },
    {
     "name": "stderr",
     "output_type": "stream",
     "text": [
      "\n",
      " 28%|██████████████████████████████████████████████████████▊                                                                                                                                              | 135/485 [00:48<02:10,  2.68it/s]"
     ]
    },
    {
     "name": "stdout",
     "output_type": "stream",
     "text": [
      "Inside reset\n",
      "@ 136  > low pass failure :  8 1808\n"
     ]
    },
    {
     "name": "stderr",
     "output_type": "stream",
     "text": [
      "\n",
      " 28%|███████████████████████████████████████████████████████▏                                                                                                                                             | 136/485 [00:49<02:10,  2.67it/s]"
     ]
    },
    {
     "name": "stdout",
     "output_type": "stream",
     "text": [
      "Inside reset\n",
      "@ 137  > lane width failure :  2.17789934354\n"
     ]
    },
    {
     "name": "stderr",
     "output_type": "stream",
     "text": [
      "\n",
      " 28%|███████████████████████████████████████████████████████▋                                                                                                                                             | 137/485 [00:49<02:10,  2.67it/s]"
     ]
    },
    {
     "name": "stdout",
     "output_type": "stream",
     "text": [
      "Inside reset\n",
      "@ 138  > lane width failure :  2.25886214442\n"
     ]
    },
    {
     "name": "stderr",
     "output_type": "stream",
     "text": [
      "\n",
      " 28%|████████████████████████████████████████████████████████                                                                                                                                             | 138/485 [00:50<02:10,  2.66it/s]"
     ]
    },
    {
     "name": "stdout",
     "output_type": "stream",
     "text": [
      "Inside reset\n",
      "@ 139  > lane width failure :  7.00328227571\n"
     ]
    },
    {
     "name": "stderr",
     "output_type": "stream",
     "text": [
      "\n",
      " 29%|████████████████████████████████████████████████████████▍                                                                                                                                            | 139/485 [00:50<02:10,  2.66it/s]"
     ]
    },
    {
     "name": "stdout",
     "output_type": "stream",
     "text": [
      "Inside reset\n",
      "@ 140  > 2nd order coefficient similarity failure :  -0.00106588349657 0.00030923993308\n"
     ]
    },
    {
     "name": "stderr",
     "output_type": "stream",
     "text": [
      "\n",
      " 29%|████████████████████████████████████████████████████████▊                                                                                                                                            | 140/485 [00:50<02:09,  2.67it/s]"
     ]
    },
    {
     "name": "stdout",
     "output_type": "stream",
     "text": [
      "Inside reset\n"
     ]
    },
    {
     "name": "stderr",
     "output_type": "stream",
     "text": [
      "\n",
      " 29%|█████████████████████████████████████████████████████████▎                                                                                                                                           | 141/485 [00:51<02:08,  2.68it/s]"
     ]
    },
    {
     "name": "stdout",
     "output_type": "stream",
     "text": [
      "@ 142  > 2nd order coefficient similarity failure :  -0.000362588077306 0.000391479942423\n"
     ]
    },
    {
     "name": "stderr",
     "output_type": "stream",
     "text": [
      "\n",
      " 29%|█████████████████████████████████████████████████████████▋                                                                                                                                           | 142/485 [00:51<02:06,  2.72it/s]"
     ]
    },
    {
     "name": "stdout",
     "output_type": "stream",
     "text": [
      "@ 143  > 1st order coefficient similarity failure :  0.0809286551052 -0.355613582274\n"
     ]
    },
    {
     "name": "stderr",
     "output_type": "stream",
     "text": [
      "\n",
      " 29%|██████████████████████████████████████████████████████████                                                                                                                                           | 143/485 [00:51<02:04,  2.74it/s]"
     ]
    },
    {
     "name": "stdout",
     "output_type": "stream",
     "text": [
      "@ 144  > 1st order coefficient similarity failure :  -0.0312760543552 -0.831629757713\n"
     ]
    },
    {
     "name": "stderr",
     "output_type": "stream",
     "text": [
      "\n",
      " 30%|██████████████████████████████████████████████████████████▍                                                                                                                                          | 144/485 [00:52<02:04,  2.73it/s]"
     ]
    },
    {
     "name": "stdout",
     "output_type": "stream",
     "text": [
      "@ 145  > 1st order coefficient similarity failure :  0.0145181205906 -0.75926703532\n"
     ]
    },
    {
     "name": "stderr",
     "output_type": "stream",
     "text": [
      "\n",
      " 30%|██████████████████████████████████████████████████████████▉                                                                                                                                          | 145/485 [00:52<02:03,  2.75it/s]"
     ]
    },
    {
     "name": "stdout",
     "output_type": "stream",
     "text": [
      "@ 146  > 2nd order coefficient similarity failure :  -1.58493988694e-05 0.000520154715086\n"
     ]
    },
    {
     "name": "stderr",
     "output_type": "stream",
     "text": [
      "\n",
      " 30%|███████████████████████████████████████████████████████████▎                                                                                                                                         | 146/485 [00:52<02:04,  2.72it/s]"
     ]
    },
    {
     "name": "stdout",
     "output_type": "stream",
     "text": [
      "@ 147  > 1st order coefficient similarity failure :  0.0523576691308 -0.442310631009\n"
     ]
    },
    {
     "name": "stderr",
     "output_type": "stream",
     "text": [
      "\n",
      " 30%|███████████████████████████████████████████████████████████▋                                                                                                                                         | 147/485 [00:53<02:03,  2.74it/s]"
     ]
    },
    {
     "name": "stdout",
     "output_type": "stream",
     "text": [
      "Inside reset\n",
      "@ 148  > lane width failure :  4.92253829322\n"
     ]
    },
    {
     "name": "stderr",
     "output_type": "stream",
     "text": [
      "\n",
      " 31%|████████████████████████████████████████████████████████████                                                                                                                                         | 148/485 [00:53<02:05,  2.69it/s]"
     ]
    },
    {
     "name": "stdout",
     "output_type": "stream",
     "text": [
      "Inside reset\n",
      "@ 149  > lane width failure :  4.87396061269\n"
     ]
    },
    {
     "name": "stderr",
     "output_type": "stream",
     "text": [
      "\n",
      " 31%|████████████████████████████████████████████████████████████▌                                                                                                                                        | 149/485 [00:54<02:05,  2.67it/s]"
     ]
    },
    {
     "name": "stdout",
     "output_type": "stream",
     "text": [
      "Inside reset\n",
      "@ 150  > lane width failure :  4.95492341357\n"
     ]
    },
    {
     "name": "stderr",
     "output_type": "stream",
     "text": [
      "\n",
      " 31%|████████████████████████████████████████████████████████████▉                                                                                                                                        | 150/485 [00:54<02:06,  2.65it/s]"
     ]
    },
    {
     "name": "stdout",
     "output_type": "stream",
     "text": [
      "Inside reset\n",
      "@ 151  > lane width failure :  4.71203501094\n"
     ]
    },
    {
     "name": "stderr",
     "output_type": "stream",
     "text": [
      "\n",
      " 31%|█████████████████████████████████████████████████████████████▎                                                                                                                                       | 151/485 [00:54<02:06,  2.65it/s]"
     ]
    },
    {
     "name": "stdout",
     "output_type": "stream",
     "text": [
      "Inside reset\n",
      "@ 152  > lane width failure :  4.64726477024\n"
     ]
    },
    {
     "name": "stderr",
     "output_type": "stream",
     "text": [
      "\n",
      " 31%|█████████████████████████████████████████████████████████████▋                                                                                                                                       | 152/485 [00:55<02:05,  2.65it/s]"
     ]
    },
    {
     "name": "stdout",
     "output_type": "stream",
     "text": [
      "Inside reset\n",
      "@ 153  > lane width failure :  4.59868708972\n"
     ]
    },
    {
     "name": "stderr",
     "output_type": "stream",
     "text": [
      "\n",
      " 32%|██████████████████████████████████████████████████████████████▏                                                                                                                                      | 153/485 [00:55<02:05,  2.64it/s]"
     ]
    },
    {
     "name": "stdout",
     "output_type": "stream",
     "text": [
      "Inside reset\n",
      "@ 154  > lane width failure :  4.72013129103\n"
     ]
    },
    {
     "name": "stderr",
     "output_type": "stream",
     "text": [
      "\n",
      " 32%|██████████████████████████████████████████████████████████████▌                                                                                                                                      | 154/485 [00:56<02:07,  2.61it/s]"
     ]
    },
    {
     "name": "stdout",
     "output_type": "stream",
     "text": [
      "Inside reset\n",
      "@ 155  > 1st order coefficient similarity failure :  0.0256286642436 -0.430892720437\n"
     ]
    },
    {
     "name": "stderr",
     "output_type": "stream",
     "text": [
      "\n",
      " 32%|██████████████████████████████████████████████████████████████▉                                                                                                                                      | 155/485 [00:56<02:06,  2.61it/s]"
     ]
    },
    {
     "name": "stdout",
     "output_type": "stream",
     "text": [
      "Inside reset\n",
      "@ 156  > 1st order coefficient similarity failure :  0.0487290493273 -0.408017952248\n"
     ]
    },
    {
     "name": "stderr",
     "output_type": "stream",
     "text": [
      "\n",
      " 32%|███████████████████████████████████████████████████████████████▎                                                                                                                                     | 156/485 [00:56<02:06,  2.61it/s]"
     ]
    },
    {
     "name": "stdout",
     "output_type": "stream",
     "text": [
      "Inside reset\n",
      "@ 157  > 1st order coefficient similarity failure :  0.0718671581304 -0.402507186874\n"
     ]
    },
    {
     "name": "stderr",
     "output_type": "stream",
     "text": [
      "\n",
      " 32%|███████████████████████████████████████████████████████████████▊                                                                                                                                     | 157/485 [00:57<02:06,  2.60it/s]"
     ]
    },
    {
     "name": "stdout",
     "output_type": "stream",
     "text": [
      "Inside reset\n",
      "@ 158  > 1st order coefficient similarity failure :  -0.0232171276909 -0.477515507086\n"
     ]
    },
    {
     "name": "stderr",
     "output_type": "stream",
     "text": [
      "\n",
      " 33%|████████████████████████████████████████████████████████████████▏                                                                                                                                    | 158/485 [00:57<02:05,  2.60it/s]"
     ]
    },
    {
     "name": "stdout",
     "output_type": "stream",
     "text": [
      "Inside reset\n",
      "@ 159  > 1st order coefficient similarity failure :  -0.0433524212399 -0.488661241561\n"
     ]
    },
    {
     "name": "stderr",
     "output_type": "stream",
     "text": [
      "\n",
      " 33%|████████████████████████████████████████████████████████████████▌                                                                                                                                    | 159/485 [00:57<02:05,  2.60it/s]"
     ]
    },
    {
     "name": "stdout",
     "output_type": "stream",
     "text": [
      "Inside reset\n",
      "@ 160  > 1st order coefficient similarity failure :  -0.0328873794777 -0.501071008134\n"
     ]
    },
    {
     "name": "stderr",
     "output_type": "stream",
     "text": [
      "\n",
      " 33%|████████████████████████████████████████████████████████████████▉                                                                                                                                    | 160/485 [00:58<02:05,  2.59it/s]"
     ]
    },
    {
     "name": "stdout",
     "output_type": "stream",
     "text": [
      "Inside reset\n"
     ]
    },
    {
     "name": "stderr",
     "output_type": "stream",
     "text": [
      "\n",
      " 33%|█████████████████████████████████████████████████████████████████▍                                                                                                                                   | 161/485 [00:58<02:03,  2.63it/s]\n",
      " 33%|█████████████████████████████████████████████████████████████████▊                                                                                                                                   | 162/485 [00:59<01:59,  2.70it/s]"
     ]
    },
    {
     "name": "stdout",
     "output_type": "stream",
     "text": [
      "@ 163  > Continuity check failed - right curve variation high :  671.315129232 3463.08924983\n"
     ]
    },
    {
     "name": "stderr",
     "output_type": "stream",
     "text": [
      "\n",
      " 34%|██████████████████████████████████████████████████████████████████▏                                                                                                                                  | 163/485 [00:59<01:58,  2.72it/s]"
     ]
    },
    {
     "name": "stdout",
     "output_type": "stream",
     "text": [
      "@ 164  > Continuity check failed - right curve variation high :  376.757641702 3463.08924983\n"
     ]
    },
    {
     "name": "stderr",
     "output_type": "stream",
     "text": [
      "\n",
      " 34%|██████████████████████████████████████████████████████████████████▌                                                                                                                                  | 164/485 [00:59<01:58,  2.71it/s]"
     ]
    },
    {
     "name": "stdout",
     "output_type": "stream",
     "text": [
      "@ 165  > 1st order coefficient similarity failure :  0.0726808432662 -0.320631928639\n"
     ]
    },
    {
     "name": "stderr",
     "output_type": "stream",
     "text": [
      "\n",
      " 34%|███████████████████████████████████████████████████████████████████                                                                                                                                  | 165/485 [01:00<01:57,  2.72it/s]"
     ]
    },
    {
     "name": "stdout",
     "output_type": "stream",
     "text": [
      "@ 166  > 1st order coefficient similarity failure :  0.0912504198279 -0.296247117251\n"
     ]
    },
    {
     "name": "stderr",
     "output_type": "stream",
     "text": [
      "\n",
      " 34%|███████████████████████████████████████████████████████████████████▍                                                                                                                                 | 166/485 [01:00<01:56,  2.74it/s]"
     ]
    },
    {
     "name": "stdout",
     "output_type": "stream",
     "text": [
      "@ 167  > 1st order coefficient similarity failure :  0.122600306637 -0.303362521413\n"
     ]
    },
    {
     "name": "stderr",
     "output_type": "stream",
     "text": [
      "\n",
      " 34%|███████████████████████████████████████████████████████████████████▊                                                                                                                                 | 167/485 [01:00<01:56,  2.73it/s]"
     ]
    },
    {
     "name": "stdout",
     "output_type": "stream",
     "text": [
      "@ 168  > 1st order coefficient similarity failure :  0.0990017228109 -0.348415795357\n"
     ]
    },
    {
     "name": "stderr",
     "output_type": "stream",
     "text": [
      "\n",
      " 35%|████████████████████████████████████████████████████████████████████▏                                                                                                                                | 168/485 [01:01<01:56,  2.71it/s]"
     ]
    },
    {
     "name": "stdout",
     "output_type": "stream",
     "text": [
      "Inside reset\n",
      "@ 169  > 1st order coefficient similarity failure :  0.104519369296 -0.362579261387\n"
     ]
    },
    {
     "name": "stderr",
     "output_type": "stream",
     "text": [
      "\n",
      " 35%|████████████████████████████████████████████████████████████████████▋                                                                                                                                | 169/485 [01:01<01:57,  2.68it/s]"
     ]
    },
    {
     "name": "stdout",
     "output_type": "stream",
     "text": [
      "Inside reset\n",
      "@ 170  > 1st order coefficient similarity failure :  0.105586369141 -0.443160444148\n"
     ]
    },
    {
     "name": "stderr",
     "output_type": "stream",
     "text": [
      "\n",
      " 35%|█████████████████████████████████████████████████████████████████████                                                                                                                                | 170/485 [01:02<01:58,  2.66it/s]"
     ]
    },
    {
     "name": "stdout",
     "output_type": "stream",
     "text": [
      "Inside reset\n",
      "@ 171  > 1st order coefficient similarity failure :  0.0885661230451 -0.436443785126\n"
     ]
    },
    {
     "name": "stderr",
     "output_type": "stream",
     "text": [
      "\n",
      " 35%|█████████████████████████████████████████████████████████████████████▍                                                                                                                               | 171/485 [01:02<01:58,  2.65it/s]"
     ]
    },
    {
     "name": "stdout",
     "output_type": "stream",
     "text": [
      "Inside reset\n",
      "@ 172  > 1st order coefficient similarity failure :  0.0733908106408 -0.463173689052\n"
     ]
    },
    {
     "name": "stderr",
     "output_type": "stream",
     "text": [
      "\n",
      " 35%|█████████████████████████████████████████████████████████████████████▊                                                                                                                               | 172/485 [01:02<01:58,  2.64it/s]"
     ]
    },
    {
     "name": "stdout",
     "output_type": "stream",
     "text": [
      "Inside reset\n",
      "@ 173  > 1st order coefficient similarity failure :  0.0818457105424 -0.503261202157\n"
     ]
    },
    {
     "name": "stderr",
     "output_type": "stream",
     "text": [
      "\n",
      " 36%|██████████████████████████████████████████████████████████████████████▎                                                                                                                              | 173/485 [01:03<01:58,  2.64it/s]"
     ]
    },
    {
     "name": "stdout",
     "output_type": "stream",
     "text": [
      "Inside reset\n"
     ]
    },
    {
     "name": "stderr",
     "output_type": "stream",
     "text": [
      "\n",
      " 36%|██████████████████████████████████████████████████████████████████████▋                                                                                                                              | 174/485 [01:03<01:56,  2.66it/s]\n",
      " 36%|███████████████████████████████████████████████████████████████████████                                                                                                                              | 175/485 [01:03<01:54,  2.72it/s]\n",
      " 36%|███████████████████████████████████████████████████████████████████████▍                                                                                                                             | 176/485 [01:04<01:52,  2.75it/s]\n",
      " 36%|███████████████████████████████████████████████████████████████████████▉                                                                                                                             | 177/485 [01:04<01:51,  2.77it/s]"
     ]
    },
    {
     "name": "stdout",
     "output_type": "stream",
     "text": [
      "@ 178  > 1st order coefficient similarity failure :  0.106746382751 -0.303433612603\n"
     ]
    },
    {
     "name": "stderr",
     "output_type": "stream",
     "text": [
      "\n",
      " 37%|████████████████████████████████████████████████████████████████████████▎                                                                                                                            | 178/485 [01:04<01:50,  2.77it/s]"
     ]
    },
    {
     "name": "stdout",
     "output_type": "stream",
     "text": [
      "@ 179  > 1st order coefficient similarity failure :  0.0682891409107 -0.339342599821\n"
     ]
    },
    {
     "name": "stderr",
     "output_type": "stream",
     "text": [
      "\n",
      " 37%|████████████████████████████████████████████████████████████████████████▋                                                                                                                            | 179/485 [01:05<01:51,  2.76it/s]"
     ]
    },
    {
     "name": "stdout",
     "output_type": "stream",
     "text": [
      "@ 180  > 1st order coefficient similarity failure :  0.0679203417187 -0.358380882073\n"
     ]
    },
    {
     "name": "stderr",
     "output_type": "stream",
     "text": [
      "\n",
      " 37%|█████████████████████████████████████████████████████████████████████████                                                                                                                            | 180/485 [01:05<01:50,  2.76it/s]"
     ]
    },
    {
     "name": "stdout",
     "output_type": "stream",
     "text": [
      "@ 181  > 1st order coefficient similarity failure :  0.147173293421 -0.334526468723\n"
     ]
    },
    {
     "name": "stderr",
     "output_type": "stream",
     "text": [
      "\n",
      " 37%|█████████████████████████████████████████████████████████████████████████▌                                                                                                                           | 181/485 [01:06<01:50,  2.75it/s]"
     ]
    },
    {
     "name": "stdout",
     "output_type": "stream",
     "text": [
      "@ 182  > 1st order coefficient similarity failure :  0.0652510624029 -0.36574167109\n"
     ]
    },
    {
     "name": "stderr",
     "output_type": "stream",
     "text": [
      "\n",
      " 38%|█████████████████████████████████████████████████████████████████████████▉                                                                                                                           | 182/485 [01:06<01:49,  2.76it/s]"
     ]
    },
    {
     "name": "stdout",
     "output_type": "stream",
     "text": [
      "@ 183  > 1st order coefficient similarity failure :  0.00892316590155 -0.392100989526\n"
     ]
    },
    {
     "name": "stderr",
     "output_type": "stream",
     "text": [
      "\n",
      " 38%|██████████████████████████████████████████████████████████████████████████▎                                                                                                                          | 183/485 [01:06<01:49,  2.75it/s]"
     ]
    },
    {
     "name": "stdout",
     "output_type": "stream",
     "text": [
      "Inside reset\n",
      "@ 184  > 1st order coefficient similarity failure :  0.105279368905 -0.416146547857\n"
     ]
    },
    {
     "name": "stderr",
     "output_type": "stream",
     "text": [
      "\n",
      " 38%|██████████████████████████████████████████████████████████████████████████▋                                                                                                                          | 184/485 [01:07<01:51,  2.70it/s]"
     ]
    },
    {
     "name": "stdout",
     "output_type": "stream",
     "text": [
      "Inside reset\n",
      "@ 185  > 1st order coefficient similarity failure :  0.103745246246 -0.414084442992\n"
     ]
    },
    {
     "name": "stderr",
     "output_type": "stream",
     "text": [
      "\n",
      " 38%|███████████████████████████████████████████████████████████████████████████▏                                                                                                                         | 185/485 [01:07<01:52,  2.66it/s]"
     ]
    },
    {
     "name": "stdout",
     "output_type": "stream",
     "text": [
      "Inside reset\n",
      "@ 186  > 1st order coefficient similarity failure :  0.0648492715657 -0.459778302834\n"
     ]
    },
    {
     "name": "stderr",
     "output_type": "stream",
     "text": [
      "\n",
      " 38%|███████████████████████████████████████████████████████████████████████████▌                                                                                                                         | 186/485 [01:07<01:52,  2.65it/s]"
     ]
    },
    {
     "name": "stdout",
     "output_type": "stream",
     "text": [
      "Inside reset\n",
      "@ 187  > 1st order coefficient similarity failure :  0.0286072004364 -0.62049805699\n"
     ]
    },
    {
     "name": "stderr",
     "output_type": "stream",
     "text": [
      "\n",
      " 39%|███████████████████████████████████████████████████████████████████████████▉                                                                                                                         | 187/485 [01:08<01:53,  2.63it/s]"
     ]
    },
    {
     "name": "stdout",
     "output_type": "stream",
     "text": [
      "Inside reset\n"
     ]
    },
    {
     "name": "stderr",
     "output_type": "stream",
     "text": [
      "\n",
      " 39%|████████████████████████████████████████████████████████████████████████████▎                                                                                                                        | 188/485 [01:08<01:51,  2.67it/s]\n",
      " 39%|████████████████████████████████████████████████████████████████████████████▊                                                                                                                        | 189/485 [01:09<01:48,  2.73it/s]\n",
      " 39%|█████████████████████████████████████████████████████████████████████████████▏                                                                                                                       | 190/485 [01:09<01:46,  2.78it/s]\n",
      " 39%|█████████████████████████████████████████████████████████████████████████████▌                                                                                                                       | 191/485 [01:09<01:44,  2.82it/s]\n",
      " 40%|█████████████████████████████████████████████████████████████████████████████▉                                                                                                                       | 192/485 [01:10<01:42,  2.84it/s]\n",
      " 40%|██████████████████████████████████████████████████████████████████████████████▍                                                                                                                      | 193/485 [01:10<01:42,  2.86it/s]\n",
      " 40%|██████████████████████████████████████████████████████████████████████████████▊                                                                                                                      | 194/485 [01:10<01:41,  2.87it/s]\n",
      " 40%|███████████████████████████████████████████████████████████████████████████████▏                                                                                                                     | 195/485 [01:11<01:40,  2.87it/s]\n",
      " 40%|███████████████████████████████████████████████████████████████████████████████▌                                                                                                                     | 196/485 [01:11<01:40,  2.87it/s]"
     ]
    },
    {
     "name": "stdout",
     "output_type": "stream",
     "text": [
      "@ 197  > 1st order coefficient similarity failure :  0.0162509285349 -0.341061321306\n"
     ]
    },
    {
     "name": "stderr",
     "output_type": "stream",
     "text": [
      "\n",
      " 41%|████████████████████████████████████████████████████████████████████████████████                                                                                                                     | 197/485 [01:11<01:41,  2.84it/s]"
     ]
    },
    {
     "name": "stdout",
     "output_type": "stream",
     "text": [
      "@ 198  > 1st order coefficient similarity failure :  0.0356104024638 -0.382907274839\n"
     ]
    },
    {
     "name": "stderr",
     "output_type": "stream",
     "text": [
      "\n",
      " 41%|████████████████████████████████████████████████████████████████████████████████▍                                                                                                                    | 198/485 [01:12<01:41,  2.82it/s]"
     ]
    },
    {
     "name": "stdout",
     "output_type": "stream",
     "text": [
      "@ 199  > 1st order coefficient similarity failure :  0.00794024462036 -0.467868799852\n"
     ]
    },
    {
     "name": "stderr",
     "output_type": "stream",
     "text": [
      "\n",
      " 41%|████████████████████████████████████████████████████████████████████████████████▊                                                                                                                    | 199/485 [01:12<01:42,  2.79it/s]\n",
      " 41%|█████████████████████████████████████████████████████████████████████████████████▏                                                                                                                   | 200/485 [01:12<01:41,  2.81it/s]\n",
      " 41%|█████████████████████████████████████████████████████████████████████████████████▋                                                                                                                   | 201/485 [01:13<01:41,  2.81it/s]\n",
      " 42%|██████████████████████████████████████████████████████████████████████████████████                                                                                                                   | 202/485 [01:13<01:40,  2.82it/s]"
     ]
    },
    {
     "name": "stdout",
     "output_type": "stream",
     "text": [
      "@ 203  > Continuity check failed - right curve variation high :  381.596802743 6556.50347741\n"
     ]
    },
    {
     "name": "stderr",
     "output_type": "stream",
     "text": [
      "\n",
      " 42%|██████████████████████████████████████████████████████████████████████████████████▍                                                                                                                  | 203/485 [01:13<01:40,  2.80it/s]"
     ]
    },
    {
     "name": "stdout",
     "output_type": "stream",
     "text": [
      "@ 204  > Continuity check failed - right curve variation high :  281.795210168 6556.50347741\n"
     ]
    },
    {
     "name": "stderr",
     "output_type": "stream",
     "text": [
      "\n",
      " 42%|██████████████████████████████████████████████████████████████████████████████████▊                                                                                                                  | 204/485 [01:14<01:40,  2.79it/s]"
     ]
    },
    {
     "name": "stdout",
     "output_type": "stream",
     "text": [
      "@ 205  > Continuity check failed - right curve variation high :  296.98297034 6556.50347741\n"
     ]
    },
    {
     "name": "stderr",
     "output_type": "stream",
     "text": [
      "\n",
      " 42%|███████████████████████████████████████████████████████████████████████████████████▎                                                                                                                 | 205/485 [01:14<01:40,  2.78it/s]"
     ]
    },
    {
     "name": "stdout",
     "output_type": "stream",
     "text": [
      "@ 206  > Continuity check failed - right curve variation high :  298.51670635 6556.50347741\n"
     ]
    },
    {
     "name": "stderr",
     "output_type": "stream",
     "text": [
      "\n",
      " 42%|███████████████████████████████████████████████████████████████████████████████████▋                                                                                                                 | 206/485 [01:15<01:41,  2.75it/s]"
     ]
    },
    {
     "name": "stdout",
     "output_type": "stream",
     "text": [
      "@ 207  > Continuity check failed - right curve variation high :  269.555506564 6556.50347741\n"
     ]
    },
    {
     "name": "stderr",
     "output_type": "stream",
     "text": [
      "\n",
      " 43%|████████████████████████████████████████████████████████████████████████████████████                                                                                                                 | 207/485 [01:15<01:40,  2.75it/s]"
     ]
    },
    {
     "name": "stdout",
     "output_type": "stream",
     "text": [
      "@ 208  > Continuity check failed - right curve variation high :  248.778369832 6556.50347741\n"
     ]
    },
    {
     "name": "stderr",
     "output_type": "stream",
     "text": [
      "\n",
      " 43%|████████████████████████████████████████████████████████████████████████████████████▍                                                                                                                | 208/485 [01:15<01:41,  2.74it/s]"
     ]
    },
    {
     "name": "stdout",
     "output_type": "stream",
     "text": [
      "Inside reset\n"
     ]
    },
    {
     "name": "stderr",
     "output_type": "stream",
     "text": [
      "\n",
      " 43%|████████████████████████████████████████████████████████████████████████████████████▉                                                                                                                | 209/485 [01:16<01:40,  2.73it/s]"
     ]
    },
    {
     "name": "stdout",
     "output_type": "stream",
     "text": [
      "@ 210  > 1st order coefficient similarity failure :  -0.057092447228 -0.440513869852\n"
     ]
    },
    {
     "name": "stderr",
     "output_type": "stream",
     "text": [
      "\n",
      " 43%|█████████████████████████████████████████████████████████████████████████████████████▎                                                                                                               | 210/485 [01:16<01:40,  2.75it/s]"
     ]
    },
    {
     "name": "stdout",
     "output_type": "stream",
     "text": [
      "@ 211  > 1st order coefficient similarity failure :  -0.045378989432 -0.408616187194\n"
     ]
    },
    {
     "name": "stderr",
     "output_type": "stream",
     "text": [
      "\n",
      " 44%|█████████████████████████████████████████████████████████████████████████████████████▋                                                                                                               | 211/485 [01:16<01:39,  2.74it/s]\n",
      " 44%|██████████████████████████████████████████████████████████████████████████████████████                                                                                                               | 212/485 [01:17<01:38,  2.77it/s]\n",
      " 44%|██████████████████████████████████████████████████████████████████████████████████████▌                                                                                                              | 213/485 [01:17<01:37,  2.80it/s]\n",
      " 44%|██████████████████████████████████████████████████████████████████████████████████████▉                                                                                                              | 214/485 [01:17<01:35,  2.83it/s]\n",
      " 44%|███████████████████████████████████████████████████████████████████████████████████████▎                                                                                                             | 215/485 [01:18<01:35,  2.81it/s]\n",
      " 45%|███████████████████████████████████████████████████████████████████████████████████████▋                                                                                                             | 216/485 [01:18<01:35,  2.83it/s]\n",
      " 45%|████████████████████████████████████████████████████████████████████████████████████████▏                                                                                                            | 217/485 [01:18<01:34,  2.85it/s]\n",
      " 45%|████████████████████████████████████████████████████████████████████████████████████████▌                                                                                                            | 218/485 [01:19<01:33,  2.86it/s]\n",
      " 45%|████████████████████████████████████████████████████████████████████████████████████████▉                                                                                                            | 219/485 [01:19<01:32,  2.87it/s]\n",
      " 45%|█████████████████████████████████████████████████████████████████████████████████████████▎                                                                                                           | 220/485 [01:20<01:32,  2.88it/s]\n",
      " 46%|█████████████████████████████████████████████████████████████████████████████████████████▊                                                                                                           | 221/485 [01:20<01:32,  2.87it/s]\n",
      " 46%|██████████████████████████████████████████████████████████████████████████████████████████▏                                                                                                          | 222/485 [01:20<01:31,  2.88it/s]\n",
      " 46%|██████████████████████████████████████████████████████████████████████████████████████████▌                                                                                                          | 223/485 [01:21<01:31,  2.87it/s]\n",
      " 46%|██████████████████████████████████████████████████████████████████████████████████████████▉                                                                                                          | 224/485 [01:21<01:30,  2.87it/s]"
     ]
    },
    {
     "name": "stdout",
     "output_type": "stream",
     "text": [
      "@ 225  > 1st order coefficient similarity failure :  -0.116928105687 -0.505468705352\n"
     ]
    },
    {
     "name": "stderr",
     "output_type": "stream",
     "text": [
      "\n",
      " 46%|███████████████████████████████████████████████████████████████████████████████████████████▍                                                                                                         | 225/485 [01:21<01:32,  2.83it/s]\n",
      " 47%|███████████████████████████████████████████████████████████████████████████████████████████▊                                                                                                         | 226/485 [01:22<01:31,  2.84it/s]\n",
      " 47%|████████████████████████████████████████████████████████████████████████████████████████████▏                                                                                                        | 227/485 [01:22<01:30,  2.86it/s]\n",
      " 47%|████████████████████████████████████████████████████████████████████████████████████████████▌                                                                                                        | 228/485 [01:22<01:29,  2.87it/s]\n",
      " 47%|█████████████████████████████████████████████████████████████████████████████████████████████                                                                                                        | 229/485 [01:23<01:29,  2.87it/s]\n",
      " 47%|█████████████████████████████████████████████████████████████████████████████████████████████▍                                                                                                       | 230/485 [01:23<01:28,  2.88it/s]\n",
      " 48%|█████████████████████████████████████████████████████████████████████████████████████████████▊                                                                                                       | 231/485 [01:23<01:28,  2.88it/s]\n",
      " 48%|██████████████████████████████████████████████████████████████████████████████████████████████▏                                                                                                      | 232/485 [01:24<01:27,  2.88it/s]\n",
      " 48%|██████████████████████████████████████████████████████████████████████████████████████████████▋                                                                                                      | 233/485 [01:24<01:28,  2.86it/s]\n",
      " 48%|███████████████████████████████████████████████████████████████████████████████████████████████                                                                                                      | 234/485 [01:24<01:27,  2.86it/s]\n",
      " 48%|███████████████████████████████████████████████████████████████████████████████████████████████▍                                                                                                     | 235/485 [01:25<01:27,  2.86it/s]\n",
      " 49%|███████████████████████████████████████████████████████████████████████████████████████████████▊                                                                                                     | 236/485 [01:25<01:26,  2.86it/s]\n",
      " 49%|████████████████████████████████████████████████████████████████████████████████████████████████▎                                                                                                    | 237/485 [01:25<01:26,  2.86it/s]\n",
      " 49%|████████████████████████████████████████████████████████████████████████████████████████████████▋                                                                                                    | 238/485 [01:26<01:26,  2.87it/s]\n",
      " 49%|█████████████████████████████████████████████████████████████████████████████████████████████████                                                                                                    | 239/485 [01:26<01:25,  2.86it/s]\n",
      " 49%|█████████████████████████████████████████████████████████████████████████████████████████████████▍                                                                                                   | 240/485 [01:26<01:25,  2.87it/s]\n",
      " 50%|█████████████████████████████████████████████████████████████████████████████████████████████████▉                                                                                                   | 241/485 [01:27<01:24,  2.88it/s]\n",
      " 50%|██████████████████████████████████████████████████████████████████████████████████████████████████▎                                                                                                  | 242/485 [01:27<01:24,  2.88it/s]\n",
      " 50%|██████████████████████████████████████████████████████████████████████████████████████████████████▋                                                                                                  | 243/485 [01:28<01:23,  2.89it/s]\n",
      " 50%|███████████████████████████████████████████████████████████████████████████████████████████████████                                                                                                  | 244/485 [01:28<01:23,  2.89it/s]\n",
      " 51%|███████████████████████████████████████████████████████████████████████████████████████████████████▌                                                                                                 | 245/485 [01:28<01:23,  2.88it/s]\n",
      " 51%|███████████████████████████████████████████████████████████████████████████████████████████████████▉                                                                                                 | 246/485 [01:29<01:23,  2.85it/s]\n",
      " 51%|████████████████████████████████████████████████████████████████████████████████████████████████████▎                                                                                                | 247/485 [01:29<01:23,  2.85it/s]\n",
      " 51%|████████████████████████████████████████████████████████████████████████████████████████████████████▋                                                                                                | 248/485 [01:29<01:23,  2.85it/s]\n",
      " 51%|█████████████████████████████████████████████████████████████████████████████████████████████████████▏                                                                                               | 249/485 [01:30<01:22,  2.86it/s]\n",
      " 52%|█████████████████████████████████████████████████████████████████████████████████████████████████████▌                                                                                               | 250/485 [01:30<01:22,  2.86it/s]"
     ]
    },
    {
     "name": "stdout",
     "output_type": "stream",
     "text": [
      "@ 251  > 1st order coefficient similarity failure :  -0.0251313654407 -0.445529479739\n"
     ]
    },
    {
     "name": "stderr",
     "output_type": "stream",
     "text": [
      "\n",
      " 52%|█████████████████████████████████████████████████████████████████████████████████████████████████████▉                                                                                               | 251/485 [01:30<01:24,  2.78it/s]"
     ]
    },
    {
     "name": "stdout",
     "output_type": "stream",
     "text": [
      "@ 252  > 1st order coefficient similarity failure :  -0.0510974626954 -0.415666072124\n"
     ]
    },
    {
     "name": "stderr",
     "output_type": "stream",
     "text": [
      "\n",
      " 52%|██████████████████████████████████████████████████████████████████████████████████████████████████████▎                                                                                              | 252/485 [01:31<01:24,  2.76it/s]"
     ]
    },
    {
     "name": "stdout",
     "output_type": "stream",
     "text": [
      "@ 253  > 1st order coefficient similarity failure :  -0.0411368837513 -0.429155869824\n"
     ]
    },
    {
     "name": "stderr",
     "output_type": "stream",
     "text": [
      "\n",
      " 52%|██████████████████████████████████████████████████████████████████████████████████████████████████████▊                                                                                              | 253/485 [01:31<01:24,  2.75it/s]"
     ]
    },
    {
     "name": "stdout",
     "output_type": "stream",
     "text": [
      "@ 254  > 1st order coefficient similarity failure :  -0.00914650006546 -0.393098730726\n"
     ]
    },
    {
     "name": "stderr",
     "output_type": "stream",
     "text": [
      "\n",
      " 52%|███████████████████████████████████████████████████████████████████████████████████████████████████████▏                                                                                             | 254/485 [01:31<01:24,  2.74it/s]\n",
      " 53%|███████████████████████████████████████████████████████████████████████████████████████████████████████▌                                                                                             | 255/485 [01:32<01:23,  2.76it/s]\n",
      " 53%|███████████████████████████████████████████████████████████████████████████████████████████████████████▉                                                                                             | 256/485 [01:32<01:22,  2.78it/s]\n",
      " 53%|████████████████████████████████████████████████████████████████████████████████████████████████████████▍                                                                                            | 257/485 [01:33<01:21,  2.81it/s]\n",
      " 53%|████████████████████████████████████████████████████████████████████████████████████████████████████████▊                                                                                            | 258/485 [01:33<01:20,  2.83it/s]\n",
      " 53%|█████████████████████████████████████████████████████████████████████████████████████████████████████████▏                                                                                           | 259/485 [01:33<01:19,  2.84it/s]\n",
      " 54%|█████████████████████████████████████████████████████████████████████████████████████████████████████████▌                                                                                           | 260/485 [01:34<01:18,  2.85it/s]\n",
      " 54%|██████████████████████████████████████████████████████████████████████████████████████████████████████████                                                                                           | 261/485 [01:34<01:18,  2.87it/s]\n",
      " 54%|██████████████████████████████████████████████████████████████████████████████████████████████████████████▍                                                                                          | 262/485 [01:34<01:17,  2.88it/s]\n",
      " 54%|██████████████████████████████████████████████████████████████████████████████████████████████████████████▊                                                                                          | 263/485 [01:35<01:17,  2.88it/s]\n",
      " 54%|███████████████████████████████████████████████████████████████████████████████████████████████████████████▏                                                                                         | 264/485 [01:35<01:16,  2.89it/s]\n",
      " 55%|███████████████████████████████████████████████████████████████████████████████████████████████████████████▋                                                                                         | 265/485 [01:35<01:16,  2.88it/s]\n",
      " 55%|████████████████████████████████████████████████████████████████████████████████████████████████████████████                                                                                         | 266/485 [01:36<01:16,  2.88it/s]"
     ]
    },
    {
     "name": "stdout",
     "output_type": "stream",
     "text": [
      "@ 267  > 1st order coefficient similarity failure :  -0.172300130514 -0.538308593087\n"
     ]
    },
    {
     "name": "stderr",
     "output_type": "stream",
     "text": [
      "\n",
      " 55%|████████████████████████████████████████████████████████████████████████████████████████████████████████████▍                                                                                        | 267/485 [01:36<01:16,  2.84it/s]\n",
      " 55%|████████████████████████████████████████████████████████████████████████████████████████████████████████████▊                                                                                        | 268/485 [01:36<01:16,  2.85it/s]\n",
      " 55%|█████████████████████████████████████████████████████████████████████████████████████████████████████████████▎                                                                                       | 269/485 [01:37<01:15,  2.86it/s]"
     ]
    },
    {
     "name": "stdout",
     "output_type": "stream",
     "text": [
      "@ 270  > curve check failure :  233.956925728 30457.5309591\n"
     ]
    },
    {
     "name": "stderr",
     "output_type": "stream",
     "text": [
      "\n",
      " 56%|█████████████████████████████████████████████████████████████████████████████████████████████████████████████▋                                                                                       | 270/485 [01:37<01:16,  2.83it/s]\n",
      " 56%|██████████████████████████████████████████████████████████████████████████████████████████████████████████████                                                                                       | 271/485 [01:37<01:15,  2.84it/s]\n",
      " 56%|██████████████████████████████████████████████████████████████████████████████████████████████████████████████▍                                                                                      | 272/485 [01:38<01:14,  2.85it/s]\n",
      " 56%|██████████████████████████████████████████████████████████████████████████████████████████████████████████████▉                                                                                      | 273/485 [01:38<01:14,  2.84it/s]\n",
      " 56%|███████████████████████████████████████████████████████████████████████████████████████████████████████████████▎                                                                                     | 274/485 [01:38<01:13,  2.86it/s]\n",
      " 57%|███████████████████████████████████████████████████████████████████████████████████████████████████████████████▋                                                                                     | 275/485 [01:39<01:13,  2.87it/s]\n",
      " 57%|████████████████████████████████████████████████████████████████████████████████████████████████████████████████                                                                                     | 276/485 [01:39<01:12,  2.87it/s]\n",
      " 57%|████████████████████████████████████████████████████████████████████████████████████████████████████████████████▌                                                                                    | 277/485 [01:39<01:12,  2.87it/s]\n",
      " 57%|████████████████████████████████████████████████████████████████████████████████████████████████████████████████▉                                                                                    | 278/485 [01:40<01:11,  2.88it/s]\n",
      " 58%|█████████████████████████████████████████████████████████████████████████████████████████████████████████████████▎                                                                                   | 279/485 [01:40<01:11,  2.89it/s]\n",
      " 58%|█████████████████████████████████████████████████████████████████████████████████████████████████████████████████▋                                                                                   | 280/485 [01:41<01:10,  2.90it/s]\n",
      " 58%|██████████████████████████████████████████████████████████████████████████████████████████████████████████████████▏                                                                                  | 281/485 [01:41<01:10,  2.89it/s]\n",
      " 58%|██████████████████████████████████████████████████████████████████████████████████████████████████████████████████▌                                                                                  | 282/485 [01:41<01:10,  2.89it/s]\n",
      " 58%|██████████████████████████████████████████████████████████████████████████████████████████████████████████████████▉                                                                                  | 283/485 [01:42<01:10,  2.88it/s]\n",
      " 59%|███████████████████████████████████████████████████████████████████████████████████████████████████████████████████▎                                                                                 | 284/485 [01:42<01:09,  2.88it/s]\n",
      " 59%|███████████████████████████████████████████████████████████████████████████████████████████████████████████████████▊                                                                                 | 285/485 [01:42<01:10,  2.84it/s]\n",
      " 59%|████████████████████████████████████████████████████████████████████████████████████████████████████████████████████▏                                                                                | 286/485 [01:43<01:09,  2.86it/s]\n",
      " 59%|████████████████████████████████████████████████████████████████████████████████████████████████████████████████████▌                                                                                | 287/485 [01:43<01:09,  2.86it/s]\n",
      " 59%|████████████████████████████████████████████████████████████████████████████████████████████████████████████████████▉                                                                                | 288/485 [01:43<01:08,  2.87it/s]\n",
      " 60%|█████████████████████████████████████████████████████████████████████████████████████████████████████████████████████▍                                                                               | 289/485 [01:44<01:08,  2.87it/s]\n",
      " 60%|█████████████████████████████████████████████████████████████████████████████████████████████████████████████████████▊                                                                               | 290/485 [01:44<01:07,  2.88it/s]\n",
      " 60%|██████████████████████████████████████████████████████████████████████████████████████████████████████████████████████▏                                                                              | 291/485 [01:44<01:07,  2.87it/s]\n",
      " 60%|██████████████████████████████████████████████████████████████████████████████████████████████████████████████████████▌                                                                              | 292/485 [01:45<01:07,  2.87it/s]\n",
      " 60%|███████████████████████████████████████████████████████████████████████████████████████████████████████████████████████                                                                              | 293/485 [01:45<01:06,  2.88it/s]\n",
      " 61%|███████████████████████████████████████████████████████████████████████████████████████████████████████████████████████▍                                                                             | 294/485 [01:45<01:06,  2.89it/s]"
     ]
    },
    {
     "name": "stdout",
     "output_type": "stream",
     "text": [
      "@ 295  > 1st order coefficient similarity failure :  -0.0745620595843 -0.457888093604\n"
     ]
    },
    {
     "name": "stderr",
     "output_type": "stream",
     "text": [
      "\n",
      " 61%|███████████████████████████████████████████████████████████████████████████████████████████████████████████████████████▊                                                                             | 295/485 [01:46<01:06,  2.84it/s]"
     ]
    },
    {
     "name": "stdout",
     "output_type": "stream",
     "text": [
      "@ 296  > 1st order coefficient similarity failure :  -0.0262349069605 -0.456481872553\n"
     ]
    },
    {
     "name": "stderr",
     "output_type": "stream",
     "text": [
      "\n",
      " 61%|████████████████████████████████████████████████████████████████████████████████████████████████████████████████████████▏                                                                            | 296/485 [01:46<01:07,  2.81it/s]\n",
      " 61%|████████████████████████████████████████████████████████████████████████████████████████████████████████████████████████▋                                                                            | 297/485 [01:46<01:06,  2.82it/s]\n",
      " 61%|█████████████████████████████████████████████████████████████████████████████████████████████████████████████████████████                                                                            | 298/485 [01:47<01:05,  2.84it/s]\n",
      " 62%|█████████████████████████████████████████████████████████████████████████████████████████████████████████████████████████▍                                                                           | 299/485 [01:47<01:05,  2.86it/s]\n",
      " 62%|█████████████████████████████████████████████████████████████████████████████████████████████████████████████████████████▊                                                                           | 300/485 [01:48<01:05,  2.83it/s]\n",
      " 62%|██████████████████████████████████████████████████████████████████████████████████████████████████████████████████████████▎                                                                          | 301/485 [01:48<01:04,  2.85it/s]\n",
      " 62%|██████████████████████████████████████████████████████████████████████████████████████████████████████████████████████████▋                                                                          | 302/485 [01:48<01:03,  2.87it/s]"
     ]
    },
    {
     "name": "stdout",
     "output_type": "stream",
     "text": [
      "@ 303  > 1st order coefficient similarity failure :  0.0491262301977 -0.322696165007\n"
     ]
    },
    {
     "name": "stderr",
     "output_type": "stream",
     "text": [
      "\n",
      " 62%|███████████████████████████████████████████████████████████████████████████████████████████████████████████████████████████                                                                          | 303/485 [01:49<01:04,  2.83it/s]\n",
      " 63%|███████████████████████████████████████████████████████████████████████████████████████████████████████████████████████████▍                                                                         | 304/485 [01:49<01:03,  2.83it/s]\n",
      " 63%|███████████████████████████████████████████████████████████████████████████████████████████████████████████████████████████▉                                                                         | 305/485 [01:49<01:03,  2.85it/s]\n",
      " 63%|████████████████████████████████████████████████████████████████████████████████████████████████████████████████████████████▎                                                                        | 306/485 [01:50<01:02,  2.86it/s]\n",
      " 63%|████████████████████████████████████████████████████████████████████████████████████████████████████████████████████████████▋                                                                        | 307/485 [01:50<01:02,  2.87it/s]"
     ]
    },
    {
     "name": "stdout",
     "output_type": "stream",
     "text": [
      "@ 308  > 1st order coefficient similarity failure :  -0.0157299051309 -0.428286965974\n"
     ]
    },
    {
     "name": "stderr",
     "output_type": "stream",
     "text": [
      "\n",
      " 64%|█████████████████████████████████████████████████████████████████████████████████████████████████████████████████████████████                                                                        | 308/485 [01:50<01:02,  2.83it/s]"
     ]
    },
    {
     "name": "stdout",
     "output_type": "stream",
     "text": [
      "@ 309  > 1st order coefficient similarity failure :  -0.0326593754384 -0.430791032104\n"
     ]
    },
    {
     "name": "stderr",
     "output_type": "stream",
     "text": [
      "\n",
      " 64%|█████████████████████████████████████████████████████████████████████████████████████████████████████████████████████████████▌                                                                       | 309/485 [01:51<01:02,  2.82it/s]"
     ]
    },
    {
     "name": "stdout",
     "output_type": "stream",
     "text": [
      "@ 310  > 1st order coefficient similarity failure :  -0.0292501699683 -0.439832676926\n"
     ]
    },
    {
     "name": "stderr",
     "output_type": "stream",
     "text": [
      "\n",
      " 64%|█████████████████████████████████████████████████████████████████████████████████████████████████████████████████████████████▉                                                                       | 310/485 [01:51<01:02,  2.78it/s]"
     ]
    },
    {
     "name": "stdout",
     "output_type": "stream",
     "text": [
      "@ 311  > left and right curves similarity failure :  317.378393637 14110.2146942\n"
     ]
    },
    {
     "name": "stderr",
     "output_type": "stream",
     "text": [
      "\n",
      " 64%|██████████████████████████████████████████████████████████████████████████████████████████████████████████████████████████████▎                                                                      | 311/485 [01:51<01:02,  2.77it/s]\n",
      " 64%|██████████████████████████████████████████████████████████████████████████████████████████████████████████████████████████████▋                                                                      | 312/485 [01:52<01:01,  2.79it/s]\n",
      " 65%|███████████████████████████████████████████████████████████████████████████████████████████████████████████████████████████████▏                                                                     | 313/485 [01:52<01:01,  2.82it/s]\n",
      " 65%|███████████████████████████████████████████████████████████████████████████████████████████████████████████████████████████████▌                                                                     | 314/485 [01:52<01:00,  2.84it/s]\n",
      " 65%|███████████████████████████████████████████████████████████████████████████████████████████████████████████████████████████████▉                                                                     | 315/485 [01:53<00:59,  2.84it/s]\n",
      " 65%|████████████████████████████████████████████████████████████████████████████████████████████████████████████████████████████████▎                                                                    | 316/485 [01:53<00:59,  2.85it/s]\n",
      " 65%|████████████████████████████████████████████████████████████████████████████████████████████████████████████████████████████████▊                                                                    | 317/485 [01:54<00:58,  2.85it/s]\n",
      " 66%|█████████████████████████████████████████████████████████████████████████████████████████████████████████████████████████████████▏                                                                   | 318/485 [01:54<00:58,  2.86it/s]\n",
      " 66%|█████████████████████████████████████████████████████████████████████████████████████████████████████████████████████████████████▌                                                                   | 319/485 [01:54<00:57,  2.87it/s]\n",
      " 66%|█████████████████████████████████████████████████████████████████████████████████████████████████████████████████████████████████▉                                                                   | 320/485 [01:55<00:57,  2.87it/s]\n",
      " 66%|██████████████████████████████████████████████████████████████████████████████████████████████████████████████████████████████████▍                                                                  | 321/485 [01:55<00:57,  2.87it/s]"
     ]
    },
    {
     "name": "stdout",
     "output_type": "stream",
     "text": [
      "@ 322  > 1st order coefficient similarity failure :  -0.00548215859745 -0.376944164469\n"
     ]
    },
    {
     "name": "stderr",
     "output_type": "stream",
     "text": [
      "\n",
      " 66%|██████████████████████████████████████████████████████████████████████████████████████████████████████████████████████████████████▊                                                                  | 322/485 [01:55<00:57,  2.85it/s]"
     ]
    },
    {
     "name": "stdout",
     "output_type": "stream",
     "text": [
      "@ 323  > 1st order coefficient similarity failure :  -0.00747048250459 -0.358848107416\n"
     ]
    },
    {
     "name": "stderr",
     "output_type": "stream",
     "text": [
      "\n",
      " 67%|███████████████████████████████████████████████████████████████████████████████████████████████████████████████████████████████████▏                                                                 | 323/485 [01:56<00:58,  2.79it/s]\n",
      " 67%|███████████████████████████████████████████████████████████████████████████████████████████████████████████████████████████████████▌                                                                 | 324/485 [01:56<00:57,  2.81it/s]\n",
      " 67%|████████████████████████████████████████████████████████████████████████████████████████████████████████████████████████████████████                                                                 | 325/485 [01:56<00:56,  2.82it/s]\n",
      " 67%|████████████████████████████████████████████████████████████████████████████████████████████████████████████████████████████████████▍                                                                | 326/485 [01:57<00:56,  2.84it/s]\n",
      " 67%|████████████████████████████████████████████████████████████████████████████████████████████████████████████████████████████████████▊                                                                | 327/485 [01:57<00:55,  2.83it/s]"
     ]
    },
    {
     "name": "stdout",
     "output_type": "stream",
     "text": [
      "@ 328  > lane width failure :  4.2134172457\n"
     ]
    },
    {
     "name": "stderr",
     "output_type": "stream",
     "text": [
      "\n",
      " 68%|█████████████████████████████████████████████████████████████████████████████████████████████████████████████████████████████████████▏                                                               | 328/485 [01:57<00:55,  2.82it/s]"
     ]
    },
    {
     "name": "stdout",
     "output_type": "stream",
     "text": [
      "@ 329  > lane width failure :  4.2134172457\n"
     ]
    },
    {
     "name": "stderr",
     "output_type": "stream",
     "text": [
      "\n",
      " 68%|█████████████████████████████████████████████████████████████████████████████████████████████████████████████████████████████████████▋                                                               | 329/485 [01:58<00:55,  2.81it/s]"
     ]
    },
    {
     "name": "stdout",
     "output_type": "stream",
     "text": [
      "@ 330  > lane width failure :  4.2134172457\n"
     ]
    },
    {
     "name": "stderr",
     "output_type": "stream",
     "text": [
      "\n",
      " 68%|██████████████████████████████████████████████████████████████████████████████████████████████████████████████████████████████████████                                                               | 330/485 [01:58<00:55,  2.79it/s]"
     ]
    },
    {
     "name": "stdout",
     "output_type": "stream",
     "text": [
      "@ 331  > lane width failure :  4.2134172457\n"
     ]
    },
    {
     "name": "stderr",
     "output_type": "stream",
     "text": [
      "\n",
      " 68%|██████████████████████████████████████████████████████████████████████████████████████████████████████████████████████████████████████▍                                                              | 331/485 [01:58<00:55,  2.79it/s]"
     ]
    },
    {
     "name": "stdout",
     "output_type": "stream",
     "text": [
      "@ 332  > lane width failure :  4.2134172457\n"
     ]
    },
    {
     "name": "stderr",
     "output_type": "stream",
     "text": [
      "\n",
      " 68%|██████████████████████████████████████████████████████████████████████████████████████████████████████████████████████████████████████▊                                                              | 332/485 [01:59<00:55,  2.77it/s]"
     ]
    },
    {
     "name": "stdout",
     "output_type": "stream",
     "text": [
      "@ 333  > lane width failure :  4.2134172457\n"
     ]
    },
    {
     "name": "stderr",
     "output_type": "stream",
     "text": [
      "\n",
      " 69%|███████████████████████████████████████████████████████████████████████████████████████████████████████████████████████████████████████▎                                                             | 333/485 [01:59<00:54,  2.77it/s]"
     ]
    },
    {
     "name": "stdout",
     "output_type": "stream",
     "text": [
      "Inside reset\n",
      "@ 334  > left and right curves similarity failure :  11513.6958283 337.744822219\n"
     ]
    },
    {
     "name": "stderr",
     "output_type": "stream",
     "text": [
      "\n",
      " 69%|███████████████████████████████████████████████████████████████████████████████████████████████████████████████████████████████████████▋                                                             | 334/485 [02:00<00:55,  2.71it/s]"
     ]
    },
    {
     "name": "stdout",
     "output_type": "stream",
     "text": [
      "Inside reset\n",
      "@ 335  > left and right curves similarity failure :  14722.8803563 353.324153946\n"
     ]
    },
    {
     "name": "stderr",
     "output_type": "stream",
     "text": [
      "\n",
      " 69%|████████████████████████████████████████████████████████████████████████████████████████████████████████████████████████████████████████                                                             | 335/485 [02:00<00:56,  2.67it/s]"
     ]
    },
    {
     "name": "stdout",
     "output_type": "stream",
     "text": [
      "Inside reset\n",
      "@ 336  > 1st order coefficient similarity failure :  0.160565017975 -0.3126965867\n"
     ]
    },
    {
     "name": "stderr",
     "output_type": "stream",
     "text": [
      "\n",
      " 69%|████████████████████████████████████████████████████████████████████████████████████████████████████████████████████████████████████████▍                                                            | 336/485 [02:00<00:56,  2.65it/s]"
     ]
    },
    {
     "name": "stdout",
     "output_type": "stream",
     "text": [
      "Inside reset\n"
     ]
    },
    {
     "name": "stderr",
     "output_type": "stream",
     "text": [
      "\n",
      " 69%|████████████████████████████████████████████████████████████████████████████████████████████████████████████████████████████████████████▉                                                            | 337/485 [02:01<00:55,  2.66it/s]\n",
      " 70%|█████████████████████████████████████████████████████████████████████████████████████████████████████████████████████████████████████████▎                                                           | 338/485 [02:01<00:53,  2.72it/s]"
     ]
    },
    {
     "name": "stdout",
     "output_type": "stream",
     "text": [
      "@ 339  > Continuity check failed - right curve variation high :  1431.26519622 5847.44577242\n"
     ]
    },
    {
     "name": "stderr",
     "output_type": "stream",
     "text": [
      "\n",
      " 70%|█████████████████████████████████████████████████████████████████████████████████████████████████████████████████████████████████████████▋                                                           | 339/485 [02:01<00:53,  2.73it/s]"
     ]
    },
    {
     "name": "stdout",
     "output_type": "stream",
     "text": [
      "@ 340  > Continuity check failed - right curve variation high :  284.490729797 5847.44577242\n"
     ]
    },
    {
     "name": "stderr",
     "output_type": "stream",
     "text": [
      "\n",
      " 70%|██████████████████████████████████████████████████████████████████████████████████████████████████████████████████████████████████████████                                                           | 340/485 [02:02<00:53,  2.73it/s]"
     ]
    },
    {
     "name": "stdout",
     "output_type": "stream",
     "text": [
      "@ 341  > Continuity check failed - right curve variation high :  328.807688437 5847.44577242\n"
     ]
    },
    {
     "name": "stderr",
     "output_type": "stream",
     "text": [
      "\n",
      " 70%|██████████████████████████████████████████████████████████████████████████████████████████████████████████████████████████████████████████▌                                                          | 341/485 [02:02<00:53,  2.71it/s]"
     ]
    },
    {
     "name": "stdout",
     "output_type": "stream",
     "text": [
      "@ 342  > Continuity check failed - right curve variation high :  368.718669239 5847.44577242\n"
     ]
    },
    {
     "name": "stderr",
     "output_type": "stream",
     "text": [
      "\n",
      " 71%|██████████████████████████████████████████████████████████████████████████████████████████████████████████████████████████████████████████▉                                                          | 342/485 [02:03<00:52,  2.72it/s]"
     ]
    },
    {
     "name": "stdout",
     "output_type": "stream",
     "text": [
      "@ 343  > Continuity check failed - right curve variation high :  354.356073918 5847.44577242\n"
     ]
    },
    {
     "name": "stderr",
     "output_type": "stream",
     "text": [
      "\n",
      " 71%|███████████████████████████████████████████████████████████████████████████████████████████████████████████████████████████████████████████▎                                                         | 343/485 [02:03<00:52,  2.72it/s]"
     ]
    },
    {
     "name": "stdout",
     "output_type": "stream",
     "text": [
      "@ 344  > Continuity check failed - right curve variation high :  404.135897497 5847.44577242\n"
     ]
    },
    {
     "name": "stderr",
     "output_type": "stream",
     "text": [
      "\n",
      " 71%|███████████████████████████████████████████████████████████████████████████████████████████████████████████████████████████████████████████▋                                                         | 344/485 [02:03<00:51,  2.73it/s]"
     ]
    },
    {
     "name": "stdout",
     "output_type": "stream",
     "text": [
      "Inside reset\n"
     ]
    },
    {
     "name": "stderr",
     "output_type": "stream",
     "text": [
      "\n",
      " 71%|████████████████████████████████████████████████████████████████████████████████████████████████████████████████████████████████████████████▏                                                        | 345/485 [02:04<00:51,  2.70it/s]\n",
      " 71%|████████████████████████████████████████████████████████████████████████████████████████████████████████████████████████████████████████████▌                                                        | 346/485 [02:04<00:50,  2.75it/s]\n",
      " 72%|████████████████████████████████████████████████████████████████████████████████████████████████████████████████████████████████████████████▉                                                        | 347/485 [02:04<00:50,  2.76it/s]\n",
      " 72%|█████████████████████████████████████████████████████████████████████████████████████████████████████████████████████████████████████████████▎                                                       | 348/485 [02:05<00:49,  2.78it/s]\n",
      " 72%|█████████████████████████████████████████████████████████████████████████████████████████████████████████████████████████████████████████████▊                                                       | 349/485 [02:05<00:48,  2.81it/s]\n",
      " 72%|██████████████████████████████████████████████████████████████████████████████████████████████████████████████████████████████████████████████▏                                                      | 350/485 [02:05<00:47,  2.83it/s]\n",
      " 72%|██████████████████████████████████████████████████████████████████████████████████████████████████████████████████████████████████████████████▌                                                      | 351/485 [02:06<00:47,  2.85it/s]\n",
      " 73%|██████████████████████████████████████████████████████████████████████████████████████████████████████████████████████████████████████████████▉                                                      | 352/485 [02:06<00:46,  2.86it/s]\n",
      " 73%|███████████████████████████████████████████████████████████████████████████████████████████████████████████████████████████████████████████████▍                                                     | 353/485 [02:06<00:46,  2.87it/s]"
     ]
    },
    {
     "name": "stdout",
     "output_type": "stream",
     "text": [
      "@ 354  > Continuity check failed - right curve variation high :  447.34766078 1868.65109095\n"
     ]
    },
    {
     "name": "stderr",
     "output_type": "stream",
     "text": [
      "\n",
      " 73%|███████████████████████████████████████████████████████████████████████████████████████████████████████████████████████████████████████████████▊                                                     | 354/485 [02:07<00:46,  2.81it/s]\n",
      " 73%|████████████████████████████████████████████████████████████████████████████████████████████████████████████████████████████████████████████████▏                                                    | 355/485 [02:07<00:46,  2.81it/s]\n",
      " 73%|████████████████████████████████████████████████████████████████████████████████████████████████████████████████████████████████████████████████▌                                                    | 356/485 [02:08<00:45,  2.83it/s]\n",
      " 74%|█████████████████████████████████████████████████████████████████████████████████████████████████████████████████████████████████████████████████                                                    | 357/485 [02:08<00:44,  2.84it/s]\n",
      " 74%|█████████████████████████████████████████████████████████████████████████████████████████████████████████████████████████████████████████████████▍                                                   | 358/485 [02:08<00:44,  2.87it/s]\n",
      " 74%|█████████████████████████████████████████████████████████████████████████████████████████████████████████████████████████████████████████████████▊                                                   | 359/485 [02:09<00:44,  2.86it/s]"
     ]
    },
    {
     "name": "stdout",
     "output_type": "stream",
     "text": [
      "@ 360  > 1st order coefficient similarity failure :  0.155059778654 -0.218744950109\n"
     ]
    },
    {
     "name": "stderr",
     "output_type": "stream",
     "text": [
      "\n",
      " 74%|██████████████████████████████████████████████████████████████████████████████████████████████████████████████████████████████████████████████████▏                                                  | 360/485 [02:09<00:44,  2.82it/s]"
     ]
    },
    {
     "name": "stdout",
     "output_type": "stream",
     "text": [
      "@ 361  > 1st order coefficient similarity failure :  0.201509063581 -0.199689157367\n"
     ]
    },
    {
     "name": "stderr",
     "output_type": "stream",
     "text": [
      "\n",
      " 74%|██████████████████████████████████████████████████████████████████████████████████████████████████████████████████████████████████████████████████▋                                                  | 361/485 [02:09<00:44,  2.79it/s]"
     ]
    },
    {
     "name": "stdout",
     "output_type": "stream",
     "text": [
      "@ 362  > 1st order coefficient similarity failure :  0.171892644806 -0.179564743957\n"
     ]
    },
    {
     "name": "stderr",
     "output_type": "stream",
     "text": [
      "\n",
      " 75%|███████████████████████████████████████████████████████████████████████████████████████████████████████████████████████████████████████████████████                                                  | 362/485 [02:10<00:44,  2.78it/s]\n",
      " 75%|███████████████████████████████████████████████████████████████████████████████████████████████████████████████████████████████████████████████████▍                                                 | 363/485 [02:10<00:43,  2.80it/s]\n",
      " 75%|███████████████████████████████████████████████████████████████████████████████████████████████████████████████████████████████████████████████████▊                                                 | 364/485 [02:10<00:43,  2.79it/s]\n",
      " 75%|████████████████████████████████████████████████████████████████████████████████████████████████████████████████████████████████████████████████████▎                                                | 365/485 [02:11<00:42,  2.81it/s]\n",
      " 75%|████████████████████████████████████████████████████████████████████████████████████████████████████████████████████████████████████████████████████▋                                                | 366/485 [02:11<00:42,  2.82it/s]"
     ]
    },
    {
     "name": "stdout",
     "output_type": "stream",
     "text": [
      "@ 367  > Continuity check failed - right curve variation high :  375.131175797 1774.54145665\n"
     ]
    },
    {
     "name": "stderr",
     "output_type": "stream",
     "text": [
      "\n",
      " 76%|█████████████████████████████████████████████████████████████████████████████████████████████████████████████████████████████████████████████████████                                                | 367/485 [02:11<00:42,  2.80it/s]"
     ]
    },
    {
     "name": "stdout",
     "output_type": "stream",
     "text": [
      "@ 368  > Continuity check failed - right curve variation high :  383.773198609 1774.54145665\n"
     ]
    },
    {
     "name": "stderr",
     "output_type": "stream",
     "text": [
      "\n",
      " 76%|█████████████████████████████████████████████████████████████████████████████████████████████████████████████████████████████████████████████████████▍                                               | 368/485 [02:12<00:42,  2.78it/s]"
     ]
    },
    {
     "name": "stdout",
     "output_type": "stream",
     "text": [
      "@ 369  > Continuity check failed - right curve variation high :  419.056995883 1774.54145665\n"
     ]
    },
    {
     "name": "stderr",
     "output_type": "stream",
     "text": [
      "\n",
      " 76%|█████████████████████████████████████████████████████████████████████████████████████████████████████████████████████████████████████████████████████▉                                               | 369/485 [02:12<00:42,  2.76it/s]"
     ]
    },
    {
     "name": "stdout",
     "output_type": "stream",
     "text": [
      "@ 370  > Continuity check failed - right curve variation high :  434.858731572 1774.54145665\n"
     ]
    },
    {
     "name": "stderr",
     "output_type": "stream",
     "text": [
      "\n",
      " 76%|██████████████████████████████████████████████████████████████████████████████████████████████████████████████████████████████████████████████████████▎                                              | 370/485 [02:13<00:41,  2.74it/s]"
     ]
    },
    {
     "name": "stdout",
     "output_type": "stream",
     "text": [
      "@ 371  > Continuity check failed - right curve variation high :  442.578536121 1774.54145665\n"
     ]
    },
    {
     "name": "stderr",
     "output_type": "stream",
     "text": [
      "\n",
      " 76%|██████████████████████████████████████████████████████████████████████████████████████████████████████████████████████████████████████████████████████▋                                              | 371/485 [02:13<00:41,  2.73it/s]"
     ]
    },
    {
     "name": "stdout",
     "output_type": "stream",
     "text": [
      "@ 372  > 1st order coefficient similarity failure :  0.209649400271 -0.145668432136\n"
     ]
    },
    {
     "name": "stderr",
     "output_type": "stream",
     "text": [
      "\n",
      " 77%|███████████████████████████████████████████████████████████████████████████████████████████████████████████████████████████████████████████████████████                                              | 372/485 [02:13<00:41,  2.73it/s]"
     ]
    },
    {
     "name": "stdout",
     "output_type": "stream",
     "text": [
      "Inside reset\n",
      "@ 373  > 1st order coefficient similarity failure :  0.20447919136 -0.204692654368\n"
     ]
    },
    {
     "name": "stderr",
     "output_type": "stream",
     "text": [
      "\n",
      " 77%|███████████████████████████████████████████████████████████████████████████████████████████████████████████████████████████████████████████████████████▌                                             | 373/485 [02:14<00:41,  2.68it/s]"
     ]
    },
    {
     "name": "stdout",
     "output_type": "stream",
     "text": [
      "Inside reset\n",
      "@ 374  > 1st order coefficient similarity failure :  0.216779334715 -0.20294863433\n"
     ]
    },
    {
     "name": "stderr",
     "output_type": "stream",
     "text": [
      "\n",
      " 77%|███████████████████████████████████████████████████████████████████████████████████████████████████████████████████████████████████████████████████████▉                                             | 374/485 [02:14<00:42,  2.64it/s]"
     ]
    },
    {
     "name": "stdout",
     "output_type": "stream",
     "text": [
      "Inside reset\n",
      "@ 375  > 1st order coefficient similarity failure :  0.191443358583 -0.212814822428\n"
     ]
    },
    {
     "name": "stderr",
     "output_type": "stream",
     "text": [
      "\n",
      " 77%|████████████████████████████████████████████████████████████████████████████████████████████████████████████████████████████████████████████████████████▎                                            | 375/485 [02:14<00:41,  2.63it/s]"
     ]
    },
    {
     "name": "stdout",
     "output_type": "stream",
     "text": [
      "Inside reset\n",
      "@ 376  > 1st order coefficient similarity failure :  0.165173054645 -0.203112834978\n"
     ]
    },
    {
     "name": "stderr",
     "output_type": "stream",
     "text": [
      "\n",
      " 78%|████████████████████████████████████████████████████████████████████████████████████████████████████████████████████████████████████████████████████████▋                                            | 376/485 [02:15<00:41,  2.62it/s]"
     ]
    },
    {
     "name": "stdout",
     "output_type": "stream",
     "text": [
      "Inside reset\n",
      "@ 377  > 1st order coefficient similarity failure :  0.169513270795 -0.204626295224\n"
     ]
    },
    {
     "name": "stderr",
     "output_type": "stream",
     "text": [
      "\n",
      " 78%|█████████████████████████████████████████████████████████████████████████████████████████████████████████████████████████████████████████████████████████▏                                           | 377/485 [02:15<00:41,  2.61it/s]"
     ]
    },
    {
     "name": "stdout",
     "output_type": "stream",
     "text": [
      "Inside reset\n",
      "@ 378  > 1st order coefficient similarity failure :  0.1770865012 -0.232412942628\n"
     ]
    },
    {
     "name": "stderr",
     "output_type": "stream",
     "text": [
      "\n",
      " 78%|█████████████████████████████████████████████████████████████████████████████████████████████████████████████████████████████████████████████████████████▌                                           | 378/485 [02:16<00:41,  2.58it/s]"
     ]
    },
    {
     "name": "stdout",
     "output_type": "stream",
     "text": [
      "Inside reset\n",
      "@ 379  > 1st order coefficient similarity failure :  0.230231707489 -0.247297830853\n"
     ]
    },
    {
     "name": "stderr",
     "output_type": "stream",
     "text": [
      "\n",
      " 78%|█████████████████████████████████████████████████████████████████████████████████████████████████████████████████████████████████████████████████████████▉                                           | 379/485 [02:16<00:41,  2.58it/s]"
     ]
    },
    {
     "name": "stdout",
     "output_type": "stream",
     "text": [
      "Inside reset\n"
     ]
    },
    {
     "name": "stderr",
     "output_type": "stream",
     "text": [
      "\n",
      " 78%|██████████████████████████████████████████████████████████████████████████████████████████████████████████████████████████████████████████████████████████▎                                          | 380/485 [02:16<00:40,  2.61it/s]"
     ]
    },
    {
     "name": "stdout",
     "output_type": "stream",
     "text": [
      "@ 381  > Continuity check failed - right curve variation high :  731.354076478 5683.00372055\n"
     ]
    },
    {
     "name": "stderr",
     "output_type": "stream",
     "text": [
      "\n",
      " 79%|██████████████████████████████████████████████████████████████████████████████████████████████████████████████████████████████████████████████████████████▊                                          | 381/485 [02:17<00:39,  2.64it/s]"
     ]
    },
    {
     "name": "stdout",
     "output_type": "stream",
     "text": [
      "@ 382  > curve check failure :  1158.32411909 27090.3054767\n"
     ]
    },
    {
     "name": "stderr",
     "output_type": "stream",
     "text": [
      "\n",
      " 79%|███████████████████████████████████████████████████████████████████████████████████████████████████████████████████████████████████████████████████████████▏                                         | 382/485 [02:17<00:38,  2.67it/s]"
     ]
    },
    {
     "name": "stdout",
     "output_type": "stream",
     "text": [
      "@ 383  > Continuity check failed - right curve variation high :  886.169498596 5683.00372055\n"
     ]
    },
    {
     "name": "stderr",
     "output_type": "stream",
     "text": [
      "\n",
      " 79%|███████████████████████████████████████████████████████████████████████████████████████████████████████████████████████████████████████████████████████████▌                                         | 383/485 [02:18<00:37,  2.70it/s]"
     ]
    },
    {
     "name": "stdout",
     "output_type": "stream",
     "text": [
      "@ 384  > 1st order coefficient similarity failure :  0.396325096179 -0.118468986633\n"
     ]
    },
    {
     "name": "stderr",
     "output_type": "stream",
     "text": [
      "\n",
      " 79%|███████████████████████████████████████████████████████████████████████████████████████████████████████████████████████████████████████████████████████████▉                                         | 384/485 [02:18<00:37,  2.70it/s]"
     ]
    },
    {
     "name": "stdout",
     "output_type": "stream",
     "text": [
      "@ 385  > 1st order coefficient similarity failure :  0.35180939628 -0.125734005025\n"
     ]
    },
    {
     "name": "stderr",
     "output_type": "stream",
     "text": [
      "\n",
      " 79%|████████████████████████████████████████████████████████████████████████████████████████████████████████████████████████████████████████████████████████████▍                                        | 385/485 [02:18<00:36,  2.71it/s]"
     ]
    },
    {
     "name": "stdout",
     "output_type": "stream",
     "text": [
      "@ 386  > 1st order coefficient similarity failure :  0.301110253982 -0.229056771691\n"
     ]
    },
    {
     "name": "stderr",
     "output_type": "stream",
     "text": [
      "\n",
      " 80%|████████████████████████████████████████████████████████████████████████████████████████████████████████████████████████████████████████████████████████████▊                                        | 386/485 [02:19<00:36,  2.71it/s]"
     ]
    },
    {
     "name": "stdout",
     "output_type": "stream",
     "text": [
      "Inside reset\n",
      "@ 387  > 1st order coefficient similarity failure :  0.278971812253 -0.247706651745\n"
     ]
    },
    {
     "name": "stderr",
     "output_type": "stream",
     "text": [
      "\n",
      " 80%|█████████████████████████████████████████████████████████████████████████████████████████████████████████████████████████████████████████████████████████████▏                                       | 387/485 [02:19<00:36,  2.67it/s]"
     ]
    },
    {
     "name": "stdout",
     "output_type": "stream",
     "text": [
      "Inside reset\n",
      "@ 388  > 1st order coefficient similarity failure :  0.455155282744 -0.279931034738\n"
     ]
    },
    {
     "name": "stderr",
     "output_type": "stream",
     "text": [
      "\n",
      " 80%|█████████████████████████████████████████████████████████████████████████████████████████████████████████████████████████████████████████████████████████████▌                                       | 388/485 [02:19<00:36,  2.64it/s]"
     ]
    },
    {
     "name": "stdout",
     "output_type": "stream",
     "text": [
      "Inside reset\n",
      "@ 389  > 2nd order coefficient similarity failure :  -0.000243156807084 0.000340639088629\n"
     ]
    },
    {
     "name": "stderr",
     "output_type": "stream",
     "text": [
      "\n",
      " 80%|██████████████████████████████████████████████████████████████████████████████████████████████████████████████████████████████████████████████████████████████                                       | 389/485 [02:20<00:37,  2.58it/s]"
     ]
    },
    {
     "name": "stdout",
     "output_type": "stream",
     "text": [
      "Inside reset\n"
     ]
    },
    {
     "name": "stderr",
     "output_type": "stream",
     "text": [
      "\n",
      " 80%|██████████████████████████████████████████████████████████████████████████████████████████████████████████████████████████████████████████████████████████████▍                                      | 390/485 [02:20<00:36,  2.63it/s]\n",
      " 81%|██████████████████████████████████████████████████████████████████████████████████████████████████████████████████████████████████████████████████████████████▊                                      | 391/485 [02:20<00:34,  2.72it/s]"
     ]
    },
    {
     "name": "stdout",
     "output_type": "stream",
     "text": [
      "@ 392  > 1st order coefficient similarity failure :  0.00860463416457 -0.34330743496\n"
     ]
    },
    {
     "name": "stderr",
     "output_type": "stream",
     "text": [
      "\n",
      " 81%|███████████████████████████████████████████████████████████████████████████████████████████████████████████████████████████████████████████████████████████████▏                                     | 392/485 [02:21<00:33,  2.74it/s]\n",
      " 81%|███████████████████████████████████████████████████████████████████████████████████████████████████████████████████████████████████████████████████████████████▋                                     | 393/485 [02:21<00:33,  2.78it/s]"
     ]
    },
    {
     "name": "stdout",
     "output_type": "stream",
     "text": [
      "@ 394  > 1st order coefficient similarity failure :  0.572917639588 0.0104080221743\n"
     ]
    },
    {
     "name": "stderr",
     "output_type": "stream",
     "text": [
      "\n",
      " 81%|████████████████████████████████████████████████████████████████████████████████████████████████████████████████████████████████████████████████████████████████                                     | 394/485 [02:22<00:32,  2.76it/s]"
     ]
    },
    {
     "name": "stdout",
     "output_type": "stream",
     "text": [
      "@ 395  > 1st order coefficient similarity failure :  0.552264046468 0.0511258516692\n"
     ]
    },
    {
     "name": "stderr",
     "output_type": "stream",
     "text": [
      "\n",
      " 81%|████████████████████████████████████████████████████████████████████████████████████████████████████████████████████████████████████████████████████████████████▍                                    | 395/485 [02:22<00:32,  2.75it/s]"
     ]
    },
    {
     "name": "stdout",
     "output_type": "stream",
     "text": [
      "@ 396  > curve check failure :  251.549991246 57130.9327798\n"
     ]
    },
    {
     "name": "stderr",
     "output_type": "stream",
     "text": [
      "\n",
      " 82%|████████████████████████████████████████████████████████████████████████████████████████████████████████████████████████████████████████████████████████████████▊                                    | 396/485 [02:22<00:32,  2.75it/s]"
     ]
    },
    {
     "name": "stdout",
     "output_type": "stream",
     "text": [
      "@ 397  > 2nd order coefficient similarity failure :  -0.000356808572007 0.000189670490007\n"
     ]
    },
    {
     "name": "stderr",
     "output_type": "stream",
     "text": [
      "\n",
      " 82%|█████████████████████████████████████████████████████████████████████████████████████████████████████████████████████████████████████████████████████████████████▎                                   | 397/485 [02:23<00:32,  2.74it/s]"
     ]
    },
    {
     "name": "stdout",
     "output_type": "stream",
     "text": [
      "@ 398  > 1st order coefficient similarity failure :  0.567740438316 -0.143515700977\n"
     ]
    },
    {
     "name": "stderr",
     "output_type": "stream",
     "text": [
      "\n",
      " 82%|█████████████████████████████████████████████████████████████████████████████████████████████████████████████████████████████████████████████████████████████████▋                                   | 398/485 [02:23<00:32,  2.70it/s]"
     ]
    },
    {
     "name": "stdout",
     "output_type": "stream",
     "text": [
      "@ 399  > 1st order coefficient similarity failure :  0.433738940997 -0.178868030948\n"
     ]
    },
    {
     "name": "stderr",
     "output_type": "stream",
     "text": [
      "\n",
      " 82%|██████████████████████████████████████████████████████████████████████████████████████████████████████████████████████████████████████████████████████████████████                                   | 399/485 [02:23<00:31,  2.73it/s]"
     ]
    },
    {
     "name": "stdout",
     "output_type": "stream",
     "text": [
      "Inside reset\n"
     ]
    },
    {
     "name": "stderr",
     "output_type": "stream",
     "text": [
      "\n",
      " 82%|██████████████████████████████████████████████████████████████████████████████████████████████████████████████████████████████████████████████████████████████████▍                                  | 400/485 [02:24<00:31,  2.72it/s]\n",
      " 83%|██████████████████████████████████████████████████████████████████████████████████████████████████████████████████████████████████████████████████████████████████▉                                  | 401/485 [02:24<00:30,  2.78it/s]\n",
      " 83%|███████████████████████████████████████████████████████████████████████████████████████████████████████████████████████████████████████████████████████████████████▎                                 | 402/485 [02:24<00:29,  2.81it/s]\n",
      " 83%|███████████████████████████████████████████████████████████████████████████████████████████████████████████████████████████████████████████████████████████████████▋                                 | 403/485 [02:25<00:28,  2.84it/s]\n",
      " 83%|████████████████████████████████████████████████████████████████████████████████████████████████████████████████████████████████████████████████████████████████████                                 | 404/485 [02:25<00:28,  2.87it/s]\n",
      " 84%|████████████████████████████████████████████████████████████████████████████████████████████████████████████████████████████████████████████████████████████████████▌                                | 405/485 [02:25<00:27,  2.88it/s]\n",
      " 84%|████████████████████████████████████████████████████████████████████████████████████████████████████████████████████████████████████████████████████████████████████▉                                | 406/485 [02:26<00:27,  2.89it/s]\n",
      " 84%|█████████████████████████████████████████████████████████████████████████████████████████████████████████████████████████████████████████████████████████████████████▎                               | 407/485 [02:26<00:26,  2.90it/s]\n",
      " 84%|█████████████████████████████████████████████████████████████████████████████████████████████████████████████████████████████████████████████████████████████████████▋                               | 408/485 [02:27<00:26,  2.91it/s]\n",
      " 84%|██████████████████████████████████████████████████████████████████████████████████████████████████████████████████████████████████████████████████████████████████████▏                              | 409/485 [02:27<00:26,  2.89it/s]\n",
      " 85%|██████████████████████████████████████████████████████████████████████████████████████████████████████████████████████████████████████████████████████████████████████▌                              | 410/485 [02:27<00:25,  2.90it/s]\n",
      " 85%|██████████████████████████████████████████████████████████████████████████████████████████████████████████████████████████████████████████████████████████████████████▉                              | 411/485 [02:28<00:25,  2.91it/s]\n",
      " 85%|███████████████████████████████████████████████████████████████████████████████████████████████████████████████████████████████████████████████████████████████████████▎                             | 412/485 [02:28<00:25,  2.90it/s]\n",
      " 85%|███████████████████████████████████████████████████████████████████████████████████████████████████████████████████████████████████████████████████████████████████████▊                             | 413/485 [02:28<00:24,  2.89it/s]\n",
      " 85%|████████████████████████████████████████████████████████████████████████████████████████████████████████████████████████████████████████████████████████████████████████▏                            | 414/485 [02:29<00:24,  2.90it/s]"
     ]
    },
    {
     "name": "stdout",
     "output_type": "stream",
     "text": [
      "@ 415  > 1st order coefficient similarity failure :  0.122049718815 -0.330595774796\n"
     ]
    },
    {
     "name": "stderr",
     "output_type": "stream",
     "text": [
      "\n",
      " 86%|████████████████████████████████████████████████████████████████████████████████████████████████████████████████████████████████████████████████████████████████████████▌                            | 415/485 [02:29<00:24,  2.87it/s]"
     ]
    },
    {
     "name": "stdout",
     "output_type": "stream",
     "text": [
      "@ 416  > 1st order coefficient similarity failure :  0.152071710983 -0.30996303444\n"
     ]
    },
    {
     "name": "stderr",
     "output_type": "stream",
     "text": [
      "\n",
      " 86%|████████████████████████████████████████████████████████████████████████████████████████████████████████████████████████████████████████████████████████████████████████▉                            | 416/485 [02:29<00:24,  2.83it/s]"
     ]
    },
    {
     "name": "stdout",
     "output_type": "stream",
     "text": [
      "@ 417  > 1st order coefficient similarity failure :  0.121393659108 -0.271720270447\n"
     ]
    },
    {
     "name": "stderr",
     "output_type": "stream",
     "text": [
      "\n",
      " 86%|█████████████████████████████████████████████████████████████████████████████████████████████████████████████████████████████████████████████████████████████████████████▍                           | 417/485 [02:30<00:24,  2.78it/s]\n",
      " 86%|█████████████████████████████████████████████████████████████████████████████████████████████████████████████████████████████████████████████████████████████████████████▊                           | 418/485 [02:30<00:23,  2.80it/s]\n",
      " 86%|██████████████████████████████████████████████████████████████████████████████████████████████████████████████████████████████████████████████████████████████████████████▏                          | 419/485 [02:30<00:23,  2.84it/s]\n",
      " 87%|██████████████████████████████████████████████████████████████████████████████████████████████████████████████████████████████████████████████████████████████████████████▌                          | 420/485 [02:31<00:22,  2.84it/s]\n",
      " 87%|███████████████████████████████████████████████████████████████████████████████████████████████████████████████████████████████████████████████████████████████████████████                          | 421/485 [02:31<00:22,  2.85it/s]\n",
      " 87%|███████████████████████████████████████████████████████████████████████████████████████████████████████████████████████████████████████████████████████████████████████████▍                         | 422/485 [02:31<00:21,  2.87it/s]\n",
      " 87%|███████████████████████████████████████████████████████████████████████████████████████████████████████████████████████████████████████████████████████████████████████████▊                         | 423/485 [02:32<00:21,  2.86it/s]"
     ]
    },
    {
     "name": "stdout",
     "output_type": "stream",
     "text": [
      "@ 424  > Continuity check failed - right curve variation high :  690.449037805 3740.42957484\n"
     ]
    },
    {
     "name": "stderr",
     "output_type": "stream",
     "text": [
      "\n",
      " 87%|████████████████████████████████████████████████████████████████████████████████████████████████████████████████████████████████████████████████████████████████████████████▏                        | 424/485 [02:32<00:21,  2.82it/s]"
     ]
    },
    {
     "name": "stdout",
     "output_type": "stream",
     "text": [
      "@ 425  > 1st order coefficient similarity failure :  0.24245250032 -0.160657954314\n"
     ]
    },
    {
     "name": "stderr",
     "output_type": "stream",
     "text": [
      "\n",
      " 88%|████████████████████████████████████████████████████████████████████████████████████████████████████████████████████████████████████████████████████████████████████████████▋                        | 425/485 [02:33<00:21,  2.78it/s]"
     ]
    },
    {
     "name": "stdout",
     "output_type": "stream",
     "text": [
      "@ 426  > 1st order coefficient similarity failure :  0.250554990937 -0.169512644953\n"
     ]
    },
    {
     "name": "stderr",
     "output_type": "stream",
     "text": [
      "\n",
      " 88%|█████████████████████████████████████████████████████████████████████████████████████████████████████████████████████████████████████████████████████████████████████████████                        | 426/485 [02:33<00:21,  2.77it/s]"
     ]
    },
    {
     "name": "stdout",
     "output_type": "stream",
     "text": [
      "@ 427  > 2nd order coefficient similarity failure :  -0.000141423907773 0.000516298049036\n"
     ]
    },
    {
     "name": "stderr",
     "output_type": "stream",
     "text": [
      "\n",
      " 88%|█████████████████████████████████████████████████████████████████████████████████████████████████████████████████████████████████████████████████████████████████████████████▍                       | 427/485 [02:33<00:21,  2.75it/s]"
     ]
    },
    {
     "name": "stdout",
     "output_type": "stream",
     "text": [
      "@ 428  > 2nd order coefficient similarity failure :  -0.000102698971829 0.00048914887898\n"
     ]
    },
    {
     "name": "stderr",
     "output_type": "stream",
     "text": [
      "\n",
      " 88%|█████████████████████████████████████████████████████████████████████████████████████████████████████████████████████████████████████████████████████████████████████████████▊                       | 428/485 [02:34<00:20,  2.74it/s]"
     ]
    },
    {
     "name": "stdout",
     "output_type": "stream",
     "text": [
      "@ 429  > 2nd order coefficient similarity failure :  -8.65225929862e-05 0.000451255389234\n"
     ]
    },
    {
     "name": "stderr",
     "output_type": "stream",
     "text": [
      "\n",
      " 88%|██████████████████████████████████████████████████████████████████████████████████████████████████████████████████████████████████████████████████████████████████████████████▎                      | 429/485 [02:34<00:20,  2.73it/s]"
     ]
    },
    {
     "name": "stdout",
     "output_type": "stream",
     "text": [
      "Inside reset\n",
      "@ 430  > 2nd order coefficient similarity failure :  -0.000119377050365 0.000381372862882\n"
     ]
    },
    {
     "name": "stderr",
     "output_type": "stream",
     "text": [
      "\n",
      " 89%|██████████████████████████████████████████████████████████████████████████████████████████████████████████████████████████████████████████████████████████████████████████████▋                      | 430/485 [02:34<00:20,  2.69it/s]"
     ]
    },
    {
     "name": "stdout",
     "output_type": "stream",
     "text": [
      "Inside reset\n",
      "@ 431  > 2nd order coefficient similarity failure :  -0.000179079348789 0.000384914952789\n"
     ]
    },
    {
     "name": "stderr",
     "output_type": "stream",
     "text": [
      "\n",
      " 89%|███████████████████████████████████████████████████████████████████████████████████████████████████████████████████████████████████████████████████████████████████████████████                      | 431/485 [02:35<00:20,  2.63it/s]"
     ]
    },
    {
     "name": "stdout",
     "output_type": "stream",
     "text": [
      "Inside reset\n",
      "@ 432  > 2nd order coefficient similarity failure :  -0.000251647253321 0.000382440507729\n"
     ]
    },
    {
     "name": "stderr",
     "output_type": "stream",
     "text": [
      "\n",
      " 89%|███████████████████████████████████████████████████████████████████████████████████████████████████████████████████████████████████████████████████████████████████████████████▍                     | 432/485 [02:35<00:20,  2.63it/s]"
     ]
    },
    {
     "name": "stdout",
     "output_type": "stream",
     "text": [
      "Inside reset\n",
      "@ 433  > 1st order coefficient similarity failure :  0.176618190323 -0.355146224368\n"
     ]
    },
    {
     "name": "stderr",
     "output_type": "stream",
     "text": [
      "\n",
      " 89%|███████████████████████████████████████████████████████████████████████████████████████████████████████████████████████████████████████████████████████████████████████████████▉                     | 433/485 [02:36<00:19,  2.62it/s]"
     ]
    },
    {
     "name": "stdout",
     "output_type": "stream",
     "text": [
      "Inside reset\n",
      "@ 434  > 1st order coefficient similarity failure :  0.0578794086427 -0.385450949743\n"
     ]
    },
    {
     "name": "stderr",
     "output_type": "stream",
     "text": [
      "\n",
      " 89%|████████████████████████████████████████████████████████████████████████████████████████████████████████████████████████████████████████████████████████████████████████████████▎                    | 434/485 [02:36<00:19,  2.61it/s]"
     ]
    },
    {
     "name": "stdout",
     "output_type": "stream",
     "text": [
      "Inside reset\n",
      "@ 435  > 1st order coefficient similarity failure :  0.0583417026862 -0.384445849359\n"
     ]
    },
    {
     "name": "stderr",
     "output_type": "stream",
     "text": [
      "\n",
      " 90%|████████████████████████████████████████████████████████████████████████████████████████████████████████████████████████████████████████████████████████████████████████████████▋                    | 435/485 [02:36<00:19,  2.60it/s]"
     ]
    },
    {
     "name": "stdout",
     "output_type": "stream",
     "text": [
      "Inside reset\n"
     ]
    },
    {
     "name": "stderr",
     "output_type": "stream",
     "text": [
      "\n",
      " 90%|█████████████████████████████████████████████████████████████████████████████████████████████████████████████████████████████████████████████████████████████████████████████████                    | 436/485 [02:37<00:18,  2.63it/s]\n",
      " 90%|█████████████████████████████████████████████████████████████████████████████████████████████████████████████████████████████████████████████████████████████████████████████████▌                   | 437/485 [02:37<00:17,  2.69it/s]\n",
      " 90%|█████████████████████████████████████████████████████████████████████████████████████████████████████████████████████████████████████████████████████████████████████████████████▉                   | 438/485 [02:37<00:17,  2.75it/s]\n",
      " 91%|██████████████████████████████████████████████████████████████████████████████████████████████████████████████████████████████████████████████████████████████████████████████████▎                  | 439/485 [02:38<00:16,  2.79it/s]\n",
      " 91%|██████████████████████████████████████████████████████████████████████████████████████████████████████████████████████████████████████████████████████████████████████████████████▋                  | 440/485 [02:38<00:16,  2.80it/s]\n",
      " 91%|███████████████████████████████████████████████████████████████████████████████████████████████████████████████████████████████████████████████████████████████████████████████████▏                 | 441/485 [02:38<00:15,  2.82it/s]\n",
      " 91%|███████████████████████████████████████████████████████████████████████████████████████████████████████████████████████████████████████████████████████████████████████████████████▌                 | 442/485 [02:39<00:15,  2.82it/s]"
     ]
    },
    {
     "name": "stdout",
     "output_type": "stream",
     "text": [
      "@ 443  > 1st order coefficient similarity failure :  0.124365491173 -0.25700231119\n"
     ]
    },
    {
     "name": "stderr",
     "output_type": "stream",
     "text": [
      "\n",
      " 91%|███████████████████████████████████████████████████████████████████████████████████████████████████████████████████████████████████████████████████████████████████████████████████▉                 | 443/485 [02:39<00:14,  2.81it/s]"
     ]
    },
    {
     "name": "stdout",
     "output_type": "stream",
     "text": [
      "@ 444  > 1st order coefficient similarity failure :  0.147660664067 -0.265799609075\n"
     ]
    },
    {
     "name": "stderr",
     "output_type": "stream",
     "text": [
      "\n",
      " 92%|████████████████████████████████████████████████████████████████████████████████████████████████████████████████████████████████████████████████████████████████████████████████████▎                | 444/485 [02:39<00:14,  2.80it/s]"
     ]
    },
    {
     "name": "stdout",
     "output_type": "stream",
     "text": [
      "@ 445  > 1st order coefficient similarity failure :  0.189037387399 -0.313814434646\n"
     ]
    },
    {
     "name": "stderr",
     "output_type": "stream",
     "text": [
      "\n",
      " 92%|████████████████████████████████████████████████████████████████████████████████████████████████████████████████████████████████████████████████████████████████████████████████████▊                | 445/485 [02:40<00:14,  2.74it/s]"
     ]
    },
    {
     "name": "stdout",
     "output_type": "stream",
     "text": [
      "@ 446  > 1st order coefficient similarity failure :  0.261642139775 -0.280720420976\n"
     ]
    },
    {
     "name": "stderr",
     "output_type": "stream",
     "text": [
      "\n",
      " 92%|█████████████████████████████████████████████████████████████████████████████████████████████████████████████████████████████████████████████████████████████████████████████████████▏               | 446/485 [02:40<00:14,  2.71it/s]"
     ]
    },
    {
     "name": "stdout",
     "output_type": "stream",
     "text": [
      "@ 447  > 2nd order coefficient similarity failure :  -0.000169723623138 0.000396855920973\n"
     ]
    },
    {
     "name": "stderr",
     "output_type": "stream",
     "text": [
      "\n",
      " 92%|█████████████████████████████████████████████████████████████████████████████████████████████████████████████████████████████████████████████████████████████████████████████████████▌               | 447/485 [02:41<00:13,  2.72it/s]"
     ]
    },
    {
     "name": "stdout",
     "output_type": "stream",
     "text": [
      "@ 448  > 2nd order coefficient similarity failure :  -0.000160266349221 0.000375092469065\n"
     ]
    },
    {
     "name": "stderr",
     "output_type": "stream",
     "text": [
      "\n",
      " 92%|█████████████████████████████████████████████████████████████████████████████████████████████████████████████████████████████████████████████████████████████████████████████████████▉               | 448/485 [02:41<00:13,  2.72it/s]"
     ]
    },
    {
     "name": "stdout",
     "output_type": "stream",
     "text": [
      "Inside reset\n"
     ]
    },
    {
     "name": "stderr",
     "output_type": "stream",
     "text": [
      "\n",
      " 93%|██████████████████████████████████████████████████████████████████████████████████████████████████████████████████████████████████████████████████████████████████████████████████████▍              | 449/485 [02:41<00:13,  2.70it/s]\n",
      " 93%|██████████████████████████████████████████████████████████████████████████████████████████████████████████████████████████████████████████████████████████████████████████████████████▊              | 450/485 [02:42<00:12,  2.75it/s]\n",
      " 93%|███████████████████████████████████████████████████████████████████████████████████████████████████████████████████████████████████████████████████████████████████████████████████████▏             | 451/485 [02:42<00:12,  2.77it/s]\n",
      " 93%|███████████████████████████████████████████████████████████████████████████████████████████████████████████████████████████████████████████████████████████████████████████████████████▌             | 452/485 [02:42<00:11,  2.80it/s]\n",
      " 93%|████████████████████████████████████████████████████████████████████████████████████████████████████████████████████████████████████████████████████████████████████████████████████████             | 453/485 [02:43<00:11,  2.81it/s]\n",
      " 94%|████████████████████████████████████████████████████████████████████████████████████████████████████████████████████████████████████████████████████████████████████████████████████████▍            | 454/485 [02:43<00:10,  2.83it/s]"
     ]
    },
    {
     "name": "stdout",
     "output_type": "stream",
     "text": [
      "@ 455  > 1st order coefficient similarity failure :  0.280370298456 -0.108103098506\n"
     ]
    },
    {
     "name": "stderr",
     "output_type": "stream",
     "text": [
      "\n",
      " 94%|████████████████████████████████████████████████████████████████████████████████████████████████████████████████████████████████████████████████████████████████████████████████████████▊            | 455/485 [02:43<00:10,  2.81it/s]"
     ]
    },
    {
     "name": "stdout",
     "output_type": "stream",
     "text": [
      "@ 456  > 1st order coefficient similarity failure :  0.297231346482 -0.146144725818\n"
     ]
    },
    {
     "name": "stderr",
     "output_type": "stream",
     "text": [
      "\n",
      " 94%|█████████████████████████████████████████████████████████████████████████████████████████████████████████████████████████████████████████████████████████████████████████████████████████▏           | 456/485 [02:44<00:10,  2.73it/s]"
     ]
    },
    {
     "name": "stdout",
     "output_type": "stream",
     "text": [
      "@ 457  > 1st order coefficient similarity failure :  0.294906905043 -0.172312138967\n"
     ]
    },
    {
     "name": "stderr",
     "output_type": "stream",
     "text": [
      "\n",
      " 94%|█████████████████████████████████████████████████████████████████████████████████████████████████████████████████████████████████████████████████████████████████████████████████████████▋           | 457/485 [02:44<00:10,  2.73it/s]"
     ]
    },
    {
     "name": "stdout",
     "output_type": "stream",
     "text": [
      "@ 458  > 1st order coefficient similarity failure :  0.305258193391 -0.137897875431\n"
     ]
    },
    {
     "name": "stderr",
     "output_type": "stream",
     "text": [
      "\n",
      " 94%|██████████████████████████████████████████████████████████████████████████████████████████████████████████████████████████████████████████████████████████████████████████████████████████           | 458/485 [02:45<00:09,  2.72it/s]"
     ]
    },
    {
     "name": "stdout",
     "output_type": "stream",
     "text": [
      "@ 459  > 1st order coefficient similarity failure :  0.294079318249 -0.138279207536\n"
     ]
    },
    {
     "name": "stderr",
     "output_type": "stream",
     "text": [
      "\n",
      " 95%|██████████████████████████████████████████████████████████████████████████████████████████████████████████████████████████████████████████████████████████████████████████████████████████▍          | 459/485 [02:45<00:09,  2.74it/s]"
     ]
    },
    {
     "name": "stdout",
     "output_type": "stream",
     "text": [
      "@ 460  > 1st order coefficient similarity failure :  0.303606003869 -0.115117360432\n"
     ]
    },
    {
     "name": "stderr",
     "output_type": "stream",
     "text": [
      "\n",
      " 95%|██████████████████████████████████████████████████████████████████████████████████████████████████████████████████████████████████████████████████████████████████████████████████████████▊          | 460/485 [02:45<00:09,  2.72it/s]"
     ]
    },
    {
     "name": "stdout",
     "output_type": "stream",
     "text": [
      "Inside reset\n",
      "@ 461  > 1st order coefficient similarity failure :  0.307194760936 -0.12519380788\n"
     ]
    },
    {
     "name": "stderr",
     "output_type": "stream",
     "text": [
      "\n",
      " 95%|███████████████████████████████████████████████████████████████████████████████████████████████████████████████████████████████████████████████████████████████████████████████████████████▎         | 461/485 [02:46<00:08,  2.67it/s]"
     ]
    },
    {
     "name": "stdout",
     "output_type": "stream",
     "text": [
      "Inside reset\n",
      "@ 462  > 1st order coefficient similarity failure :  0.316000281087 -0.182496500097\n"
     ]
    },
    {
     "name": "stderr",
     "output_type": "stream",
     "text": [
      "\n",
      " 95%|███████████████████████████████████████████████████████████████████████████████████████████████████████████████████████████████████████████████████████████████████████████████████████████▋         | 462/485 [02:46<00:08,  2.63it/s]"
     ]
    },
    {
     "name": "stdout",
     "output_type": "stream",
     "text": [
      "Inside reset\n",
      "@ 463  > 1st order coefficient similarity failure :  0.31559755734 -0.102538333905\n"
     ]
    },
    {
     "name": "stderr",
     "output_type": "stream",
     "text": [
      "\n",
      " 95%|████████████████████████████████████████████████████████████████████████████████████████████████████████████████████████████████████████████████████████████████████████████████████████████         | 463/485 [02:47<00:08,  2.61it/s]"
     ]
    },
    {
     "name": "stdout",
     "output_type": "stream",
     "text": [
      "Inside reset\n",
      "@ 464  > 1st order coefficient similarity failure :  0.330795539241 -0.225347377231\n"
     ]
    },
    {
     "name": "stderr",
     "output_type": "stream",
     "text": [
      "\n",
      " 96%|████████████████████████████████████████████████████████████████████████████████████████████████████████████████████████████████████████████████████████████████████████████████████████████▍        | 464/485 [02:47<00:08,  2.59it/s]"
     ]
    },
    {
     "name": "stdout",
     "output_type": "stream",
     "text": [
      "Inside reset\n",
      "@ 465  > lane width failure :  4.23435448578\n"
     ]
    },
    {
     "name": "stderr",
     "output_type": "stream",
     "text": [
      "\n",
      " 96%|████████████████████████████████████████████████████████████████████████████████████████████████████████████████████████████████████████████████████████████████████████████████████████████▉        | 465/485 [02:47<00:07,  2.59it/s]"
     ]
    },
    {
     "name": "stdout",
     "output_type": "stream",
     "text": [
      "Inside reset\n",
      "@ 466  > lane width failure :  4.2829321663\n"
     ]
    },
    {
     "name": "stderr",
     "output_type": "stream",
     "text": [
      "\n",
      " 96%|█████████████████████████████████████████████████████████████████████████████████████████████████████████████████████████████████████████████████████████████████████████████████████████████▎       | 466/485 [02:48<00:07,  2.58it/s]"
     ]
    },
    {
     "name": "stdout",
     "output_type": "stream",
     "text": [
      "Inside reset\n",
      "@ 467  > lane width failure :  4.30722100656\n"
     ]
    },
    {
     "name": "stderr",
     "output_type": "stream",
     "text": [
      "\n",
      " 96%|█████████████████████████████████████████████████████████████████████████████████████████████████████████████████████████████████████████████████████████████████████████████████████████████▋       | 467/485 [02:48<00:06,  2.58it/s]"
     ]
    },
    {
     "name": "stdout",
     "output_type": "stream",
     "text": [
      "Inside reset\n",
      "@ 468  > 1st order coefficient similarity failure :  0.376061268337 -0.0337879140602\n"
     ]
    },
    {
     "name": "stderr",
     "output_type": "stream",
     "text": [
      "\n",
      " 96%|██████████████████████████████████████████████████████████████████████████████████████████████████████████████████████████████████████████████████████████████████████████████████████████████       | 468/485 [02:48<00:06,  2.60it/s]"
     ]
    },
    {
     "name": "stdout",
     "output_type": "stream",
     "text": [
      "Inside reset\n",
      "@ 469  > 1st order coefficient similarity failure :  0.407459446855 -0.139646590537\n"
     ]
    },
    {
     "name": "stderr",
     "output_type": "stream",
     "text": [
      "\n",
      " 97%|██████████████████████████████████████████████████████████████████████████████████████████████████████████████████████████████████████████████████████████████████████████████████████████████▌      | 469/485 [02:49<00:06,  2.60it/s]"
     ]
    },
    {
     "name": "stdout",
     "output_type": "stream",
     "text": [
      "Inside reset\n",
      "@ 470  > 1st order coefficient similarity failure :  0.438656723938 -0.114166628724\n"
     ]
    },
    {
     "name": "stderr",
     "output_type": "stream",
     "text": [
      "\n",
      " 97%|██████████████████████████████████████████████████████████████████████████████████████████████████████████████████████████████████████████████████████████████████████████████████████████████▉      | 470/485 [02:49<00:05,  2.61it/s]"
     ]
    },
    {
     "name": "stdout",
     "output_type": "stream",
     "text": [
      "Inside reset\n",
      "@ 471  > lane width failure :  4.25054704595\n"
     ]
    },
    {
     "name": "stderr",
     "output_type": "stream",
     "text": [
      "\n",
      " 97%|███████████████████████████████████████████████████████████████████████████████████████████████████████████████████████████████████████████████████████████████████████████████████████████████▎     | 471/485 [02:50<00:05,  2.58it/s]"
     ]
    },
    {
     "name": "stdout",
     "output_type": "stream",
     "text": [
      "Inside reset\n",
      "@ 472  > lane width failure :  4.2181619256\n"
     ]
    },
    {
     "name": "stderr",
     "output_type": "stream",
     "text": [
      "\n",
      " 97%|███████████████████████████████████████████████████████████████████████████████████████████████████████████████████████████████████████████████████████████████████████████████████████████████▋     | 472/485 [02:50<00:05,  2.60it/s]"
     ]
    },
    {
     "name": "stdout",
     "output_type": "stream",
     "text": [
      "Inside reset\n",
      "@ 473  > lane width failure :  4.23435448578\n"
     ]
    },
    {
     "name": "stderr",
     "output_type": "stream",
     "text": [
      "\n",
      " 98%|████████████████████████████████████████████████████████████████████████████████████████████████████████████████████████████████████████████████████████████████████████████████████████████████▏    | 473/485 [02:50<00:04,  2.59it/s]"
     ]
    },
    {
     "name": "stdout",
     "output_type": "stream",
     "text": [
      "Inside reset\n",
      "@ 474  > lane width failure :  4.23435448578\n"
     ]
    },
    {
     "name": "stderr",
     "output_type": "stream",
     "text": [
      "\n",
      " 98%|████████████████████████████████████████████████████████████████████████████████████████████████████████████████████████████████████████████████████████████████████████████████████████████████▌    | 474/485 [02:51<00:04,  2.59it/s]"
     ]
    },
    {
     "name": "stdout",
     "output_type": "stream",
     "text": [
      "Inside reset\n",
      "@ 475  > lane width failure :  4.25054704595\n"
     ]
    },
    {
     "name": "stderr",
     "output_type": "stream",
     "text": [
      "\n",
      " 98%|████████████████████████████████████████████████████████████████████████████████████████████████████████████████████████████████████████████████████████████████████████████████████████████████▉    | 475/485 [02:51<00:03,  2.59it/s]"
     ]
    },
    {
     "name": "stdout",
     "output_type": "stream",
     "text": [
      "Inside reset\n",
      "@ 476  > 1st order coefficient similarity failure :  0.276817617392 -0.258589793629\n"
     ]
    },
    {
     "name": "stderr",
     "output_type": "stream",
     "text": [
      "\n",
      " 98%|█████████████████████████████████████████████████████████████████████████████████████████████████████████████████████████████████████████████████████████████████████████████████████████████████▎   | 476/485 [02:52<00:03,  2.59it/s]"
     ]
    },
    {
     "name": "stdout",
     "output_type": "stream",
     "text": [
      "Inside reset\n"
     ]
    },
    {
     "name": "stderr",
     "output_type": "stream",
     "text": [
      "\n",
      " 98%|█████████████████████████████████████████████████████████████████████████████████████████████████████████████████████████████████████████████████████████████████████████████████████████████████▊   | 477/485 [02:52<00:03,  2.62it/s]"
     ]
    },
    {
     "name": "stdout",
     "output_type": "stream",
     "text": [
      "@ 478  > left and right curves similarity failure :  11585.7443195 742.180513349\n"
     ]
    },
    {
     "name": "stderr",
     "output_type": "stream",
     "text": [
      "\n",
      " 99%|██████████████████████████████████████████████████████████████████████████████████████████████████████████████████████████████████████████████████████████████████████████████████████████████████▏  | 478/485 [02:52<00:02,  2.65it/s]"
     ]
    },
    {
     "name": "stdout",
     "output_type": "stream",
     "text": [
      "@ 479  > Continuity check failed - left curve variation high :  2607.54651734 10565.2283821\n"
     ]
    },
    {
     "name": "stderr",
     "output_type": "stream",
     "text": [
      "\n",
      " 99%|██████████████████████████████████████████████████████████████████████████████████████████████████████████████████████████████████████████████████████████████████████████████████████████████████▌  | 479/485 [02:53<00:02,  2.68it/s]\n",
      " 99%|██████████████████████████████████████████████████████████████████████████████████████████████████████████████████████████████████████████████████████████████████████████████████████████████████▉  | 480/485 [02:53<00:01,  2.73it/s]\n",
      " 99%|███████████████████████████████████████████████████████████████████████████████████████████████████████████████████████████████████████████████████████████████████████████████████████████████████▍ | 481/485 [02:53<00:01,  2.77it/s]\n",
      " 99%|███████████████████████████████████████████████████████████████████████████████████████████████████████████████████████████████████████████████████████████████████████████████████████████████████▊ | 482/485 [02:54<00:01,  2.81it/s]\n",
      "100%|████████████████████████████████████████████████████████████████████████████████████████████████████████████████████████████████████████████████████████████████████████████████████████████████████▏| 483/485 [02:54<00:00,  2.83it/s]"
     ]
    },
    {
     "name": "stdout",
     "output_type": "stream",
     "text": [
      "@ 484  > lane width failure :  4.28965991772\n"
     ]
    },
    {
     "name": "stderr",
     "output_type": "stream",
     "text": [
      "\n",
      "100%|████████████████████████████████████████████████████████████████████████████████████████████████████████████████████████████████████████████████████████████████████████████████████████████████████▌| 484/485 [02:54<00:00,  2.83it/s]"
     ]
    },
    {
     "name": "stdout",
     "output_type": "stream",
     "text": [
      "@ 485  > lane width failure :  4.28965991772\n"
     ]
    },
    {
     "name": "stderr",
     "output_type": "stream",
     "text": [
      "\n",
      "100%|█████████████████████████████████████████████████████████████████████████████████████████████████████████████████████████████████████████████████████████████████████████████████████████████████████| 485/485 [02:55<00:00,  2.82it/s]\n"
     ]
    },
    {
     "name": "stdout",
     "output_type": "stream",
     "text": [
      "[MoviePy] Done.\n",
      "[MoviePy] >>>> Video ready: challenge_video_output.mp4 \n",
      "\n",
      "Wall time: 2min 55s\n"
     ]
    }
   ],
   "source": [
    "# Initialize variables\n",
    "reset_lanes = True\n",
    "detected_lines = []\n",
    "\n",
    "drive_log = open(\"driveLog.txt\",\"w\") \n",
    "drive_log.write(\"Driver's Log -------------------\\n\")\n",
    "\n",
    "# use n for normal, c for challenge and h for harder\n",
    "terrain_type = 'c'\n",
    "\n",
    "# Caliberate Camera\n",
    "mtx, dist = caliberate_camera()\n",
    "\n",
    "# Get perspective\n",
    "perspective_M, perspective_Minv = compute_perspective()\n",
    "\n",
    "# Get baseline lane width\n",
    "baseline_lane_width = compute_lane_width()\n",
    "\n",
    "challenge_output = 'challenge_video_output.mp4'\n",
    "clip2 = VideoFileClip('challenge_video.mp4')\n",
    "challenge_video_clip = clip2.fl_image(process_image)\n",
    "%time challenge_video_clip.write_videofile(challenge_output, audio=False)\n",
    "\n",
    "drive_log.close()"
   ]
  },
  {
   "cell_type": "markdown",
   "metadata": {
    "collapsed": true,
    "deletable": true,
    "editable": true
   },
   "source": [
    "## Harder Challenge Video\n",
    "\n",
    "Applying lane marking pipeline on harder video."
   ]
  },
  {
   "cell_type": "code",
   "execution_count": null,
   "metadata": {
    "collapsed": false,
    "deletable": true,
    "editable": true
   },
   "outputs": [],
   "source": [
    "# Initialize variables\n",
    "reset_lanes = True\n",
    "detected_lines = []\n",
    "\n",
    "drive_log = open(\"driveLog.txt\",\"w\") \n",
    "drive_log.write(\"Driver's Log -------------------\\n\")\n",
    "\n",
    "# use n for normal, c for challenge and h for harder\n",
    "terrain_type = 'h'\n",
    "\n",
    "# Caliberate Camera\n",
    "mtx, dist = caliberate_camera()\n",
    "\n",
    "# Get perspective\n",
    "perspective_M, perspective_Minv = compute_perspective()\n",
    "\n",
    "# Get baseline lane width\n",
    "baseline_lane_width = compute_lane_width()\n",
    "\n",
    "harder_challenge_output = 'harder_challenge_video_output.mp4'\n",
    "#clip2 = VideoFileClip('harder_challenge_video.mp4')\n",
    "clip2 = VideoFileClip('h1.mp4')\n",
    "harder_challenge_clip = clip2.fl_image(process_image)\n",
    "%time harder_challenge_clip.write_videofile(harder_challenge_output, audio=False)\n",
    "\n",
    "drive_log.close()"
   ]
  },
  {
   "cell_type": "code",
   "execution_count": null,
   "metadata": {
    "collapsed": true,
    "deletable": true,
    "editable": true
   },
   "outputs": [],
   "source": []
  }
 ],
 "metadata": {
  "anaconda-cloud": {},
  "kernelspec": {
   "display_name": "Python 3",
   "language": "python",
   "name": "python3"
  },
  "language_info": {
   "codemirror_mode": {
    "name": "ipython",
    "version": 3
   },
   "file_extension": ".py",
   "mimetype": "text/x-python",
   "name": "python",
   "nbconvert_exporter": "python",
   "pygments_lexer": "ipython3",
   "version": "3.5.2"
  },
  "widgets": {
   "state": {},
   "version": "1.1.2"
  }
 },
 "nbformat": 4,
 "nbformat_minor": 0
}
